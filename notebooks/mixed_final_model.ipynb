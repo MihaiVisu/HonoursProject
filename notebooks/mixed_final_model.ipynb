{
 "cells": [
  {
   "cell_type": "code",
   "execution_count": 555,
   "metadata": {},
   "outputs": [],
   "source": [
    "from __future__ import print_function, division\n",
    "%matplotlib inline\n",
    "\n",
    "# import used packages and modules\n",
    "# import display function to display the table of the pandas dataframe\n",
    "from IPython.display import display\n",
    "\n",
    "from sklearn.linear_model import LogisticRegressionCV\n",
    "from sklearn.preprocessing import StandardScaler\n",
    "from sklearn.cross_validation import KFold\n",
    "from sklearn.model_selection import LeaveOneOut, train_test_split\n",
    "from sklearn.ensemble import RandomForestClassifier\n",
    "from sklearn.tree import DecisionTreeClassifier, ExtraTreeClassifier\n",
    "from sklearn.svm import SVC\n",
    "from sklearn.decomposition import PCA\n",
    "from sklearn.neighbors import KNeighborsClassifier\n",
    "from sklearn.cluster import KMeans\n",
    "from sklearn.ensemble import RandomForestClassifier\n",
    "\n",
    "from sklearn.neural_network import MLPClassifier\n",
    "from sklearn.naive_bayes import GaussianNB\n",
    "\n",
    "from sklearn.metrics import accuracy_score, confusion_matrix\n",
    "\n",
    "from scipy import signal\n",
    "\n",
    "from hmmlearn import hmm\n",
    "from seqlearn.hmm import MultinomialHMM\n",
    "\n",
    "import datetime\n",
    "import matplotlib.dates as mdates\n",
    "import matplotlib.pyplot as plt\n",
    "import numpy as np\n",
    "import pandas as pd\n",
    "import seaborn as sns\n",
    "import csv\n",
    "\n",
    "\n",
    "import tensorflow as tf\n",
    "import tflearn\n",
    "from tflearn.layers.conv import conv_2d, max_pool_2d\n",
    "from tflearn.layers.core import input_data, dropout, fully_connected\n",
    "from tflearn.layers.estimator import regression\n",
    "from tflearn.layers.normalization import local_response_normalization"
   ]
  },
  {
   "cell_type": "markdown",
   "metadata": {},
   "source": [
    "# Importing Data"
   ]
  },
  {
   "cell_type": "code",
   "execution_count": 556,
   "metadata": {
    "collapsed": true
   },
   "outputs": [],
   "source": [
    "train_manchester = pd.read_csv('../data/misc/Train_Manchester_Northwich.csv')\n",
    "london_data = pd.read_csv('../data/london_data/london_data.csv')\n",
    "\n",
    "data04 = pd.read_csv('../data/meadows_december/meadows-2017-12-04.csv')\n",
    "data05 = pd.read_csv('../data/meadows_december/meadows-2017-12-05.csv')\n",
    "data06 = pd.read_csv('../data/meadows_december/meadows-2017-12-06.csv')\n",
    "data07 = pd.read_csv('../data/meadows_december/meadows-2017-12-07.csv')\n",
    "\n",
    "bike_data_old = pd.read_csv('../data/misc/2015061911.csv')\n",
    "bike_data_old2 = pd.read_csv('../data/misc/2015061817.csv')\n",
    "bike_data_old3 = pd.read_csv('../data/misc/20150618.csv')\n",
    "bike_data_feb = pd.read_csv('../data/misc/bike_feb.csv')\n",
    "\n",
    "walk_data_vlad1 = pd.read_csv('../data/walking_validation/015Outdoor-Day-2018-02-28.csv')\n",
    "walk_data_vlad2 = pd.read_csv('../data/walking_validation/016Outdoor-Night-2018-02-28.csv')"
   ]
  },
  {
   "cell_type": "markdown",
   "metadata": {},
   "source": [
    "# Merging Data"
   ]
  },
  {
   "cell_type": "code",
   "execution_count": 557,
   "metadata": {
    "collapsed": true
   },
   "outputs": [],
   "source": [
    "bin_vals = ['bin'+str(x) for x in range(0,16)]\n",
    "norm_bin_vals = ['bin_norm'+str(x) for x in range(0,16)]\n",
    "pm_vals = ['pm1', 'pm2_5', 'pm10']"
   ]
  },
  {
   "cell_type": "code",
   "execution_count": 558,
   "metadata": {},
   "outputs": [],
   "source": [
    "# environment index is 0 as all data from these datasets is walking data\n",
    "data04['environment_index'] = 0\n",
    "data05['environment_index'] = 0\n",
    "data06['environment_index'] = 0\n",
    "data07['environment_index'] = 0\n",
    "\n",
    "walk_data_vlad1['environment_index'] = 0\n",
    "walk_data_vlad2['environment_index'] = 0\n",
    "\n",
    "# environment index is 3 for bike data\n",
    "bike_data_old['environment_index'] = 3\n",
    "bike_data_old2['environment_index'] = 3\n",
    "bike_data_old3['environment_index'] = 3\n",
    "bike_data_feb['environment_index'] = 3\n",
    "\n",
    "# rename columns\n",
    "bike_data_old2 = bike_data_old2.rename(\n",
    "    index=str, columns={\"latitude\":'gpsLatitude', \"longitude\":'gpsLongitude'})\n",
    "bike_data_old3 = bike_data_old3.rename(\n",
    "    index=str, columns={\"latitude\":'gpsLatitude', \"longitude\":'gpsLongitude'})\n",
    "\n",
    "labels = bin_vals + pm_vals + ['environment_index', 'gpsLatitude', 'gpsLongitude', 'humidity', 'temperature']\n",
    "\n",
    "data = pd.concat([london_data[labels],\n",
    "                  train_manchester[labels], \n",
    "                  data04[labels], \n",
    "                  data05[labels],\n",
    "                  data06[labels],\n",
    "                  data07[labels],\n",
    "                  walk_data_vlad1[labels],\n",
    "                  walk_data_vlad2[labels],\n",
    "                  bike_data_old[labels],\n",
    "                  bike_data_old2[labels],\n",
    "                  bike_data_feb[labels]], ignore_index=True)\n",
    "\n",
    "# remove indoor labelled data for this set of experiments\n",
    "data = data[data['environment_index']!=7]\n",
    "data = data[data['environment_index']!=5]\n",
    "data = data[data['humidity']>0]\n",
    "data = data[data['temperature']>0]\n",
    "data['total'] = data[bin_vals].apply(lambda row: np.sum(row), axis=1)"
   ]
  },
  {
   "cell_type": "markdown",
   "metadata": {},
   "source": [
    "### Data Information"
   ]
  },
  {
   "cell_type": "code",
   "execution_count": 559,
   "metadata": {},
   "outputs": [
    {
     "data": {
      "text/html": [
       "<div>\n",
       "<style scoped>\n",
       "    .dataframe tbody tr th:only-of-type {\n",
       "        vertical-align: middle;\n",
       "    }\n",
       "\n",
       "    .dataframe tbody tr th {\n",
       "        vertical-align: top;\n",
       "    }\n",
       "\n",
       "    .dataframe thead th {\n",
       "        text-align: right;\n",
       "    }\n",
       "</style>\n",
       "<table border=\"1\" class=\"dataframe\">\n",
       "  <thead>\n",
       "    <tr style=\"text-align: right;\">\n",
       "      <th></th>\n",
       "      <th>bin0</th>\n",
       "      <th>bin1</th>\n",
       "      <th>bin2</th>\n",
       "      <th>bin3</th>\n",
       "      <th>bin4</th>\n",
       "      <th>bin5</th>\n",
       "      <th>bin6</th>\n",
       "      <th>bin7</th>\n",
       "      <th>bin8</th>\n",
       "      <th>bin9</th>\n",
       "      <th>...</th>\n",
       "      <th>bin15</th>\n",
       "      <th>pm1</th>\n",
       "      <th>pm2_5</th>\n",
       "      <th>pm10</th>\n",
       "      <th>environment_index</th>\n",
       "      <th>gpsLatitude</th>\n",
       "      <th>gpsLongitude</th>\n",
       "      <th>humidity</th>\n",
       "      <th>temperature</th>\n",
       "      <th>total</th>\n",
       "    </tr>\n",
       "  </thead>\n",
       "  <tbody>\n",
       "    <tr>\n",
       "      <th>count</th>\n",
       "      <td>4130.000000</td>\n",
       "      <td>4130.000000</td>\n",
       "      <td>4130.000000</td>\n",
       "      <td>4130.000000</td>\n",
       "      <td>4130.000000</td>\n",
       "      <td>4130.000000</td>\n",
       "      <td>4130.000000</td>\n",
       "      <td>4130.000000</td>\n",
       "      <td>4130.000000</td>\n",
       "      <td>4130.000000</td>\n",
       "      <td>...</td>\n",
       "      <td>4130.000000</td>\n",
       "      <td>4130.000000</td>\n",
       "      <td>4130.000000</td>\n",
       "      <td>4130.000000</td>\n",
       "      <td>4130.000000</td>\n",
       "      <td>4130.000000</td>\n",
       "      <td>4130.000000</td>\n",
       "      <td>4130.000000</td>\n",
       "      <td>4130.000000</td>\n",
       "      <td>4130.000000</td>\n",
       "    </tr>\n",
       "    <tr>\n",
       "      <th>mean</th>\n",
       "      <td>404.870218</td>\n",
       "      <td>103.113559</td>\n",
       "      <td>61.670944</td>\n",
       "      <td>36.727119</td>\n",
       "      <td>13.663196</td>\n",
       "      <td>12.728329</td>\n",
       "      <td>7.344794</td>\n",
       "      <td>3.639952</td>\n",
       "      <td>4.800484</td>\n",
       "      <td>3.304116</td>\n",
       "      <td>...</td>\n",
       "      <td>8.493947</td>\n",
       "      <td>4.409408</td>\n",
       "      <td>9.475047</td>\n",
       "      <td>21.853523</td>\n",
       "      <td>1.785230</td>\n",
       "      <td>54.734052</td>\n",
       "      <td>-2.622052</td>\n",
       "      <td>53.015767</td>\n",
       "      <td>18.038477</td>\n",
       "      <td>713.140678</td>\n",
       "    </tr>\n",
       "    <tr>\n",
       "      <th>std</th>\n",
       "      <td>925.144861</td>\n",
       "      <td>239.027580</td>\n",
       "      <td>136.778940</td>\n",
       "      <td>72.701997</td>\n",
       "      <td>26.822563</td>\n",
       "      <td>25.064795</td>\n",
       "      <td>26.786993</td>\n",
       "      <td>55.166780</td>\n",
       "      <td>156.937704</td>\n",
       "      <td>148.153861</td>\n",
       "      <td>...</td>\n",
       "      <td>371.872862</td>\n",
       "      <td>8.966092</td>\n",
       "      <td>12.446566</td>\n",
       "      <td>54.705197</td>\n",
       "      <td>1.487699</td>\n",
       "      <td>5.749767</td>\n",
       "      <td>1.051517</td>\n",
       "      <td>10.598606</td>\n",
       "      <td>8.018367</td>\n",
       "      <td>3207.199301</td>\n",
       "    </tr>\n",
       "    <tr>\n",
       "      <th>min</th>\n",
       "      <td>0.000000</td>\n",
       "      <td>0.000000</td>\n",
       "      <td>0.000000</td>\n",
       "      <td>0.000000</td>\n",
       "      <td>0.000000</td>\n",
       "      <td>0.000000</td>\n",
       "      <td>0.000000</td>\n",
       "      <td>0.000000</td>\n",
       "      <td>0.000000</td>\n",
       "      <td>0.000000</td>\n",
       "      <td>...</td>\n",
       "      <td>0.000000</td>\n",
       "      <td>0.000000</td>\n",
       "      <td>0.000000</td>\n",
       "      <td>0.000000</td>\n",
       "      <td>0.000000</td>\n",
       "      <td>-1.000000</td>\n",
       "      <td>-3.258313</td>\n",
       "      <td>17.600000</td>\n",
       "      <td>0.100000</td>\n",
       "      <td>0.000000</td>\n",
       "    </tr>\n",
       "    <tr>\n",
       "      <th>25%</th>\n",
       "      <td>14.000000</td>\n",
       "      <td>5.000000</td>\n",
       "      <td>4.000000</td>\n",
       "      <td>2.000000</td>\n",
       "      <td>2.000000</td>\n",
       "      <td>2.000000</td>\n",
       "      <td>1.000000</td>\n",
       "      <td>0.000000</td>\n",
       "      <td>0.000000</td>\n",
       "      <td>0.000000</td>\n",
       "      <td>...</td>\n",
       "      <td>0.000000</td>\n",
       "      <td>1.296981</td>\n",
       "      <td>3.588506</td>\n",
       "      <td>5.644779</td>\n",
       "      <td>0.000000</td>\n",
       "      <td>55.936368</td>\n",
       "      <td>-3.193144</td>\n",
       "      <td>46.200001</td>\n",
       "      <td>13.700000</td>\n",
       "      <td>29.000000</td>\n",
       "    </tr>\n",
       "    <tr>\n",
       "      <th>50%</th>\n",
       "      <td>126.000000</td>\n",
       "      <td>44.000000</td>\n",
       "      <td>33.000000</td>\n",
       "      <td>20.000000</td>\n",
       "      <td>7.000000</td>\n",
       "      <td>6.000000</td>\n",
       "      <td>3.000000</td>\n",
       "      <td>1.000000</td>\n",
       "      <td>0.000000</td>\n",
       "      <td>0.000000</td>\n",
       "      <td>...</td>\n",
       "      <td>0.000000</td>\n",
       "      <td>2.237693</td>\n",
       "      <td>6.139762</td>\n",
       "      <td>9.472539</td>\n",
       "      <td>2.000000</td>\n",
       "      <td>55.943145</td>\n",
       "      <td>-3.186589</td>\n",
       "      <td>53.535116</td>\n",
       "      <td>17.725000</td>\n",
       "      <td>270.500000</td>\n",
       "    </tr>\n",
       "    <tr>\n",
       "      <th>75%</th>\n",
       "      <td>454.000000</td>\n",
       "      <td>110.000000</td>\n",
       "      <td>72.000000</td>\n",
       "      <td>45.000000</td>\n",
       "      <td>16.000000</td>\n",
       "      <td>16.000000</td>\n",
       "      <td>8.000000</td>\n",
       "      <td>2.000000</td>\n",
       "      <td>1.000000</td>\n",
       "      <td>1.000000</td>\n",
       "      <td>...</td>\n",
       "      <td>0.000000</td>\n",
       "      <td>4.404048</td>\n",
       "      <td>10.942817</td>\n",
       "      <td>19.654435</td>\n",
       "      <td>3.000000</td>\n",
       "      <td>55.945540</td>\n",
       "      <td>-2.519413</td>\n",
       "      <td>57.354206</td>\n",
       "      <td>23.500000</td>\n",
       "      <td>715.000000</td>\n",
       "    </tr>\n",
       "    <tr>\n",
       "      <th>max</th>\n",
       "      <td>12336.000000</td>\n",
       "      <td>4758.000000</td>\n",
       "      <td>3710.000000</td>\n",
       "      <td>1997.000000</td>\n",
       "      <td>538.000000</td>\n",
       "      <td>434.000000</td>\n",
       "      <td>656.000000</td>\n",
       "      <td>3343.000000</td>\n",
       "      <td>7955.000000</td>\n",
       "      <td>9500.000000</td>\n",
       "      <td>...</td>\n",
       "      <td>16999.000000</td>\n",
       "      <td>108.471610</td>\n",
       "      <td>158.405240</td>\n",
       "      <td>1051.750977</td>\n",
       "      <td>6.000000</td>\n",
       "      <td>56.008247</td>\n",
       "      <td>-0.100202</td>\n",
       "      <td>99.800000</td>\n",
       "      <td>110.700005</td>\n",
       "      <td>152492.000000</td>\n",
       "    </tr>\n",
       "  </tbody>\n",
       "</table>\n",
       "<p>8 rows × 25 columns</p>\n",
       "</div>"
      ],
      "text/plain": [
       "               bin0         bin1         bin2         bin3         bin4  \\\n",
       "count   4130.000000  4130.000000  4130.000000  4130.000000  4130.000000   \n",
       "mean     404.870218   103.113559    61.670944    36.727119    13.663196   \n",
       "std      925.144861   239.027580   136.778940    72.701997    26.822563   \n",
       "min        0.000000     0.000000     0.000000     0.000000     0.000000   \n",
       "25%       14.000000     5.000000     4.000000     2.000000     2.000000   \n",
       "50%      126.000000    44.000000    33.000000    20.000000     7.000000   \n",
       "75%      454.000000   110.000000    72.000000    45.000000    16.000000   \n",
       "max    12336.000000  4758.000000  3710.000000  1997.000000   538.000000   \n",
       "\n",
       "              bin5         bin6         bin7         bin8         bin9  \\\n",
       "count  4130.000000  4130.000000  4130.000000  4130.000000  4130.000000   \n",
       "mean     12.728329     7.344794     3.639952     4.800484     3.304116   \n",
       "std      25.064795    26.786993    55.166780   156.937704   148.153861   \n",
       "min       0.000000     0.000000     0.000000     0.000000     0.000000   \n",
       "25%       2.000000     1.000000     0.000000     0.000000     0.000000   \n",
       "50%       6.000000     3.000000     1.000000     0.000000     0.000000   \n",
       "75%      16.000000     8.000000     2.000000     1.000000     1.000000   \n",
       "max     434.000000   656.000000  3343.000000  7955.000000  9500.000000   \n",
       "\n",
       "           ...               bin15          pm1        pm2_5         pm10  \\\n",
       "count      ...         4130.000000  4130.000000  4130.000000  4130.000000   \n",
       "mean       ...            8.493947     4.409408     9.475047    21.853523   \n",
       "std        ...          371.872862     8.966092    12.446566    54.705197   \n",
       "min        ...            0.000000     0.000000     0.000000     0.000000   \n",
       "25%        ...            0.000000     1.296981     3.588506     5.644779   \n",
       "50%        ...            0.000000     2.237693     6.139762     9.472539   \n",
       "75%        ...            0.000000     4.404048    10.942817    19.654435   \n",
       "max        ...        16999.000000   108.471610   158.405240  1051.750977   \n",
       "\n",
       "       environment_index  gpsLatitude  gpsLongitude     humidity  temperature  \\\n",
       "count        4130.000000  4130.000000   4130.000000  4130.000000  4130.000000   \n",
       "mean            1.785230    54.734052     -2.622052    53.015767    18.038477   \n",
       "std             1.487699     5.749767      1.051517    10.598606     8.018367   \n",
       "min             0.000000    -1.000000     -3.258313    17.600000     0.100000   \n",
       "25%             0.000000    55.936368     -3.193144    46.200001    13.700000   \n",
       "50%             2.000000    55.943145     -3.186589    53.535116    17.725000   \n",
       "75%             3.000000    55.945540     -2.519413    57.354206    23.500000   \n",
       "max             6.000000    56.008247     -0.100202    99.800000   110.700005   \n",
       "\n",
       "               total  \n",
       "count    4130.000000  \n",
       "mean      713.140678  \n",
       "std      3207.199301  \n",
       "min         0.000000  \n",
       "25%        29.000000  \n",
       "50%       270.500000  \n",
       "75%       715.000000  \n",
       "max    152492.000000  \n",
       "\n",
       "[8 rows x 25 columns]"
      ]
     },
     "execution_count": 559,
     "metadata": {},
     "output_type": "execute_result"
    }
   ],
   "source": [
    "data.describe()"
   ]
  },
  {
   "cell_type": "markdown",
   "metadata": {},
   "source": [
    "### Labels"
   ]
  },
  {
   "cell_type": "code",
   "execution_count": 560,
   "metadata": {
    "collapsed": true
   },
   "outputs": [],
   "source": [
    "labels_idx = np.array([0, 1, 2, 3, 4, 6])"
   ]
  },
  {
   "cell_type": "markdown",
   "metadata": {},
   "source": [
    "# Kmeans"
   ]
  },
  {
   "cell_type": "code",
   "execution_count": 561,
   "metadata": {
    "collapsed": true
   },
   "outputs": [],
   "source": [
    "# method to get the cluster means of the data points based on coordinates\n",
    "# and the queried columns\n",
    "def get_location_cluster_means(data, cluster_no, cols):\n",
    "    # obtain indices of clusters\n",
    "    kmeans = KMeans(n_clusters=cluster_no, random_state=0)\n",
    "    # remove data rows with null coordinates\n",
    "    data = data[~np.isnan(data['gpsLatitude'])]\n",
    "    # get the indices of the location based clusters\n",
    "    indices = kmeans.fit_predict(data[['gpsLatitude', 'gpsLongitude']])\n",
    "    freqs = np.bincount(indices)\n",
    "    # initialise means of queried columns\n",
    "    means = np.zeros((cluster_no, len(cols)))\n",
    "    # assign clustered_indices to dataframe\n",
    "    data['clustered_index'] = indices\n",
    "    # compute means of queried columns\n",
    "    for index in np.unique(indices):\n",
    "        means[index] = np.mean(data[data['clustered_index'] == index][cols])\n",
    "    return means, data"
   ]
  },
  {
   "cell_type": "code",
   "execution_count": 562,
   "metadata": {
    "collapsed": true
   },
   "outputs": [],
   "source": [
    "# method to get the clusters of the environments corresponding to the 5 environments based on\n",
    "# the queried columns and number of location clusters\n",
    "def get_environment_clusters(data, cluster_no, cols):\n",
    "    means, d = get_location_cluster_means(data, cluster_no, cols)\n",
    "    # we have 5 clusters corresponding to 6 different types of transport\n",
    "    environment_kmeans = KMeans(n_clusters=6, random_state=0)\n",
    "    # predict the cluster indices\n",
    "    environment_indices = environment_kmeans.fit_predict(means)\n",
    "    # sort the indices based on the means of the clusters\n",
    "    idx = np.argsort(environment_kmeans.cluster_centers_.sum(axis=1))\n",
    "    lut = np.zeros_like(idx)\n",
    "    lut[idx] = np.arange(6)\n",
    "    # append the indices to the dataframe\n",
    "    d['unsupervised_environment_index'] = lut[environment_indices][d['clustered_index']]\n",
    "    return d"
   ]
  },
  {
   "cell_type": "markdown",
   "metadata": {},
   "source": [
    "# Stats Methods"
   ]
  },
  {
   "cell_type": "code",
   "execution_count": 563,
   "metadata": {
    "collapsed": true
   },
   "outputs": [],
   "source": [
    "def plot_confusion_matrix(labels, predictions, title='Confusion matrix', \n",
    "                          classes=['on_foot', 'car', 'train', 'bike', 'bus', 'underground']):\n",
    "    \"\"\"Plots a confusion matrix.\"\"\"\n",
    "    cmatrix = np.array(confusion_matrix(labels, predictions))\n",
    "    # normalize confusion matrix\n",
    "    cm = cmatrix/cmatrix.sum(axis=1)[:, np.newaxis]\n",
    "    if classes is not None:\n",
    "        sns.heatmap(cm, xticklabels=classes, yticklabels=classes, vmin=0., vmax=1., annot=True)\n",
    "    else:\n",
    "        sns.heatmap(cm, vmin=0., vmax=1.)\n",
    "    plt.title(title)\n",
    "    plt.ylabel('True data')\n",
    "    plt.xlabel('Predicted data')\n",
    "    plt.show()"
   ]
  },
  {
   "cell_type": "code",
   "execution_count": 564,
   "metadata": {
    "collapsed": true
   },
   "outputs": [],
   "source": [
    "def get_training_accuracy_with_kfolds_iloc(estimator, x_tr, y_tr, kf):\n",
    "    score_array = np.empty(kf.n_folds)\n",
    "    \n",
    "    for (idx, (train_feature, test_feature)) in enumerate(kf):\n",
    "        estimator.fit(x_tr.iloc[train_feature], y_tr.iloc[train_feature])\n",
    "        y_pred = estimator.predict(x_tr.iloc[test_feature])\n",
    "        cm = confusion_matrix(y_tr.iloc[test_feature], y_pred)\n",
    "        cm_norm = cm.astype('float')/cm.sum(axis=1)\n",
    "        score_array[idx] = accuracy_score(y_tr.iloc[test_feature], y_pred, normalize=True)\n",
    "        \n",
    "#         plot_confusion_matrix(y_tr.iloc[test_feature], y_pred)\n",
    "        \n",
    "    return np.mean(score_array)"
   ]
  },
  {
   "cell_type": "code",
   "execution_count": 565,
   "metadata": {
    "collapsed": true
   },
   "outputs": [],
   "source": [
    "def get_training_accuracy_mixed_models(estimators, x_tr, y_tr, kf):\n",
    "    score_array = np.empty(kf.n_folds)\n",
    "    \n",
    "    for (idx, (train_feature, test_feature)) in enumerate(kf):\n",
    "        probs_array = np.empty((len(estimators), x_tr.iloc[test_feature].shape[0], 6))\n",
    "\n",
    "        for estimator_idx, estimator in enumerate(estimators):\n",
    "            estimator.fit(x_tr.iloc[train_feature], y_tr.iloc[train_feature])\n",
    "            probs_array[estimator_idx] = estimator.predict_proba(x_tr.iloc[test_feature])\n",
    "        \n",
    "        final_labels = labels_idx[np.argmax(np.mean(probs_array, axis=0), axis=1)]\n",
    "        score_array[idx] = accuracy_score(y_tr.iloc[test_feature], final_labels, normalize=True)\n",
    "    \n",
    "    return np.mean(score_array)"
   ]
  },
  {
   "cell_type": "markdown",
   "metadata": {},
   "source": [
    "# Absolute Values"
   ]
  },
  {
   "cell_type": "markdown",
   "metadata": {},
   "source": [
    "### Bin Values"
   ]
  },
  {
   "cell_type": "code",
   "execution_count": 566,
   "metadata": {},
   "outputs": [
    {
     "name": "stdout",
     "output_type": "stream",
     "text": [
      "Accuracy: 0.7104116222760289\n"
     ]
    }
   ],
   "source": [
    "svc = SVC()\n",
    "kf = KFold(len(data), n_folds=5, shuffle=True, random_state=0)\n",
    "\n",
    "print(\"Accuracy:\", get_training_accuracy_with_kfolds_iloc(svc, data[bin_vals], \n",
    "                                                          data['environment_index'], kf))"
   ]
  },
  {
   "cell_type": "code",
   "execution_count": 567,
   "metadata": {},
   "outputs": [
    {
     "name": "stdout",
     "output_type": "stream",
     "text": [
      "Accuracy: 0.923728813559322\n"
     ]
    }
   ],
   "source": [
    "rf = RandomForestClassifier(random_state=0)\n",
    "kf = KFold(len(data), n_folds=5, shuffle=True, random_state=0)\n",
    "\n",
    "print(\"Accuracy:\", get_training_accuracy_with_kfolds_iloc(rf, data[bin_vals], \n",
    "                                                          data['environment_index'], kf))"
   ]
  },
  {
   "cell_type": "code",
   "execution_count": 568,
   "metadata": {},
   "outputs": [
    {
     "name": "stdout",
     "output_type": "stream",
     "text": [
      "Accuracy: 0.8397094430992735\n"
     ]
    }
   ],
   "source": [
    "lr = LogisticRegressionCV(n_jobs=-1)\n",
    "kf = KFold(len(data), n_folds=5, shuffle=True, random_state=0)\n",
    "\n",
    "print(\"Accuracy:\", get_training_accuracy_with_kfolds_iloc(lr, data[bin_vals], \n",
    "                                                          data['environment_index'], kf))"
   ]
  },
  {
   "cell_type": "code",
   "execution_count": 569,
   "metadata": {},
   "outputs": [
    {
     "name": "stdout",
     "output_type": "stream",
     "text": [
      "Accuracy: 0.9029055690072638\n"
     ]
    }
   ],
   "source": [
    "knn = KNeighborsClassifier(n_neighbors=5)\n",
    "kf = KFold(len(data), n_folds=5, shuffle=True, random_state=0)\n",
    "\n",
    "print(\"Accuracy:\", get_training_accuracy_with_kfolds_iloc(knn, data[bin_vals], \n",
    "                                                          data['environment_index'], kf))"
   ]
  },
  {
   "cell_type": "code",
   "execution_count": 570,
   "metadata": {},
   "outputs": [
    {
     "name": "stdout",
     "output_type": "stream",
     "text": [
      "Accuracy: 0.8157384987893461\n"
     ]
    }
   ],
   "source": [
    "clf = MLPClassifier()\n",
    "kf = KFold(len(data), n_folds=5, shuffle=True, random_state=0)\n",
    "\n",
    "print(\"Accuracy:\", get_training_accuracy_with_kfolds_iloc(clf, data[bin_vals], \n",
    "                                                          data['environment_index'], kf))"
   ]
  },
  {
   "cell_type": "markdown",
   "metadata": {},
   "source": [
    "### First 3 Bin Counts"
   ]
  },
  {
   "cell_type": "code",
   "execution_count": 571,
   "metadata": {},
   "outputs": [
    {
     "name": "stdout",
     "output_type": "stream",
     "text": [
      "Accuracy: 0.708958837772397\n"
     ]
    }
   ],
   "source": [
    "svc = SVC()\n",
    "kf = KFold(len(data), n_folds=5, shuffle=True, random_state=0)\n",
    "\n",
    "print(\"Accuracy:\", get_training_accuracy_with_kfolds_iloc(svc, data[bin_vals[:3]], \n",
    "                                                          data['environment_index'], kf))"
   ]
  },
  {
   "cell_type": "code",
   "execution_count": 572,
   "metadata": {},
   "outputs": [
    {
     "name": "stdout",
     "output_type": "stream",
     "text": [
      "Accuracy: 0.8963680387409202\n"
     ]
    }
   ],
   "source": [
    "rf = RandomForestClassifier(random_state=0)\n",
    "kf = KFold(len(data), n_folds=5, shuffle=True, random_state=0)\n",
    "\n",
    "print(\"Accuracy:\", get_training_accuracy_with_kfolds_iloc(rf, data[bin_vals[:3]], \n",
    "                                                          data['environment_index'], kf))"
   ]
  },
  {
   "cell_type": "code",
   "execution_count": 573,
   "metadata": {},
   "outputs": [
    {
     "name": "stdout",
     "output_type": "stream",
     "text": [
      "Accuracy: 0.7973365617433414\n"
     ]
    }
   ],
   "source": [
    "lr = LogisticRegressionCV(n_jobs=-1)\n",
    "kf = KFold(len(data), n_folds=5, shuffle=True, random_state=0)\n",
    "\n",
    "print(\"Accuracy:\", get_training_accuracy_with_kfolds_iloc(lr, data[bin_vals[:3]], \n",
    "                                                          data['environment_index'], kf))"
   ]
  },
  {
   "cell_type": "code",
   "execution_count": 574,
   "metadata": {},
   "outputs": [
    {
     "name": "stdout",
     "output_type": "stream",
     "text": [
      "Accuracy: 0.8903147699757868\n"
     ]
    }
   ],
   "source": [
    "knn = KNeighborsClassifier(n_neighbors=5)\n",
    "kf = KFold(len(data), n_folds=5, shuffle=True, random_state=0)\n",
    "\n",
    "print(\"Accuracy:\", get_training_accuracy_with_kfolds_iloc(knn, data[bin_vals[:3]], \n",
    "                                                          data['environment_index'], kf))"
   ]
  },
  {
   "cell_type": "code",
   "execution_count": 575,
   "metadata": {},
   "outputs": [
    {
     "name": "stdout",
     "output_type": "stream",
     "text": [
      "Accuracy: 0.7966101694915253\n"
     ]
    }
   ],
   "source": [
    "clf = MLPClassifier()\n",
    "kf = KFold(len(data), n_folds=5, shuffle=True, random_state=0)\n",
    "\n",
    "print(\"Accuracy:\", get_training_accuracy_with_kfolds_iloc(clf, data[bin_vals[:3]], \n",
    "                                                          data['environment_index'], kf))"
   ]
  },
  {
   "cell_type": "markdown",
   "metadata": {},
   "source": [
    "### PM Values"
   ]
  },
  {
   "cell_type": "code",
   "execution_count": 576,
   "metadata": {},
   "outputs": [
    {
     "name": "stdout",
     "output_type": "stream",
     "text": [
      "Accuracy: 0.8319612590799033\n"
     ]
    }
   ],
   "source": [
    "svc = SVC()\n",
    "kf = KFold(len(data), n_folds=5, shuffle=True, random_state=0)\n",
    "\n",
    "print(\"Accuracy:\", get_training_accuracy_with_kfolds_iloc(svc, data[pm_vals], \n",
    "                                                          data['environment_index'], kf))"
   ]
  },
  {
   "cell_type": "code",
   "execution_count": 577,
   "metadata": {},
   "outputs": [
    {
     "name": "stdout",
     "output_type": "stream",
     "text": [
      "Accuracy: 0.8750605326876514\n"
     ]
    }
   ],
   "source": [
    "rf = RandomForestClassifier(random_state=0)\n",
    "kf = KFold(len(data), n_folds=5, shuffle=True, random_state=0)\n",
    "\n",
    "print(\"Accuracy:\", get_training_accuracy_with_kfolds_iloc(rf, data[pm_vals], \n",
    "                                                          data['environment_index'], kf))"
   ]
  },
  {
   "cell_type": "code",
   "execution_count": 578,
   "metadata": {},
   "outputs": [
    {
     "name": "stdout",
     "output_type": "stream",
     "text": [
      "Accuracy: 0.8433414043583536\n"
     ]
    }
   ],
   "source": [
    "knn = KNeighborsClassifier(n_neighbors=5)\n",
    "kf = KFold(len(data), n_folds=5, shuffle=True, random_state=0)\n",
    "\n",
    "print(\"Accuracy:\", get_training_accuracy_with_kfolds_iloc(knn, data[pm_vals], \n",
    "                                                          data['environment_index'], kf))"
   ]
  },
  {
   "cell_type": "code",
   "execution_count": 579,
   "metadata": {},
   "outputs": [
    {
     "name": "stdout",
     "output_type": "stream",
     "text": [
      "Accuracy: 0.7675544794188862\n"
     ]
    }
   ],
   "source": [
    "lr = LogisticRegressionCV(n_jobs=-1)\n",
    "kf = KFold(len(data), n_folds=5, shuffle=True, random_state=0)\n",
    "\n",
    "print(\"Accuracy:\", get_training_accuracy_with_kfolds_iloc(lr, data[pm_vals], \n",
    "                                                          data['environment_index'], kf))"
   ]
  },
  {
   "cell_type": "code",
   "execution_count": 580,
   "metadata": {},
   "outputs": [
    {
     "name": "stdout",
     "output_type": "stream",
     "text": [
      "Accuracy: 0.7939467312348667\n"
     ]
    }
   ],
   "source": [
    "clf = MLPClassifier()\n",
    "kf = KFold(len(data), n_folds=5, shuffle=True, random_state=0)\n",
    "\n",
    "print(\"Accuracy:\", get_training_accuracy_with_kfolds_iloc(clf, data[pm_vals], \n",
    "                                                          data['environment_index'], kf))"
   ]
  },
  {
   "cell_type": "markdown",
   "metadata": {},
   "source": [
    "### Urban Environments"
   ]
  },
  {
   "cell_type": "code",
   "execution_count": 642,
   "metadata": {},
   "outputs": [
    {
     "name": "stdout",
     "output_type": "stream",
     "text": [
      "Accuracy: 0.949636803874092\n"
     ]
    }
   ],
   "source": [
    "clustered_data = get_environment_clusters(data, 40, bin_vals)\n",
    "\n",
    "rf = RandomForestClassifier(random_state=0, n_jobs=-1)\n",
    "kf = KFold(len(clustered_data), n_folds=5, shuffle=True, random_state=0)\n",
    "\n",
    "print(\"Accuracy:\", get_training_accuracy_with_kfolds_iloc(rf, clustered_data[['unsupervised_environment_index']+bin_vals], \n",
    "                                                          clustered_data['environment_index'], kf))"
   ]
  },
  {
   "cell_type": "code",
   "execution_count": 582,
   "metadata": {},
   "outputs": [
    {
     "name": "stdout",
     "output_type": "stream",
     "text": [
      "Accuracy: 0.7113801452784504\n"
     ]
    }
   ],
   "source": [
    "clustered_data = get_environment_clusters(data, 40, bin_vals)\n",
    "\n",
    "svc = SVC()\n",
    "kf = KFold(len(clustered_data), n_folds=5, shuffle=True, random_state=0)\n",
    "\n",
    "print(\"Accuracy:\", get_training_accuracy_with_kfolds_iloc(svc, clustered_data[['unsupervised_environment_index']+bin_vals], \n",
    "                                                          clustered_data['environment_index'], kf))"
   ]
  },
  {
   "cell_type": "code",
   "execution_count": 583,
   "metadata": {},
   "outputs": [
    {
     "name": "stdout",
     "output_type": "stream",
     "text": [
      "Accuracy: 0.8648910411622275\n"
     ]
    }
   ],
   "source": [
    "clustered_data = get_environment_clusters(data, 40, bin_vals)\n",
    "\n",
    "lr = LogisticRegressionCV(n_jobs=-1)\n",
    "kf = KFold(len(clustered_data), n_folds=5, shuffle=True, random_state=0)\n",
    "\n",
    "print(\"Accuracy:\", get_training_accuracy_with_kfolds_iloc(lr, clustered_data[['unsupervised_environment_index']+bin_vals], \n",
    "                                                          clustered_data['environment_index'], kf))"
   ]
  },
  {
   "cell_type": "code",
   "execution_count": 584,
   "metadata": {},
   "outputs": [
    {
     "name": "stdout",
     "output_type": "stream",
     "text": [
      "Accuracy: 0.9031476997578691\n"
     ]
    }
   ],
   "source": [
    "clustered_data = get_environment_clusters(data, 40, bin_vals)\n",
    "\n",
    "knn = KNeighborsClassifier()\n",
    "kf = KFold(len(clustered_data), n_folds=5, shuffle=True, random_state=0)\n",
    "\n",
    "print(\"Accuracy:\", get_training_accuracy_with_kfolds_iloc(knn, clustered_data[['unsupervised_environment_index']+bin_vals], \n",
    "                                                          clustered_data['environment_index'], kf))"
   ]
  },
  {
   "cell_type": "code",
   "execution_count": 585,
   "metadata": {},
   "outputs": [
    {
     "name": "stdout",
     "output_type": "stream",
     "text": [
      "Accuracy: 0.8445520581113801\n"
     ]
    }
   ],
   "source": [
    "clustered_data = get_environment_clusters(data, 40, bin_vals)\n",
    "\n",
    "clf = MLPClassifier()\n",
    "kf = KFold(len(clustered_data), n_folds=5, shuffle=True, random_state=0)\n",
    "\n",
    "print(\"Accuracy:\", get_training_accuracy_with_kfolds_iloc(clf, clustered_data[['unsupervised_environment_index']+bin_vals], \n",
    "                                                          clustered_data['environment_index'], kf))"
   ]
  },
  {
   "cell_type": "markdown",
   "metadata": {},
   "source": [
    "### Normalised Bin Counts"
   ]
  },
  {
   "cell_type": "code",
   "execution_count": 586,
   "metadata": {},
   "outputs": [],
   "source": [
    "data_normalised = data[data['total']>0].copy().reindex()\n",
    "data_normalised[bin_vals] = data_normalised[bin_vals].apply(lambda row: row/np.sum(row), axis=1)\n",
    "data_normalised['pca_pm'] = PCA(n_components=1).fit_transform(data_normalised[pm_vals])"
   ]
  },
  {
   "cell_type": "code",
   "execution_count": 617,
   "metadata": {},
   "outputs": [
    {
     "name": "stdout",
     "output_type": "stream",
     "text": [
      "Accuracy: 0.888615475139747\n"
     ]
    }
   ],
   "source": [
    "rf = RandomForestClassifier(random_state=0)\n",
    "kf = KFold(len(data_normalised), n_folds=5, shuffle=True, random_state=0)\n",
    "\n",
    "print(\"Accuracy:\", get_training_accuracy_with_kfolds_iloc(rf, data_normalised[bin_vals], \n",
    "                                                          data_normalised['environment_index'], kf))"
   ]
  },
  {
   "cell_type": "code",
   "execution_count": 588,
   "metadata": {},
   "outputs": [
    {
     "name": "stdout",
     "output_type": "stream",
     "text": [
      "Accuracy: 0.5792291850544278\n"
     ]
    }
   ],
   "source": [
    "svc = SVC()\n",
    "kf = KFold(len(data_normalised), n_folds=5, shuffle=True, random_state=0)\n",
    "\n",
    "print(\"Accuracy:\", get_training_accuracy_with_kfolds_iloc(svc, data_normalised[bin_vals], \n",
    "                                                          data_normalised['environment_index'], kf))"
   ]
  },
  {
   "cell_type": "code",
   "execution_count": 616,
   "metadata": {},
   "outputs": [
    {
     "name": "stdout",
     "output_type": "stream",
     "text": [
      "Accuracy: 0.7993186231244485\n"
     ]
    }
   ],
   "source": [
    "knn = KNeighborsClassifier(n_neighbors=5)\n",
    "kf = KFold(len(data_normalised), n_folds=5, shuffle=True, random_state=0)\n",
    "\n",
    "print(\"Accuracy:\", get_training_accuracy_with_kfolds_iloc(knn, data_normalised[bin_vals], \n",
    "                                                          data_normalised['environment_index'], kf))"
   ]
  },
  {
   "cell_type": "code",
   "execution_count": 615,
   "metadata": {},
   "outputs": [
    {
     "name": "stderr",
     "output_type": "stream",
     "text": [
      "/Users/mihaivisuian/miniconda3/envs/hons/lib/python3.6/site-packages/sklearn/neural_network/multilayer_perceptron.py:564: ConvergenceWarning: Stochastic Optimizer: Maximum iterations (200) reached and the optimization hasn't converged yet.\n",
      "  % self.max_iter, ConvergenceWarning)\n"
     ]
    },
    {
     "name": "stdout",
     "output_type": "stream",
     "text": [
      "Accuracy: 0.7816081200353044\n"
     ]
    }
   ],
   "source": [
    "clf = MLPClassifier()\n",
    "kf = KFold(len(data_normalised), n_folds=5, shuffle=True, random_state=0)\n",
    "\n",
    "print(\"Accuracy:\", get_training_accuracy_with_kfolds_iloc(clf, data_normalised[bin_vals], \n",
    "                                                          data_normalised['environment_index'], kf))"
   ]
  },
  {
   "cell_type": "markdown",
   "metadata": {},
   "source": [
    "# Best Models"
   ]
  },
  {
   "cell_type": "code",
   "execution_count": 640,
   "metadata": {},
   "outputs": [
    {
     "name": "stdout",
     "output_type": "stream",
     "text": [
      "Accuracy: 0.9565631067961166\n"
     ]
    }
   ],
   "source": [
    "clustered_data = get_environment_clusters(data, 40, bin_vals)\n",
    "\n",
    "clustered_normalised_data = clustered_data[clustered_data['total']>0].copy().reindex()\n",
    "clustered_normalised_data[bin_vals] = clustered_normalised_data[bin_vals].apply(lambda row: row/np.sum(row), axis=1)\n",
    "\n",
    "rf = RandomForestClassifier(random_state=0, n_estimators=260, n_jobs=-1)\n",
    "kf = KFold(len(clustered_normalised_data), n_folds=5, shuffle=True, random_state=0)\n",
    "\n",
    "print(\"Accuracy:\", get_training_accuracy_with_kfolds_iloc(rf, clustered_normalised_data[['unsupervised_environment_index', 'total']+bin_vals], \n",
    "                                                          clustered_normalised_data['environment_index'], kf))"
   ]
  },
  {
   "cell_type": "markdown",
   "metadata": {},
   "source": [
    "## Add temperature and humidity"
   ]
  },
  {
   "cell_type": "code",
   "execution_count": 636,
   "metadata": {},
   "outputs": [
    {
     "name": "stdout",
     "output_type": "stream",
     "text": [
      "Accuracy: 0.9703951162106502\n"
     ]
    }
   ],
   "source": [
    "clustered_data = get_environment_clusters(data, 40, bin_vals)\n",
    "\n",
    "clustered_normalised_data = clustered_data[clustered_data['total']>0].copy().reindex()\n",
    "clustered_normalised_data[bin_vals] = clustered_normalised_data[bin_vals].apply(lambda row: row/np.sum(row), axis=1)\n",
    "\n",
    "rf = RandomForestClassifier(random_state=0, n_estimators=260, n_jobs=-1)\n",
    "kf = KFold(len(clustered_normalised_data), n_folds=5, shuffle=True, random_state=0)\n",
    "\n",
    "print(\"Accuracy:\", get_training_accuracy_with_kfolds_iloc(rf, clustered_normalised_data[['unsupervised_environment_index', 'temperature', 'humidity', 'total']+bin_vals], \n",
    "                                                          clustered_normalised_data['environment_index'], kf))"
   ]
  },
  {
   "cell_type": "code",
   "execution_count": 627,
   "metadata": {},
   "outputs": [
    {
     "name": "stdout",
     "output_type": "stream",
     "text": [
      "Accuracy: 0.8349891144454251\n"
     ]
    }
   ],
   "source": [
    "clustered_data = get_environment_clusters(data, 40, bin_vals)\n",
    "\n",
    "clustered_normalised_data = clustered_data[clustered_data['total']>0].copy().reindex()\n",
    "clustered_normalised_data[bin_vals] = clustered_normalised_data[bin_vals].apply(lambda row: row/np.sum(row), axis=1)\n",
    "\n",
    "knn = KNeighborsClassifier()\n",
    "kf = KFold(len(clustered_normalised_data), n_folds=5, shuffle=True, random_state=0)\n",
    "\n",
    "print(\"Accuracy:\", get_training_accuracy_with_kfolds_iloc(knn, clustered_normalised_data[['unsupervised_environment_index', 'total']+bin_vals], \n",
    "                                                          clustered_normalised_data['environment_index'], kf))"
   ]
  },
  {
   "cell_type": "markdown",
   "metadata": {},
   "source": [
    "### Neural Network"
   ]
  },
  {
   "cell_type": "code",
   "execution_count": 613,
   "metadata": {},
   "outputs": [
    {
     "name": "stdout",
     "output_type": "stream",
     "text": [
      "Accuracy: 0.8490717858193587\n"
     ]
    }
   ],
   "source": [
    "# environment clustering on raw bin values: 3 hidden layers\n",
    "clustered_data = get_environment_clusters(data, 40, bin_vals)\n",
    "\n",
    "clustered_normalised_data = clustered_data[clustered_data['total']>0].copy().reindex()\n",
    "clustered_normalised_data[bin_vals] = clustered_normalised_data[bin_vals].apply(lambda row: row/np.sum(row), axis=1)\n",
    "\n",
    "clf = MLPClassifier(solver='lbfgs', \n",
    "                    alpha=1e-5, \n",
    "                    hidden_layer_sizes=(20,), \n",
    "                    random_state=1, \n",
    "                    max_iter=500)\n",
    "kf = KFold(len(clustered_normalised_data), n_folds=5, shuffle=True, random_state=0)\n",
    "\n",
    "print(\"Accuracy:\", get_training_accuracy_with_kfolds_iloc(clf, clustered_normalised_data[['unsupervised_environment_index']+bin_vals], \n",
    "                                                          clustered_normalised_data['environment_index'], kf))"
   ]
  },
  {
   "cell_type": "markdown",
   "metadata": {},
   "source": [
    "### KNN"
   ]
  },
  {
   "cell_type": "code",
   "execution_count": 628,
   "metadata": {},
   "outputs": [
    {
     "name": "stdout",
     "output_type": "stream",
     "text": [
      "Accuracy: 0.8439720506031186\n"
     ]
    }
   ],
   "source": [
    "clustered_data = get_environment_clusters(data, 40, bin_vals)\n",
    "\n",
    "clustered_normalised_data = clustered_data[clustered_data['total']>0].copy().reindex()\n",
    "clustered_normalised_data[bin_vals] = clustered_normalised_data[bin_vals].apply(lambda row: row/np.sum(row), axis=1)\n",
    "\n",
    "knn = KNeighborsClassifier(n_neighbors=5, n_jobs=-1)\n",
    "kf = KFold(len(clustered_normalised_data), n_folds=5, shuffle=True, random_state=0)\n",
    "\n",
    "print(\"Accuracy:\", get_training_accuracy_with_kfolds_iloc(knn, clustered_normalised_data[['unsupervised_environment_index']+bin_vals], \n",
    "                                                          clustered_normalised_data['environment_index'], kf))"
   ]
  },
  {
   "cell_type": "markdown",
   "metadata": {},
   "source": [
    "### Mixed Model"
   ]
  },
  {
   "cell_type": "code",
   "execution_count": 633,
   "metadata": {},
   "outputs": [
    {
     "data": {
      "text/plain": [
       "0.9728214180641365"
      ]
     },
     "execution_count": 633,
     "metadata": {},
     "output_type": "execute_result"
    }
   ],
   "source": [
    "kf = KFold(len(clustered_normalised_data), n_folds=5, shuffle=True, random_state=0)\n",
    "\n",
    "get_training_accuracy_mixed_models([knn, rf, clf], clustered_normalised_data[['unsupervised_environment_index', 'humidity', 'temperature']+bin_vals], \n",
    "                                                          clustered_normalised_data['environment_index'], kf)"
   ]
  },
  {
   "cell_type": "markdown",
   "metadata": {
    "collapsed": true
   },
   "source": [
    "### Validating Models"
   ]
  },
  {
   "cell_type": "markdown",
   "metadata": {},
   "source": [
    "#### Train Data"
   ]
  },
  {
   "cell_type": "code",
   "execution_count": 597,
   "metadata": {
    "collapsed": true
   },
   "outputs": [],
   "source": [
    "clustered_train = get_environment_clusters(data, 40, bin_vals).reindex()\n",
    "clustered_normalised_train = clustered_train[clustered_train['total']>0].copy().reindex()\n",
    "clustered_normalised_train[bin_vals] = clustered_normalised_train[bin_vals].apply(lambda row: row/np.sum(row), axis=1)"
   ]
  },
  {
   "cell_type": "markdown",
   "metadata": {},
   "source": [
    "#### Bike validation data"
   ]
  },
  {
   "cell_type": "code",
   "execution_count": 598,
   "metadata": {},
   "outputs": [
    {
     "data": {
      "text/html": [
       "<div>\n",
       "<style scoped>\n",
       "    .dataframe tbody tr th:only-of-type {\n",
       "        vertical-align: middle;\n",
       "    }\n",
       "\n",
       "    .dataframe tbody tr th {\n",
       "        vertical-align: top;\n",
       "    }\n",
       "\n",
       "    .dataframe thead th {\n",
       "        text-align: right;\n",
       "    }\n",
       "</style>\n",
       "<table border=\"1\" class=\"dataframe\">\n",
       "  <thead>\n",
       "    <tr style=\"text-align: right;\">\n",
       "      <th></th>\n",
       "      <th>time</th>\n",
       "      <th>gpsLatitude</th>\n",
       "      <th>gpsLongitude</th>\n",
       "      <th>bin0</th>\n",
       "      <th>bin1</th>\n",
       "      <th>bin2</th>\n",
       "      <th>bin3</th>\n",
       "      <th>bin4</th>\n",
       "      <th>bin5</th>\n",
       "      <th>bin6</th>\n",
       "      <th>...</th>\n",
       "      <th>temperature</th>\n",
       "      <th>humidity</th>\n",
       "      <th>alphaVersion</th>\n",
       "      <th>urban_space</th>\n",
       "      <th>o3_ae</th>\n",
       "      <th>o3_we</th>\n",
       "      <th>no2_ae</th>\n",
       "      <th>no2_we</th>\n",
       "      <th>environment_index</th>\n",
       "      <th>total</th>\n",
       "    </tr>\n",
       "  </thead>\n",
       "  <tbody>\n",
       "    <tr>\n",
       "      <th>count</th>\n",
       "      <td>2.500000e+02</td>\n",
       "      <td>250.000000</td>\n",
       "      <td>250.000000</td>\n",
       "      <td>250.000000</td>\n",
       "      <td>250.000000</td>\n",
       "      <td>250.000000</td>\n",
       "      <td>250.000000</td>\n",
       "      <td>250.000000</td>\n",
       "      <td>250.000000</td>\n",
       "      <td>250.000000</td>\n",
       "      <td>...</td>\n",
       "      <td>250.000000</td>\n",
       "      <td>250.000000</td>\n",
       "      <td>250.0</td>\n",
       "      <td>250.0</td>\n",
       "      <td>250.000000</td>\n",
       "      <td>250.000000</td>\n",
       "      <td>250.000000</td>\n",
       "      <td>250.000000</td>\n",
       "      <td>250.0</td>\n",
       "      <td>250.000000</td>\n",
       "    </tr>\n",
       "    <tr>\n",
       "      <th>mean</th>\n",
       "      <td>2.015073e+13</td>\n",
       "      <td>55.946380</td>\n",
       "      <td>-3.189356</td>\n",
       "      <td>3.016000</td>\n",
       "      <td>0.344000</td>\n",
       "      <td>0.220000</td>\n",
       "      <td>0.168000</td>\n",
       "      <td>0.136000</td>\n",
       "      <td>0.240000</td>\n",
       "      <td>0.188000</td>\n",
       "      <td>...</td>\n",
       "      <td>23.601040</td>\n",
       "      <td>49.532016</td>\n",
       "      <td>2.0</td>\n",
       "      <td>0.0</td>\n",
       "      <td>-25647.920000</td>\n",
       "      <td>-25242.416000</td>\n",
       "      <td>-27040.560000</td>\n",
       "      <td>-26069.808000</td>\n",
       "      <td>3.0</td>\n",
       "      <td>4.628000</td>\n",
       "    </tr>\n",
       "    <tr>\n",
       "      <th>std</th>\n",
       "      <td>1.221088e+02</td>\n",
       "      <td>0.000037</td>\n",
       "      <td>0.000111</td>\n",
       "      <td>1.838823</td>\n",
       "      <td>0.575316</td>\n",
       "      <td>0.452126</td>\n",
       "      <td>0.405504</td>\n",
       "      <td>0.354976</td>\n",
       "      <td>0.528695</td>\n",
       "      <td>0.421148</td>\n",
       "      <td>...</td>\n",
       "      <td>0.606837</td>\n",
       "      <td>4.011418</td>\n",
       "      <td>0.0</td>\n",
       "      <td>0.0</td>\n",
       "      <td>6289.142903</td>\n",
       "      <td>3210.032059</td>\n",
       "      <td>5074.136107</td>\n",
       "      <td>3632.280436</td>\n",
       "      <td>0.0</td>\n",
       "      <td>2.217495</td>\n",
       "    </tr>\n",
       "    <tr>\n",
       "      <th>min</th>\n",
       "      <td>2.015073e+13</td>\n",
       "      <td>55.946215</td>\n",
       "      <td>-3.189550</td>\n",
       "      <td>0.000000</td>\n",
       "      <td>0.000000</td>\n",
       "      <td>0.000000</td>\n",
       "      <td>0.000000</td>\n",
       "      <td>0.000000</td>\n",
       "      <td>0.000000</td>\n",
       "      <td>0.000000</td>\n",
       "      <td>...</td>\n",
       "      <td>21.960000</td>\n",
       "      <td>44.655179</td>\n",
       "      <td>2.0</td>\n",
       "      <td>0.0</td>\n",
       "      <td>-32222.000000</td>\n",
       "      <td>-31198.000000</td>\n",
       "      <td>-32734.000000</td>\n",
       "      <td>-32478.000000</td>\n",
       "      <td>3.0</td>\n",
       "      <td>0.000000</td>\n",
       "    </tr>\n",
       "    <tr>\n",
       "      <th>25%</th>\n",
       "      <td>2.015073e+13</td>\n",
       "      <td>55.946380</td>\n",
       "      <td>-3.189470</td>\n",
       "      <td>2.000000</td>\n",
       "      <td>0.000000</td>\n",
       "      <td>0.000000</td>\n",
       "      <td>0.000000</td>\n",
       "      <td>0.000000</td>\n",
       "      <td>0.000000</td>\n",
       "      <td>0.000000</td>\n",
       "      <td>...</td>\n",
       "      <td>23.342500</td>\n",
       "      <td>45.051665</td>\n",
       "      <td>2.0</td>\n",
       "      <td>0.0</td>\n",
       "      <td>-28638.000000</td>\n",
       "      <td>-27358.000000</td>\n",
       "      <td>-29918.000000</td>\n",
       "      <td>-28638.000000</td>\n",
       "      <td>3.0</td>\n",
       "      <td>3.000000</td>\n",
       "    </tr>\n",
       "    <tr>\n",
       "      <th>50%</th>\n",
       "      <td>2.015073e+13</td>\n",
       "      <td>55.946398</td>\n",
       "      <td>-3.189300</td>\n",
       "      <td>3.000000</td>\n",
       "      <td>0.000000</td>\n",
       "      <td>0.000000</td>\n",
       "      <td>0.000000</td>\n",
       "      <td>0.000000</td>\n",
       "      <td>0.000000</td>\n",
       "      <td>0.000000</td>\n",
       "      <td>...</td>\n",
       "      <td>23.755000</td>\n",
       "      <td>49.939463</td>\n",
       "      <td>2.0</td>\n",
       "      <td>0.0</td>\n",
       "      <td>-26846.000000</td>\n",
       "      <td>-25822.000000</td>\n",
       "      <td>-27742.000000</td>\n",
       "      <td>-26334.000000</td>\n",
       "      <td>3.0</td>\n",
       "      <td>4.000000</td>\n",
       "    </tr>\n",
       "    <tr>\n",
       "      <th>75%</th>\n",
       "      <td>2.015073e+13</td>\n",
       "      <td>55.946398</td>\n",
       "      <td>-3.189300</td>\n",
       "      <td>4.000000</td>\n",
       "      <td>1.000000</td>\n",
       "      <td>0.000000</td>\n",
       "      <td>0.000000</td>\n",
       "      <td>0.000000</td>\n",
       "      <td>0.000000</td>\n",
       "      <td>0.000000</td>\n",
       "      <td>...</td>\n",
       "      <td>24.067500</td>\n",
       "      <td>51.480962</td>\n",
       "      <td>2.0</td>\n",
       "      <td>0.0</td>\n",
       "      <td>-25054.000000</td>\n",
       "      <td>-24286.000000</td>\n",
       "      <td>-25310.000000</td>\n",
       "      <td>-24542.000000</td>\n",
       "      <td>3.0</td>\n",
       "      <td>6.000000</td>\n",
       "    </tr>\n",
       "    <tr>\n",
       "      <th>max</th>\n",
       "      <td>2.015073e+13</td>\n",
       "      <td>55.946398</td>\n",
       "      <td>-3.189151</td>\n",
       "      <td>10.000000</td>\n",
       "      <td>3.000000</td>\n",
       "      <td>2.000000</td>\n",
       "      <td>2.000000</td>\n",
       "      <td>2.000000</td>\n",
       "      <td>3.000000</td>\n",
       "      <td>2.000000</td>\n",
       "      <td>...</td>\n",
       "      <td>24.180000</td>\n",
       "      <td>58.565045</td>\n",
       "      <td>2.0</td>\n",
       "      <td>0.0</td>\n",
       "      <td>32546.000000</td>\n",
       "      <td>-13534.000000</td>\n",
       "      <td>32034.000000</td>\n",
       "      <td>-11742.000000</td>\n",
       "      <td>3.0</td>\n",
       "      <td>12.000000</td>\n",
       "    </tr>\n",
       "  </tbody>\n",
       "</table>\n",
       "<p>8 rows × 33 columns</p>\n",
       "</div>"
      ],
      "text/plain": [
       "               time  gpsLatitude  gpsLongitude        bin0        bin1  \\\n",
       "count  2.500000e+02   250.000000    250.000000  250.000000  250.000000   \n",
       "mean   2.015073e+13    55.946380     -3.189356    3.016000    0.344000   \n",
       "std    1.221088e+02     0.000037      0.000111    1.838823    0.575316   \n",
       "min    2.015073e+13    55.946215     -3.189550    0.000000    0.000000   \n",
       "25%    2.015073e+13    55.946380     -3.189470    2.000000    0.000000   \n",
       "50%    2.015073e+13    55.946398     -3.189300    3.000000    0.000000   \n",
       "75%    2.015073e+13    55.946398     -3.189300    4.000000    1.000000   \n",
       "max    2.015073e+13    55.946398     -3.189151   10.000000    3.000000   \n",
       "\n",
       "             bin2        bin3        bin4        bin5        bin6     ...      \\\n",
       "count  250.000000  250.000000  250.000000  250.000000  250.000000     ...       \n",
       "mean     0.220000    0.168000    0.136000    0.240000    0.188000     ...       \n",
       "std      0.452126    0.405504    0.354976    0.528695    0.421148     ...       \n",
       "min      0.000000    0.000000    0.000000    0.000000    0.000000     ...       \n",
       "25%      0.000000    0.000000    0.000000    0.000000    0.000000     ...       \n",
       "50%      0.000000    0.000000    0.000000    0.000000    0.000000     ...       \n",
       "75%      0.000000    0.000000    0.000000    0.000000    0.000000     ...       \n",
       "max      2.000000    2.000000    2.000000    3.000000    2.000000     ...       \n",
       "\n",
       "       temperature    humidity  alphaVersion  urban_space         o3_ae  \\\n",
       "count   250.000000  250.000000         250.0        250.0    250.000000   \n",
       "mean     23.601040   49.532016           2.0          0.0 -25647.920000   \n",
       "std       0.606837    4.011418           0.0          0.0   6289.142903   \n",
       "min      21.960000   44.655179           2.0          0.0 -32222.000000   \n",
       "25%      23.342500   45.051665           2.0          0.0 -28638.000000   \n",
       "50%      23.755000   49.939463           2.0          0.0 -26846.000000   \n",
       "75%      24.067500   51.480962           2.0          0.0 -25054.000000   \n",
       "max      24.180000   58.565045           2.0          0.0  32546.000000   \n",
       "\n",
       "              o3_we        no2_ae        no2_we  environment_index       total  \n",
       "count    250.000000    250.000000    250.000000              250.0  250.000000  \n",
       "mean  -25242.416000 -27040.560000 -26069.808000                3.0    4.628000  \n",
       "std     3210.032059   5074.136107   3632.280436                0.0    2.217495  \n",
       "min   -31198.000000 -32734.000000 -32478.000000                3.0    0.000000  \n",
       "25%   -27358.000000 -29918.000000 -28638.000000                3.0    3.000000  \n",
       "50%   -25822.000000 -27742.000000 -26334.000000                3.0    4.000000  \n",
       "75%   -24286.000000 -25310.000000 -24542.000000                3.0    6.000000  \n",
       "max   -13534.000000  32034.000000 -11742.000000                3.0   12.000000  \n",
       "\n",
       "[8 rows x 33 columns]"
      ]
     },
     "metadata": {},
     "output_type": "display_data"
    }
   ],
   "source": [
    "bike_data_validation = pd.read_csv('../data/misc/2015072817.csv')\n",
    "bike_data_validation['environment_index'] = 3\n",
    "bike_data_validation['total'] = bike_data_validation[bin_vals].apply(lambda row: np.sum(row), axis=1)\n",
    "\n",
    "bike_data_validation = bike_data_validation.rename(index=str, columns={\"latitude\":'gpsLatitude', \"longitude\":'gpsLongitude'})\n",
    "display(bike_data_validation.describe())"
   ]
  },
  {
   "cell_type": "code",
   "execution_count": 599,
   "metadata": {},
   "outputs": [
    {
     "name": "stdout",
     "output_type": "stream",
     "text": [
      "Validation accuracy: 1.0\n"
     ]
    }
   ],
   "source": [
    "clustered_validation_data = get_environment_clusters(bike_data_validation, 40, bin_vals+['total'])\n",
    "\n",
    "clustered_normalised = clustered_validation_data[clustered_validation_data['total']>0].copy().reindex()\n",
    "clustered_normalised[bin_vals] = clustered_normalised[bin_vals].apply(lambda row: row/np.sum(row), axis=1)\n",
    "\n",
    "rf.fit(clustered_normalised_train[bin_vals+['unsupervised_environment_index', 'total']], \n",
    "       clustered_normalised_train['environment_index'])\n",
    "\n",
    "predictions = rf.predict(clustered_normalised[bin_vals+['unsupervised_environment_index', 'total']])\n",
    "\n",
    "print(\"Validation accuracy:\", accuracy_score(clustered_normalised['environment_index'], predictions))\n",
    " "
   ]
  },
  {
   "cell_type": "code",
   "execution_count": 600,
   "metadata": {},
   "outputs": [
    {
     "name": "stdout",
     "output_type": "stream",
     "text": [
      "Validation accuracy: 0.984\n"
     ]
    }
   ],
   "source": [
    "clustered_validation_data = get_environment_clusters(bike_data_validation, 40, bin_vals+['total'])\n",
    "\n",
    "rf.fit(clustered_train[bin_vals + ['unsupervised_environment_index', 'total']], \n",
    "       clustered_train['environment_index'])\n",
    "\n",
    "predictions = rf.predict(clustered_validation_data[bin_vals + ['unsupervised_environment_index', 'total']])\n",
    "\n",
    "print(\"Validation accuracy:\", accuracy_score(clustered_validation_data['environment_index'], predictions))\n",
    " "
   ]
  },
  {
   "cell_type": "markdown",
   "metadata": {},
   "source": [
    "### Walking Validation Data"
   ]
  },
  {
   "cell_type": "code",
   "execution_count": 601,
   "metadata": {},
   "outputs": [
    {
     "data": {
      "text/html": [
       "<div>\n",
       "<style scoped>\n",
       "    .dataframe tbody tr th:only-of-type {\n",
       "        vertical-align: middle;\n",
       "    }\n",
       "\n",
       "    .dataframe tbody tr th {\n",
       "        vertical-align: top;\n",
       "    }\n",
       "\n",
       "    .dataframe thead th {\n",
       "        text-align: right;\n",
       "    }\n",
       "</style>\n",
       "<table border=\"1\" class=\"dataframe\">\n",
       "  <thead>\n",
       "    <tr style=\"text-align: right;\">\n",
       "      <th></th>\n",
       "      <th>phoneTimestamp</th>\n",
       "      <th>pm1</th>\n",
       "      <th>pm2_5</th>\n",
       "      <th>pm10</th>\n",
       "      <th>temperature</th>\n",
       "      <th>humidity</th>\n",
       "      <th>bin0</th>\n",
       "      <th>bin1</th>\n",
       "      <th>bin2</th>\n",
       "      <th>bin3</th>\n",
       "      <th>...</th>\n",
       "      <th>bin14</th>\n",
       "      <th>bin15</th>\n",
       "      <th>total</th>\n",
       "      <th>gpsLongitude</th>\n",
       "      <th>gpsLatitude</th>\n",
       "      <th>gpsAltitude</th>\n",
       "      <th>gpsAccuracy</th>\n",
       "      <th>luxLevel</th>\n",
       "      <th>motion</th>\n",
       "      <th>environment_index</th>\n",
       "    </tr>\n",
       "  </thead>\n",
       "  <tbody>\n",
       "    <tr>\n",
       "      <th>count</th>\n",
       "      <td>2.860000e+02</td>\n",
       "      <td>286.000000</td>\n",
       "      <td>286.000000</td>\n",
       "      <td>286.000000</td>\n",
       "      <td>286.000000</td>\n",
       "      <td>286.000000</td>\n",
       "      <td>286.000000</td>\n",
       "      <td>286.000000</td>\n",
       "      <td>286.000000</td>\n",
       "      <td>286.000000</td>\n",
       "      <td>...</td>\n",
       "      <td>286.000000</td>\n",
       "      <td>286.000000</td>\n",
       "      <td>286.000000</td>\n",
       "      <td>286.000000</td>\n",
       "      <td>286.000000</td>\n",
       "      <td>286.000000</td>\n",
       "      <td>286.000000</td>\n",
       "      <td>286.000000</td>\n",
       "      <td>286.000000</td>\n",
       "      <td>286.0</td>\n",
       "    </tr>\n",
       "    <tr>\n",
       "      <th>mean</th>\n",
       "      <td>1.520262e+12</td>\n",
       "      <td>10.094618</td>\n",
       "      <td>12.424445</td>\n",
       "      <td>17.979335</td>\n",
       "      <td>6.921679</td>\n",
       "      <td>64.987413</td>\n",
       "      <td>539.772727</td>\n",
       "      <td>101.111888</td>\n",
       "      <td>40.804196</td>\n",
       "      <td>17.562937</td>\n",
       "      <td>...</td>\n",
       "      <td>0.017483</td>\n",
       "      <td>0.024476</td>\n",
       "      <td>720.342657</td>\n",
       "      <td>-3.187221</td>\n",
       "      <td>55.951014</td>\n",
       "      <td>127.997114</td>\n",
       "      <td>10.024007</td>\n",
       "      <td>31.576923</td>\n",
       "      <td>3246.398601</td>\n",
       "      <td>0.0</td>\n",
       "    </tr>\n",
       "    <tr>\n",
       "      <th>std</th>\n",
       "      <td>2.287221e+06</td>\n",
       "      <td>7.186586</td>\n",
       "      <td>8.985549</td>\n",
       "      <td>11.127342</td>\n",
       "      <td>3.367724</td>\n",
       "      <td>20.525194</td>\n",
       "      <td>330.817500</td>\n",
       "      <td>106.139141</td>\n",
       "      <td>50.443404</td>\n",
       "      <td>21.009803</td>\n",
       "      <td>...</td>\n",
       "      <td>0.131290</td>\n",
       "      <td>0.154791</td>\n",
       "      <td>493.213247</td>\n",
       "      <td>0.001629</td>\n",
       "      <td>0.003453</td>\n",
       "      <td>14.690534</td>\n",
       "      <td>0.193646</td>\n",
       "      <td>18.184996</td>\n",
       "      <td>741.746731</td>\n",
       "      <td>0.0</td>\n",
       "    </tr>\n",
       "    <tr>\n",
       "      <th>min</th>\n",
       "      <td>1.520260e+12</td>\n",
       "      <td>0.000000</td>\n",
       "      <td>0.000000</td>\n",
       "      <td>0.000000</td>\n",
       "      <td>0.000000</td>\n",
       "      <td>0.000000</td>\n",
       "      <td>0.000000</td>\n",
       "      <td>0.000000</td>\n",
       "      <td>0.000000</td>\n",
       "      <td>0.000000</td>\n",
       "      <td>...</td>\n",
       "      <td>0.000000</td>\n",
       "      <td>0.000000</td>\n",
       "      <td>0.000000</td>\n",
       "      <td>-3.191518</td>\n",
       "      <td>55.944679</td>\n",
       "      <td>71.707644</td>\n",
       "      <td>10.000000</td>\n",
       "      <td>4.000000</td>\n",
       "      <td>39.000000</td>\n",
       "      <td>0.0</td>\n",
       "    </tr>\n",
       "    <tr>\n",
       "      <th>25%</th>\n",
       "      <td>1.520260e+12</td>\n",
       "      <td>6.068395</td>\n",
       "      <td>7.532011</td>\n",
       "      <td>10.323843</td>\n",
       "      <td>5.600000</td>\n",
       "      <td>63.100002</td>\n",
       "      <td>326.000000</td>\n",
       "      <td>57.000000</td>\n",
       "      <td>23.000000</td>\n",
       "      <td>10.000000</td>\n",
       "      <td>...</td>\n",
       "      <td>0.000000</td>\n",
       "      <td>0.000000</td>\n",
       "      <td>432.000000</td>\n",
       "      <td>-3.188255</td>\n",
       "      <td>55.947735</td>\n",
       "      <td>120.419377</td>\n",
       "      <td>10.000000</td>\n",
       "      <td>19.000000</td>\n",
       "      <td>2887.000000</td>\n",
       "      <td>0.0</td>\n",
       "    </tr>\n",
       "    <tr>\n",
       "      <th>50%</th>\n",
       "      <td>1.520261e+12</td>\n",
       "      <td>7.997307</td>\n",
       "      <td>9.873313</td>\n",
       "      <td>16.104126</td>\n",
       "      <td>6.000000</td>\n",
       "      <td>73.700005</td>\n",
       "      <td>409.000000</td>\n",
       "      <td>76.000000</td>\n",
       "      <td>30.000000</td>\n",
       "      <td>14.000000</td>\n",
       "      <td>...</td>\n",
       "      <td>0.000000</td>\n",
       "      <td>0.000000</td>\n",
       "      <td>556.500000</td>\n",
       "      <td>-3.187173</td>\n",
       "      <td>55.951773</td>\n",
       "      <td>128.613202</td>\n",
       "      <td>10.000000</td>\n",
       "      <td>29.000000</td>\n",
       "      <td>3269.500000</td>\n",
       "      <td>0.0</td>\n",
       "    </tr>\n",
       "    <tr>\n",
       "      <th>75%</th>\n",
       "      <td>1.520265e+12</td>\n",
       "      <td>12.648389</td>\n",
       "      <td>15.113871</td>\n",
       "      <td>23.184410</td>\n",
       "      <td>7.700000</td>\n",
       "      <td>76.350001</td>\n",
       "      <td>699.000000</td>\n",
       "      <td>115.000000</td>\n",
       "      <td>47.000000</td>\n",
       "      <td>20.000000</td>\n",
       "      <td>...</td>\n",
       "      <td>0.000000</td>\n",
       "      <td>0.000000</td>\n",
       "      <td>912.500000</td>\n",
       "      <td>-3.186362</td>\n",
       "      <td>55.953629</td>\n",
       "      <td>137.060204</td>\n",
       "      <td>10.000000</td>\n",
       "      <td>39.000000</td>\n",
       "      <td>3559.000000</td>\n",
       "      <td>0.0</td>\n",
       "    </tr>\n",
       "    <tr>\n",
       "      <th>max</th>\n",
       "      <td>1.520266e+12</td>\n",
       "      <td>78.974530</td>\n",
       "      <td>103.687230</td>\n",
       "      <td>113.550224</td>\n",
       "      <td>18.100000</td>\n",
       "      <td>84.600000</td>\n",
       "      <td>2995.000000</td>\n",
       "      <td>1311.000000</td>\n",
       "      <td>638.000000</td>\n",
       "      <td>286.000000</td>\n",
       "      <td>...</td>\n",
       "      <td>1.000000</td>\n",
       "      <td>1.000000</td>\n",
       "      <td>5372.000000</td>\n",
       "      <td>-3.183764</td>\n",
       "      <td>55.956490</td>\n",
       "      <td>154.825047</td>\n",
       "      <td>12.883000</td>\n",
       "      <td>111.000000</td>\n",
       "      <td>8304.000000</td>\n",
       "      <td>0.0</td>\n",
       "    </tr>\n",
       "  </tbody>\n",
       "</table>\n",
       "<p>8 rows × 30 columns</p>\n",
       "</div>"
      ],
      "text/plain": [
       "       phoneTimestamp         pm1       pm2_5        pm10  temperature  \\\n",
       "count    2.860000e+02  286.000000  286.000000  286.000000   286.000000   \n",
       "mean     1.520262e+12   10.094618   12.424445   17.979335     6.921679   \n",
       "std      2.287221e+06    7.186586    8.985549   11.127342     3.367724   \n",
       "min      1.520260e+12    0.000000    0.000000    0.000000     0.000000   \n",
       "25%      1.520260e+12    6.068395    7.532011   10.323843     5.600000   \n",
       "50%      1.520261e+12    7.997307    9.873313   16.104126     6.000000   \n",
       "75%      1.520265e+12   12.648389   15.113871   23.184410     7.700000   \n",
       "max      1.520266e+12   78.974530  103.687230  113.550224    18.100000   \n",
       "\n",
       "         humidity         bin0         bin1        bin2        bin3  \\\n",
       "count  286.000000   286.000000   286.000000  286.000000  286.000000   \n",
       "mean    64.987413   539.772727   101.111888   40.804196   17.562937   \n",
       "std     20.525194   330.817500   106.139141   50.443404   21.009803   \n",
       "min      0.000000     0.000000     0.000000    0.000000    0.000000   \n",
       "25%     63.100002   326.000000    57.000000   23.000000   10.000000   \n",
       "50%     73.700005   409.000000    76.000000   30.000000   14.000000   \n",
       "75%     76.350001   699.000000   115.000000   47.000000   20.000000   \n",
       "max     84.600000  2995.000000  1311.000000  638.000000  286.000000   \n",
       "\n",
       "             ...               bin14       bin15        total  gpsLongitude  \\\n",
       "count        ...          286.000000  286.000000   286.000000    286.000000   \n",
       "mean         ...            0.017483    0.024476   720.342657     -3.187221   \n",
       "std          ...            0.131290    0.154791   493.213247      0.001629   \n",
       "min          ...            0.000000    0.000000     0.000000     -3.191518   \n",
       "25%          ...            0.000000    0.000000   432.000000     -3.188255   \n",
       "50%          ...            0.000000    0.000000   556.500000     -3.187173   \n",
       "75%          ...            0.000000    0.000000   912.500000     -3.186362   \n",
       "max          ...            1.000000    1.000000  5372.000000     -3.183764   \n",
       "\n",
       "       gpsLatitude  gpsAltitude  gpsAccuracy    luxLevel       motion  \\\n",
       "count   286.000000   286.000000   286.000000  286.000000   286.000000   \n",
       "mean     55.951014   127.997114    10.024007   31.576923  3246.398601   \n",
       "std       0.003453    14.690534     0.193646   18.184996   741.746731   \n",
       "min      55.944679    71.707644    10.000000    4.000000    39.000000   \n",
       "25%      55.947735   120.419377    10.000000   19.000000  2887.000000   \n",
       "50%      55.951773   128.613202    10.000000   29.000000  3269.500000   \n",
       "75%      55.953629   137.060204    10.000000   39.000000  3559.000000   \n",
       "max      55.956490   154.825047    12.883000  111.000000  8304.000000   \n",
       "\n",
       "       environment_index  \n",
       "count              286.0  \n",
       "mean                 0.0  \n",
       "std                  0.0  \n",
       "min                  0.0  \n",
       "25%                  0.0  \n",
       "50%                  0.0  \n",
       "75%                  0.0  \n",
       "max                  0.0  \n",
       "\n",
       "[8 rows x 30 columns]"
      ]
     },
     "metadata": {},
     "output_type": "display_data"
    }
   ],
   "source": [
    "walk_data_validation1 = pd.read_csv('../data/walking_validation/015Outdoor-Day-2018-02-28.csv')\n",
    "walk_data_validation2 = pd.read_csv('../data/walking_validation/016Outdoor-Night-2018-02-28.csv')\n",
    "walk_data_validation3 = pd.read_csv('../data/walking_validation/024Outdoor-Day-2018-03-05.csv')\n",
    "\n",
    "walk_data_validation_total = pd.concat([walk_data_validation3], ignore_index=True)\n",
    "\n",
    "walk_data_validation_total['environment_index'] = 0\n",
    "\n",
    "display(walk_data_validation_total.describe())"
   ]
  },
  {
   "cell_type": "code",
   "execution_count": 602,
   "metadata": {},
   "outputs": [
    {
     "name": "stdout",
     "output_type": "stream",
     "text": [
      "Validation accuracy: 0.901060070671378\n"
     ]
    }
   ],
   "source": [
    "clustered_validation_data = get_environment_clusters(walk_data_validation_total, 40, bin_vals)\n",
    "\n",
    "clustered_normalised = clustered_validation_data[clustered_validation_data['total']>0].copy().reindex()\n",
    "clustered_normalised[bin_vals] = clustered_normalised[bin_vals].apply(lambda row: row/np.sum(row), axis=1)\n",
    "\n",
    "rf.fit(clustered_normalised_train[bin_vals+['unsupervised_environment_index', 'temperature', 'humidity', 'total']], \n",
    "       clustered_normalised_train['environment_index'])\n",
    "\n",
    "predictions = rf.predict(clustered_normalised[bin_vals+['unsupervised_environment_index', 'temperature', 'humidity', 'total']])\n",
    "\n",
    "print(\"Validation accuracy:\", accuracy_score(clustered_normalised['environment_index'], predictions))\n"
   ]
  },
  {
   "cell_type": "code",
   "execution_count": 603,
   "metadata": {},
   "outputs": [
    {
     "name": "stdout",
     "output_type": "stream",
     "text": [
      "Validation accuracy: 0.6013986013986014\n"
     ]
    }
   ],
   "source": [
    "clustered_validation_data = get_environment_clusters(walk_data_validation_total, 40, bin_vals)\n",
    "\n",
    "rf.fit(clustered_train[bin_vals + ['temperature', 'humidity', 'unsupervised_environment_index', 'total']], \n",
    "       clustered_train['environment_index'])\n",
    "\n",
    "predictions = rf.predict(clustered_validation_data[bin_vals + ['temperature', 'humidity', 'unsupervised_environment_index', 'total']])\n",
    "\n",
    "print(\"Validation accuracy:\", accuracy_score(clustered_validation_data['environment_index'], predictions))\n",
    " "
   ]
  },
  {
   "cell_type": "code",
   "execution_count": null,
   "metadata": {
    "collapsed": true
   },
   "outputs": [],
   "source": []
  },
  {
   "cell_type": "code",
   "execution_count": null,
   "metadata": {
    "collapsed": true
   },
   "outputs": [],
   "source": []
  }
 ],
 "metadata": {
  "kernelspec": {
   "display_name": "Python 3",
   "language": "python",
   "name": "python3"
  },
  "language_info": {
   "codemirror_mode": {
    "name": "ipython",
    "version": 3
   },
   "file_extension": ".py",
   "mimetype": "text/x-python",
   "name": "python",
   "nbconvert_exporter": "python",
   "pygments_lexer": "ipython3",
   "version": "3.6.2"
  }
 },
 "nbformat": 4,
 "nbformat_minor": 2
}
