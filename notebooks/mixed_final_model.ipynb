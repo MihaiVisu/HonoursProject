{
 "cells": [
  {
   "cell_type": "code",
   "execution_count": 1,
   "metadata": {},
   "outputs": [
    {
     "name": "stderr",
     "output_type": "stream",
     "text": [
      "/Users/mihaivisuian/miniconda3/envs/hons/lib/python3.6/site-packages/sklearn/cross_validation.py:41: DeprecationWarning: This module was deprecated in version 0.18 in favor of the model_selection module into which all the refactored classes and functions are moved. Also note that the interface of the new CV iterators are different from that of this module. This module will be removed in 0.20.\n",
      "  \"This module will be removed in 0.20.\", DeprecationWarning)\n",
      "/Users/mihaivisuian/miniconda3/envs/hons/lib/python3.6/site-packages/h5py/__init__.py:36: FutureWarning: Conversion of the second argument of issubdtype from `float` to `np.floating` is deprecated. In future, it will be treated as `np.float64 == np.dtype(float).type`.\n",
      "  from ._conv import register_converters as _register_converters\n"
     ]
    }
   ],
   "source": [
    "from __future__ import print_function, division\n",
    "%matplotlib inline\n",
    "\n",
    "# import used packages and modules\n",
    "# import display function to display the table of the pandas dataframe\n",
    "from IPython.display import display\n",
    "\n",
    "from sklearn.linear_model import LogisticRegressionCV\n",
    "from sklearn.preprocessing import StandardScaler\n",
    "from sklearn.cross_validation import KFold\n",
    "from sklearn.model_selection import LeaveOneOut, train_test_split\n",
    "from sklearn.tree import DecisionTreeClassifier, ExtraTreeClassifier\n",
    "from sklearn.svm import SVC\n",
    "from sklearn.decomposition import PCA\n",
    "from sklearn.neighbors import KNeighborsClassifier\n",
    "from sklearn.cluster import KMeans\n",
    "from sklearn.ensemble import RandomForestClassifier, ExtraTreesClassifier\n",
    "\n",
    "from sklearn.neural_network import MLPClassifier\n",
    "from sklearn.naive_bayes import GaussianNB\n",
    "from sklearn.semi_supervised import LabelSpreading\n",
    "\n",
    "from sklearn.metrics import accuracy_score, confusion_matrix\n",
    "\n",
    "from sklearn.exceptions import NotFittedError\n",
    "\n",
    "from scipy import signal\n",
    "\n",
    "from hmmlearn import hmm\n",
    "from seqlearn.hmm import MultinomialHMM\n",
    "\n",
    "import datetime\n",
    "import matplotlib.dates as mdates\n",
    "import matplotlib.pyplot as plt\n",
    "import numpy as np\n",
    "import pandas as pd\n",
    "import seaborn as sns\n",
    "import csv\n",
    "\n",
    "\n",
    "import tensorflow as tf\n",
    "import tflearn\n",
    "from tflearn.layers.conv import conv_2d, max_pool_2d\n",
    "from tflearn.layers.core import input_data, dropout, fully_connected\n",
    "from tflearn.layers.estimator import regression\n",
    "from tflearn.layers.normalization import local_response_normalization"
   ]
  },
  {
   "cell_type": "markdown",
   "metadata": {},
   "source": [
    "# Importing Data"
   ]
  },
  {
   "cell_type": "code",
   "execution_count": 2,
   "metadata": {
    "collapsed": true
   },
   "outputs": [],
   "source": [
    "train_manchester = pd.read_csv('../data/misc/Train_Manchester_Northwich.csv')\n",
    "london_data = pd.read_csv('../data/london_data/london_data.csv')\n",
    "train_data_mar = pd.read_csv('../data/validation/train-15-03-2018.csv')\n",
    "\n",
    "data04 = pd.read_csv('../data/meadows_december/meadows-2017-12-04.csv')\n",
    "data05 = pd.read_csv('../data/meadows_december/meadows-2017-12-05.csv')\n",
    "data06 = pd.read_csv('../data/meadows_december/meadows-2017-12-06.csv')\n",
    "data07 = pd.read_csv('../data/meadows_december/meadows-2017-12-07.csv')\n",
    "\n",
    "bike_data_old = pd.read_csv('../data/misc/2015061911.csv')\n",
    "bike_data_old2 = pd.read_csv('../data/misc/2015061817.csv')\n",
    "bike_data_old3 = pd.read_csv('../data/misc/20150618.csv')\n",
    "bike_data_feb = pd.read_csv('../data/misc/bike_feb.csv')\n",
    "\n",
    "walk_data_vlad1 = pd.read_csv('../data/validation/015Outdoor-Day-2018-02-28.csv')\n",
    "walk_data_vlad2 = pd.read_csv('../data/validation/024Outdoor-Day-2018-03-05.csv')\n",
    "\n",
    "bus_data = pd.read_csv('../data/validation/queensferry-13-03-2018.csv')"
   ]
  },
  {
   "cell_type": "markdown",
   "metadata": {},
   "source": [
    "# Merging Data"
   ]
  },
  {
   "cell_type": "code",
   "execution_count": 3,
   "metadata": {
    "collapsed": true
   },
   "outputs": [],
   "source": [
    "bin_vals = ['bin'+str(x) for x in range(0,16)]\n",
    "norm_bin_vals = ['bin_norm'+str(x) for x in range(0,16)]\n",
    "pm_vals = ['pm1', 'pm2_5', 'pm10']"
   ]
  },
  {
   "cell_type": "code",
   "execution_count": 4,
   "metadata": {},
   "outputs": [],
   "source": [
    "# environment index is 0 as all data from these datasets is walking data\n",
    "data04['environment_index'] = 0\n",
    "data05['environment_index'] = 0\n",
    "data06['environment_index'] = 0\n",
    "data07['environment_index'] = 0\n",
    "\n",
    "walk_data_vlad1['environment_index'] = 0\n",
    "walk_data_vlad2['environment_index'] = 0\n",
    "\n",
    "# environment index is 3 for bike data\n",
    "bike_data_old['environment_index'] = 3\n",
    "bike_data_old2['environment_index'] = 3\n",
    "bike_data_old3['environment_index'] = 3\n",
    "bike_data_feb['environment_index'] = 3\n",
    "\n",
    "# rename columns\n",
    "bike_data_old2 = bike_data_old2.rename(\n",
    "    index=str, columns={\"latitude\":'gpsLatitude', \"longitude\":'gpsLongitude', 'time': 'phoneTimestamp'})\n",
    "bike_data_old3 = bike_data_old3.rename(\n",
    "    index=str, columns={\"latitude\":'gpsLatitude', \"longitude\":'gpsLongitude', 'time': 'phoneTimestamp'})\n",
    "\n",
    "labels = bin_vals + pm_vals + ['environment_index', \n",
    "                               'gpsLatitude', \n",
    "                               'gpsLongitude', \n",
    "                               'humidity', \n",
    "                               'temperature',\n",
    "                               'phoneTimestamp',\n",
    "                              ]\n",
    "\n",
    "bus_data_bus = bus_data[bus_data['environment_index']==4].copy()\n",
    "\n",
    "train_data_mar['environment_index'] = 2\n",
    "\n",
    "data = pd.concat([london_data[labels],\n",
    "                  train_manchester[labels], \n",
    "                  data04[labels], \n",
    "                  data05[labels],\n",
    "                  train_data_mar[700:][labels],\n",
    "                  data06[labels],\n",
    "                  data07[labels],\n",
    "                  bus_data_bus[labels],\n",
    "                  walk_data_vlad1[labels],\n",
    "                  walk_data_vlad2[labels],\n",
    "                  bike_data_old2[labels],\n",
    "                  bike_data_feb[labels]], ignore_index=True)\n"
   ]
  },
  {
   "cell_type": "markdown",
   "metadata": {},
   "source": [
    "### Remove outliers"
   ]
  },
  {
   "cell_type": "code",
   "execution_count": 5,
   "metadata": {
    "collapsed": true
   },
   "outputs": [],
   "source": [
    "# remove indoor labelled data for this set of experiments\n",
    "data = data[data['environment_index']!=7]\n",
    "data = data[data['environment_index']!=5]\n",
    "data = data[data['humidity']>0]\n",
    "data = data[data['temperature']>0]\n",
    "data['total'] = data[bin_vals].apply(lambda row: np.sum(row), axis=1)\n",
    "data = data[data['total']>0]\n",
    "data = data[data['total']<12000]\n",
    "data = data[data['temperature']<35]"
   ]
  },
  {
   "cell_type": "markdown",
   "metadata": {},
   "source": [
    "### Data Information"
   ]
  },
  {
   "cell_type": "code",
   "execution_count": 6,
   "metadata": {},
   "outputs": [
    {
     "data": {
      "text/html": [
       "<div>\n",
       "<style scoped>\n",
       "    .dataframe tbody tr th:only-of-type {\n",
       "        vertical-align: middle;\n",
       "    }\n",
       "\n",
       "    .dataframe tbody tr th {\n",
       "        vertical-align: top;\n",
       "    }\n",
       "\n",
       "    .dataframe thead th {\n",
       "        text-align: right;\n",
       "    }\n",
       "</style>\n",
       "<table border=\"1\" class=\"dataframe\">\n",
       "  <thead>\n",
       "    <tr style=\"text-align: right;\">\n",
       "      <th></th>\n",
       "      <th>bin0</th>\n",
       "      <th>bin1</th>\n",
       "      <th>bin2</th>\n",
       "      <th>bin3</th>\n",
       "      <th>bin4</th>\n",
       "      <th>bin5</th>\n",
       "      <th>bin6</th>\n",
       "      <th>bin7</th>\n",
       "      <th>bin8</th>\n",
       "      <th>bin9</th>\n",
       "      <th>...</th>\n",
       "      <th>bin15</th>\n",
       "      <th>pm1</th>\n",
       "      <th>pm2_5</th>\n",
       "      <th>pm10</th>\n",
       "      <th>environment_index</th>\n",
       "      <th>gpsLatitude</th>\n",
       "      <th>gpsLongitude</th>\n",
       "      <th>humidity</th>\n",
       "      <th>temperature</th>\n",
       "      <th>total</th>\n",
       "    </tr>\n",
       "  </thead>\n",
       "  <tbody>\n",
       "    <tr>\n",
       "      <th>count</th>\n",
       "      <td>5409.000000</td>\n",
       "      <td>5409.000000</td>\n",
       "      <td>5409.000000</td>\n",
       "      <td>5409.000000</td>\n",
       "      <td>5409.000000</td>\n",
       "      <td>5409.000000</td>\n",
       "      <td>5409.000000</td>\n",
       "      <td>5409.000000</td>\n",
       "      <td>5409.000000</td>\n",
       "      <td>5409.000000</td>\n",
       "      <td>...</td>\n",
       "      <td>5409.000000</td>\n",
       "      <td>5409.000000</td>\n",
       "      <td>5409.000000</td>\n",
       "      <td>5409.000000</td>\n",
       "      <td>5409.000000</td>\n",
       "      <td>5409.000000</td>\n",
       "      <td>5409.000000</td>\n",
       "      <td>5409.000000</td>\n",
       "      <td>5409.000000</td>\n",
       "      <td>5409.000000</td>\n",
       "    </tr>\n",
       "    <tr>\n",
       "      <th>mean</th>\n",
       "      <td>427.300610</td>\n",
       "      <td>103.572749</td>\n",
       "      <td>59.989092</td>\n",
       "      <td>34.252542</td>\n",
       "      <td>12.852468</td>\n",
       "      <td>12.492882</td>\n",
       "      <td>7.844888</td>\n",
       "      <td>3.619523</td>\n",
       "      <td>2.809946</td>\n",
       "      <td>0.904419</td>\n",
       "      <td>...</td>\n",
       "      <td>0.238861</td>\n",
       "      <td>5.690336</td>\n",
       "      <td>10.224480</td>\n",
       "      <td>20.376333</td>\n",
       "      <td>2.050656</td>\n",
       "      <td>55.386725</td>\n",
       "      <td>-2.672723</td>\n",
       "      <td>52.878766</td>\n",
       "      <td>18.288882</td>\n",
       "      <td>667.051766</td>\n",
       "    </tr>\n",
       "    <tr>\n",
       "      <th>std</th>\n",
       "      <td>687.696491</td>\n",
       "      <td>193.483991</td>\n",
       "      <td>106.021429</td>\n",
       "      <td>55.967233</td>\n",
       "      <td>21.672430</td>\n",
       "      <td>21.796565</td>\n",
       "      <td>23.721709</td>\n",
       "      <td>48.235996</td>\n",
       "      <td>108.579134</td>\n",
       "      <td>8.832615</td>\n",
       "      <td>...</td>\n",
       "      <td>1.991819</td>\n",
       "      <td>8.044508</td>\n",
       "      <td>10.778896</td>\n",
       "      <td>47.069200</td>\n",
       "      <td>1.550322</td>\n",
       "      <td>1.220987</td>\n",
       "      <td>0.975373</td>\n",
       "      <td>10.687107</td>\n",
       "      <td>7.249168</td>\n",
       "      <td>1072.710005</td>\n",
       "    </tr>\n",
       "    <tr>\n",
       "      <th>min</th>\n",
       "      <td>0.000000</td>\n",
       "      <td>0.000000</td>\n",
       "      <td>0.000000</td>\n",
       "      <td>0.000000</td>\n",
       "      <td>0.000000</td>\n",
       "      <td>0.000000</td>\n",
       "      <td>0.000000</td>\n",
       "      <td>0.000000</td>\n",
       "      <td>0.000000</td>\n",
       "      <td>0.000000</td>\n",
       "      <td>...</td>\n",
       "      <td>0.000000</td>\n",
       "      <td>0.032004</td>\n",
       "      <td>0.032004</td>\n",
       "      <td>0.032004</td>\n",
       "      <td>0.000000</td>\n",
       "      <td>51.493892</td>\n",
       "      <td>-3.397216</td>\n",
       "      <td>17.600000</td>\n",
       "      <td>0.100000</td>\n",
       "      <td>1.000000</td>\n",
       "    </tr>\n",
       "    <tr>\n",
       "      <th>25%</th>\n",
       "      <td>61.000000</td>\n",
       "      <td>25.000000</td>\n",
       "      <td>16.000000</td>\n",
       "      <td>8.000000</td>\n",
       "      <td>2.000000</td>\n",
       "      <td>2.000000</td>\n",
       "      <td>1.000000</td>\n",
       "      <td>0.000000</td>\n",
       "      <td>0.000000</td>\n",
       "      <td>0.000000</td>\n",
       "      <td>...</td>\n",
       "      <td>0.000000</td>\n",
       "      <td>1.742531</td>\n",
       "      <td>4.851986</td>\n",
       "      <td>6.790932</td>\n",
       "      <td>0.000000</td>\n",
       "      <td>55.851607</td>\n",
       "      <td>-3.198313</td>\n",
       "      <td>44.700000</td>\n",
       "      <td>14.100000</td>\n",
       "      <td>162.000000</td>\n",
       "    </tr>\n",
       "    <tr>\n",
       "      <th>50%</th>\n",
       "      <td>279.000000</td>\n",
       "      <td>72.000000</td>\n",
       "      <td>40.000000</td>\n",
       "      <td>22.000000</td>\n",
       "      <td>7.000000</td>\n",
       "      <td>7.000000</td>\n",
       "      <td>4.000000</td>\n",
       "      <td>1.000000</td>\n",
       "      <td>0.000000</td>\n",
       "      <td>0.000000</td>\n",
       "      <td>...</td>\n",
       "      <td>0.000000</td>\n",
       "      <td>3.764446</td>\n",
       "      <td>7.887015</td>\n",
       "      <td>11.183998</td>\n",
       "      <td>2.000000</td>\n",
       "      <td>55.944530</td>\n",
       "      <td>-3.188331</td>\n",
       "      <td>52.700000</td>\n",
       "      <td>18.500000</td>\n",
       "      <td>486.000000</td>\n",
       "    </tr>\n",
       "    <tr>\n",
       "      <th>75%</th>\n",
       "      <td>509.000000</td>\n",
       "      <td>113.000000</td>\n",
       "      <td>71.000000</td>\n",
       "      <td>41.000000</td>\n",
       "      <td>16.000000</td>\n",
       "      <td>16.000000</td>\n",
       "      <td>10.000000</td>\n",
       "      <td>3.000000</td>\n",
       "      <td>1.000000</td>\n",
       "      <td>1.000000</td>\n",
       "      <td>...</td>\n",
       "      <td>0.000000</td>\n",
       "      <td>7.236877</td>\n",
       "      <td>12.253192</td>\n",
       "      <td>19.901491</td>\n",
       "      <td>3.000000</td>\n",
       "      <td>55.950935</td>\n",
       "      <td>-2.358013</td>\n",
       "      <td>57.509713</td>\n",
       "      <td>24.000000</td>\n",
       "      <td>765.000000</td>\n",
       "    </tr>\n",
       "    <tr>\n",
       "      <th>max</th>\n",
       "      <td>7317.000000</td>\n",
       "      <td>2169.000000</td>\n",
       "      <td>1276.000000</td>\n",
       "      <td>730.000000</td>\n",
       "      <td>293.000000</td>\n",
       "      <td>434.000000</td>\n",
       "      <td>656.000000</td>\n",
       "      <td>3343.000000</td>\n",
       "      <td>7955.000000</td>\n",
       "      <td>258.000000</td>\n",
       "      <td>...</td>\n",
       "      <td>58.000000</td>\n",
       "      <td>94.733292</td>\n",
       "      <td>127.625282</td>\n",
       "      <td>1051.750977</td>\n",
       "      <td>6.000000</td>\n",
       "      <td>56.008247</td>\n",
       "      <td>-0.100202</td>\n",
       "      <td>89.800000</td>\n",
       "      <td>34.200001</td>\n",
       "      <td>11557.000000</td>\n",
       "    </tr>\n",
       "  </tbody>\n",
       "</table>\n",
       "<p>8 rows × 25 columns</p>\n",
       "</div>"
      ],
      "text/plain": [
       "              bin0         bin1         bin2         bin3         bin4  \\\n",
       "count  5409.000000  5409.000000  5409.000000  5409.000000  5409.000000   \n",
       "mean    427.300610   103.572749    59.989092    34.252542    12.852468   \n",
       "std     687.696491   193.483991   106.021429    55.967233    21.672430   \n",
       "min       0.000000     0.000000     0.000000     0.000000     0.000000   \n",
       "25%      61.000000    25.000000    16.000000     8.000000     2.000000   \n",
       "50%     279.000000    72.000000    40.000000    22.000000     7.000000   \n",
       "75%     509.000000   113.000000    71.000000    41.000000    16.000000   \n",
       "max    7317.000000  2169.000000  1276.000000   730.000000   293.000000   \n",
       "\n",
       "              bin5         bin6         bin7         bin8         bin9  \\\n",
       "count  5409.000000  5409.000000  5409.000000  5409.000000  5409.000000   \n",
       "mean     12.492882     7.844888     3.619523     2.809946     0.904419   \n",
       "std      21.796565    23.721709    48.235996   108.579134     8.832615   \n",
       "min       0.000000     0.000000     0.000000     0.000000     0.000000   \n",
       "25%       2.000000     1.000000     0.000000     0.000000     0.000000   \n",
       "50%       7.000000     4.000000     1.000000     0.000000     0.000000   \n",
       "75%      16.000000    10.000000     3.000000     1.000000     1.000000   \n",
       "max     434.000000   656.000000  3343.000000  7955.000000   258.000000   \n",
       "\n",
       "           ...             bin15          pm1        pm2_5         pm10  \\\n",
       "count      ...       5409.000000  5409.000000  5409.000000  5409.000000   \n",
       "mean       ...          0.238861     5.690336    10.224480    20.376333   \n",
       "std        ...          1.991819     8.044508    10.778896    47.069200   \n",
       "min        ...          0.000000     0.032004     0.032004     0.032004   \n",
       "25%        ...          0.000000     1.742531     4.851986     6.790932   \n",
       "50%        ...          0.000000     3.764446     7.887015    11.183998   \n",
       "75%        ...          0.000000     7.236877    12.253192    19.901491   \n",
       "max        ...         58.000000    94.733292   127.625282  1051.750977   \n",
       "\n",
       "       environment_index  gpsLatitude  gpsLongitude     humidity  temperature  \\\n",
       "count        5409.000000  5409.000000   5409.000000  5409.000000  5409.000000   \n",
       "mean            2.050656    55.386725     -2.672723    52.878766    18.288882   \n",
       "std             1.550322     1.220987      0.975373    10.687107     7.249168   \n",
       "min             0.000000    51.493892     -3.397216    17.600000     0.100000   \n",
       "25%             0.000000    55.851607     -3.198313    44.700000    14.100000   \n",
       "50%             2.000000    55.944530     -3.188331    52.700000    18.500000   \n",
       "75%             3.000000    55.950935     -2.358013    57.509713    24.000000   \n",
       "max             6.000000    56.008247     -0.100202    89.800000    34.200001   \n",
       "\n",
       "              total  \n",
       "count   5409.000000  \n",
       "mean     667.051766  \n",
       "std     1072.710005  \n",
       "min        1.000000  \n",
       "25%      162.000000  \n",
       "50%      486.000000  \n",
       "75%      765.000000  \n",
       "max    11557.000000  \n",
       "\n",
       "[8 rows x 25 columns]"
      ]
     },
     "metadata": {},
     "output_type": "display_data"
    }
   ],
   "source": [
    "display(data.describe())\n",
    "data.to_csv('../data/training_data.csv')"
   ]
  },
  {
   "cell_type": "markdown",
   "metadata": {},
   "source": [
    "### Labels"
   ]
  },
  {
   "cell_type": "code",
   "execution_count": 7,
   "metadata": {
    "collapsed": true
   },
   "outputs": [],
   "source": [
    "labels_idx = np.array([0, 1, 2, 3, 4, 6])"
   ]
  },
  {
   "cell_type": "code",
   "execution_count": 8,
   "metadata": {},
   "outputs": [
    {
     "data": {
      "image/png": "[encoded data removed]",
      "text/plain": [
       "<matplotlib.figure.Figure at 0x10eb382e8>"
      ]
     },
     "metadata": {},
     "output_type": "display_data"
    }
   ],
   "source": [
    "hist = plt.figure()\n",
    "g = sns.distplot(data['environment_index'], kde=False)\n",
    "g.set_xticklabels(['', 'on foot', 'car', 'train', 'bike', 'bus', '', 'subway'])\n",
    "plt.xlabel('mode of transport label')\n",
    "plt.tight_layout()\n",
    "hist.savefig('../report/distribution.pdf')\n",
    "plt.show()"
   ]
  },
  {
   "cell_type": "markdown",
   "metadata": {},
   "source": [
    "# Kmeans"
   ]
  },
  {
   "cell_type": "code",
   "execution_count": 9,
   "metadata": {
    "collapsed": true
   },
   "outputs": [],
   "source": [
    "# method to get the cluster means of the data points based on coordinates\n",
    "# and the queried columns\n",
    "def get_location_cluster_means(data, cluster_no, cols):\n",
    "    # obtain indices of clusters\n",
    "    kmeans = KMeans(n_clusters=cluster_no, random_state=0)\n",
    "    # remove data rows with null coordinates\n",
    "    data = data[~np.isnan(data['gpsLatitude'])]\n",
    "    # get the indices of the location based clusters\n",
    "    indices = kmeans.fit_predict(data[['gpsLatitude', 'gpsLongitude']])\n",
    "    freqs = np.bincount(indices)\n",
    "    # initialise means of queried columns\n",
    "    means = np.zeros((cluster_no, len(cols)))\n",
    "    # assign clustered_indices to dataframe\n",
    "    data['clustered_index'] = indices\n",
    "    # compute means of queried columns\n",
    "    for index in np.unique(indices):\n",
    "        means[index] = np.mean(data[data['clustered_index'] == index][cols])\n",
    "    return means, data"
   ]
  },
  {
   "cell_type": "code",
   "execution_count": 10,
   "metadata": {
    "collapsed": true
   },
   "outputs": [],
   "source": [
    "# method to get the clusters of the environments corresponding to the 6 environments based on\n",
    "# the queried columns and number of location clusters\n",
    "def get_environment_clusters(data, cluster_no, cols, kmeans=None):\n",
    "    means, d = get_location_cluster_means(data, cluster_no, cols)\n",
    "    # we have 5 clusters corresponding to 5 different types of environment\n",
    "    if not kmeans:\n",
    "        environment_kmeans = KMeans(n_clusters=5, random_state=0)\n",
    "        environment_indices = environment_kmeans.fit_predict(means)\n",
    "    else:\n",
    "        try:\n",
    "            environment_kmeans = kmeans\n",
    "            environment_indices = environment_kmeans.predict(means)\n",
    "        except NotFittedError:\n",
    "            environment_indices = environment_kmeans.fit_predict(means)\n",
    "    # predict the cluster indices\n",
    "    # sort the indices based on the means of the clusters\n",
    "    idx = np.argsort(environment_kmeans.cluster_centers_.sum(axis=1))\n",
    "    lut = np.zeros_like(idx)\n",
    "    lut[idx] = np.arange(5)\n",
    "    # append the indices to the dataframe\n",
    "    d['unsupervised_environment_index'] = lut[environment_indices][d['clustered_index']]\n",
    "    return d"
   ]
  },
  {
   "cell_type": "markdown",
   "metadata": {},
   "source": [
    "# Stats Methods"
   ]
  },
  {
   "cell_type": "code",
   "execution_count": 11,
   "metadata": {
    "collapsed": true
   },
   "outputs": [],
   "source": [
    "def plot_confusion_matrix(labels, predictions, title='Confusion matrix', \n",
    "                          classes=['on foot', 'car', 'train', 'bike', 'bus', 'subway']):\n",
    "    \"\"\"Plots a confusion matrix.\"\"\"\n",
    "    cmatrix = np.array(confusion_matrix(labels, predictions))\n",
    "    # normalize confusion matrix\n",
    "    cm = cmatrix/cmatrix.sum(axis=1)[:, np.newaxis]\n",
    "    if classes is not None:\n",
    "        sns.heatmap(cm, xticklabels=classes, yticklabels=classes, vmin=0., vmax=1., annot=True)\n",
    "    else:\n",
    "        sns.heatmap(cm, vmin=0., vmax=1.)\n",
    "    plt.title(title)\n",
    "    plt.ylabel('True data')\n",
    "    plt.xlabel('Predicted data')\n",
    "    plt.tight_layout()\n",
    "    plt.savefig('../report/confusion_matrix.pdf')\n",
    "    plt.show()"
   ]
  },
  {
   "cell_type": "code",
   "execution_count": 12,
   "metadata": {
    "collapsed": true
   },
   "outputs": [],
   "source": [
    "def get_training_accuracy_with_kfolds_iloc(estimator, x_tr, y_tr, kf):\n",
    "    score_array = np.empty(kf.n_folds)\n",
    "    \n",
    "    for (idx, (train_feature, test_feature)) in enumerate(kf):\n",
    "        estimator.fit(x_tr.iloc[train_feature], y_tr.iloc[train_feature])\n",
    "        y_pred = estimator.predict(x_tr.iloc[test_feature])\n",
    "        cm = confusion_matrix(y_tr.iloc[test_feature], y_pred)\n",
    "        cm_norm = cm.astype('float')/cm.sum(axis=1)\n",
    "        score_array[idx] = accuracy_score(y_tr.iloc[test_feature], y_pred, normalize=True)\n",
    "#         for plotting a confusion matrix uncomment the line below\n",
    "#         plot_confusion_matrix(y_tr.iloc[test_feature], y_pred)\n",
    "        \n",
    "    return np.mean(score_array)"
   ]
  },
  {
   "cell_type": "code",
   "execution_count": 13,
   "metadata": {
    "collapsed": true
   },
   "outputs": [],
   "source": [
    "def get_training_accuracy_mixed_models(estimator, attributes_list, x_tr, y_tr, x_ts, y_ts):\n",
    "    \n",
    "    probs_array = np.empty((len(attributes_list), x_ts.shape[0], 6))\n",
    "\n",
    "    for estimator_idx, attrs in enumerate(attributes_list):\n",
    "        estimator.fit(x_tr[attrs], y_tr)\n",
    "        probs_array[estimator_idx] = estimator.predict_proba(x_ts[attrs])\n",
    "\n",
    "    final_labels = labels_idx[np.argmax(np.mean(probs_array, axis=0), axis=1)]\n",
    "    score = accuracy_score(y_ts, final_labels, normalize=True)\n",
    "#     for plotting a confusion matrix uncomment the line below\n",
    "#     plot_confusion_matrix(y_ts, final_labels)\n",
    "    \n",
    "    return score"
   ]
  },
  {
   "cell_type": "code",
   "execution_count": 14,
   "metadata": {
    "collapsed": true
   },
   "outputs": [],
   "source": [
    "def get_training_accuracy_mixed_models_kfolds(estimator, attributes, x_tr, y_tr, kf):\n",
    "    score_array = np.empty(kf.n_folds)\n",
    "    \n",
    "    for (idx, (train_feature, test_feature)) in enumerate(kf):\n",
    "        \n",
    "        score_array[idx] = get_training_accuracy_mixed_models(\n",
    "            estimator, attributes, x_tr.iloc[train_feature], y_tr.iloc[train_feature],\n",
    "            x_tr.iloc[test_feature], y_tr.iloc[test_feature]\n",
    "        )\n",
    "                        \n",
    "    return np.mean(score_array)"
   ]
  },
  {
   "cell_type": "markdown",
   "metadata": {},
   "source": [
    "# Absolute Values"
   ]
  },
  {
   "cell_type": "markdown",
   "metadata": {},
   "source": [
    "### Bin Values"
   ]
  },
  {
   "cell_type": "code",
   "execution_count": 15,
   "metadata": {},
   "outputs": [
    {
     "name": "stdout",
     "output_type": "stream",
     "text": [
      "Accuracy: 0.554259679457475\n"
     ]
    }
   ],
   "source": [
    "svc = SVC()\n",
    "kf = KFold(len(data), n_folds=5, shuffle=True, random_state=0)\n",
    "\n",
    "print(\"Accuracy:\", get_training_accuracy_with_kfolds_iloc(svc, data[bin_vals], \n",
    "                                                          data['environment_index'], kf))"
   ]
  },
  {
   "cell_type": "code",
   "execution_count": 16,
   "metadata": {},
   "outputs": [
    {
     "name": "stdout",
     "output_type": "stream",
     "text": [
      "Accuracy: 0.8737288845646788\n"
     ]
    }
   ],
   "source": [
    "rf = RandomForestClassifier(random_state=0)\n",
    "kf = KFold(len(data), n_folds=5, shuffle=True, random_state=0)\n",
    "\n",
    "print(\"Accuracy:\", get_training_accuracy_with_kfolds_iloc(rf, data[bin_vals], \n",
    "                                                          data['environment_index'], kf))"
   ]
  },
  {
   "cell_type": "code",
   "execution_count": 17,
   "metadata": {},
   "outputs": [
    {
     "name": "stdout",
     "output_type": "stream",
     "text": [
      "Accuracy: 0.8678123733586858\n"
     ]
    }
   ],
   "source": [
    "et = ExtraTreesClassifier(n_jobs=-1, random_state=0)\n",
    "kf = KFold(len(data), n_folds=5, shuffle=True, random_state=0)\n",
    "\n",
    "print(\"Accuracy:\", get_training_accuracy_with_kfolds_iloc(et, data[bin_vals], \n",
    "                                                          data['environment_index'], kf))"
   ]
  },
  {
   "cell_type": "code",
   "execution_count": 18,
   "metadata": {},
   "outputs": [
    {
     "name": "stdout",
     "output_type": "stream",
     "text": [
      "Accuracy: 0.7879458842962206\n"
     ]
    }
   ],
   "source": [
    "lr = LogisticRegressionCV(n_jobs=-1)\n",
    "kf = KFold(len(data), n_folds=5, shuffle=True, random_state=0)\n",
    "\n",
    "print(\"Accuracy:\", get_training_accuracy_with_kfolds_iloc(lr, data[bin_vals], \n",
    "                                                          data['environment_index'], kf))"
   ]
  },
  {
   "cell_type": "code",
   "execution_count": 19,
   "metadata": {},
   "outputs": [
    {
     "name": "stdout",
     "output_type": "stream",
     "text": [
      "Accuracy: 0.8456274654979901\n"
     ]
    }
   ],
   "source": [
    "knn = KNeighborsClassifier(n_neighbors=5)\n",
    "kf = KFold(len(data), n_folds=5, shuffle=True, random_state=0)\n",
    "\n",
    "print(\"Accuracy:\", get_training_accuracy_with_kfolds_iloc(knn, data[bin_vals], \n",
    "                                                          data['environment_index'], kf))"
   ]
  },
  {
   "cell_type": "code",
   "execution_count": 20,
   "metadata": {},
   "outputs": [
    {
     "name": "stdout",
     "output_type": "stream",
     "text": [
      "Accuracy: 0.7811090914997922\n"
     ]
    }
   ],
   "source": [
    "clf = MLPClassifier()\n",
    "kf = KFold(len(data), n_folds=5, shuffle=True, random_state=0)\n",
    "\n",
    "print(\"Accuracy:\", get_training_accuracy_with_kfolds_iloc(clf, data[bin_vals], \n",
    "                                                          data['environment_index'], kf))"
   ]
  },
  {
   "cell_type": "markdown",
   "metadata": {},
   "source": [
    "### First 3 Bin Counts"
   ]
  },
  {
   "cell_type": "code",
   "execution_count": 21,
   "metadata": {},
   "outputs": [
    {
     "name": "stdout",
     "output_type": "stream",
     "text": [
      "Accuracy: 0.548343852221449\n"
     ]
    }
   ],
   "source": [
    "svc = SVC()\n",
    "kf = KFold(len(data), n_folds=5, shuffle=True, random_state=0)\n",
    "\n",
    "print(\"Accuracy:\", get_training_accuracy_with_kfolds_iloc(svc, data[bin_vals[:3]], \n",
    "                                                          data['environment_index'], kf))"
   ]
  },
  {
   "cell_type": "code",
   "execution_count": 22,
   "metadata": {},
   "outputs": [
    {
     "name": "stdout",
     "output_type": "stream",
     "text": [
      "Accuracy: 0.7975625020305359\n"
     ]
    }
   ],
   "source": [
    "rf = RandomForestClassifier(random_state=0)\n",
    "kf = KFold(len(data), n_folds=5, shuffle=True, random_state=0)\n",
    "\n",
    "print(\"Accuracy:\", get_training_accuracy_with_kfolds_iloc(rf, data[bin_vals[:3]], \n",
    "                                                          data['environment_index'], kf))"
   ]
  },
  {
   "cell_type": "code",
   "execution_count": 23,
   "metadata": {},
   "outputs": [
    {
     "name": "stdout",
     "output_type": "stream",
     "text": [
      "Accuracy: 0.6801641869905491\n"
     ]
    }
   ],
   "source": [
    "lr = LogisticRegressionCV()\n",
    "kf = KFold(len(data), n_folds=5, shuffle=True, random_state=0)\n",
    "\n",
    "print(\"Accuracy:\", get_training_accuracy_with_kfolds_iloc(lr, data[bin_vals[:3]], \n",
    "                                                          data['environment_index'], kf))"
   ]
  },
  {
   "cell_type": "code",
   "execution_count": 24,
   "metadata": {},
   "outputs": [
    {
     "name": "stdout",
     "output_type": "stream",
     "text": [
      "Accuracy: 0.7947881488523839\n"
     ]
    }
   ],
   "source": [
    "knn = KNeighborsClassifier(n_neighbors=5)\n",
    "kf = KFold(len(data), n_folds=5, shuffle=True, random_state=0)\n",
    "\n",
    "print(\"Accuracy:\", get_training_accuracy_with_kfolds_iloc(knn, data[bin_vals[:3]], \n",
    "                                                          data['environment_index'], kf))"
   ]
  },
  {
   "cell_type": "code",
   "execution_count": 25,
   "metadata": {},
   "outputs": [
    {
     "name": "stdout",
     "output_type": "stream",
     "text": [
      "Accuracy: 0.6925440433910547\n"
     ]
    }
   ],
   "source": [
    "clf = MLPClassifier()\n",
    "kf = KFold(len(data), n_folds=5, shuffle=True, random_state=0)\n",
    "\n",
    "print(\"Accuracy:\", get_training_accuracy_with_kfolds_iloc(clf, data[bin_vals[:3]], \n",
    "                                                          data['environment_index'], kf))"
   ]
  },
  {
   "cell_type": "markdown",
   "metadata": {},
   "source": [
    "### PM Values"
   ]
  },
  {
   "cell_type": "code",
   "execution_count": 26,
   "metadata": {},
   "outputs": [
    {
     "name": "stdout",
     "output_type": "stream",
     "text": [
      "Accuracy: 0.7668708886992772\n"
     ]
    }
   ],
   "source": [
    "svc = SVC()\n",
    "kf = KFold(len(data), n_folds=5, shuffle=True, random_state=0)\n",
    "\n",
    "print(\"Accuracy:\", get_training_accuracy_with_kfolds_iloc(svc, data[pm_vals], \n",
    "                                                          data['environment_index'], kf))"
   ]
  },
  {
   "cell_type": "code",
   "execution_count": 27,
   "metadata": {},
   "outputs": [
    {
     "name": "stdout",
     "output_type": "stream",
     "text": [
      "Accuracy: 0.7890534026650889\n"
     ]
    }
   ],
   "source": [
    "rf = RandomForestClassifier(random_state=0)\n",
    "kf = KFold(len(data), n_folds=5, shuffle=True, random_state=0)\n",
    "\n",
    "print(\"Accuracy:\", get_training_accuracy_with_kfolds_iloc(rf, data[pm_vals], \n",
    "                                                          data['environment_index'], kf))"
   ]
  },
  {
   "cell_type": "code",
   "execution_count": 28,
   "metadata": {},
   "outputs": [
    {
     "name": "stdout",
     "output_type": "stream",
     "text": [
      "Accuracy: 0.7672421133988007\n"
     ]
    }
   ],
   "source": [
    "knn = KNeighborsClassifier(n_neighbors=5)\n",
    "kf = KFold(len(data), n_folds=5, shuffle=True, random_state=0)\n",
    "\n",
    "print(\"Accuracy:\", get_training_accuracy_with_kfolds_iloc(knn, data[pm_vals], \n",
    "                                                          data['environment_index'], kf))"
   ]
  },
  {
   "cell_type": "code",
   "execution_count": 29,
   "metadata": {},
   "outputs": [
    {
     "name": "stdout",
     "output_type": "stream",
     "text": [
      "Accuracy: 0.665371626531879\n"
     ]
    }
   ],
   "source": [
    "lr = LogisticRegressionCV()\n",
    "kf = KFold(len(data), n_folds=5, shuffle=True, random_state=0)\n",
    "\n",
    "print(\"Accuracy:\", get_training_accuracy_with_kfolds_iloc(lr, data[pm_vals], \n",
    "                                                          data['environment_index'], kf))"
   ]
  },
  {
   "cell_type": "code",
   "execution_count": 30,
   "metadata": {},
   "outputs": [
    {
     "name": "stdout",
     "output_type": "stream",
     "text": [
      "Accuracy: 0.733964751607757\n"
     ]
    }
   ],
   "source": [
    "clf = MLPClassifier()\n",
    "kf = KFold(len(data), n_folds=5, shuffle=True, random_state=0)\n",
    "\n",
    "print(\"Accuracy:\", get_training_accuracy_with_kfolds_iloc(clf, data[pm_vals], \n",
    "                                                          data['environment_index'], kf))"
   ]
  },
  {
   "cell_type": "markdown",
   "metadata": {},
   "source": [
    "### Urban Environments"
   ]
  },
  {
   "cell_type": "code",
   "execution_count": 31,
   "metadata": {},
   "outputs": [
    {
     "name": "stdout",
     "output_type": "stream",
     "text": [
      "Accuracy: 0.9127375726931831\n"
     ]
    }
   ],
   "source": [
    "clustered_data = get_environment_clusters(data, 40, bin_vals)\n",
    "\n",
    "rf = RandomForestClassifier(random_state=0, n_jobs=-1)\n",
    "kf = KFold(len(clustered_data), n_folds=5, shuffle=True, random_state=0)\n",
    "\n",
    "print(\"Accuracy:\", get_training_accuracy_with_kfolds_iloc(rf, clustered_data[['unsupervised_environment_index']+bin_vals], \n",
    "                                                          clustered_data['environment_index'], kf))"
   ]
  },
  {
   "cell_type": "code",
   "execution_count": 32,
   "metadata": {},
   "outputs": [
    {
     "name": "stdout",
     "output_type": "stream",
     "text": [
      "Accuracy: 0.5561082792854566\n"
     ]
    }
   ],
   "source": [
    "clustered_data = get_environment_clusters(data, 40, bin_vals)\n",
    "\n",
    "svc = SVC()\n",
    "kf = KFold(len(clustered_data), n_folds=5, shuffle=True, random_state=0)\n",
    "\n",
    "print(\"Accuracy:\", get_training_accuracy_with_kfolds_iloc(svc, clustered_data[['unsupervised_environment_index']+bin_vals], \n",
    "                                                          clustered_data['environment_index'], kf))"
   ]
  },
  {
   "cell_type": "code",
   "execution_count": 33,
   "metadata": {},
   "outputs": [
    {
     "name": "stdout",
     "output_type": "stream",
     "text": [
      "Accuracy: 0.8043989528419807\n"
     ]
    }
   ],
   "source": [
    "clustered_data = get_environment_clusters(data, 40, bin_vals)\n",
    "\n",
    "lr = LogisticRegressionCV(n_jobs=-1)\n",
    "kf = KFold(len(clustered_data), n_folds=5, shuffle=True, random_state=0)\n",
    "\n",
    "print(\"Accuracy:\", get_training_accuracy_with_kfolds_iloc(lr, clustered_data[['unsupervised_environment_index']+bin_vals], \n",
    "                                                          clustered_data['environment_index'], kf))"
   ]
  },
  {
   "cell_type": "code",
   "execution_count": 34,
   "metadata": {},
   "outputs": [
    {
     "name": "stdout",
     "output_type": "stream",
     "text": [
      "Accuracy: 0.8456274654979901\n"
     ]
    }
   ],
   "source": [
    "clustered_data = get_environment_clusters(data, 40, bin_vals)\n",
    "\n",
    "knn = KNeighborsClassifier()\n",
    "kf = KFold(len(clustered_data), n_folds=5, shuffle=True, random_state=0)\n",
    "\n",
    "print(\"Accuracy:\", get_training_accuracy_with_kfolds_iloc(knn, clustered_data[['unsupervised_environment_index']+bin_vals], \n",
    "                                                          clustered_data['environment_index'], kf))"
   ]
  },
  {
   "cell_type": "code",
   "execution_count": 35,
   "metadata": {},
   "outputs": [
    {
     "name": "stdout",
     "output_type": "stream",
     "text": [
      "Accuracy: 0.7805593506389135\n"
     ]
    }
   ],
   "source": [
    "clustered_data = get_environment_clusters(data, 40, bin_vals)\n",
    "\n",
    "clf = MLPClassifier()\n",
    "kf = KFold(len(clustered_data), n_folds=5, shuffle=True, random_state=0)\n",
    "\n",
    "print(\"Accuracy:\", get_training_accuracy_with_kfolds_iloc(clf, clustered_data[['unsupervised_environment_index']+bin_vals], \n",
    "                                                          clustered_data['environment_index'], kf))"
   ]
  },
  {
   "cell_type": "markdown",
   "metadata": {},
   "source": [
    "### Normalised Bin Counts"
   ]
  },
  {
   "cell_type": "code",
   "execution_count": 36,
   "metadata": {
    "collapsed": true
   },
   "outputs": [],
   "source": [
    "data_normalised = data[data['total']>0].copy().reindex()\n",
    "data_normalised[bin_vals] = data_normalised[bin_vals].apply(lambda row: row/np.sum(row), axis=1)\n",
    "data_normalised['pca_pm'] = PCA(n_components=1).fit_transform(data_normalised[pm_vals])"
   ]
  },
  {
   "cell_type": "code",
   "execution_count": 37,
   "metadata": {},
   "outputs": [
    {
     "name": "stdout",
     "output_type": "stream",
     "text": [
      "Accuracy: 0.8777971379276736\n"
     ]
    }
   ],
   "source": [
    "rf = RandomForestClassifier(random_state=0)\n",
    "kf = KFold(len(data_normalised), n_folds=5, shuffle=True, random_state=0)\n",
    "\n",
    "print(\"Accuracy:\", get_training_accuracy_with_kfolds_iloc(rf, data_normalised[bin_vals+['total']], \n",
    "                                                          data_normalised['environment_index'], kf))"
   ]
  },
  {
   "cell_type": "code",
   "execution_count": 38,
   "metadata": {},
   "outputs": [
    {
     "name": "stdout",
     "output_type": "stream",
     "text": [
      "Accuracy: 0.6694407348573324\n"
     ]
    }
   ],
   "source": [
    "svc = SVC()\n",
    "kf = KFold(len(data_normalised), n_folds=5, shuffle=True, random_state=0)\n",
    "\n",
    "print(\"Accuracy:\", get_training_accuracy_with_kfolds_iloc(svc, data_normalised[bin_vals+['total']], \n",
    "                                                          data_normalised['environment_index'], kf))"
   ]
  },
  {
   "cell_type": "code",
   "execution_count": 39,
   "metadata": {},
   "outputs": [
    {
     "name": "stdout",
     "output_type": "stream",
     "text": [
      "Accuracy: 0.7592895945939013\n"
     ]
    }
   ],
   "source": [
    "knn = KNeighborsClassifier(n_neighbors=5)\n",
    "kf = KFold(len(data_normalised), n_folds=5, shuffle=True, random_state=0)\n",
    "\n",
    "print(\"Accuracy:\", get_training_accuracy_with_kfolds_iloc(knn, data_normalised[bin_vals], \n",
    "                                                          data_normalised['environment_index'], kf))"
   ]
  },
  {
   "cell_type": "code",
   "execution_count": 40,
   "metadata": {},
   "outputs": [
    {
     "name": "stderr",
     "output_type": "stream",
     "text": [
      "/Users/mihaivisuian/miniconda3/envs/hons/lib/python3.6/site-packages/sklearn/neural_network/multilayer_perceptron.py:564: ConvergenceWarning: Stochastic Optimizer: Maximum iterations (200) reached and the optimization hasn't converged yet.\n",
      "  % self.max_iter, ConvergenceWarning)\n"
     ]
    },
    {
     "name": "stdout",
     "output_type": "stream",
     "text": [
      "Accuracy: 0.7315611101516533\n"
     ]
    }
   ],
   "source": [
    "clf = MLPClassifier()\n",
    "kf = KFold(len(data_normalised), n_folds=5, shuffle=True, random_state=0)\n",
    "\n",
    "print(\"Accuracy:\", get_training_accuracy_with_kfolds_iloc(clf, data_normalised[bin_vals], \n",
    "                                                          data_normalised['environment_index'], kf))"
   ]
  },
  {
   "cell_type": "code",
   "execution_count": 41,
   "metadata": {},
   "outputs": [
    {
     "name": "stdout",
     "output_type": "stream",
     "text": [
      "Accuracy: 0.9278962280766251\n",
      "Feature Importance: [0.16336806 0.28964697 0.07470702 0.03641311 0.04627727 0.0637022\n",
      " 0.03849111 0.07190529 0.07885148 0.06338382 0.03056109 0.01342983\n",
      " 0.00737408 0.00589793 0.00456066 0.00412529 0.00296651 0.00433828]\n"
     ]
    }
   ],
   "source": [
    "clustered_data = get_environment_clusters(data, 40, bin_vals)\n",
    "\n",
    "clustered_normalised_data = clustered_data[clustered_data['total']>0].copy().reindex()\n",
    "clustered_normalised_data[bin_vals] = clustered_normalised_data[bin_vals].apply(lambda row: row/np.sum(row), axis=1)\n",
    "\n",
    "rf = RandomForestClassifier(random_state=0, n_estimators=300, n_jobs=-1)\n",
    "kf = KFold(len(clustered_normalised_data), n_folds=5, shuffle=True, random_state=0)\n",
    "\n",
    "print(\"Accuracy:\", get_training_accuracy_with_kfolds_iloc(rf, clustered_normalised_data[['unsupervised_environment_index', 'total']+bin_vals], \n",
    "                                                          clustered_normalised_data['environment_index'], kf))\n",
    "\n",
    "print(\"Feature Importance:\", rf.feature_importances_)"
   ]
  },
  {
   "cell_type": "markdown",
   "metadata": {},
   "source": [
    "# Best Models"
   ]
  },
  {
   "cell_type": "markdown",
   "metadata": {},
   "source": [
    "## Add temperature and humidity"
   ]
  },
  {
   "cell_type": "code",
   "execution_count": 42,
   "metadata": {},
   "outputs": [
    {
     "name": "stdout",
     "output_type": "stream",
     "text": [
      "Accuracy: 0.9669069681150301\n",
      "Feature Importance: [0.1078841  0.1763229  0.09647689 0.22388164 0.0570099  0.0215426\n",
      " 0.03049709 0.05170886 0.03086362 0.04949584 0.0554646  0.04911703\n",
      " 0.02214478 0.00944902 0.00424871 0.00378614 0.00282034 0.00280128\n",
      " 0.0018058  0.00267885]\n"
     ]
    }
   ],
   "source": [
    "clustered_data = get_environment_clusters(data, 40, bin_vals)\n",
    "\n",
    "clustered_normalised_data = clustered_data[clustered_data['total']>0].copy().reindex()\n",
    "clustered_normalised_data[bin_vals] = clustered_normalised_data[bin_vals].apply(lambda row: row/np.sum(row), axis=1)\n",
    "\n",
    "rf = RandomForestClassifier(random_state=0, n_estimators=300, n_jobs=-1)\n",
    "kf = KFold(len(clustered_normalised_data), n_folds=5, shuffle=True, random_state=0)\n",
    "\n",
    "print(\"Accuracy:\", get_training_accuracy_with_kfolds_iloc(rf, clustered_normalised_data[['unsupervised_environment_index', 'temperature', 'humidity', 'total']+bin_vals], \n",
    "                                                          clustered_normalised_data['environment_index'], kf))\n",
    "\n",
    "print(\"Feature Importance:\", rf.feature_importances_)"
   ]
  },
  {
   "cell_type": "markdown",
   "metadata": {},
   "source": [
    "### Neural Network"
   ]
  },
  {
   "cell_type": "code",
   "execution_count": 43,
   "metadata": {},
   "outputs": [
    {
     "name": "stdout",
     "output_type": "stream",
     "text": [
      "Accuracy: 0.7542990077305706\n"
     ]
    }
   ],
   "source": [
    "# environment clustering on raw bin values: 3 hidden layers\n",
    "clustered_data = get_environment_clusters(data, 40, bin_vals)\n",
    "\n",
    "clustered_normalised_data = clustered_data[clustered_data['total']>0].copy().reindex()\n",
    "clustered_normalised_data[bin_vals] = clustered_normalised_data[bin_vals].apply(lambda row: row/np.sum(row), axis=1)\n",
    "\n",
    "clf = MLPClassifier(solver='lbfgs', \n",
    "                    alpha=1e-5, \n",
    "                    hidden_layer_sizes=(20,), \n",
    "                    random_state=1, \n",
    "                    max_iter=500)\n",
    "kf = KFold(len(clustered_normalised_data), n_folds=5, shuffle=True, random_state=0)\n",
    "\n",
    "print(\"Accuracy:\", get_training_accuracy_with_kfolds_iloc(clf, clustered_normalised_data[['unsupervised_environment_index']+bin_vals], \n",
    "                                                          clustered_normalised_data['environment_index'], kf))"
   ]
  },
  {
   "cell_type": "markdown",
   "metadata": {},
   "source": [
    "### KNN"
   ]
  },
  {
   "cell_type": "code",
   "execution_count": 44,
   "metadata": {},
   "outputs": [
    {
     "name": "stdout",
     "output_type": "stream",
     "text": [
      "Accuracy: 0.8023655101304502\n"
     ]
    }
   ],
   "source": [
    "clustered_data = get_environment_clusters(data, 40, bin_vals)\n",
    "\n",
    "clustered_normalised_data = clustered_data[clustered_data['total']>0].copy().reindex()\n",
    "clustered_normalised_data[bin_vals] = clustered_normalised_data[bin_vals].apply(lambda row: row/np.sum(row), axis=1)\n",
    "\n",
    "knn = KNeighborsClassifier(n_neighbors=5, n_jobs=-1)\n",
    "kf = KFold(len(clustered_normalised_data), n_folds=5, shuffle=True, random_state=0)\n",
    "\n",
    "print(\"Accuracy:\", get_training_accuracy_with_kfolds_iloc(knn, clustered_normalised_data[['unsupervised_environment_index']+bin_vals], \n",
    "                                                          clustered_normalised_data['environment_index'], kf))"
   ]
  },
  {
   "cell_type": "markdown",
   "metadata": {},
   "source": [
    "### Mixed Model"
   ]
  },
  {
   "cell_type": "code",
   "execution_count": 45,
   "metadata": {},
   "outputs": [
    {
     "data": {
      "text/plain": [
       "0.9572942832080242"
      ]
     },
     "execution_count": 45,
     "metadata": {},
     "output_type": "execute_result"
    }
   ],
   "source": [
    "kf = KFold(len(clustered_normalised_data), n_folds=5, shuffle=True, random_state=0)\n",
    "\n",
    "get_training_accuracy_mixed_models_kfolds(rf, \n",
    "                                          [\n",
    "                                              ['unsupervised_environment_index', 'total']+bin_vals[:8],\n",
    "                                              ['humidity', 'temperature']+bin_vals[8:],\n",
    "                                          ], \n",
    "                                          clustered_normalised_data,\n",
    "                                          clustered_normalised_data['environment_index'], kf)"
   ]
  },
  {
   "cell_type": "markdown",
   "metadata": {
    "collapsed": true
   },
   "source": [
    "### Validating Models"
   ]
  },
  {
   "cell_type": "markdown",
   "metadata": {},
   "source": [
    "#### Train Data"
   ]
  },
  {
   "cell_type": "code",
   "execution_count": 46,
   "metadata": {
    "collapsed": true
   },
   "outputs": [],
   "source": [
    "kmeans = KMeans(n_clusters=5, random_state=0)\n",
    "clustered_train = get_environment_clusters(data, 40, bin_vals, kmeans).reindex()\n",
    "clustered_normalised_train = clustered_train[clustered_train['total']>0].copy().reindex()\n",
    "clustered_normalised_train[bin_vals] = clustered_normalised_train[bin_vals].apply(lambda row: row/np.sum(row), axis=1)"
   ]
  },
  {
   "cell_type": "markdown",
   "metadata": {},
   "source": [
    "#### Bike validation data"
   ]
  },
  {
   "cell_type": "code",
   "execution_count": 47,
   "metadata": {},
   "outputs": [
    {
     "data": {
      "text/html": [
       "<div>\n",
       "<style scoped>\n",
       "    .dataframe tbody tr th:only-of-type {\n",
       "        vertical-align: middle;\n",
       "    }\n",
       "\n",
       "    .dataframe tbody tr th {\n",
       "        vertical-align: top;\n",
       "    }\n",
       "\n",
       "    .dataframe thead th {\n",
       "        text-align: right;\n",
       "    }\n",
       "</style>\n",
       "<table border=\"1\" class=\"dataframe\">\n",
       "  <thead>\n",
       "    <tr style=\"text-align: right;\">\n",
       "      <th></th>\n",
       "      <th>Unnamed: 0</th>\n",
       "      <th>phoneTimestamp</th>\n",
       "      <th>gpsLatitude</th>\n",
       "      <th>gpsLongitude</th>\n",
       "      <th>bin0</th>\n",
       "      <th>bin1</th>\n",
       "      <th>bin2</th>\n",
       "      <th>bin3</th>\n",
       "      <th>bin4</th>\n",
       "      <th>bin5</th>\n",
       "      <th>...</th>\n",
       "      <th>temperature</th>\n",
       "      <th>humidity</th>\n",
       "      <th>alphaVersion</th>\n",
       "      <th>urban_space</th>\n",
       "      <th>o3_ae</th>\n",
       "      <th>o3_we</th>\n",
       "      <th>no2_ae</th>\n",
       "      <th>no2_we</th>\n",
       "      <th>environment_index</th>\n",
       "      <th>total</th>\n",
       "    </tr>\n",
       "  </thead>\n",
       "  <tbody>\n",
       "    <tr>\n",
       "      <th>count</th>\n",
       "      <td>1278.000000</td>\n",
       "      <td>1.278000e+03</td>\n",
       "      <td>1278.000000</td>\n",
       "      <td>1278.000000</td>\n",
       "      <td>1278.000000</td>\n",
       "      <td>1278.000000</td>\n",
       "      <td>1278.000000</td>\n",
       "      <td>1278.000000</td>\n",
       "      <td>1278.000000</td>\n",
       "      <td>1278.000000</td>\n",
       "      <td>...</td>\n",
       "      <td>1278.000000</td>\n",
       "      <td>1278.000000</td>\n",
       "      <td>1278.0</td>\n",
       "      <td>1278.000000</td>\n",
       "      <td>1278.000000</td>\n",
       "      <td>1278.000000</td>\n",
       "      <td>1278.000000</td>\n",
       "      <td>1278.00000</td>\n",
       "      <td>1278.0</td>\n",
       "      <td>1278.000000</td>\n",
       "    </tr>\n",
       "    <tr>\n",
       "      <th>mean</th>\n",
       "      <td>638.500000</td>\n",
       "      <td>2.015071e+13</td>\n",
       "      <td>43.021981</td>\n",
       "      <td>-2.691790</td>\n",
       "      <td>4.439750</td>\n",
       "      <td>0.847418</td>\n",
       "      <td>0.647887</td>\n",
       "      <td>0.450704</td>\n",
       "      <td>0.308294</td>\n",
       "      <td>0.489828</td>\n",
       "      <td>...</td>\n",
       "      <td>24.307660</td>\n",
       "      <td>46.477844</td>\n",
       "      <td>2.0</td>\n",
       "      <td>-0.226917</td>\n",
       "      <td>-5338.194053</td>\n",
       "      <td>-4898.507042</td>\n",
       "      <td>-2190.475743</td>\n",
       "      <td>-4643.70892</td>\n",
       "      <td>3.0</td>\n",
       "      <td>7.766041</td>\n",
       "    </tr>\n",
       "    <tr>\n",
       "      <th>std</th>\n",
       "      <td>369.071131</td>\n",
       "      <td>5.951445e+02</td>\n",
       "      <td>23.859431</td>\n",
       "      <td>0.916951</td>\n",
       "      <td>3.258248</td>\n",
       "      <td>1.010999</td>\n",
       "      <td>0.799152</td>\n",
       "      <td>0.723471</td>\n",
       "      <td>0.558645</td>\n",
       "      <td>0.687378</td>\n",
       "      <td>...</td>\n",
       "      <td>0.675096</td>\n",
       "      <td>3.016924</td>\n",
       "      <td>0.0</td>\n",
       "      <td>0.419002</td>\n",
       "      <td>28382.447290</td>\n",
       "      <td>28619.176291</td>\n",
       "      <td>28440.371627</td>\n",
       "      <td>28624.02541</td>\n",
       "      <td>0.0</td>\n",
       "      <td>4.354769</td>\n",
       "    </tr>\n",
       "    <tr>\n",
       "      <th>min</th>\n",
       "      <td>0.000000</td>\n",
       "      <td>2.015071e+13</td>\n",
       "      <td>-1.000000</td>\n",
       "      <td>-3.203310</td>\n",
       "      <td>0.000000</td>\n",
       "      <td>0.000000</td>\n",
       "      <td>0.000000</td>\n",
       "      <td>0.000000</td>\n",
       "      <td>0.000000</td>\n",
       "      <td>0.000000</td>\n",
       "      <td>...</td>\n",
       "      <td>22.860000</td>\n",
       "      <td>42.249895</td>\n",
       "      <td>2.0</td>\n",
       "      <td>-1.000000</td>\n",
       "      <td>-32734.000000</td>\n",
       "      <td>-32734.000000</td>\n",
       "      <td>-32734.000000</td>\n",
       "      <td>-32734.00000</td>\n",
       "      <td>3.0</td>\n",
       "      <td>0.000000</td>\n",
       "    </tr>\n",
       "    <tr>\n",
       "      <th>25%</th>\n",
       "      <td>319.250000</td>\n",
       "      <td>2.015071e+13</td>\n",
       "      <td>55.939598</td>\n",
       "      <td>-3.189197</td>\n",
       "      <td>3.000000</td>\n",
       "      <td>0.000000</td>\n",
       "      <td>0.000000</td>\n",
       "      <td>0.000000</td>\n",
       "      <td>0.000000</td>\n",
       "      <td>0.000000</td>\n",
       "      <td>...</td>\n",
       "      <td>23.810000</td>\n",
       "      <td>44.136598</td>\n",
       "      <td>2.0</td>\n",
       "      <td>0.000000</td>\n",
       "      <td>-30686.000000</td>\n",
       "      <td>-30430.000000</td>\n",
       "      <td>-30942.000000</td>\n",
       "      <td>-30686.00000</td>\n",
       "      <td>3.0</td>\n",
       "      <td>5.000000</td>\n",
       "    </tr>\n",
       "    <tr>\n",
       "      <th>50%</th>\n",
       "      <td>638.500000</td>\n",
       "      <td>2.015071e+13</td>\n",
       "      <td>55.942342</td>\n",
       "      <td>-3.184279</td>\n",
       "      <td>4.000000</td>\n",
       "      <td>1.000000</td>\n",
       "      <td>0.000000</td>\n",
       "      <td>0.000000</td>\n",
       "      <td>0.000000</td>\n",
       "      <td>0.000000</td>\n",
       "      <td>...</td>\n",
       "      <td>23.910000</td>\n",
       "      <td>46.206020</td>\n",
       "      <td>2.0</td>\n",
       "      <td>0.000000</td>\n",
       "      <td>-27870.000000</td>\n",
       "      <td>-27230.000000</td>\n",
       "      <td>-21214.000000</td>\n",
       "      <td>-27358.00000</td>\n",
       "      <td>3.0</td>\n",
       "      <td>7.000000</td>\n",
       "    </tr>\n",
       "    <tr>\n",
       "      <th>75%</th>\n",
       "      <td>957.750000</td>\n",
       "      <td>2.015071e+13</td>\n",
       "      <td>55.945479</td>\n",
       "      <td>-3.180138</td>\n",
       "      <td>6.000000</td>\n",
       "      <td>1.000000</td>\n",
       "      <td>1.000000</td>\n",
       "      <td>1.000000</td>\n",
       "      <td>1.000000</td>\n",
       "      <td>1.000000</td>\n",
       "      <td>...</td>\n",
       "      <td>24.980000</td>\n",
       "      <td>47.396442</td>\n",
       "      <td>2.0</td>\n",
       "      <td>0.000000</td>\n",
       "      <td>26402.000000</td>\n",
       "      <td>27170.000000</td>\n",
       "      <td>25634.000000</td>\n",
       "      <td>26658.00000</td>\n",
       "      <td>3.0</td>\n",
       "      <td>10.000000</td>\n",
       "    </tr>\n",
       "    <tr>\n",
       "      <th>max</th>\n",
       "      <td>1277.000000</td>\n",
       "      <td>2.015071e+13</td>\n",
       "      <td>55.946662</td>\n",
       "      <td>-1.000000</td>\n",
       "      <td>70.000000</td>\n",
       "      <td>9.000000</td>\n",
       "      <td>5.000000</td>\n",
       "      <td>5.000000</td>\n",
       "      <td>4.000000</td>\n",
       "      <td>3.000000</td>\n",
       "      <td>...</td>\n",
       "      <td>25.530000</td>\n",
       "      <td>56.606663</td>\n",
       "      <td>2.0</td>\n",
       "      <td>0.000000</td>\n",
       "      <td>32546.000000</td>\n",
       "      <td>32546.000000</td>\n",
       "      <td>32546.000000</td>\n",
       "      <td>32546.00000</td>\n",
       "      <td>3.0</td>\n",
       "      <td>82.000000</td>\n",
       "    </tr>\n",
       "  </tbody>\n",
       "</table>\n",
       "<p>8 rows × 34 columns</p>\n",
       "</div>"
      ],
      "text/plain": [
       "        Unnamed: 0  phoneTimestamp  gpsLatitude  gpsLongitude         bin0  \\\n",
       "count  1278.000000    1.278000e+03  1278.000000   1278.000000  1278.000000   \n",
       "mean    638.500000    2.015071e+13    43.021981     -2.691790     4.439750   \n",
       "std     369.071131    5.951445e+02    23.859431      0.916951     3.258248   \n",
       "min       0.000000    2.015071e+13    -1.000000     -3.203310     0.000000   \n",
       "25%     319.250000    2.015071e+13    55.939598     -3.189197     3.000000   \n",
       "50%     638.500000    2.015071e+13    55.942342     -3.184279     4.000000   \n",
       "75%     957.750000    2.015071e+13    55.945479     -3.180138     6.000000   \n",
       "max    1277.000000    2.015071e+13    55.946662     -1.000000    70.000000   \n",
       "\n",
       "              bin1         bin2         bin3         bin4         bin5  \\\n",
       "count  1278.000000  1278.000000  1278.000000  1278.000000  1278.000000   \n",
       "mean      0.847418     0.647887     0.450704     0.308294     0.489828   \n",
       "std       1.010999     0.799152     0.723471     0.558645     0.687378   \n",
       "min       0.000000     0.000000     0.000000     0.000000     0.000000   \n",
       "25%       0.000000     0.000000     0.000000     0.000000     0.000000   \n",
       "50%       1.000000     0.000000     0.000000     0.000000     0.000000   \n",
       "75%       1.000000     1.000000     1.000000     1.000000     1.000000   \n",
       "max       9.000000     5.000000     5.000000     4.000000     3.000000   \n",
       "\n",
       "          ...       temperature     humidity  alphaVersion  urban_space  \\\n",
       "count     ...       1278.000000  1278.000000        1278.0  1278.000000   \n",
       "mean      ...         24.307660    46.477844           2.0    -0.226917   \n",
       "std       ...          0.675096     3.016924           0.0     0.419002   \n",
       "min       ...         22.860000    42.249895           2.0    -1.000000   \n",
       "25%       ...         23.810000    44.136598           2.0     0.000000   \n",
       "50%       ...         23.910000    46.206020           2.0     0.000000   \n",
       "75%       ...         24.980000    47.396442           2.0     0.000000   \n",
       "max       ...         25.530000    56.606663           2.0     0.000000   \n",
       "\n",
       "              o3_ae         o3_we        no2_ae       no2_we  \\\n",
       "count   1278.000000   1278.000000   1278.000000   1278.00000   \n",
       "mean   -5338.194053  -4898.507042  -2190.475743  -4643.70892   \n",
       "std    28382.447290  28619.176291  28440.371627  28624.02541   \n",
       "min   -32734.000000 -32734.000000 -32734.000000 -32734.00000   \n",
       "25%   -30686.000000 -30430.000000 -30942.000000 -30686.00000   \n",
       "50%   -27870.000000 -27230.000000 -21214.000000 -27358.00000   \n",
       "75%    26402.000000  27170.000000  25634.000000  26658.00000   \n",
       "max    32546.000000  32546.000000  32546.000000  32546.00000   \n",
       "\n",
       "       environment_index        total  \n",
       "count             1278.0  1278.000000  \n",
       "mean                 3.0     7.766041  \n",
       "std                  0.0     4.354769  \n",
       "min                  3.0     0.000000  \n",
       "25%                  3.0     5.000000  \n",
       "50%                  3.0     7.000000  \n",
       "75%                  3.0    10.000000  \n",
       "max                  3.0    82.000000  \n",
       "\n",
       "[8 rows x 34 columns]"
      ]
     },
     "metadata": {},
     "output_type": "display_data"
    }
   ],
   "source": [
    "bike_data_validation = pd.read_csv('../data/misc/2015071111.csv')\n",
    "bike_data_validation['environment_index'] = 3\n",
    "bike_data_validation['total'] = bike_data_validation[bin_vals].apply(lambda row: np.sum(row), axis=1)\n",
    "\n",
    "bike_data_validation = bike_data_validation.rename(index=str, \n",
    "                                                   columns={\n",
    "                                                       \"latitude\":'gpsLatitude', \n",
    "                                                       \"longitude\":'gpsLongitude',\n",
    "                                                       \"time\": 'phoneTimestamp',\n",
    "                                                   })\n",
    "display(bike_data_validation.describe())\n"
   ]
  },
  {
   "cell_type": "code",
   "execution_count": 48,
   "metadata": {},
   "outputs": [
    {
     "name": "stdout",
     "output_type": "stream",
     "text": [
      "0.9184481393507522\n"
     ]
    }
   ],
   "source": [
    "clustered_validation_data = get_environment_clusters(bike_data_validation, 40, bin_vals, kmeans)\n",
    "\n",
    "clustered_normalised = clustered_validation_data[clustered_validation_data['total']>0].copy().reindex()\n",
    "clustered_normalised[bin_vals] = clustered_normalised[bin_vals].apply(lambda row: row/np.sum(row), axis=1)\n",
    "\n",
    "print(get_training_accuracy_mixed_models(rf, [\n",
    "    bin_vals[:8]+['total','unsupervised_environment_index'], bin_vals[8:]+['temperature', 'humidity']],\n",
    "                                         clustered_normalised_train, clustered_normalised_train['environment_index'],\n",
    "                                         clustered_normalised, clustered_normalised['environment_index'],\n",
    "                                        ))\n",
    "\n",
    "# rf.fit(clustered_normalised_train[bin_vals+['unsupervised_environment_index', 'total']], \n",
    "#        clustered_normalised_train['environment_index'])\n",
    "\n",
    "# predictions = rf.predict(clustered_normalised[bin_vals+['unsupervised_environment_index', 'total']])\n",
    "\n",
    "# print(\"Validation accuracy:\", accuracy_score(clustered_normalised['environment_index'], predictions))\n",
    " "
   ]
  },
  {
   "cell_type": "code",
   "execution_count": 49,
   "metadata": {},
   "outputs": [
    {
     "name": "stdout",
     "output_type": "stream",
     "text": [
      "0.9162754303599374\n"
     ]
    }
   ],
   "source": [
    "clustered_validation_data = get_environment_clusters(bike_data_validation, 40, bin_vals, kmeans)\n",
    "\n",
    "print(get_training_accuracy_mixed_models(rf, [\n",
    "    bin_vals[:8]+['total','unsupervised_environment_index'], bin_vals[8:]+['temperature', 'humidity']],\n",
    "                                         clustered_train, clustered_train['environment_index'],\n",
    "                                         clustered_validation_data, clustered_validation_data['environment_index'],\n",
    "                                        ))\n",
    "\n",
    "# rf.fit(clustered_train[bin_vals + ['unsupervised_environment_index', 'total']], \n",
    "#        clustered_train['environment_index'])\n",
    "\n",
    "# predictions = rf.predict(clustered_validation_data[bin_vals + ['unsupervised_environment_index', 'total']])\n",
    "\n",
    "# print(\"Validation accuracy:\", accuracy_score(clustered_validation_data['environment_index'], predictions))\n",
    " "
   ]
  },
  {
   "cell_type": "markdown",
   "metadata": {},
   "source": [
    "### Walking Validation Data"
   ]
  },
  {
   "cell_type": "code",
   "execution_count": 50,
   "metadata": {},
   "outputs": [
    {
     "data": {
      "text/html": [
       "<div>\n",
       "<style scoped>\n",
       "    .dataframe tbody tr th:only-of-type {\n",
       "        vertical-align: middle;\n",
       "    }\n",
       "\n",
       "    .dataframe tbody tr th {\n",
       "        vertical-align: top;\n",
       "    }\n",
       "\n",
       "    .dataframe thead th {\n",
       "        text-align: right;\n",
       "    }\n",
       "</style>\n",
       "<table border=\"1\" class=\"dataframe\">\n",
       "  <thead>\n",
       "    <tr style=\"text-align: right;\">\n",
       "      <th></th>\n",
       "      <th>Unnamed: 0</th>\n",
       "      <th>phoneTimestamp</th>\n",
       "      <th>pm1</th>\n",
       "      <th>pm2_5</th>\n",
       "      <th>pm10</th>\n",
       "      <th>temperature</th>\n",
       "      <th>humidity</th>\n",
       "      <th>bin0</th>\n",
       "      <th>bin1</th>\n",
       "      <th>bin2</th>\n",
       "      <th>...</th>\n",
       "      <th>bin14</th>\n",
       "      <th>bin15</th>\n",
       "      <th>total</th>\n",
       "      <th>gpsLongitude</th>\n",
       "      <th>gpsLatitude</th>\n",
       "      <th>gpsAltitude</th>\n",
       "      <th>gpsAccuracy</th>\n",
       "      <th>luxLevel</th>\n",
       "      <th>motion</th>\n",
       "      <th>environment_index</th>\n",
       "    </tr>\n",
       "  </thead>\n",
       "  <tbody>\n",
       "    <tr>\n",
       "      <th>count</th>\n",
       "      <td>640.000000</td>\n",
       "      <td>6.400000e+02</td>\n",
       "      <td>640.000000</td>\n",
       "      <td>640.000000</td>\n",
       "      <td>640.000000</td>\n",
       "      <td>640.000000</td>\n",
       "      <td>640.000000</td>\n",
       "      <td>640.000000</td>\n",
       "      <td>640.000000</td>\n",
       "      <td>640.000000</td>\n",
       "      <td>...</td>\n",
       "      <td>640.000000</td>\n",
       "      <td>640.000000</td>\n",
       "      <td>640.000000</td>\n",
       "      <td>640.000000</td>\n",
       "      <td>640.000000</td>\n",
       "      <td>640.000000</td>\n",
       "      <td>640.000000</td>\n",
       "      <td>640.000000</td>\n",
       "      <td>640.000000</td>\n",
       "      <td>640.0</td>\n",
       "    </tr>\n",
       "    <tr>\n",
       "      <th>mean</th>\n",
       "      <td>320.500000</td>\n",
       "      <td>1.519852e+12</td>\n",
       "      <td>5.162149</td>\n",
       "      <td>12.112384</td>\n",
       "      <td>48.238336</td>\n",
       "      <td>0.318438</td>\n",
       "      <td>88.245157</td>\n",
       "      <td>130.696875</td>\n",
       "      <td>48.362500</td>\n",
       "      <td>36.084375</td>\n",
       "      <td>...</td>\n",
       "      <td>0.014063</td>\n",
       "      <td>0.042188</td>\n",
       "      <td>333.607813</td>\n",
       "      <td>-3.187060</td>\n",
       "      <td>55.855857</td>\n",
       "      <td>90.441880</td>\n",
       "      <td>250.504753</td>\n",
       "      <td>0.473438</td>\n",
       "      <td>2485.190625</td>\n",
       "      <td>0.0</td>\n",
       "    </tr>\n",
       "    <tr>\n",
       "      <th>std</th>\n",
       "      <td>184.896367</td>\n",
       "      <td>1.485294e+06</td>\n",
       "      <td>5.171345</td>\n",
       "      <td>46.269151</td>\n",
       "      <td>459.874463</td>\n",
       "      <td>1.318333</td>\n",
       "      <td>14.761573</td>\n",
       "      <td>203.997036</td>\n",
       "      <td>46.587591</td>\n",
       "      <td>31.910120</td>\n",
       "      <td>...</td>\n",
       "      <td>0.117841</td>\n",
       "      <td>0.230197</td>\n",
       "      <td>773.274792</td>\n",
       "      <td>0.126348</td>\n",
       "      <td>2.211353</td>\n",
       "      <td>73.529042</td>\n",
       "      <td>389.355498</td>\n",
       "      <td>1.182520</td>\n",
       "      <td>941.571760</td>\n",
       "      <td>0.0</td>\n",
       "    </tr>\n",
       "    <tr>\n",
       "      <th>min</th>\n",
       "      <td>1.000000</td>\n",
       "      <td>1.519849e+12</td>\n",
       "      <td>2.547426</td>\n",
       "      <td>3.906771</td>\n",
       "      <td>4.740481</td>\n",
       "      <td>0.000000</td>\n",
       "      <td>0.000000</td>\n",
       "      <td>49.000000</td>\n",
       "      <td>15.000000</td>\n",
       "      <td>14.000000</td>\n",
       "      <td>...</td>\n",
       "      <td>0.000000</td>\n",
       "      <td>0.000000</td>\n",
       "      <td>125.000000</td>\n",
       "      <td>-3.203796</td>\n",
       "      <td>0.000000</td>\n",
       "      <td>0.000000</td>\n",
       "      <td>0.000000</td>\n",
       "      <td>0.000000</td>\n",
       "      <td>0.000000</td>\n",
       "      <td>0.0</td>\n",
       "    </tr>\n",
       "    <tr>\n",
       "      <th>25%</th>\n",
       "      <td>160.750000</td>\n",
       "      <td>1.519850e+12</td>\n",
       "      <td>3.834170</td>\n",
       "      <td>6.560691</td>\n",
       "      <td>9.203300</td>\n",
       "      <td>0.000000</td>\n",
       "      <td>89.000000</td>\n",
       "      <td>90.000000</td>\n",
       "      <td>35.000000</td>\n",
       "      <td>26.000000</td>\n",
       "      <td>...</td>\n",
       "      <td>0.000000</td>\n",
       "      <td>0.000000</td>\n",
       "      <td>210.000000</td>\n",
       "      <td>-3.195649</td>\n",
       "      <td>55.941324</td>\n",
       "      <td>0.000000</td>\n",
       "      <td>10.000000</td>\n",
       "      <td>0.000000</td>\n",
       "      <td>2244.500000</td>\n",
       "      <td>0.0</td>\n",
       "    </tr>\n",
       "    <tr>\n",
       "      <th>50%</th>\n",
       "      <td>320.500000</td>\n",
       "      <td>1.519852e+12</td>\n",
       "      <td>4.343511</td>\n",
       "      <td>7.352633</td>\n",
       "      <td>12.131214</td>\n",
       "      <td>0.000000</td>\n",
       "      <td>93.400000</td>\n",
       "      <td>107.000000</td>\n",
       "      <td>42.000000</td>\n",
       "      <td>31.000000</td>\n",
       "      <td>...</td>\n",
       "      <td>0.000000</td>\n",
       "      <td>0.000000</td>\n",
       "      <td>238.000000</td>\n",
       "      <td>-3.191526</td>\n",
       "      <td>55.943939</td>\n",
       "      <td>141.100006</td>\n",
       "      <td>13.740500</td>\n",
       "      <td>0.000000</td>\n",
       "      <td>2714.500000</td>\n",
       "      <td>0.0</td>\n",
       "    </tr>\n",
       "    <tr>\n",
       "      <th>75%</th>\n",
       "      <td>480.250000</td>\n",
       "      <td>1.519853e+12</td>\n",
       "      <td>4.900614</td>\n",
       "      <td>8.421762</td>\n",
       "      <td>21.115125</td>\n",
       "      <td>0.000000</td>\n",
       "      <td>94.700005</td>\n",
       "      <td>125.000000</td>\n",
       "      <td>48.000000</td>\n",
       "      <td>37.000000</td>\n",
       "      <td>...</td>\n",
       "      <td>0.000000</td>\n",
       "      <td>0.000000</td>\n",
       "      <td>271.000000</td>\n",
       "      <td>-3.185774</td>\n",
       "      <td>55.945097</td>\n",
       "      <td>152.759762</td>\n",
       "      <td>800.000000</td>\n",
       "      <td>1.000000</td>\n",
       "      <td>3096.500000</td>\n",
       "      <td>0.0</td>\n",
       "    </tr>\n",
       "    <tr>\n",
       "      <th>max</th>\n",
       "      <td>640.000000</td>\n",
       "      <td>1.519854e+12</td>\n",
       "      <td>87.943596</td>\n",
       "      <td>936.273600</td>\n",
       "      <td>11054.397000</td>\n",
       "      <td>8.900001</td>\n",
       "      <td>100.600000</td>\n",
       "      <td>4610.000000</td>\n",
       "      <td>897.000000</td>\n",
       "      <td>483.000000</td>\n",
       "      <td>...</td>\n",
       "      <td>1.000000</td>\n",
       "      <td>2.000000</td>\n",
       "      <td>14644.000000</td>\n",
       "      <td>0.000000</td>\n",
       "      <td>55.948084</td>\n",
       "      <td>180.875992</td>\n",
       "      <td>1000.000000</td>\n",
       "      <td>17.000000</td>\n",
       "      <td>4159.000000</td>\n",
       "      <td>0.0</td>\n",
       "    </tr>\n",
       "  </tbody>\n",
       "</table>\n",
       "<p>8 rows × 31 columns</p>\n",
       "</div>"
      ],
      "text/plain": [
       "       Unnamed: 0  phoneTimestamp         pm1       pm2_5          pm10  \\\n",
       "count  640.000000    6.400000e+02  640.000000  640.000000    640.000000   \n",
       "mean   320.500000    1.519852e+12    5.162149   12.112384     48.238336   \n",
       "std    184.896367    1.485294e+06    5.171345   46.269151    459.874463   \n",
       "min      1.000000    1.519849e+12    2.547426    3.906771      4.740481   \n",
       "25%    160.750000    1.519850e+12    3.834170    6.560691      9.203300   \n",
       "50%    320.500000    1.519852e+12    4.343511    7.352633     12.131214   \n",
       "75%    480.250000    1.519853e+12    4.900614    8.421762     21.115125   \n",
       "max    640.000000    1.519854e+12   87.943596  936.273600  11054.397000   \n",
       "\n",
       "       temperature    humidity         bin0        bin1        bin2  \\\n",
       "count   640.000000  640.000000   640.000000  640.000000  640.000000   \n",
       "mean      0.318438   88.245157   130.696875   48.362500   36.084375   \n",
       "std       1.318333   14.761573   203.997036   46.587591   31.910120   \n",
       "min       0.000000    0.000000    49.000000   15.000000   14.000000   \n",
       "25%       0.000000   89.000000    90.000000   35.000000   26.000000   \n",
       "50%       0.000000   93.400000   107.000000   42.000000   31.000000   \n",
       "75%       0.000000   94.700005   125.000000   48.000000   37.000000   \n",
       "max       8.900001  100.600000  4610.000000  897.000000  483.000000   \n",
       "\n",
       "             ...               bin14       bin15         total  gpsLongitude  \\\n",
       "count        ...          640.000000  640.000000    640.000000    640.000000   \n",
       "mean         ...            0.014063    0.042188    333.607813     -3.187060   \n",
       "std          ...            0.117841    0.230197    773.274792      0.126348   \n",
       "min          ...            0.000000    0.000000    125.000000     -3.203796   \n",
       "25%          ...            0.000000    0.000000    210.000000     -3.195649   \n",
       "50%          ...            0.000000    0.000000    238.000000     -3.191526   \n",
       "75%          ...            0.000000    0.000000    271.000000     -3.185774   \n",
       "max          ...            1.000000    2.000000  14644.000000      0.000000   \n",
       "\n",
       "       gpsLatitude  gpsAltitude  gpsAccuracy    luxLevel       motion  \\\n",
       "count   640.000000   640.000000   640.000000  640.000000   640.000000   \n",
       "mean     55.855857    90.441880   250.504753    0.473438  2485.190625   \n",
       "std       2.211353    73.529042   389.355498    1.182520   941.571760   \n",
       "min       0.000000     0.000000     0.000000    0.000000     0.000000   \n",
       "25%      55.941324     0.000000    10.000000    0.000000  2244.500000   \n",
       "50%      55.943939   141.100006    13.740500    0.000000  2714.500000   \n",
       "75%      55.945097   152.759762   800.000000    1.000000  3096.500000   \n",
       "max      55.948084   180.875992  1000.000000   17.000000  4159.000000   \n",
       "\n",
       "       environment_index  \n",
       "count              640.0  \n",
       "mean                 0.0  \n",
       "std                  0.0  \n",
       "min                  0.0  \n",
       "25%                  0.0  \n",
       "50%                  0.0  \n",
       "75%                  0.0  \n",
       "max                  0.0  \n",
       "\n",
       "[8 rows x 31 columns]"
      ]
     },
     "metadata": {},
     "output_type": "display_data"
    }
   ],
   "source": [
    "\n",
    "walk_data_validation_total = pd.read_csv('../data/validation/016Outdoor-Night-2018-02-28.csv')\n",
    "\n",
    "walk_data_validation_total['environment_index'] = 0\n",
    "walk_data_validation_total = walk_data_validation_total[walk_data_validation_total['total']>0]\n",
    "\n",
    "display(walk_data_validation_total.describe())"
   ]
  },
  {
   "cell_type": "code",
   "execution_count": 51,
   "metadata": {},
   "outputs": [
    {
     "name": "stdout",
     "output_type": "stream",
     "text": [
      "0.9375\n"
     ]
    }
   ],
   "source": [
    "clustered_validation_data = get_environment_clusters(walk_data_validation_total, 40, bin_vals, kmeans)\n",
    "\n",
    "clustered_normalised = clustered_validation_data[clustered_validation_data['total']>0].copy().reindex()\n",
    "clustered_normalised[bin_vals] = clustered_normalised[bin_vals].apply(lambda row: row/np.sum(row), axis=1)\n",
    "\n",
    "# rf.fit(clustered_normalised_train[bin_vals+['unsupervised_environment_index', 'temperature', 'humidity', 'total']], \n",
    "#        clustered_normalised_train['environment_index'])\n",
    "\n",
    "# predictions = rf.predict(clustered_normalised[bin_vals+['unsupervised_environment_index', 'temperature', 'humidity', 'total']])\n",
    "print(get_training_accuracy_mixed_models(rf, [\n",
    "    bin_vals[:8]+['total','unsupervised_environment_index'], bin_vals[8:]+['temperature', 'humidity'],],\n",
    "                                         clustered_normalised_train, clustered_normalised_train['environment_index'],\n",
    "                                         clustered_normalised, clustered_normalised['environment_index'],\n",
    "                                        ))\n"
   ]
  },
  {
   "cell_type": "code",
   "execution_count": 52,
   "metadata": {},
   "outputs": [
    {
     "name": "stdout",
     "output_type": "stream",
     "text": [
      "0.9328125\n"
     ]
    }
   ],
   "source": [
    "clustered_validation_data = get_environment_clusters(walk_data_validation_total, 40, bin_vals, kmeans)\n",
    "\n",
    "print(get_training_accuracy_mixed_models(rf, [\n",
    "    bin_vals[:8]+['total','unsupervised_environment_index'], bin_vals[8:]+['temperature', 'humidity']],\n",
    "                                         clustered_train, clustered_train['environment_index'],\n",
    "                                         clustered_validation_data, clustered_validation_data['environment_index'],\n",
    "                                        ))\n",
    " "
   ]
  },
  {
   "cell_type": "markdown",
   "metadata": {},
   "source": [
    "### Bus Validation Data"
   ]
  },
  {
   "cell_type": "code",
   "execution_count": 53,
   "metadata": {},
   "outputs": [
    {
     "data": {
      "text/html": [
       "<div>\n",
       "<style scoped>\n",
       "    .dataframe tbody tr th:only-of-type {\n",
       "        vertical-align: middle;\n",
       "    }\n",
       "\n",
       "    .dataframe tbody tr th {\n",
       "        vertical-align: top;\n",
       "    }\n",
       "\n",
       "    .dataframe thead th {\n",
       "        text-align: right;\n",
       "    }\n",
       "</style>\n",
       "<table border=\"1\" class=\"dataframe\">\n",
       "  <thead>\n",
       "    <tr style=\"text-align: right;\">\n",
       "      <th></th>\n",
       "      <th>phoneTimestamp</th>\n",
       "      <th>pm1</th>\n",
       "      <th>pm2_5</th>\n",
       "      <th>pm10</th>\n",
       "      <th>temperature</th>\n",
       "      <th>humidity</th>\n",
       "      <th>bin0</th>\n",
       "      <th>bin1</th>\n",
       "      <th>bin2</th>\n",
       "      <th>bin3</th>\n",
       "      <th>...</th>\n",
       "      <th>bin14</th>\n",
       "      <th>bin15</th>\n",
       "      <th>total</th>\n",
       "      <th>gpsLongitude</th>\n",
       "      <th>gpsLatitude</th>\n",
       "      <th>gpsAltitude</th>\n",
       "      <th>gpsAccuracy</th>\n",
       "      <th>luxLevel</th>\n",
       "      <th>motion</th>\n",
       "      <th>environment_index</th>\n",
       "    </tr>\n",
       "  </thead>\n",
       "  <tbody>\n",
       "    <tr>\n",
       "      <th>count</th>\n",
       "      <td>5.010000e+02</td>\n",
       "      <td>501.000000</td>\n",
       "      <td>501.000000</td>\n",
       "      <td>501.000000</td>\n",
       "      <td>501.000000</td>\n",
       "      <td>501.000000</td>\n",
       "      <td>501.000000</td>\n",
       "      <td>501.000000</td>\n",
       "      <td>501.000000</td>\n",
       "      <td>501.000000</td>\n",
       "      <td>...</td>\n",
       "      <td>501.000000</td>\n",
       "      <td>501.000000</td>\n",
       "      <td>501.000000</td>\n",
       "      <td>501.000000</td>\n",
       "      <td>501.000000</td>\n",
       "      <td>501.000000</td>\n",
       "      <td>501.000000</td>\n",
       "      <td>501.000000</td>\n",
       "      <td>501.000000</td>\n",
       "      <td>501.0</td>\n",
       "    </tr>\n",
       "    <tr>\n",
       "      <th>mean</th>\n",
       "      <td>1.520962e+12</td>\n",
       "      <td>7.859225</td>\n",
       "      <td>10.411693</td>\n",
       "      <td>16.183778</td>\n",
       "      <td>10.855888</td>\n",
       "      <td>60.381837</td>\n",
       "      <td>399.782435</td>\n",
       "      <td>92.143713</td>\n",
       "      <td>48.752495</td>\n",
       "      <td>25.698603</td>\n",
       "      <td>...</td>\n",
       "      <td>0.005988</td>\n",
       "      <td>0.013972</td>\n",
       "      <td>593.990020</td>\n",
       "      <td>-3.279685</td>\n",
       "      <td>55.968199</td>\n",
       "      <td>103.907407</td>\n",
       "      <td>10.014896</td>\n",
       "      <td>62.241517</td>\n",
       "      <td>3356.802395</td>\n",
       "      <td>0.0</td>\n",
       "    </tr>\n",
       "    <tr>\n",
       "      <th>std</th>\n",
       "      <td>3.882176e+06</td>\n",
       "      <td>8.946979</td>\n",
       "      <td>14.036759</td>\n",
       "      <td>16.458489</td>\n",
       "      <td>3.192170</td>\n",
       "      <td>9.898510</td>\n",
       "      <td>245.459973</td>\n",
       "      <td>127.214588</td>\n",
       "      <td>127.209224</td>\n",
       "      <td>95.752342</td>\n",
       "      <td>...</td>\n",
       "      <td>0.077227</td>\n",
       "      <td>0.117492</td>\n",
       "      <td>582.067187</td>\n",
       "      <td>0.101044</td>\n",
       "      <td>0.019007</td>\n",
       "      <td>32.155653</td>\n",
       "      <td>0.150047</td>\n",
       "      <td>85.358488</td>\n",
       "      <td>2146.334865</td>\n",
       "      <td>0.0</td>\n",
       "    </tr>\n",
       "    <tr>\n",
       "      <th>min</th>\n",
       "      <td>1.520956e+12</td>\n",
       "      <td>3.059967</td>\n",
       "      <td>4.004622</td>\n",
       "      <td>4.502368</td>\n",
       "      <td>7.600000</td>\n",
       "      <td>34.200000</td>\n",
       "      <td>121.000000</td>\n",
       "      <td>25.000000</td>\n",
       "      <td>10.000000</td>\n",
       "      <td>5.000000</td>\n",
       "      <td>...</td>\n",
       "      <td>0.000000</td>\n",
       "      <td>0.000000</td>\n",
       "      <td>225.000000</td>\n",
       "      <td>-3.398579</td>\n",
       "      <td>55.945204</td>\n",
       "      <td>52.635492</td>\n",
       "      <td>10.000000</td>\n",
       "      <td>0.000000</td>\n",
       "      <td>0.000000</td>\n",
       "      <td>0.0</td>\n",
       "    </tr>\n",
       "    <tr>\n",
       "      <th>25%</th>\n",
       "      <td>1.520957e+12</td>\n",
       "      <td>5.279081</td>\n",
       "      <td>7.103057</td>\n",
       "      <td>9.820231</td>\n",
       "      <td>8.800000</td>\n",
       "      <td>55.200000</td>\n",
       "      <td>252.000000</td>\n",
       "      <td>58.000000</td>\n",
       "      <td>30.000000</td>\n",
       "      <td>15.000000</td>\n",
       "      <td>...</td>\n",
       "      <td>0.000000</td>\n",
       "      <td>0.000000</td>\n",
       "      <td>385.000000</td>\n",
       "      <td>-3.397539</td>\n",
       "      <td>55.951848</td>\n",
       "      <td>69.836051</td>\n",
       "      <td>10.000000</td>\n",
       "      <td>2.000000</td>\n",
       "      <td>1136.000000</td>\n",
       "      <td>0.0</td>\n",
       "    </tr>\n",
       "    <tr>\n",
       "      <th>50%</th>\n",
       "      <td>1.520962e+12</td>\n",
       "      <td>6.449256</td>\n",
       "      <td>8.732199</td>\n",
       "      <td>13.459299</td>\n",
       "      <td>9.400001</td>\n",
       "      <td>64.400000</td>\n",
       "      <td>317.000000</td>\n",
       "      <td>76.000000</td>\n",
       "      <td>38.000000</td>\n",
       "      <td>19.000000</td>\n",
       "      <td>...</td>\n",
       "      <td>0.000000</td>\n",
       "      <td>0.000000</td>\n",
       "      <td>479.000000</td>\n",
       "      <td>-3.200619</td>\n",
       "      <td>55.954839</td>\n",
       "      <td>118.550316</td>\n",
       "      <td>10.000000</td>\n",
       "      <td>17.000000</td>\n",
       "      <td>3868.000000</td>\n",
       "      <td>0.0</td>\n",
       "    </tr>\n",
       "    <tr>\n",
       "      <th>75%</th>\n",
       "      <td>1.520966e+12</td>\n",
       "      <td>9.479088</td>\n",
       "      <td>11.827674</td>\n",
       "      <td>19.125940</td>\n",
       "      <td>11.700000</td>\n",
       "      <td>67.300000</td>\n",
       "      <td>534.000000</td>\n",
       "      <td>108.000000</td>\n",
       "      <td>51.000000</td>\n",
       "      <td>25.000000</td>\n",
       "      <td>...</td>\n",
       "      <td>0.000000</td>\n",
       "      <td>0.000000</td>\n",
       "      <td>741.000000</td>\n",
       "      <td>-3.192610</td>\n",
       "      <td>55.990040</td>\n",
       "      <td>129.873139</td>\n",
       "      <td>10.000000</td>\n",
       "      <td>93.000000</td>\n",
       "      <td>5096.000000</td>\n",
       "      <td>0.0</td>\n",
       "    </tr>\n",
       "    <tr>\n",
       "      <th>max</th>\n",
       "      <td>1.520967e+12</td>\n",
       "      <td>188.656660</td>\n",
       "      <td>306.175870</td>\n",
       "      <td>330.898830</td>\n",
       "      <td>21.600000</td>\n",
       "      <td>73.500000</td>\n",
       "      <td>3148.000000</td>\n",
       "      <td>2697.000000</td>\n",
       "      <td>2842.000000</td>\n",
       "      <td>2148.000000</td>\n",
       "      <td>...</td>\n",
       "      <td>1.000000</td>\n",
       "      <td>1.000000</td>\n",
       "      <td>11854.000000</td>\n",
       "      <td>-3.184060</td>\n",
       "      <td>55.992005</td>\n",
       "      <td>152.697968</td>\n",
       "      <td>12.000000</td>\n",
       "      <td>404.000000</td>\n",
       "      <td>8986.000000</td>\n",
       "      <td>0.0</td>\n",
       "    </tr>\n",
       "  </tbody>\n",
       "</table>\n",
       "<p>8 rows × 30 columns</p>\n",
       "</div>"
      ],
      "text/plain": [
       "       phoneTimestamp         pm1       pm2_5        pm10  temperature  \\\n",
       "count    5.010000e+02  501.000000  501.000000  501.000000   501.000000   \n",
       "mean     1.520962e+12    7.859225   10.411693   16.183778    10.855888   \n",
       "std      3.882176e+06    8.946979   14.036759   16.458489     3.192170   \n",
       "min      1.520956e+12    3.059967    4.004622    4.502368     7.600000   \n",
       "25%      1.520957e+12    5.279081    7.103057    9.820231     8.800000   \n",
       "50%      1.520962e+12    6.449256    8.732199   13.459299     9.400001   \n",
       "75%      1.520966e+12    9.479088   11.827674   19.125940    11.700000   \n",
       "max      1.520967e+12  188.656660  306.175870  330.898830    21.600000   \n",
       "\n",
       "         humidity         bin0         bin1         bin2         bin3  \\\n",
       "count  501.000000   501.000000   501.000000   501.000000   501.000000   \n",
       "mean    60.381837   399.782435    92.143713    48.752495    25.698603   \n",
       "std      9.898510   245.459973   127.214588   127.209224    95.752342   \n",
       "min     34.200000   121.000000    25.000000    10.000000     5.000000   \n",
       "25%     55.200000   252.000000    58.000000    30.000000    15.000000   \n",
       "50%     64.400000   317.000000    76.000000    38.000000    19.000000   \n",
       "75%     67.300000   534.000000   108.000000    51.000000    25.000000   \n",
       "max     73.500000  3148.000000  2697.000000  2842.000000  2148.000000   \n",
       "\n",
       "             ...               bin14       bin15         total  gpsLongitude  \\\n",
       "count        ...          501.000000  501.000000    501.000000    501.000000   \n",
       "mean         ...            0.005988    0.013972    593.990020     -3.279685   \n",
       "std          ...            0.077227    0.117492    582.067187      0.101044   \n",
       "min          ...            0.000000    0.000000    225.000000     -3.398579   \n",
       "25%          ...            0.000000    0.000000    385.000000     -3.397539   \n",
       "50%          ...            0.000000    0.000000    479.000000     -3.200619   \n",
       "75%          ...            0.000000    0.000000    741.000000     -3.192610   \n",
       "max          ...            1.000000    1.000000  11854.000000     -3.184060   \n",
       "\n",
       "       gpsLatitude  gpsAltitude  gpsAccuracy    luxLevel       motion  \\\n",
       "count   501.000000   501.000000   501.000000  501.000000   501.000000   \n",
       "mean     55.968199   103.907407    10.014896   62.241517  3356.802395   \n",
       "std       0.019007    32.155653     0.150047   85.358488  2146.334865   \n",
       "min      55.945204    52.635492    10.000000    0.000000     0.000000   \n",
       "25%      55.951848    69.836051    10.000000    2.000000  1136.000000   \n",
       "50%      55.954839   118.550316    10.000000   17.000000  3868.000000   \n",
       "75%      55.990040   129.873139    10.000000   93.000000  5096.000000   \n",
       "max      55.992005   152.697968    12.000000  404.000000  8986.000000   \n",
       "\n",
       "       environment_index  \n",
       "count              501.0  \n",
       "mean                 0.0  \n",
       "std                  0.0  \n",
       "min                  0.0  \n",
       "25%                  0.0  \n",
       "50%                  0.0  \n",
       "75%                  0.0  \n",
       "max                  0.0  \n",
       "\n",
       "[8 rows x 30 columns]"
      ]
     },
     "metadata": {},
     "output_type": "display_data"
    }
   ],
   "source": [
    "bus_data_val = pd.read_csv('../data/validation/queensferry-13-03-2018.csv')\n",
    "bus_data_val = bus_data_val[bus_data_val['environment_index']!=7]\n",
    "\n",
    "display(bus_data_val[bus_data_val['environment_index']==0].describe())"
   ]
  },
  {
   "cell_type": "code",
   "execution_count": 54,
   "metadata": {},
   "outputs": [
    {
     "name": "stdout",
     "output_type": "stream",
     "text": [
      "0.9562410329985653\n"
     ]
    }
   ],
   "source": [
    "clustered_validation_data = get_environment_clusters(bus_data_val, 40, bin_vals, kmeans)\n",
    "clustered_normalised = clustered_validation_data[clustered_validation_data['total']>0].copy().reindex()\n",
    "clustered_normalised[bin_vals] = clustered_normalised[bin_vals].apply(lambda row: row/np.sum(row), axis=1)\n",
    "\n",
    "print(get_training_accuracy_mixed_models(rf, [\n",
    "    bin_vals[:8]+['total','unsupervised_environment_index'], ['temperature', 'humidity']+bin_vals[8:]],\n",
    "                                         clustered_normalised_train, clustered_normalised_train['environment_index'],\n",
    "                                         clustered_normalised, clustered_normalised['environment_index'],\n",
    "                                        ))\n",
    "\n"
   ]
  },
  {
   "cell_type": "code",
   "execution_count": 55,
   "metadata": {},
   "outputs": [
    {
     "name": "stdout",
     "output_type": "stream",
     "text": [
      "0.9034246575342466\n"
     ]
    }
   ],
   "source": [
    "clustered_validation_data = get_environment_clusters(bus_data, 40, bin_vals, kmeans)\n",
    "\n",
    "print(get_training_accuracy_mixed_models(rf, [\n",
    "    ['temperature', 'humidity']+bin_vals[8:],\n",
    "    bin_vals[:8]+['total','unsupervised_environment_index']\n",
    "],\n",
    "                                         clustered_train, clustered_train['environment_index'],\n",
    "                                         clustered_validation_data, clustered_validation_data['environment_index'],\n",
    "                                        ))\n",
    "\n"
   ]
  },
  {
   "cell_type": "markdown",
   "metadata": {
    "collapsed": true
   },
   "source": [
    "## Train data"
   ]
  },
  {
   "cell_type": "code",
   "execution_count": 56,
   "metadata": {
    "collapsed": true
   },
   "outputs": [],
   "source": [
    "train_data_validation = train_data_mar.loc[:600].copy()"
   ]
  },
  {
   "cell_type": "code",
   "execution_count": 57,
   "metadata": {},
   "outputs": [
    {
     "name": "stdout",
     "output_type": "stream",
     "text": [
      "0.9384359400998337\n"
     ]
    }
   ],
   "source": [
    "clustered_validation_data = get_environment_clusters(train_data_validation, 40, bin_vals, kmeans)\n",
    "clustered_normalised = clustered_validation_data[clustered_validation_data['total']>0].copy().reindex()\n",
    "clustered_normalised[bin_vals] = clustered_normalised[bin_vals].apply(lambda row: row/np.sum(row), axis=1)\n",
    "\n",
    "print(get_training_accuracy_mixed_models(rf, [\n",
    "    bin_vals[8:]+['temperature','humidity'],\n",
    "    bin_vals[:8]+['total','unsupervised_environment_index']],\n",
    "                                         clustered_normalised_train, clustered_normalised_train['environment_index'],\n",
    "                                         clustered_normalised, clustered_normalised['environment_index'],\n",
    "                                        ))\n"
   ]
  },
  {
   "cell_type": "code",
   "execution_count": 58,
   "metadata": {},
   "outputs": [
    {
     "name": "stdout",
     "output_type": "stream",
     "text": [
      "0.9434276206322796\n"
     ]
    }
   ],
   "source": [
    "clustered_validation_data = get_environment_clusters(train_data_validation, 40, bin_vals, kmeans)\n",
    "\n",
    "print(get_training_accuracy_mixed_models(rf, [\n",
    "    bin_vals[8:]+['temperature','humidity'], \n",
    "    bin_vals[:8]+['total','unsupervised_environment_index']\n",
    "],\n",
    "                                         clustered_train, clustered_train['environment_index'],\n",
    "                                         clustered_validation_data, clustered_validation_data['environment_index'],\n",
    "                                        ))\n",
    "\n",
    "\n"
   ]
  },
  {
   "cell_type": "code",
   "execution_count": null,
   "metadata": {
    "collapsed": true
   },
   "outputs": [],
   "source": []
  }
 ],
 "metadata": {
  "kernelspec": {
   "display_name": "Python 3",
   "language": "python",
   "name": "python3"
  },
  "language_info": {
   "codemirror_mode": {
    "name": "ipython",
    "version": 3
   },
   "file_extension": ".py",
   "mimetype": "text/x-python",
   "name": "python",
   "nbconvert_exporter": "python",
   "pygments_lexer": "ipython3",
   "version": "3.6.2"
  }
 },
 "nbformat": 4,
 "nbformat_minor": 2
}
