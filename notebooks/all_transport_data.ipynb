{
 "cells": [
  {
   "cell_type": "code",
   "execution_count": 4,
   "metadata": {},
   "outputs": [],
   "source": [
    "from __future__ import print_function, division\n",
    "%matplotlib inline\n",
    "\n",
    "# import used packages and modules\n",
    "# import display function to display the table of the pandas dataframe\n",
    "from IPython.display import display\n",
    "\n",
    "from sklearn.linear_model import LogisticRegression, LogisticRegressionCV\n",
    "from sklearn.preprocessing import StandardScaler\n",
    "from sklearn.cross_validation import KFold\n",
    "from sklearn.model_selection import LeaveOneOut, train_test_split\n",
    "from sklearn.ensemble import RandomForestClassifier\n",
    "from sklearn.tree import DecisionTreeClassifier, ExtraTreeClassifier\n",
    "from sklearn.svm import SVC\n",
    "from sklearn.decomposition import PCA\n",
    "from sklearn.neighbors import KNeighborsClassifier\n",
    "from sklearn.cluster import KMeans\n",
    "from sklearn.ensemble import RandomForestClassifier\n",
    "\n",
    "from sklearn.neural_network import MLPClassifier\n",
    "\n",
    "from sklearn.metrics import accuracy_score, confusion_matrix\n",
    "\n",
    "from scipy import signal\n",
    "\n",
    "from hmmlearn import hmm\n",
    "from seqlearn.hmm import MultinomialHMM\n",
    "\n",
    "import datetime\n",
    "import matplotlib.dates as mdates\n",
    "import matplotlib.pyplot as plt\n",
    "import numpy as np\n",
    "import pandas as pd\n",
    "import seaborn as sns\n",
    "import csv\n",
    "\n",
    "\n"
   ]
  },
  {
   "cell_type": "markdown",
   "metadata": {},
   "source": [
    "## Importing data"
   ]
  },
  {
   "cell_type": "code",
   "execution_count": 5,
   "metadata": {
    "collapsed": true
   },
   "outputs": [],
   "source": [
    "train_manchester = pd.read_csv('../data/misc/Train_Manchester_Northwich.csv')\n",
    "london_data = pd.read_csv('../data/london_data/london_data.csv')\n",
    "\n",
    "data04 = pd.read_csv('../data/meadows_december/meadows-2017-12-04.csv')\n",
    "data05 = pd.read_csv('../data/meadows_december/meadows-2017-12-05.csv')\n",
    "\n",
    "bike_data_old = pd.read_csv('../data/misc/2015061911.csv')\n",
    "bike_data_feb = pd.read_csv('../data/misc/bike_feb.csv')"
   ]
  },
  {
   "cell_type": "markdown",
   "metadata": {},
   "source": [
    "## Merging Data"
   ]
  },
  {
   "cell_type": "code",
   "execution_count": 6,
   "metadata": {
    "collapsed": true
   },
   "outputs": [],
   "source": [
    "bin_vals = ['bin'+str(x) for x in range(0,16)]\n",
    "pm_vals = ['pm1', 'pm2_5', 'pm10']"
   ]
  },
  {
   "cell_type": "code",
   "execution_count": 7,
   "metadata": {},
   "outputs": [],
   "source": [
    "# environment index is 0 as all data from these datasets is walking data\n",
    "data04['environment_index'] = 0\n",
    "data05['environment_index'] = 0\n",
    "\n",
    "# environment index is 3 for bike data\n",
    "bike_data_old['environment_index'] = 3\n",
    "bike_data_feb['environment_index'] = 3\n",
    "\n",
    "data = pd.concat([london_data[bin_vals+['environment_index', 'gpsLatitude', 'gpsLongitude']], \n",
    "                  train_manchester[bin_vals+['environment_index', 'gpsLatitude', 'gpsLongitude']], \n",
    "                  data04[bin_vals+['environment_index', 'gpsLatitude', 'gpsLongitude']], \n",
    "                  data05[bin_vals+['environment_index', 'gpsLatitude', 'gpsLongitude']], \n",
    "                  bike_data_old[bin_vals+['environment_index', 'gpsLatitude', 'gpsLongitude']],\n",
    "                  bike_data_feb[bin_vals+['environment_index', 'gpsLatitude', 'gpsLongitude']]], ignore_index=True)\n",
    "\n",
    "# remove indoor labelled data for this set of experiments\n",
    "data = data[data['environment_index']!=7]"
   ]
  },
  {
   "cell_type": "markdown",
   "metadata": {},
   "source": [
    "## Bin distribution display"
   ]
  },
  {
   "cell_type": "code",
   "execution_count": 8,
   "metadata": {},
   "outputs": [
    {
     "data": {
      "text/plain": [
       "<matplotlib.axes._subplots.AxesSubplot at 0x1113cce80>"
      ]
     },
     "execution_count": 8,
     "metadata": {},
     "output_type": "execute_result"
    },
    {
     "data": {
      "image/png": "[encoded data removed]",
      "text/plain": [
       "<matplotlib.figure.Figure at 0x1058894a8>"
      ]
     },
     "metadata": {},
     "output_type": "display_data"
    }
   ],
   "source": [
    "data[data['environment_index']==0][bin_vals].describe().loc['mean'].plot(kind='bar')"
   ]
  },
  {
   "cell_type": "code",
   "execution_count": 9,
   "metadata": {},
   "outputs": [
    {
     "data": {
      "text/plain": [
       "<matplotlib.axes._subplots.AxesSubplot at 0x10c9f94a8>"
      ]
     },
     "execution_count": 9,
     "metadata": {},
     "output_type": "execute_result"
    },
    {
     "data": {
      "image/png": "[encoded data removed]",
      "text/plain": [
       "<matplotlib.figure.Figure at 0x1066ab7b8>"
      ]
     },
     "metadata": {},
     "output_type": "display_data"
    }
   ],
   "source": [
    "data[data['environment_index']==2][bin_vals].describe().loc['mean'].plot(kind='bar')"
   ]
  },
  {
   "cell_type": "code",
   "execution_count": 10,
   "metadata": {},
   "outputs": [
    {
     "data": {
      "text/plain": [
       "<matplotlib.axes._subplots.AxesSubplot at 0x10f277c88>"
      ]
     },
     "execution_count": 10,
     "metadata": {},
     "output_type": "execute_result"
    },
    {
     "data": {
      "image/png": "[encoded data removed]",
      "text/plain": [
       "<matplotlib.figure.Figure at 0x10f2f39e8>"
      ]
     },
     "metadata": {},
     "output_type": "display_data"
    }
   ],
   "source": [
    "data[data['environment_index']==5][bin_vals].describe().loc['mean'].plot(kind='bar')"
   ]
  },
  {
   "cell_type": "code",
   "execution_count": 11,
   "metadata": {},
   "outputs": [
    {
     "data": {
      "text/plain": [
       "<matplotlib.axes._subplots.AxesSubplot at 0x111853128>"
      ]
     },
     "execution_count": 11,
     "metadata": {},
     "output_type": "execute_result"
    },
    {
     "data": {
      "image/png": "[encoded data removed]",
      "text/plain": [
       "<matplotlib.figure.Figure at 0x1114ee4e0>"
      ]
     },
     "metadata": {},
     "output_type": "display_data"
    }
   ],
   "source": [
    "data[data['environment_index']==6][bin_vals].describe().loc['mean'].plot(kind='bar')"
   ]
  },
  {
   "cell_type": "markdown",
   "metadata": {},
   "source": [
    "## Kmeans"
   ]
  },
  {
   "cell_type": "code",
   "execution_count": 13,
   "metadata": {
    "collapsed": true
   },
   "outputs": [],
   "source": [
    "# method to get the cluster means of the data points based on coordinates\n",
    "# and the queried columns\n",
    "def get_location_cluster_means(data, cluster_no, cols):\n",
    "    # obtain indices of clusters\n",
    "    kmeans = KMeans(n_clusters=cluster_no, random_state=0)\n",
    "    # remove data rows with null coordinates\n",
    "    data = data[~np.isnan(data['gpsLatitude'])]\n",
    "    # get the indices of the location based clusters\n",
    "    indices = kmeans.fit_predict(data[['gpsLatitude', 'gpsLongitude']])\n",
    "    freqs = np.bincount(indices)\n",
    "    # initialise means of queried columns\n",
    "    means = np.zeros((cluster_no, len(cols)))\n",
    "    # assign clustered_indices to dataframe\n",
    "    data['clustered_index'] = indices\n",
    "    # compute means of queried columns\n",
    "    for index in np.unique(indices):\n",
    "        means[index] = np.mean(data[data['clustered_index'] == index][cols])\n",
    "    return means, data"
   ]
  },
  {
   "cell_type": "code",
   "execution_count": 14,
   "metadata": {
    "collapsed": true
   },
   "outputs": [],
   "source": [
    "# method to get the clusters of the environments corresponding to the 5 environments based on\n",
    "# the queried columns and number of location clusters\n",
    "def get_environment_clusters(data, cluster_no, cols):\n",
    "    means, d = get_location_cluster_means(data, cluster_no, cols)\n",
    "    # we have 5 clusters corresponding to 6 different types of transport\n",
    "    environment_kmeans = KMeans(n_clusters=6, random_state=0)\n",
    "    # predict the cluster indices\n",
    "    environment_indices = environment_kmeans.fit_predict(means)\n",
    "    # sort the indices based on the means of the clusters\n",
    "    idx = np.argsort(environment_kmeans.cluster_centers_.sum(axis=1))\n",
    "    lut = np.zeros_like(idx)\n",
    "    lut[idx] = np.arange(6)\n",
    "    # append the indices to the dataframe\n",
    "    d['unsupervised_environment_index'] = lut[environment_indices][d['clustered_index']]\n",
    "    return d"
   ]
  },
  {
   "cell_type": "markdown",
   "metadata": {},
   "source": [
    "## Supervised Classification"
   ]
  },
  {
   "cell_type": "code",
   "execution_count": 15,
   "metadata": {
    "collapsed": true
   },
   "outputs": [],
   "source": [
    "def get_training_accuracy_with_kfolds_iloc(estimator, x_tr, y_tr, kf):\n",
    "    score_array = np.empty(kf.n_folds)\n",
    "    \n",
    "    for (idx, (train_feature, test_feature)) in enumerate(kf):\n",
    "        estimator.fit(x_tr.iloc[train_feature], y_tr.iloc[train_feature])\n",
    "        y_pred = estimator.predict(x_tr.iloc[test_feature])\n",
    "        score_array[idx] = accuracy_score(y_pred, y_tr.iloc[test_feature], normalize=True)\n",
    "            \n",
    "    return np.mean(score_array)"
   ]
  },
  {
   "cell_type": "markdown",
   "metadata": {},
   "source": [
    "### Normalised Bin Values"
   ]
  },
  {
   "cell_type": "code",
   "execution_count": 16,
   "metadata": {
    "collapsed": true
   },
   "outputs": [],
   "source": [
    "data_normalised = data[data['bin0']>0].copy().reindex()\n",
    "data_normalised[bin_vals] = data_normalised[bin_vals].apply(lambda row: row/np.sum(row), axis=1)"
   ]
  },
  {
   "cell_type": "code",
   "execution_count": 19,
   "metadata": {},
   "outputs": [
    {
     "name": "stdout",
     "output_type": "stream",
     "text": [
      "Accuracy: 0.539777441916\n"
     ]
    }
   ],
   "source": [
    "# normal values\n",
    "svc = SVC(kernel=\"rbf\", gamma=\"auto\", probability=True)\n",
    "kf = KFold(len(data[bin_vals]), n_folds=3, shuffle=True, random_state=0)\n",
    "\n",
    "print(\"Accuracy:\", get_training_accuracy_with_kfolds_iloc(svc, data[bin_vals], data['environment_index'], kf))"
   ]
  },
  {
   "cell_type": "code",
   "execution_count": 20,
   "metadata": {},
   "outputs": [
    {
     "name": "stdout",
     "output_type": "stream",
     "text": [
      "Accuracy: 0.584954147137\n"
     ]
    }
   ],
   "source": [
    "# normalised values\n",
    "svc = SVC(kernel=\"rbf\", gamma=\"auto\", probability=True)\n",
    "kf = KFold(len(data_normalised[bin_vals]), n_folds=3, shuffle=True, random_state=0)\n",
    "\n",
    "print(\"Accuracy:\", get_training_accuracy_with_kfolds_iloc(svc, data_normalised[bin_vals], data_normalised['environment_index'], kf))"
   ]
  },
  {
   "cell_type": "code",
   "execution_count": 23,
   "metadata": {},
   "outputs": [
    {
     "name": "stdout",
     "output_type": "stream",
     "text": [
      "Accuracy: 0.710138577542\n"
     ]
    }
   ],
   "source": [
    "clustered_normalised_data = get_environment_clusters(data_normalised, 40, bin_vals)\n",
    "\n",
    "svc = SVC(kernel=\"rbf\", gamma=\"auto\", probability=True)\n",
    "kf = KFold(len(clustered_normalised_data), n_folds=3, shuffle=True, random_state=0)\n",
    "\n",
    "print(\"Accuracy:\", get_training_accuracy_with_kfolds_iloc(svc, clustered_normalised_data[['unsupervised_environment_index']+bin_vals], \n",
    "                                                          clustered_normalised_data['environment_index'], kf))"
   ]
  },
  {
   "cell_type": "code",
   "execution_count": 24,
   "metadata": {},
   "outputs": [
    {
     "name": "stdout",
     "output_type": "stream",
     "text": [
      "Accuracy: 0.725366483255\n"
     ]
    }
   ],
   "source": [
    "clustered_data = get_environment_clusters(data, 40, bin_vals)\n",
    "\n",
    "clustered_normalised_data = clustered_data[clustered_data['bin0']>0].copy().reindex()\n",
    "clustered_normalised_data[bin_vals] = clustered_normalised_data[bin_vals].apply(lambda row: row/np.sum(row), axis=1)\n",
    "\n",
    "svc = SVC(kernel=\"rbf\", gamma=\"auto\", probability=True)\n",
    "kf = KFold(len(clustered_normalised_data), n_folds=3, shuffle=True, random_state=0)\n",
    "\n",
    "print(\"Accuracy:\", get_training_accuracy_with_kfolds_iloc(svc, clustered_normalised_data[['unsupervised_environment_index']+bin_vals], \n",
    "                                                          clustered_normalised_data['environment_index'], kf))"
   ]
  },
  {
   "cell_type": "code",
   "execution_count": 25,
   "metadata": {},
   "outputs": [
    {
     "name": "stdout",
     "output_type": "stream",
     "text": [
      "Accuracy: 0.853874057469\n"
     ]
    }
   ],
   "source": [
    "# normalised values\n",
    "rf = RandomForestClassifier(random_state=0, n_estimators=50, n_jobs=-1)\n",
    "kf = KFold(len(data_normalised[bin_vals]), n_folds=3, shuffle=True, random_state=0)\n",
    "\n",
    "print(\"Accuracy:\", get_training_accuracy_with_kfolds_iloc(rf, data_normalised[bin_vals], data_normalised['environment_index'], kf))"
   ]
  },
  {
   "cell_type": "code",
   "execution_count": 26,
   "metadata": {},
   "outputs": [
    {
     "name": "stdout",
     "output_type": "stream",
     "text": [
      "Accuracy: 0.880055702738\n"
     ]
    }
   ],
   "source": [
    "clustered_data = get_environment_clusters(data, 40, bin_vals)\n",
    "\n",
    "clustered_normalised_data = clustered_data[clustered_data['bin0']>0].copy().reindex()\n",
    "clustered_normalised_data[bin_vals] = clustered_normalised_data[bin_vals].apply(lambda row: row/np.sum(row), axis=1)\n",
    "\n",
    "rf = RandomForestClassifier(random_state=0, n_estimators=50, n_jobs=-1)\n",
    "kf = KFold(len(clustered_normalised_data), n_folds=3, shuffle=True, random_state=0)\n",
    "\n",
    "print(\"Accuracy:\", get_training_accuracy_with_kfolds_iloc(rf, clustered_normalised_data[['unsupervised_environment_index']+bin_vals], \n",
    "                                                          clustered_normalised_data['environment_index'], kf))"
   ]
  },
  {
   "cell_type": "markdown",
   "metadata": {},
   "source": [
    "## Neural Networks"
   ]
  },
  {
   "cell_type": "markdown",
   "metadata": {},
   "source": [
    "### Default baseline: 1 layer"
   ]
  },
  {
   "cell_type": "code",
   "execution_count": 27,
   "metadata": {},
   "outputs": [
    {
     "name": "stdout",
     "output_type": "stream",
     "text": [
      "Accuracy: 0.745830446301\n"
     ]
    }
   ],
   "source": [
    "clf = MLPClassifier(solver='lbfgs', alpha=1e-5, hidden_layer_sizes=(15,), random_state=1)\n",
    "\n",
    "clustered_normalised_data = get_environment_clusters(clustered_normalised_data, 40, bin_vals)\n",
    "\n",
    "kf = KFold(len(clustered_normalised_data), n_folds=3, shuffle=True, random_state=0)\n",
    "\n",
    "print(\"Accuracy:\", get_training_accuracy_with_kfolds_iloc(clf, clustered_normalised_data[['unsupervised_environment_index']+bin_vals], \n",
    "                                                          clustered_normalised_data['environment_index'], kf))"
   ]
  },
  {
   "cell_type": "code",
   "execution_count": 28,
   "metadata": {},
   "outputs": [
    {
     "name": "stdout",
     "output_type": "stream",
     "text": [
      "Accuracy: 0.776763806807\n"
     ]
    }
   ],
   "source": [
    "# 25 inputs per input layer best performance\n",
    "clf = MLPClassifier(solver='lbfgs', alpha=1e-5, hidden_layer_sizes=(25,), random_state=1)\n",
    "\n",
    "clustered_normalised_data = get_environment_clusters(clustered_normalised_data, 40, bin_vals)\n",
    "\n",
    "kf = KFold(len(clustered_normalised_data), n_folds=3, shuffle=True, random_state=0)\n",
    "\n",
    "print(\"Accuracy:\", get_training_accuracy_with_kfolds_iloc(clf, clustered_normalised_data[['unsupervised_environment_index']+bin_vals], \n",
    "                                                          clustered_normalised_data['environment_index'], kf))"
   ]
  },
  {
   "cell_type": "code",
   "execution_count": 29,
   "metadata": {},
   "outputs": [
    {
     "name": "stdout",
     "output_type": "stream",
     "text": [
      "Accuracy: 0.832464506487\n"
     ]
    }
   ],
   "source": [
    "# environment clustering on raw bin values\n",
    "clustered_data = get_environment_clusters(data, 40, bin_vals)\n",
    "\n",
    "clustered_normalised_data = clustered_data[clustered_data['bin0']>0].copy().reindex()\n",
    "clustered_normalised_data[bin_vals] = clustered_normalised_data[bin_vals].apply(lambda row: row/np.sum(row), axis=1)\n",
    "\n",
    "clf = MLPClassifier(solver='lbfgs', alpha=1e-5, hidden_layer_sizes=(25,), random_state=1)\n",
    "kf = KFold(len(clustered_normalised_data), n_folds=3, shuffle=True, random_state=0)\n",
    "\n",
    "print(\"Accuracy:\", get_training_accuracy_with_kfolds_iloc(clf, clustered_normalised_data[['unsupervised_environment_index']+bin_vals], \n",
    "                                                          clustered_normalised_data['environment_index'], kf))"
   ]
  },
  {
   "cell_type": "markdown",
   "metadata": {},
   "source": [
    "### Increasing number of layers"
   ]
  },
  {
   "cell_type": "code",
   "execution_count": 30,
   "metadata": {},
   "outputs": [
    {
     "name": "stdout",
     "output_type": "stream",
     "text": [
      "Accuracy: 0.835793084709\n"
     ]
    }
   ],
   "source": [
    "# environment clustering on raw bin values: 2 hidden layers\n",
    "clustered_data = get_environment_clusters(data, 40, bin_vals)\n",
    "\n",
    "clustered_normalised_data = clustered_data[clustered_data['bin0']>0].copy().reindex()\n",
    "clustered_normalised_data[bin_vals] = clustered_normalised_data[bin_vals].apply(lambda row: row/np.sum(row), axis=1)\n",
    "\n",
    "clf = MLPClassifier(solver='lbfgs', alpha=1e-5, hidden_layer_sizes=(25, 25), random_state=1)\n",
    "kf = KFold(len(clustered_normalised_data), n_folds=3, shuffle=True, random_state=0)\n",
    "\n",
    "print(\"Accuracy:\", get_training_accuracy_with_kfolds_iloc(clf, clustered_normalised_data[['unsupervised_environment_index']+bin_vals], \n",
    "                                                          clustered_normalised_data['environment_index'], kf))"
   ]
  },
  {
   "cell_type": "code",
   "execution_count": 31,
   "metadata": {},
   "outputs": [
    {
     "name": "stdout",
     "output_type": "stream",
     "text": [
      "Accuracy: 0.841035935059\n"
     ]
    }
   ],
   "source": [
    "# environment clustering on raw bin values: 3 hidden layers\n",
    "clustered_data = get_environment_clusters(data, 40, bin_vals)\n",
    "\n",
    "clustered_normalised_data = clustered_data[clustered_data['bin0']>0].copy().reindex()\n",
    "clustered_normalised_data[bin_vals] = clustered_normalised_data[bin_vals].apply(lambda row: row/np.sum(row), axis=1)\n",
    "\n",
    "clf = MLPClassifier(solver='lbfgs', alpha=1e-5, hidden_layer_sizes=(25,25,25), random_state=1)\n",
    "kf = KFold(len(clustered_normalised_data), n_folds=3, shuffle=True, random_state=0)\n",
    "\n",
    "print(\"Accuracy:\", get_training_accuracy_with_kfolds_iloc(clf, clustered_normalised_data[['unsupervised_environment_index']+bin_vals], \n",
    "                                                          clustered_normalised_data['environment_index'], kf))"
   ]
  },
  {
   "cell_type": "code",
   "execution_count": 32,
   "metadata": {},
   "outputs": [
    {
     "name": "stdout",
     "output_type": "stream",
     "text": [
      "Accuracy: 0.830551592962\n"
     ]
    }
   ],
   "source": [
    "# environment clustering on raw bin values: 4 hidden layers\n",
    "clustered_data = get_environment_clusters(data, 40, bin_vals)\n",
    "\n",
    "clustered_normalised_data = clustered_data[clustered_data['bin0']>0].copy().reindex()\n",
    "clustered_normalised_data[bin_vals] = clustered_normalised_data[bin_vals].apply(lambda row: row/np.sum(row), axis=1)\n",
    "\n",
    "clf = MLPClassifier(solver='lbfgs', alpha=1e-5, hidden_layer_sizes=(25,25,25,25), random_state=1)\n",
    "kf = KFold(len(clustered_normalised_data), n_folds=3, shuffle=True, random_state=0)\n",
    "\n",
    "print(\"Accuracy:\", get_training_accuracy_with_kfolds_iloc(clf, clustered_normalised_data[['unsupervised_environment_index']+bin_vals], \n",
    "                                                          clustered_normalised_data['environment_index'], kf))"
   ]
  },
  {
   "cell_type": "markdown",
   "metadata": {},
   "source": [
    "## Changing max iterations rate"
   ]
  },
  {
   "cell_type": "code",
   "execution_count": 40,
   "metadata": {},
   "outputs": [
    {
     "name": "stdout",
     "output_type": "stream",
     "text": [
      "Accuracy: 0.856732558929\n"
     ]
    }
   ],
   "source": [
    "# environment clustering on raw bin values: 3 hidden layers\n",
    "clustered_data = get_environment_clusters(data, 40, bin_vals)\n",
    "\n",
    "clustered_normalised_data = clustered_data[clustered_data['bin0']>0].copy().reindex()\n",
    "clustered_normalised_data[bin_vals] = clustered_normalised_data[bin_vals].apply(lambda row: row/np.sum(row), axis=1)\n",
    "\n",
    "clf = MLPClassifier(solver='lbfgs', \n",
    "                    alpha=1e-5, \n",
    "                    hidden_layer_sizes=(25,25,25), \n",
    "                    random_state=1, \n",
    "                    max_iter=500)\n",
    "kf = KFold(len(clustered_normalised_data), n_folds=3, shuffle=True, random_state=0)\n",
    "\n",
    "print(\"Accuracy:\", get_training_accuracy_with_kfolds_iloc(clf, clustered_normalised_data[['unsupervised_environment_index']+bin_vals], \n",
    "                                                          clustered_normalised_data['environment_index'], kf))"
   ]
  },
  {
   "cell_type": "code",
   "execution_count": 41,
   "metadata": {},
   "outputs": [
    {
     "name": "stdout",
     "output_type": "stream",
     "text": [
      "Accuracy: 0.861493105088\n"
     ]
    }
   ],
   "source": [
    "# environment clustering on raw bin values: 3 hidden layers\n",
    "clustered_data = get_environment_clusters(data, 40, bin_vals)\n",
    "\n",
    "clustered_normalised_data = clustered_data[clustered_data['bin0']>0].copy().reindex()\n",
    "clustered_normalised_data[bin_vals] = clustered_normalised_data[bin_vals].apply(lambda row: row/np.sum(row), axis=1)\n",
    "\n",
    "clf = MLPClassifier(solver='lbfgs', \n",
    "                    alpha=1e-5, \n",
    "                    hidden_layer_sizes=(25,25,25,25), \n",
    "                    random_state=1, \n",
    "                    max_iter=500)\n",
    "kf = KFold(len(clustered_normalised_data), n_folds=3, shuffle=True, random_state=0)\n",
    "\n",
    "print(\"Accuracy:\", get_training_accuracy_with_kfolds_iloc(clf, clustered_normalised_data[['unsupervised_environment_index']+bin_vals], \n",
    "                                                          clustered_normalised_data['environment_index'], kf))"
   ]
  },
  {
   "cell_type": "code",
   "execution_count": 54,
   "metadata": {},
   "outputs": [
    {
     "name": "stdout",
     "output_type": "stream",
     "text": [
      "Accuracy: 0.827225052646\n"
     ]
    }
   ],
   "source": [
    "# environment clustering on raw bin values: 3 hidden layers\n",
    "clustered_data = get_environment_clusters(data, 40, bin_vals)\n",
    "\n",
    "clustered_normalised_data = clustered_data[clustered_data['bin0']>0].copy().reindex()\n",
    "clustered_normalised_data[bin_vals] = clustered_normalised_data[bin_vals].apply(lambda row: row/np.sum(row), axis=1)\n",
    "\n",
    "clf = MLPClassifier(solver='lbfgs', \n",
    "                    alpha=1e-5, \n",
    "                    hidden_layer_sizes=(25,25,25,25), \n",
    "                    random_state=1, \n",
    "                    max_iter=500)\n",
    "kf = KFold(len(clustered_normalised_data), n_folds=3, shuffle=True, random_state=0)\n",
    "\n",
    "print(\"Accuracy:\", get_training_accuracy_with_kfolds_iloc(clf, clustered_normalised_data[['unsupervised_environment_index']+bin_vals], \n",
    "                                                          clustered_normalised_data['environment_index'], kf))"
   ]
  },
  {
   "cell_type": "markdown",
   "metadata": {},
   "source": [
    "## Environment Types comparison"
   ]
  },
  {
   "cell_type": "code",
   "execution_count": null,
   "metadata": {},
   "outputs": [],
   "source": [
    "bike_data_old[bin_vals].describe().loc['mean'].plot(kind='bar')"
   ]
  },
  {
   "cell_type": "code",
   "execution_count": null,
   "metadata": {},
   "outputs": [],
   "source": [
    "bike_data_feb[bin_vals].describe().loc['mean'].plot(kind='bar')"
   ]
  },
  {
   "cell_type": "code",
   "execution_count": null,
   "metadata": {
    "collapsed": true
   },
   "outputs": [],
   "source": [
    "normalised_bike_old_bins = bike_data_old[bin_vals].apply(lambda row: row/np.sum(row), axis=1)\n",
    "normalised_bike_feb_bins = bike_data_feb[bin_vals].apply(lambda row: row/np.sum(row), axis=1)"
   ]
  },
  {
   "cell_type": "code",
   "execution_count": null,
   "metadata": {},
   "outputs": [],
   "source": [
    "normalised_bike_feb_bins.describe().loc['mean'].plot(kind='bar')\n",
    "plt.title('Normalised Bin Counts For Bike on Street')\n",
    "plt.show()"
   ]
  },
  {
   "cell_type": "code",
   "execution_count": null,
   "metadata": {},
   "outputs": [],
   "source": [
    "normalised_bike_old_bins.describe().loc['mean'].plot(kind='bar')\n",
    "plt.title('Normalised Bin Counts For Bike during Summer')\n",
    "plt.show()"
   ]
  },
  {
   "cell_type": "code",
   "execution_count": null,
   "metadata": {
    "collapsed": true
   },
   "outputs": [],
   "source": [
    "bike = pd.read_csv('../data/misc/2015062518.csv')"
   ]
  },
  {
   "cell_type": "code",
   "execution_count": null,
   "metadata": {},
   "outputs": [],
   "source": [
    "bike[bin_vals].describe().loc['mean'].plot(kind='bar')"
   ]
  },
  {
   "cell_type": "code",
   "execution_count": null,
   "metadata": {
    "collapsed": true
   },
   "outputs": [],
   "source": [
    "bike[bin_vals] = bike[bin_vals].apply(lambda row: row/np.sum(row), axis=1)\n",
    "bike = pd.concat([bike[bin_vals], normalised_bike_feb_bins], ignore_index=True)"
   ]
  },
  {
   "cell_type": "code",
   "execution_count": null,
   "metadata": {},
   "outputs": [],
   "source": [
    "bike[bin_vals].describe().loc['mean'].plot(kind='bar')\n",
    "plt.title('Normalised Bin Counts For Bike in Feb')\n",
    "plt.show()"
   ]
  },
  {
   "cell_type": "code",
   "execution_count": null,
   "metadata": {},
   "outputs": [],
   "source": [
    "bike"
   ]
  },
  {
   "cell_type": "code",
   "execution_count": null,
   "metadata": {},
   "outputs": [],
   "source": [
    "# absolute values for walking data from day 04\n",
    "data04[bin_vals].describe().loc['mean'].plot(kind='bar')"
   ]
  },
  {
   "cell_type": "code",
   "execution_count": null,
   "metadata": {},
   "outputs": [],
   "source": [
    "# normalised walking data from day 04\n",
    "norm_walk = data04[bin_vals].apply(lambda row: row/np.sum(row), axis=1)\n",
    "norm_walk.describe().loc['mean'].plot(kind='bar')\n",
    "plt.title('Normalised Bin Counts For Walking Data')\n",
    "plt.show()"
   ]
  },
  {
   "cell_type": "code",
   "execution_count": null,
   "metadata": {},
   "outputs": [],
   "source": [
    "train_bins = data[data['environment_index']==2][bin_vals]\n",
    "train_bins.describe().loc['mean'].plot(kind='bar')"
   ]
  },
  {
   "cell_type": "code",
   "execution_count": null,
   "metadata": {},
   "outputs": [],
   "source": [
    "norm_train_bins = train_bins.apply(lambda row: row/np.sum(row), axis=1)\n",
    "norm_train_bins.describe().loc['mean'].plot(kind='bar')\n",
    "plt.title('Normalised Bin Counts For Train')\n",
    "plt.show()"
   ]
  },
  {
   "cell_type": "code",
   "execution_count": null,
   "metadata": {},
   "outputs": [],
   "source": [
    "bus_bins = data[data['environment_index']==4][bin_vals]\n",
    "bus_bins.describe().loc['mean'].plot(kind='bar')"
   ]
  },
  {
   "cell_type": "code",
   "execution_count": null,
   "metadata": {},
   "outputs": [],
   "source": [
    "norm_bus_bins = bus_bins.apply(lambda row: row/np.sum(row), axis=1)\n",
    "norm_bus_bins.describe().loc['mean'].plot(kind='bar')\n",
    "plt.title('Normalised Bin Counts For Bus')\n",
    "plt.show()"
   ]
  },
  {
   "cell_type": "code",
   "execution_count": null,
   "metadata": {},
   "outputs": [],
   "source": [
    "train_stationary_bins = data[data['environment_index']==5][bin_vals]\n",
    "train_stationary_bins.describe().loc['mean'].plot(kind='bar')"
   ]
  },
  {
   "cell_type": "code",
   "execution_count": null,
   "metadata": {},
   "outputs": [],
   "source": [
    "norm_train_stationary_bins = train_stationary_bins.apply(lambda row: row/np.sum(row), axis=1)\n",
    "norm_train_stationary_bins.describe().loc['mean'].plot(kind='bar')\n",
    "plt.title('Normalised Bin Counts For Stationary Train')\n",
    "plt.show()"
   ]
  },
  {
   "cell_type": "code",
   "execution_count": null,
   "metadata": {},
   "outputs": [],
   "source": [
    "underground_bins = data[data['environment_index']==6][bin_vals]\n",
    "underground_bins.describe().loc['mean'].plot(kind='bar')"
   ]
  },
  {
   "cell_type": "code",
   "execution_count": null,
   "metadata": {},
   "outputs": [],
   "source": [
    "norm_underground_bins = underground_bins.apply(lambda row: row/np.sum(row), axis=1)\n",
    "norm_underground_bins.describe().loc['mean'].plot(kind='bar')\n",
    "plt.title('Normalised Bin Counts For Subway')\n",
    "plt.show()"
   ]
  }
 ],
 "metadata": {
  "kernelspec": {
   "display_name": "Python 3",
   "language": "python",
   "name": "python3"
  },
  "language_info": {
   "codemirror_mode": {
    "name": "ipython",
    "version": 3
   },
   "file_extension": ".py",
   "mimetype": "text/x-python",
   "name": "python",
   "nbconvert_exporter": "python",
   "pygments_lexer": "ipython3",
   "version": "3.6.2"
  }
 },
 "nbformat": 4,
 "nbformat_minor": 2
}
