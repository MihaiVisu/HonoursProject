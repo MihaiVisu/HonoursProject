{
 "cells": [
  {
   "cell_type": "code",
   "execution_count": 1056,
   "metadata": {
    "collapsed": true
   },
   "outputs": [],
   "source": [
    "from __future__ import print_function, division\n",
    "%matplotlib inline\n",
    "\n",
    "# import used packages and modules\n",
    "# import display function to display the table of the pandas dataframe\n",
    "from IPython.display import display\n",
    "\n",
    "from sklearn.linear_model import LogisticRegressionCV\n",
    "from sklearn.preprocessing import StandardScaler\n",
    "from sklearn.cross_validation import KFold\n",
    "from sklearn.model_selection import LeaveOneOut, train_test_split\n",
    "from sklearn.tree import DecisionTreeClassifier, ExtraTreeClassifier\n",
    "from sklearn.svm import SVC\n",
    "from sklearn.decomposition import PCA\n",
    "from sklearn.neighbors import KNeighborsClassifier\n",
    "from sklearn.cluster import KMeans\n",
    "from sklearn.ensemble import RandomForestClassifier, ExtraTreesClassifier\n",
    "\n",
    "from sklearn.neural_network import MLPClassifier\n",
    "from sklearn.naive_bayes import GaussianNB\n",
    "from sklearn.semi_supervised import LabelSpreading\n",
    "\n",
    "from sklearn.metrics import accuracy_score, confusion_matrix\n",
    "\n",
    "from sklearn.exceptions import NotFittedError\n",
    "\n",
    "from scipy import signal\n",
    "\n",
    "from hmmlearn import hmm\n",
    "from seqlearn.hmm import MultinomialHMM\n",
    "\n",
    "import datetime\n",
    "import matplotlib.dates as mdates\n",
    "import matplotlib.pyplot as plt\n",
    "import numpy as np\n",
    "import pandas as pd\n",
    "import seaborn as sns\n",
    "import csv\n",
    "\n",
    "\n",
    "import tensorflow as tf\n",
    "import tflearn\n",
    "from tflearn.layers.conv import conv_2d, max_pool_2d\n",
    "from tflearn.layers.core import input_data, dropout, fully_connected\n",
    "from tflearn.layers.estimator import regression\n",
    "from tflearn.layers.normalization import local_response_normalization"
   ]
  },
  {
   "cell_type": "markdown",
   "metadata": {},
   "source": [
    "# Importing Data"
   ]
  },
  {
   "cell_type": "code",
   "execution_count": 1192,
   "metadata": {
    "collapsed": true
   },
   "outputs": [],
   "source": [
    "train_manchester = pd.read_csv('../data/misc/Train_Manchester_Northwich.csv')\n",
    "london_data = pd.read_csv('../data/london_data/london_data.csv')\n",
    "train_data_mar = pd.read_csv('../data/validation/train-15-03-2018.csv')\n",
    "\n",
    "data04 = pd.read_csv('../data/meadows_december/meadows-2017-12-04.csv')\n",
    "data05 = pd.read_csv('../data/meadows_december/meadows-2017-12-05.csv')\n",
    "data06 = pd.read_csv('../data/meadows_december/meadows-2017-12-06.csv')\n",
    "data07 = pd.read_csv('../data/meadows_december/meadows-2017-12-07.csv')\n",
    "\n",
    "bike_data_old = pd.read_csv('../data/misc/2015061911.csv')\n",
    "bike_data_old2 = pd.read_csv('../data/misc/2015061817.csv')\n",
    "bike_data_old3 = pd.read_csv('../data/misc/20150618.csv')\n",
    "bike_data_feb = pd.read_csv('../data/misc/bike_feb.csv')\n",
    "\n",
    "walk_data_vlad1 = pd.read_csv('../data/validation/015Outdoor-Day-2018-02-28.csv')\n",
    "walk_data_vlad2 = pd.read_csv('../data/validation/024Outdoor-Day-2018-03-05.csv')\n",
    "\n",
    "bus_data = pd.read_csv('../data/validation/queensferry-13-03-2018.csv')"
   ]
  },
  {
   "cell_type": "markdown",
   "metadata": {},
   "source": [
    "# Merging Data"
   ]
  },
  {
   "cell_type": "code",
   "execution_count": 1193,
   "metadata": {
    "collapsed": true
   },
   "outputs": [],
   "source": [
    "bin_vals = ['bin'+str(x) for x in range(0,16)]\n",
    "norm_bin_vals = ['bin_norm'+str(x) for x in range(0,16)]\n",
    "pm_vals = ['pm1', 'pm2_5', 'pm10']"
   ]
  },
  {
   "cell_type": "code",
   "execution_count": 1194,
   "metadata": {
    "collapsed": true
   },
   "outputs": [],
   "source": [
    "# environment index is 0 as all data from these datasets is walking data\n",
    "data04['environment_index'] = 0\n",
    "data05['environment_index'] = 0\n",
    "data06['environment_index'] = 0\n",
    "data07['environment_index'] = 0\n",
    "\n",
    "walk_data_vlad1['environment_index'] = 0\n",
    "walk_data_vlad2['environment_index'] = 0\n",
    "\n",
    "# environment index is 3 for bike data\n",
    "bike_data_old['environment_index'] = 3\n",
    "bike_data_old2['environment_index'] = 3\n",
    "bike_data_old3['environment_index'] = 3\n",
    "bike_data_feb['environment_index'] = 3\n",
    "\n",
    "# rename columns\n",
    "bike_data_old2 = bike_data_old2.rename(\n",
    "    index=str, columns={\"latitude\":'gpsLatitude', \"longitude\":'gpsLongitude'})\n",
    "bike_data_old3 = bike_data_old3.rename(\n",
    "    index=str, columns={\"latitude\":'gpsLatitude', \"longitude\":'gpsLongitude'})\n",
    "\n",
    "labels = bin_vals + pm_vals + ['environment_index', 'gpsLatitude', 'gpsLongitude', 'humidity', 'temperature']\n",
    "\n",
    "bus_data_bus = bus_data[bus_data['environment_index']==4].copy()\n",
    "\n",
    "train_data_mar['environment_index'] = 2\n",
    "\n",
    "data = pd.concat([london_data[labels],\n",
    "                  train_manchester[labels], \n",
    "                  data04[labels], \n",
    "                  data05[labels],\n",
    "                  data06[labels],\n",
    "                  train_data_mar[700:][labels],\n",
    "                  data07[labels],\n",
    "                  bus_data_bus[labels],\n",
    "                  walk_data_vlad1[labels],\n",
    "                  walk_data_vlad2[labels],\n",
    "                  bike_data_old2[labels],\n",
    "                  bike_data_feb[labels]], ignore_index=True)\n",
    "\n",
    "# remove indoor labelled data for this set of experiments\n",
    "data = data[data['environment_index']!=7]\n",
    "data = data[data['environment_index']!=5]\n",
    "data = data[data['humidity']>0]\n",
    "data = data[data['temperature']>0]\n",
    "data['total'] = data[bin_vals].apply(lambda row: np.sum(row), axis=1)\n",
    "data = data[data['total']>0]"
   ]
  },
  {
   "cell_type": "markdown",
   "metadata": {},
   "source": [
    "### Data Information"
   ]
  },
  {
   "cell_type": "code",
   "execution_count": 1195,
   "metadata": {},
   "outputs": [
    {
     "data": {
      "text/html": [
       "<div>\n",
       "<style scoped>\n",
       "    .dataframe tbody tr th:only-of-type {\n",
       "        vertical-align: middle;\n",
       "    }\n",
       "\n",
       "    .dataframe tbody tr th {\n",
       "        vertical-align: top;\n",
       "    }\n",
       "\n",
       "    .dataframe thead th {\n",
       "        text-align: right;\n",
       "    }\n",
       "</style>\n",
       "<table border=\"1\" class=\"dataframe\">\n",
       "  <thead>\n",
       "    <tr style=\"text-align: right;\">\n",
       "      <th></th>\n",
       "      <th>bin0</th>\n",
       "      <th>bin1</th>\n",
       "      <th>bin2</th>\n",
       "      <th>bin3</th>\n",
       "      <th>bin4</th>\n",
       "      <th>bin5</th>\n",
       "      <th>bin6</th>\n",
       "      <th>bin7</th>\n",
       "      <th>bin8</th>\n",
       "      <th>bin9</th>\n",
       "      <th>...</th>\n",
       "      <th>bin15</th>\n",
       "      <th>pm1</th>\n",
       "      <th>pm2_5</th>\n",
       "      <th>pm10</th>\n",
       "      <th>environment_index</th>\n",
       "      <th>gpsLatitude</th>\n",
       "      <th>gpsLongitude</th>\n",
       "      <th>humidity</th>\n",
       "      <th>temperature</th>\n",
       "      <th>total</th>\n",
       "    </tr>\n",
       "  </thead>\n",
       "  <tbody>\n",
       "    <tr>\n",
       "      <th>count</th>\n",
       "      <td>5433.000000</td>\n",
       "      <td>5433.000000</td>\n",
       "      <td>5433.000000</td>\n",
       "      <td>5433.000000</td>\n",
       "      <td>5433.000000</td>\n",
       "      <td>5433.000000</td>\n",
       "      <td>5433.000000</td>\n",
       "      <td>5433.000000</td>\n",
       "      <td>5433.000000</td>\n",
       "      <td>5433.000000</td>\n",
       "      <td>...</td>\n",
       "      <td>5433.000000</td>\n",
       "      <td>5433.000000</td>\n",
       "      <td>5433.000000</td>\n",
       "      <td>5433.000000</td>\n",
       "      <td>5433.000000</td>\n",
       "      <td>5433.000000</td>\n",
       "      <td>5433.000000</td>\n",
       "      <td>5433.000000</td>\n",
       "      <td>5433.000000</td>\n",
       "      <td>5433.000000</td>\n",
       "    </tr>\n",
       "    <tr>\n",
       "      <th>mean</th>\n",
       "      <td>445.877416</td>\n",
       "      <td>105.656359</td>\n",
       "      <td>61.346218</td>\n",
       "      <td>35.001657</td>\n",
       "      <td>13.104730</td>\n",
       "      <td>12.628198</td>\n",
       "      <td>7.890300</td>\n",
       "      <td>3.621756</td>\n",
       "      <td>3.937051</td>\n",
       "      <td>2.652126</td>\n",
       "      <td>...</td>\n",
       "      <td>6.461071</td>\n",
       "      <td>5.749016</td>\n",
       "      <td>10.294989</td>\n",
       "      <td>20.438631</td>\n",
       "      <td>2.046567</td>\n",
       "      <td>55.380385</td>\n",
       "      <td>-2.668285</td>\n",
       "      <td>52.846576</td>\n",
       "      <td>18.388471</td>\n",
       "      <td>738.371986</td>\n",
       "    </tr>\n",
       "    <tr>\n",
       "      <th>std</th>\n",
       "      <td>814.576795</td>\n",
       "      <td>210.168545</td>\n",
       "      <td>120.441711</td>\n",
       "      <td>63.935510</td>\n",
       "      <td>23.685048</td>\n",
       "      <td>22.390048</td>\n",
       "      <td>23.783885</td>\n",
       "      <td>48.131279</td>\n",
       "      <td>136.836988</td>\n",
       "      <td>129.174203</td>\n",
       "      <td>...</td>\n",
       "      <td>324.238153</td>\n",
       "      <td>8.369374</td>\n",
       "      <td>11.228641</td>\n",
       "      <td>47.099152</td>\n",
       "      <td>1.552305</td>\n",
       "      <td>1.228515</td>\n",
       "      <td>0.979598</td>\n",
       "      <td>10.683366</td>\n",
       "      <td>7.552435</td>\n",
       "      <td>2798.603340</td>\n",
       "    </tr>\n",
       "    <tr>\n",
       "      <th>min</th>\n",
       "      <td>0.000000</td>\n",
       "      <td>0.000000</td>\n",
       "      <td>0.000000</td>\n",
       "      <td>0.000000</td>\n",
       "      <td>0.000000</td>\n",
       "      <td>0.000000</td>\n",
       "      <td>0.000000</td>\n",
       "      <td>0.000000</td>\n",
       "      <td>0.000000</td>\n",
       "      <td>0.000000</td>\n",
       "      <td>...</td>\n",
       "      <td>0.000000</td>\n",
       "      <td>0.000000</td>\n",
       "      <td>0.000000</td>\n",
       "      <td>0.000000</td>\n",
       "      <td>0.000000</td>\n",
       "      <td>51.493892</td>\n",
       "      <td>-3.397216</td>\n",
       "      <td>17.600000</td>\n",
       "      <td>0.100000</td>\n",
       "      <td>1.000000</td>\n",
       "    </tr>\n",
       "    <tr>\n",
       "      <th>25%</th>\n",
       "      <td>61.000000</td>\n",
       "      <td>25.000000</td>\n",
       "      <td>16.000000</td>\n",
       "      <td>8.000000</td>\n",
       "      <td>2.000000</td>\n",
       "      <td>2.000000</td>\n",
       "      <td>1.000000</td>\n",
       "      <td>0.000000</td>\n",
       "      <td>0.000000</td>\n",
       "      <td>0.000000</td>\n",
       "      <td>...</td>\n",
       "      <td>0.000000</td>\n",
       "      <td>1.738489</td>\n",
       "      <td>4.848543</td>\n",
       "      <td>6.772854</td>\n",
       "      <td>0.000000</td>\n",
       "      <td>55.833715</td>\n",
       "      <td>-3.198244</td>\n",
       "      <td>44.600002</td>\n",
       "      <td>14.100000</td>\n",
       "      <td>163.000000</td>\n",
       "    </tr>\n",
       "    <tr>\n",
       "      <th>50%</th>\n",
       "      <td>281.000000</td>\n",
       "      <td>72.000000</td>\n",
       "      <td>40.000000</td>\n",
       "      <td>22.000000</td>\n",
       "      <td>7.000000</td>\n",
       "      <td>7.000000</td>\n",
       "      <td>4.000000</td>\n",
       "      <td>1.000000</td>\n",
       "      <td>0.000000</td>\n",
       "      <td>0.000000</td>\n",
       "      <td>...</td>\n",
       "      <td>0.000000</td>\n",
       "      <td>3.773723</td>\n",
       "      <td>7.886102</td>\n",
       "      <td>11.176591</td>\n",
       "      <td>2.000000</td>\n",
       "      <td>55.944517</td>\n",
       "      <td>-3.188284</td>\n",
       "      <td>52.683489</td>\n",
       "      <td>18.540000</td>\n",
       "      <td>487.000000</td>\n",
       "    </tr>\n",
       "    <tr>\n",
       "      <th>75%</th>\n",
       "      <td>511.000000</td>\n",
       "      <td>113.000000</td>\n",
       "      <td>71.000000</td>\n",
       "      <td>41.000000</td>\n",
       "      <td>16.000000</td>\n",
       "      <td>16.000000</td>\n",
       "      <td>10.000000</td>\n",
       "      <td>3.000000</td>\n",
       "      <td>1.000000</td>\n",
       "      <td>1.000000</td>\n",
       "      <td>...</td>\n",
       "      <td>0.000000</td>\n",
       "      <td>7.238554</td>\n",
       "      <td>12.253427</td>\n",
       "      <td>19.927404</td>\n",
       "      <td>3.000000</td>\n",
       "      <td>55.950873</td>\n",
       "      <td>-2.338902</td>\n",
       "      <td>57.500000</td>\n",
       "      <td>24.100000</td>\n",
       "      <td>768.000000</td>\n",
       "    </tr>\n",
       "    <tr>\n",
       "      <th>max</th>\n",
       "      <td>12336.000000</td>\n",
       "      <td>4758.000000</td>\n",
       "      <td>3710.000000</td>\n",
       "      <td>1997.000000</td>\n",
       "      <td>538.000000</td>\n",
       "      <td>434.000000</td>\n",
       "      <td>656.000000</td>\n",
       "      <td>3343.000000</td>\n",
       "      <td>7955.000000</td>\n",
       "      <td>9500.000000</td>\n",
       "      <td>...</td>\n",
       "      <td>16999.000000</td>\n",
       "      <td>108.471610</td>\n",
       "      <td>158.405240</td>\n",
       "      <td>1051.750977</td>\n",
       "      <td>6.000000</td>\n",
       "      <td>56.008247</td>\n",
       "      <td>-0.100202</td>\n",
       "      <td>89.800000</td>\n",
       "      <td>110.700005</td>\n",
       "      <td>152492.000000</td>\n",
       "    </tr>\n",
       "  </tbody>\n",
       "</table>\n",
       "<p>8 rows × 25 columns</p>\n",
       "</div>"
      ],
      "text/plain": [
       "               bin0         bin1         bin2         bin3         bin4  \\\n",
       "count   5433.000000  5433.000000  5433.000000  5433.000000  5433.000000   \n",
       "mean     445.877416   105.656359    61.346218    35.001657    13.104730   \n",
       "std      814.576795   210.168545   120.441711    63.935510    23.685048   \n",
       "min        0.000000     0.000000     0.000000     0.000000     0.000000   \n",
       "25%       61.000000    25.000000    16.000000     8.000000     2.000000   \n",
       "50%      281.000000    72.000000    40.000000    22.000000     7.000000   \n",
       "75%      511.000000   113.000000    71.000000    41.000000    16.000000   \n",
       "max    12336.000000  4758.000000  3710.000000  1997.000000   538.000000   \n",
       "\n",
       "              bin5         bin6         bin7         bin8         bin9  \\\n",
       "count  5433.000000  5433.000000  5433.000000  5433.000000  5433.000000   \n",
       "mean     12.628198     7.890300     3.621756     3.937051     2.652126   \n",
       "std      22.390048    23.783885    48.131279   136.836988   129.174203   \n",
       "min       0.000000     0.000000     0.000000     0.000000     0.000000   \n",
       "25%       2.000000     1.000000     0.000000     0.000000     0.000000   \n",
       "50%       7.000000     4.000000     1.000000     0.000000     0.000000   \n",
       "75%      16.000000    10.000000     3.000000     1.000000     1.000000   \n",
       "max     434.000000   656.000000  3343.000000  7955.000000  9500.000000   \n",
       "\n",
       "           ...               bin15          pm1        pm2_5         pm10  \\\n",
       "count      ...         5433.000000  5433.000000  5433.000000  5433.000000   \n",
       "mean       ...            6.461071     5.749016    10.294989    20.438631   \n",
       "std        ...          324.238153     8.369374    11.228641    47.099152   \n",
       "min        ...            0.000000     0.000000     0.000000     0.000000   \n",
       "25%        ...            0.000000     1.738489     4.848543     6.772854   \n",
       "50%        ...            0.000000     3.773723     7.886102    11.176591   \n",
       "75%        ...            0.000000     7.238554    12.253427    19.927404   \n",
       "max        ...        16999.000000   108.471610   158.405240  1051.750977   \n",
       "\n",
       "       environment_index  gpsLatitude  gpsLongitude     humidity  temperature  \\\n",
       "count        5433.000000  5433.000000   5433.000000  5433.000000  5433.000000   \n",
       "mean            2.046567    55.380385     -2.668285    52.846576    18.388471   \n",
       "std             1.552305     1.228515      0.979598    10.683366     7.552435   \n",
       "min             0.000000    51.493892     -3.397216    17.600000     0.100000   \n",
       "25%             0.000000    55.833715     -3.198244    44.600002    14.100000   \n",
       "50%             2.000000    55.944517     -3.188284    52.683489    18.540000   \n",
       "75%             3.000000    55.950873     -2.338902    57.500000    24.100000   \n",
       "max             6.000000    56.008247     -0.100202    89.800000   110.700005   \n",
       "\n",
       "               total  \n",
       "count    5433.000000  \n",
       "mean      738.371986  \n",
       "std      2798.603340  \n",
       "min         1.000000  \n",
       "25%       163.000000  \n",
       "50%       487.000000  \n",
       "75%       768.000000  \n",
       "max    152492.000000  \n",
       "\n",
       "[8 rows x 25 columns]"
      ]
     },
     "execution_count": 1195,
     "metadata": {},
     "output_type": "execute_result"
    }
   ],
   "source": [
    "data.describe()"
   ]
  },
  {
   "cell_type": "markdown",
   "metadata": {},
   "source": [
    "### Labels"
   ]
  },
  {
   "cell_type": "code",
   "execution_count": 1132,
   "metadata": {
    "collapsed": true
   },
   "outputs": [],
   "source": [
    "labels_idx = np.array([0, 1, 2, 3, 4, 6])"
   ]
  },
  {
   "cell_type": "code",
   "execution_count": 1133,
   "metadata": {},
   "outputs": [
    {
     "data": {
      "image/png": "[encoded data removed]",
      "text/plain": [
       "<matplotlib.figure.Figure at 0x12995d048>"
      ]
     },
     "metadata": {},
     "output_type": "display_data"
    }
   ],
   "source": [
    "hist = plt.figure()\n",
    "g = sns.distplot(data['environment_index'], kde=False)\n",
    "g.set_xticklabels(['', 'on foot', 'car', 'train', 'bike', 'bus', '', 'subway'])\n",
    "plt.xlabel('mode of transport label')\n",
    "plt.tight_layout()\n",
    "hist.savefig('../report/distribution.pdf')\n",
    "plt.show()"
   ]
  },
  {
   "cell_type": "markdown",
   "metadata": {},
   "source": [
    "# Kmeans"
   ]
  },
  {
   "cell_type": "code",
   "execution_count": 1096,
   "metadata": {
    "collapsed": true
   },
   "outputs": [],
   "source": [
    "# method to get the cluster means of the data points based on coordinates\n",
    "# and the queried columns\n",
    "def get_location_cluster_means(data, cluster_no, cols):\n",
    "    # obtain indices of clusters\n",
    "    kmeans = KMeans(n_clusters=cluster_no, random_state=0)\n",
    "    # remove data rows with null coordinates\n",
    "    data = data[~np.isnan(data['gpsLatitude'])]\n",
    "    # get the indices of the location based clusters\n",
    "    indices = kmeans.fit_predict(data[['gpsLatitude', 'gpsLongitude']])\n",
    "    freqs = np.bincount(indices)\n",
    "    # initialise means of queried columns\n",
    "    means = np.zeros((cluster_no, len(cols)))\n",
    "    # assign clustered_indices to dataframe\n",
    "    data['clustered_index'] = indices\n",
    "    # compute means of queried columns\n",
    "    for index in np.unique(indices):\n",
    "        means[index] = np.mean(data[data['clustered_index'] == index][cols])\n",
    "    return means, data"
   ]
  },
  {
   "cell_type": "code",
   "execution_count": 1217,
   "metadata": {
    "collapsed": true
   },
   "outputs": [],
   "source": [
    "# method to get the clusters of the environments corresponding to the 6 environments based on\n",
    "# the queried columns and number of location clusters\n",
    "def get_environment_clusters(data, cluster_no, cols, kmeans=None):\n",
    "    means, d = get_location_cluster_means(data, cluster_no, cols)\n",
    "    # we have 5 clusters corresponding to 5 different types of environment\n",
    "    if not kmeans:\n",
    "        environment_kmeans = KMeans(n_clusters=5, random_state=0)\n",
    "        environment_indices = environment_kmeans.fit_predict(means)\n",
    "    else:\n",
    "        try:\n",
    "            environment_kmeans = kmeans\n",
    "            environment_indices = environment_kmeans.predict(means)\n",
    "        except NotFittedError:\n",
    "            environment_indices = environment_kmeans.fit_predict(means)\n",
    "    # predict the cluster indices\n",
    "    # sort the indices based on the means of the clusters\n",
    "    idx = np.argsort(environment_kmeans.cluster_centers_.sum(axis=1))\n",
    "    lut = np.zeros_like(idx)\n",
    "    lut[idx] = np.arange(5)\n",
    "    # append the indices to the dataframe\n",
    "    d['unsupervised_environment_index'] = lut[environment_indices][d['clustered_index']]\n",
    "    return d"
   ]
  },
  {
   "cell_type": "markdown",
   "metadata": {},
   "source": [
    "# Stats Methods"
   ]
  },
  {
   "cell_type": "code",
   "execution_count": 1009,
   "metadata": {
    "collapsed": true
   },
   "outputs": [],
   "source": [
    "def plot_confusion_matrix(labels, predictions, title='Confusion matrix', \n",
    "                          classes=['on_foot', 'car', 'train', 'bike', 'bus', 'underground']):\n",
    "    \"\"\"Plots a confusion matrix.\"\"\"\n",
    "    cmatrix = np.array(confusion_matrix(labels, predictions))\n",
    "    # normalize confusion matrix\n",
    "    cm = cmatrix/cmatrix.sum(axis=1)[:, np.newaxis]\n",
    "    if classes is not None:\n",
    "        sns.heatmap(cm, xticklabels=classes, yticklabels=classes, vmin=0., vmax=1., annot=True)\n",
    "    else:\n",
    "        sns.heatmap(cm, vmin=0., vmax=1.)\n",
    "    plt.title(title)\n",
    "    plt.ylabel('True data')\n",
    "    plt.xlabel('Predicted data')\n",
    "    plt.show()"
   ]
  },
  {
   "cell_type": "code",
   "execution_count": 1010,
   "metadata": {
    "collapsed": true
   },
   "outputs": [],
   "source": [
    "def get_training_accuracy_with_kfolds_iloc(estimator, x_tr, y_tr, kf):\n",
    "    score_array = np.empty(kf.n_folds)\n",
    "    \n",
    "    for (idx, (train_feature, test_feature)) in enumerate(kf):\n",
    "        estimator.fit(x_tr.iloc[train_feature], y_tr.iloc[train_feature])\n",
    "        y_pred = estimator.predict(x_tr.iloc[test_feature])\n",
    "        cm = confusion_matrix(y_tr.iloc[test_feature], y_pred)\n",
    "        cm_norm = cm.astype('float')/cm.sum(axis=1)\n",
    "        score_array[idx] = accuracy_score(y_tr.iloc[test_feature], y_pred, normalize=True)\n",
    "        \n",
    "#         plot_confusion_matrix(y_tr.iloc[test_feature], y_pred)\n",
    "        \n",
    "    return np.mean(score_array)"
   ]
  },
  {
   "cell_type": "code",
   "execution_count": 1011,
   "metadata": {
    "collapsed": true
   },
   "outputs": [],
   "source": [
    "def get_training_accuracy_mixed_models(estimator, attributes_list, x_tr, y_tr, x_ts, y_ts):\n",
    "    \n",
    "    probs_array = np.empty((len(attributes_list), x_ts.shape[0], 6))\n",
    "\n",
    "    for estimator_idx, attrs in enumerate(attributes_list):\n",
    "        estimator.fit(x_tr[attrs], y_tr)\n",
    "        probs_array[estimator_idx] = estimator.predict_proba(x_ts[attrs])\n",
    "\n",
    "    final_labels = labels_idx[np.argmax(np.mean(probs_array, axis=0), axis=1)]\n",
    "    score = accuracy_score(y_ts, final_labels, normalize=True)\n",
    "    \n",
    "    return score"
   ]
  },
  {
   "cell_type": "code",
   "execution_count": 1012,
   "metadata": {
    "collapsed": true
   },
   "outputs": [],
   "source": [
    "def get_training_accuracy_mixed_models_kfolds(estimator, attributes, x_tr, y_tr, kf):\n",
    "    score_array = np.empty(kf.n_folds)\n",
    "    \n",
    "    for (idx, (train_feature, test_feature)) in enumerate(kf):\n",
    "        estimator.fit(x_tr.iloc[train_feature], y_tr.iloc[train_feature])\n",
    "        y_pred = estimator.predict(x_tr.iloc[test_feature])\n",
    "        \n",
    "        score_array[idx] = get_training_accuracy_mixed_models(\n",
    "            estimator, attributes, x_tr.iloc[train_feature], y_tr.iloc[train_feature],\n",
    "            x_tr.iloc[test_feature], y_tr.iloc[test_feature]\n",
    "        )\n",
    "                \n",
    "    return np.mean(score_array)"
   ]
  },
  {
   "cell_type": "markdown",
   "metadata": {},
   "source": [
    "# Absolute Values"
   ]
  },
  {
   "cell_type": "markdown",
   "metadata": {},
   "source": [
    "### Bin Values"
   ]
  },
  {
   "cell_type": "code",
   "execution_count": 1013,
   "metadata": {},
   "outputs": [
    {
     "name": "stdout",
     "output_type": "stream",
     "text": [
      "Accuracy: 0.5441064638783271\n"
     ]
    }
   ],
   "source": [
    "svc = SVC()\n",
    "kf = KFold(len(data), n_folds=5, shuffle=True, random_state=0)\n",
    "\n",
    "print(\"Accuracy:\", get_training_accuracy_with_kfolds_iloc(svc, data[bin_vals], \n",
    "                                                          data['environment_index'], kf))"
   ]
  },
  {
   "cell_type": "code",
   "execution_count": 1014,
   "metadata": {},
   "outputs": [
    {
     "name": "stdout",
     "output_type": "stream",
     "text": [
      "Accuracy: 0.8914448669201521\n"
     ]
    }
   ],
   "source": [
    "rf = RandomForestClassifier(random_state=0)\n",
    "kf = KFold(len(data), n_folds=5, shuffle=True, random_state=0)\n",
    "\n",
    "print(\"Accuracy:\", get_training_accuracy_with_kfolds_iloc(rf, data[bin_vals], \n",
    "                                                          data['environment_index'], kf))"
   ]
  },
  {
   "cell_type": "code",
   "execution_count": 1015,
   "metadata": {},
   "outputs": [
    {
     "name": "stdout",
     "output_type": "stream",
     "text": [
      "Accuracy: 0.8878326996197717\n"
     ]
    }
   ],
   "source": [
    "et = ExtraTreesClassifier(n_jobs=-1, random_state=0)\n",
    "kf = KFold(len(data), n_folds=5, shuffle=True, random_state=0)\n",
    "\n",
    "print(\"Accuracy:\", get_training_accuracy_with_kfolds_iloc(et, data[bin_vals], \n",
    "                                                          data['environment_index'], kf))"
   ]
  },
  {
   "cell_type": "code",
   "execution_count": 1016,
   "metadata": {},
   "outputs": [
    {
     "name": "stdout",
     "output_type": "stream",
     "text": [
      "Accuracy: 0.7979087452471483\n"
     ]
    }
   ],
   "source": [
    "lr = LogisticRegressionCV(n_jobs=-1)\n",
    "kf = KFold(len(data), n_folds=5, shuffle=True, random_state=0)\n",
    "\n",
    "print(\"Accuracy:\", get_training_accuracy_with_kfolds_iloc(lr, data[bin_vals], \n",
    "                                                          data['environment_index'], kf))"
   ]
  },
  {
   "cell_type": "code",
   "execution_count": 1017,
   "metadata": {},
   "outputs": [
    {
     "name": "stdout",
     "output_type": "stream",
     "text": [
      "Accuracy: 0.8760456273764259\n"
     ]
    }
   ],
   "source": [
    "knn = KNeighborsClassifier(n_neighbors=5)\n",
    "kf = KFold(len(data), n_folds=5, shuffle=True, random_state=0)\n",
    "\n",
    "print(\"Accuracy:\", get_training_accuracy_with_kfolds_iloc(knn, data[bin_vals], \n",
    "                                                          data['environment_index'], kf))"
   ]
  },
  {
   "cell_type": "code",
   "execution_count": 1018,
   "metadata": {},
   "outputs": [
    {
     "name": "stdout",
     "output_type": "stream",
     "text": [
      "Accuracy: 0.7800380228136883\n"
     ]
    }
   ],
   "source": [
    "clf = MLPClassifier()\n",
    "kf = KFold(len(data), n_folds=5, shuffle=True, random_state=0)\n",
    "\n",
    "print(\"Accuracy:\", get_training_accuracy_with_kfolds_iloc(clf, data[bin_vals], \n",
    "                                                          data['environment_index'], kf))"
   ]
  },
  {
   "cell_type": "markdown",
   "metadata": {},
   "source": [
    "### First 3 Bin Counts"
   ]
  },
  {
   "cell_type": "code",
   "execution_count": 1019,
   "metadata": {},
   "outputs": [
    {
     "name": "stdout",
     "output_type": "stream",
     "text": [
      "Accuracy: 0.5391634980988593\n"
     ]
    }
   ],
   "source": [
    "svc = SVC()\n",
    "kf = KFold(len(data), n_folds=5, shuffle=True, random_state=0)\n",
    "\n",
    "print(\"Accuracy:\", get_training_accuracy_with_kfolds_iloc(svc, data[bin_vals[:3]], \n",
    "                                                          data['environment_index'], kf))"
   ]
  },
  {
   "cell_type": "code",
   "execution_count": 1020,
   "metadata": {},
   "outputs": [
    {
     "name": "stdout",
     "output_type": "stream",
     "text": [
      "Accuracy: 0.8254752851711027\n"
     ]
    }
   ],
   "source": [
    "rf = RandomForestClassifier(random_state=0)\n",
    "kf = KFold(len(data), n_folds=5, shuffle=True, random_state=0)\n",
    "\n",
    "print(\"Accuracy:\", get_training_accuracy_with_kfolds_iloc(rf, data[bin_vals[:3]], \n",
    "                                                          data['environment_index'], kf))"
   ]
  },
  {
   "cell_type": "code",
   "execution_count": 1023,
   "metadata": {},
   "outputs": [
    {
     "name": "stdout",
     "output_type": "stream",
     "text": [
      "Accuracy: 0.6973384030418252\n"
     ]
    }
   ],
   "source": [
    "lr = LogisticRegressionCV()\n",
    "kf = KFold(len(data), n_folds=5, shuffle=True, random_state=0)\n",
    "\n",
    "print(\"Accuracy:\", get_training_accuracy_with_kfolds_iloc(lr, data[bin_vals[:3]], \n",
    "                                                          data['environment_index'], kf))"
   ]
  },
  {
   "cell_type": "code",
   "execution_count": 1024,
   "metadata": {},
   "outputs": [
    {
     "name": "stdout",
     "output_type": "stream",
     "text": [
      "Accuracy: 0.832319391634981\n"
     ]
    }
   ],
   "source": [
    "knn = KNeighborsClassifier(n_neighbors=5)\n",
    "kf = KFold(len(data), n_folds=5, shuffle=True, random_state=0)\n",
    "\n",
    "print(\"Accuracy:\", get_training_accuracy_with_kfolds_iloc(knn, data[bin_vals[:3]], \n",
    "                                                          data['environment_index'], kf))"
   ]
  },
  {
   "cell_type": "code",
   "execution_count": 1025,
   "metadata": {},
   "outputs": [
    {
     "name": "stdout",
     "output_type": "stream",
     "text": [
      "Accuracy: 0.6505703422053232\n"
     ]
    }
   ],
   "source": [
    "clf = MLPClassifier()\n",
    "kf = KFold(len(data), n_folds=5, shuffle=True, random_state=0)\n",
    "\n",
    "print(\"Accuracy:\", get_training_accuracy_with_kfolds_iloc(clf, data[bin_vals[:3]], \n",
    "                                                          data['environment_index'], kf))"
   ]
  },
  {
   "cell_type": "markdown",
   "metadata": {},
   "source": [
    "### PM Values"
   ]
  },
  {
   "cell_type": "code",
   "execution_count": 1026,
   "metadata": {},
   "outputs": [
    {
     "name": "stdout",
     "output_type": "stream",
     "text": [
      "Accuracy: 0.8\n"
     ]
    }
   ],
   "source": [
    "svc = SVC()\n",
    "kf = KFold(len(data), n_folds=5, shuffle=True, random_state=0)\n",
    "\n",
    "print(\"Accuracy:\", get_training_accuracy_with_kfolds_iloc(svc, data[pm_vals], \n",
    "                                                          data['environment_index'], kf))"
   ]
  },
  {
   "cell_type": "code",
   "execution_count": 1027,
   "metadata": {},
   "outputs": [
    {
     "name": "stdout",
     "output_type": "stream",
     "text": [
      "Accuracy: 0.8235741444866921\n"
     ]
    }
   ],
   "source": [
    "rf = RandomForestClassifier(random_state=0)\n",
    "kf = KFold(len(data), n_folds=5, shuffle=True, random_state=0)\n",
    "\n",
    "print(\"Accuracy:\", get_training_accuracy_with_kfolds_iloc(rf, data[pm_vals], \n",
    "                                                          data['environment_index'], kf))"
   ]
  },
  {
   "cell_type": "code",
   "execution_count": 1028,
   "metadata": {},
   "outputs": [
    {
     "name": "stdout",
     "output_type": "stream",
     "text": [
      "Accuracy: 0.8036121673003802\n"
     ]
    }
   ],
   "source": [
    "knn = KNeighborsClassifier(n_neighbors=5)\n",
    "kf = KFold(len(data), n_folds=5, shuffle=True, random_state=0)\n",
    "\n",
    "print(\"Accuracy:\", get_training_accuracy_with_kfolds_iloc(knn, data[pm_vals], \n",
    "                                                          data['environment_index'], kf))"
   ]
  },
  {
   "cell_type": "code",
   "execution_count": 1030,
   "metadata": {},
   "outputs": [
    {
     "name": "stdout",
     "output_type": "stream",
     "text": [
      "Accuracy: 0.7608365019011407\n"
     ]
    }
   ],
   "source": [
    "lr = LogisticRegressionCV()\n",
    "kf = KFold(len(data), n_folds=5, shuffle=True, random_state=0)\n",
    "\n",
    "print(\"Accuracy:\", get_training_accuracy_with_kfolds_iloc(lr, data[pm_vals], \n",
    "                                                          data['environment_index'], kf))"
   ]
  },
  {
   "cell_type": "code",
   "execution_count": 1031,
   "metadata": {},
   "outputs": [
    {
     "name": "stdout",
     "output_type": "stream",
     "text": [
      "Accuracy: 0.7541825095057033\n"
     ]
    }
   ],
   "source": [
    "clf = MLPClassifier()\n",
    "kf = KFold(len(data), n_folds=5, shuffle=True, random_state=0)\n",
    "\n",
    "print(\"Accuracy:\", get_training_accuracy_with_kfolds_iloc(clf, data[pm_vals], \n",
    "                                                          data['environment_index'], kf))"
   ]
  },
  {
   "cell_type": "markdown",
   "metadata": {},
   "source": [
    "### Urban Environments"
   ]
  },
  {
   "cell_type": "code",
   "execution_count": 1032,
   "metadata": {},
   "outputs": [
    {
     "name": "stderr",
     "output_type": "stream",
     "text": [
      "/Users/mihaivisuian/miniconda3/envs/hons/lib/python3.6/site-packages/ipykernel_launcher.py:14: SettingWithCopyWarning: \n",
      "A value is trying to be set on a copy of a slice from a DataFrame.\n",
      "Try using .loc[row_indexer,col_indexer] = value instead\n",
      "\n",
      "See the caveats in the documentation: http://pandas.pydata.org/pandas-docs/stable/indexing.html#indexing-view-versus-copy\n",
      "  \n",
      "/Users/mihaivisuian/miniconda3/envs/hons/lib/python3.6/site-packages/ipykernel_launcher.py:21: SettingWithCopyWarning: \n",
      "A value is trying to be set on a copy of a slice from a DataFrame.\n",
      "Try using .loc[row_indexer,col_indexer] = value instead\n",
      "\n",
      "See the caveats in the documentation: http://pandas.pydata.org/pandas-docs/stable/indexing.html#indexing-view-versus-copy\n"
     ]
    },
    {
     "name": "stdout",
     "output_type": "stream",
     "text": [
      "Accuracy: 0.9264718565957584\n"
     ]
    }
   ],
   "source": [
    "clustered_data = get_environment_clusters(data, 40, bin_vals)\n",
    "\n",
    "rf = RandomForestClassifier(random_state=0, n_jobs=-1)\n",
    "kf = KFold(len(clustered_data), n_folds=5, shuffle=True, random_state=0)\n",
    "\n",
    "print(\"Accuracy:\", get_training_accuracy_with_kfolds_iloc(rf, clustered_data[['unsupervised_environment_index']+bin_vals], \n",
    "                                                          clustered_data['environment_index'], kf))"
   ]
  },
  {
   "cell_type": "code",
   "execution_count": 1033,
   "metadata": {},
   "outputs": [
    {
     "name": "stderr",
     "output_type": "stream",
     "text": [
      "/Users/mihaivisuian/miniconda3/envs/hons/lib/python3.6/site-packages/ipykernel_launcher.py:14: SettingWithCopyWarning: \n",
      "A value is trying to be set on a copy of a slice from a DataFrame.\n",
      "Try using .loc[row_indexer,col_indexer] = value instead\n",
      "\n",
      "See the caveats in the documentation: http://pandas.pydata.org/pandas-docs/stable/indexing.html#indexing-view-versus-copy\n",
      "  \n",
      "/Users/mihaivisuian/miniconda3/envs/hons/lib/python3.6/site-packages/ipykernel_launcher.py:21: SettingWithCopyWarning: \n",
      "A value is trying to be set on a copy of a slice from a DataFrame.\n",
      "Try using .loc[row_indexer,col_indexer] = value instead\n",
      "\n",
      "See the caveats in the documentation: http://pandas.pydata.org/pandas-docs/stable/indexing.html#indexing-view-versus-copy\n"
     ]
    },
    {
     "name": "stdout",
     "output_type": "stream",
     "text": [
      "Accuracy: 0.9227432175843981\n"
     ]
    }
   ],
   "source": [
    "clustered_data = get_environment_clusters(data, 40, bin_vals)\n",
    "\n",
    "rf = ExtraTreesClassifier(random_state=0, n_jobs=-1)\n",
    "kf = KFold(len(clustered_data), n_folds=5, shuffle=True, random_state=0)\n",
    "\n",
    "print(\"Accuracy:\", get_training_accuracy_with_kfolds_iloc(rf, clustered_data[['unsupervised_environment_index']+bin_vals], \n",
    "                                                          clustered_data['environment_index'], kf))"
   ]
  },
  {
   "cell_type": "code",
   "execution_count": 1034,
   "metadata": {},
   "outputs": [
    {
     "name": "stderr",
     "output_type": "stream",
     "text": [
      "/Users/mihaivisuian/miniconda3/envs/hons/lib/python3.6/site-packages/ipykernel_launcher.py:14: SettingWithCopyWarning: \n",
      "A value is trying to be set on a copy of a slice from a DataFrame.\n",
      "Try using .loc[row_indexer,col_indexer] = value instead\n",
      "\n",
      "See the caveats in the documentation: http://pandas.pydata.org/pandas-docs/stable/indexing.html#indexing-view-versus-copy\n",
      "  \n",
      "/Users/mihaivisuian/miniconda3/envs/hons/lib/python3.6/site-packages/ipykernel_launcher.py:21: SettingWithCopyWarning: \n",
      "A value is trying to be set on a copy of a slice from a DataFrame.\n",
      "Try using .loc[row_indexer,col_indexer] = value instead\n",
      "\n",
      "See the caveats in the documentation: http://pandas.pydata.org/pandas-docs/stable/indexing.html#indexing-view-versus-copy\n"
     ]
    },
    {
     "name": "stdout",
     "output_type": "stream",
     "text": [
      "Accuracy: 0.5795391497441509\n"
     ]
    }
   ],
   "source": [
    "clustered_data = get_environment_clusters(data, 40, bin_vals)\n",
    "\n",
    "svc = SVC()\n",
    "kf = KFold(len(clustered_data), n_folds=5, shuffle=True, random_state=0)\n",
    "\n",
    "print(\"Accuracy:\", get_training_accuracy_with_kfolds_iloc(svc, clustered_data[['unsupervised_environment_index']+bin_vals], \n",
    "                                                          clustered_data['environment_index'], kf))"
   ]
  },
  {
   "cell_type": "code",
   "execution_count": 1035,
   "metadata": {},
   "outputs": [
    {
     "name": "stderr",
     "output_type": "stream",
     "text": [
      "/Users/mihaivisuian/miniconda3/envs/hons/lib/python3.6/site-packages/ipykernel_launcher.py:14: SettingWithCopyWarning: \n",
      "A value is trying to be set on a copy of a slice from a DataFrame.\n",
      "Try using .loc[row_indexer,col_indexer] = value instead\n",
      "\n",
      "See the caveats in the documentation: http://pandas.pydata.org/pandas-docs/stable/indexing.html#indexing-view-versus-copy\n",
      "  \n",
      "/Users/mihaivisuian/miniconda3/envs/hons/lib/python3.6/site-packages/ipykernel_launcher.py:21: SettingWithCopyWarning: \n",
      "A value is trying to be set on a copy of a slice from a DataFrame.\n",
      "Try using .loc[row_indexer,col_indexer] = value instead\n",
      "\n",
      "See the caveats in the documentation: http://pandas.pydata.org/pandas-docs/stable/indexing.html#indexing-view-versus-copy\n"
     ]
    },
    {
     "name": "stdout",
     "output_type": "stream",
     "text": [
      "Accuracy: 0.8169034209764104\n"
     ]
    }
   ],
   "source": [
    "clustered_data = get_environment_clusters(data, 40, bin_vals)\n",
    "\n",
    "lr = LogisticRegressionCV(n_jobs=-1)\n",
    "kf = KFold(len(clustered_data), n_folds=5, shuffle=True, random_state=0)\n",
    "\n",
    "print(\"Accuracy:\", get_training_accuracy_with_kfolds_iloc(lr, clustered_data[['unsupervised_environment_index']+bin_vals], \n",
    "                                                          clustered_data['environment_index'], kf))"
   ]
  },
  {
   "cell_type": "code",
   "execution_count": 1036,
   "metadata": {},
   "outputs": [
    {
     "name": "stderr",
     "output_type": "stream",
     "text": [
      "/Users/mihaivisuian/miniconda3/envs/hons/lib/python3.6/site-packages/ipykernel_launcher.py:14: SettingWithCopyWarning: \n",
      "A value is trying to be set on a copy of a slice from a DataFrame.\n",
      "Try using .loc[row_indexer,col_indexer] = value instead\n",
      "\n",
      "See the caveats in the documentation: http://pandas.pydata.org/pandas-docs/stable/indexing.html#indexing-view-versus-copy\n",
      "  \n"
     ]
    },
    {
     "name": "stdout",
     "output_type": "stream",
     "text": [
      "Accuracy: 0.8736542979435523\n"
     ]
    },
    {
     "name": "stderr",
     "output_type": "stream",
     "text": [
      "/Users/mihaivisuian/miniconda3/envs/hons/lib/python3.6/site-packages/ipykernel_launcher.py:21: SettingWithCopyWarning: \n",
      "A value is trying to be set on a copy of a slice from a DataFrame.\n",
      "Try using .loc[row_indexer,col_indexer] = value instead\n",
      "\n",
      "See the caveats in the documentation: http://pandas.pydata.org/pandas-docs/stable/indexing.html#indexing-view-versus-copy\n"
     ]
    }
   ],
   "source": [
    "clustered_data = get_environment_clusters(data, 40, bin_vals)\n",
    "\n",
    "knn = KNeighborsClassifier()\n",
    "kf = KFold(len(clustered_data), n_folds=5, shuffle=True, random_state=0)\n",
    "\n",
    "print(\"Accuracy:\", get_training_accuracy_with_kfolds_iloc(knn, clustered_data[['unsupervised_environment_index']+bin_vals], \n",
    "                                                          clustered_data['environment_index'], kf))"
   ]
  },
  {
   "cell_type": "code",
   "execution_count": 1037,
   "metadata": {},
   "outputs": [
    {
     "name": "stderr",
     "output_type": "stream",
     "text": [
      "/Users/mihaivisuian/miniconda3/envs/hons/lib/python3.6/site-packages/ipykernel_launcher.py:14: SettingWithCopyWarning: \n",
      "A value is trying to be set on a copy of a slice from a DataFrame.\n",
      "Try using .loc[row_indexer,col_indexer] = value instead\n",
      "\n",
      "See the caveats in the documentation: http://pandas.pydata.org/pandas-docs/stable/indexing.html#indexing-view-versus-copy\n",
      "  \n",
      "/Users/mihaivisuian/miniconda3/envs/hons/lib/python3.6/site-packages/ipykernel_launcher.py:21: SettingWithCopyWarning: \n",
      "A value is trying to be set on a copy of a slice from a DataFrame.\n",
      "Try using .loc[row_indexer,col_indexer] = value instead\n",
      "\n",
      "See the caveats in the documentation: http://pandas.pydata.org/pandas-docs/stable/indexing.html#indexing-view-versus-copy\n"
     ]
    },
    {
     "name": "stdout",
     "output_type": "stream",
     "text": [
      "Accuracy: 0.7703062680354863\n"
     ]
    }
   ],
   "source": [
    "clustered_data = get_environment_clusters(data, 40, bin_vals)\n",
    "\n",
    "clf = MLPClassifier()\n",
    "kf = KFold(len(clustered_data), n_folds=5, shuffle=True, random_state=0)\n",
    "\n",
    "print(\"Accuracy:\", get_training_accuracy_with_kfolds_iloc(clf, clustered_data[['unsupervised_environment_index']+bin_vals], \n",
    "                                                          clustered_data['environment_index'], kf))"
   ]
  },
  {
   "cell_type": "markdown",
   "metadata": {},
   "source": [
    "### Normalised Bin Counts"
   ]
  },
  {
   "cell_type": "code",
   "execution_count": 1038,
   "metadata": {
    "collapsed": true
   },
   "outputs": [],
   "source": [
    "data_normalised = data[data['total']>0].copy().reindex()\n",
    "data_normalised[bin_vals] = data_normalised[bin_vals].apply(lambda row: row/np.sum(row), axis=1)\n",
    "data_normalised['pca_pm'] = PCA(n_components=1).fit_transform(data_normalised[pm_vals])"
   ]
  },
  {
   "cell_type": "code",
   "execution_count": 1039,
   "metadata": {},
   "outputs": [
    {
     "name": "stdout",
     "output_type": "stream",
     "text": [
      "Accuracy: 0.8963878326996196\n"
     ]
    }
   ],
   "source": [
    "rf = RandomForestClassifier(random_state=0)\n",
    "kf = KFold(len(data_normalised), n_folds=5, shuffle=True, random_state=0)\n",
    "\n",
    "print(\"Accuracy:\", get_training_accuracy_with_kfolds_iloc(rf, data_normalised[bin_vals+['total']], \n",
    "                                                          data_normalised['environment_index'], kf))"
   ]
  },
  {
   "cell_type": "code",
   "execution_count": 1040,
   "metadata": {},
   "outputs": [
    {
     "name": "stdout",
     "output_type": "stream",
     "text": [
      "Accuracy: 0.6904942965779468\n"
     ]
    }
   ],
   "source": [
    "svc = SVC()\n",
    "kf = KFold(len(data_normalised), n_folds=5, shuffle=True, random_state=0)\n",
    "\n",
    "print(\"Accuracy:\", get_training_accuracy_with_kfolds_iloc(svc, data_normalised[bin_vals+['total']], \n",
    "                                                          data_normalised['environment_index'], kf))"
   ]
  },
  {
   "cell_type": "code",
   "execution_count": 1041,
   "metadata": {},
   "outputs": [
    {
     "name": "stdout",
     "output_type": "stream",
     "text": [
      "Accuracy: 0.7218631178707223\n"
     ]
    }
   ],
   "source": [
    "knn = KNeighborsClassifier(n_neighbors=5)\n",
    "kf = KFold(len(data_normalised), n_folds=5, shuffle=True, random_state=0)\n",
    "\n",
    "print(\"Accuracy:\", get_training_accuracy_with_kfolds_iloc(knn, data_normalised[bin_vals+['total']], \n",
    "                                                          data_normalised['environment_index'], kf))"
   ]
  },
  {
   "cell_type": "code",
   "execution_count": 1042,
   "metadata": {},
   "outputs": [
    {
     "name": "stdout",
     "output_type": "stream",
     "text": [
      "Accuracy: 0.5066539923954373\n"
     ]
    }
   ],
   "source": [
    "clf = MLPClassifier()\n",
    "kf = KFold(len(data_normalised), n_folds=5, shuffle=True, random_state=0)\n",
    "\n",
    "print(\"Accuracy:\", get_training_accuracy_with_kfolds_iloc(clf, data_normalised[bin_vals+['total']], \n",
    "                                                          data_normalised['environment_index'], kf))"
   ]
  },
  {
   "cell_type": "markdown",
   "metadata": {},
   "source": [
    "# Best Models"
   ]
  },
  {
   "cell_type": "code",
   "execution_count": 1219,
   "metadata": {},
   "outputs": [
    {
     "name": "stdout",
     "output_type": "stream",
     "text": [
      "Accuracy: 0.9307936927458446\n",
      "Feature Importance: [0.14730951 0.29455731 0.07498384 0.03802667 0.04559147 0.06274241\n",
      " 0.04613654 0.07739578 0.07617237 0.06531146 0.03347094 0.01319292\n",
      " 0.0070145  0.00512755 0.00395906 0.00380371 0.00194547 0.00325849]\n"
     ]
    }
   ],
   "source": [
    "clustered_data = get_environment_clusters(data, 40, bin_vals)\n",
    "\n",
    "clustered_normalised_data = clustered_data[clustered_data['total']>0].copy().reindex()\n",
    "clustered_normalised_data[bin_vals] = clustered_normalised_data[bin_vals].apply(lambda row: row/np.sum(row), axis=1)\n",
    "\n",
    "rf = RandomForestClassifier(random_state=0, n_estimators=150, n_jobs=-1)\n",
    "kf = KFold(len(clustered_normalised_data), n_folds=5, shuffle=True, random_state=0)\n",
    "\n",
    "print(\"Accuracy:\", get_training_accuracy_with_kfolds_iloc(rf, clustered_normalised_data[['unsupervised_environment_index', 'total']+bin_vals], \n",
    "                                                          clustered_normalised_data['environment_index'], kf))\n",
    "\n",
    "print(\"Feature Importance:\", rf.feature_importances_)"
   ]
  },
  {
   "cell_type": "markdown",
   "metadata": {},
   "source": [
    "## Add temperature and humidity"
   ]
  },
  {
   "cell_type": "code",
   "execution_count": 1220,
   "metadata": {},
   "outputs": [
    {
     "name": "stdout",
     "output_type": "stream",
     "text": [
      "Accuracy: 0.9694450233040403\n",
      "Feature Importance: [0.09748845 0.1953976  0.09420712 0.21720788 0.05344644 0.02106496\n",
      " 0.03009961 0.04722143 0.03450904 0.057405   0.05160032 0.05312674\n",
      " 0.02279239 0.00943597 0.00381525 0.00355987 0.00234057 0.00189696\n",
      " 0.00140823 0.00197615]\n"
     ]
    }
   ],
   "source": [
    "clustered_data = get_environment_clusters(data, 40, bin_vals)\n",
    "\n",
    "clustered_normalised_data = clustered_data[clustered_data['total']>0].copy().reindex()\n",
    "clustered_normalised_data[bin_vals] = clustered_normalised_data[bin_vals].apply(lambda row: row/np.sum(row), axis=1)\n",
    "\n",
    "rf = RandomForestClassifier(random_state=0, n_estimators=260, n_jobs=-1)\n",
    "kf = KFold(len(clustered_normalised_data), n_folds=5, shuffle=True, random_state=0)\n",
    "\n",
    "print(\"Accuracy:\", get_training_accuracy_with_kfolds_iloc(rf, clustered_normalised_data[['unsupervised_environment_index', 'temperature', 'humidity', 'total']+bin_vals], \n",
    "                                                          clustered_normalised_data['environment_index'], kf))\n",
    "\n",
    "print(\"Feature Importance:\", rf.feature_importances_)"
   ]
  },
  {
   "cell_type": "code",
   "execution_count": 1221,
   "metadata": {},
   "outputs": [
    {
     "name": "stdout",
     "output_type": "stream",
     "text": [
      "Accuracy: 0.7318232721888178\n"
     ]
    }
   ],
   "source": [
    "clustered_data = get_environment_clusters(data, 40, bin_vals)\n",
    "\n",
    "clustered_normalised_data = clustered_data[clustered_data['total']>0].copy().reindex()\n",
    "clustered_normalised_data[bin_vals] = clustered_normalised_data[bin_vals].apply(lambda row: row/np.sum(row), axis=1)\n",
    "\n",
    "knn = KNeighborsClassifier()\n",
    "kf = KFold(len(clustered_normalised_data), n_folds=5, shuffle=True, random_state=0)\n",
    "\n",
    "print(\"Accuracy:\", get_training_accuracy_with_kfolds_iloc(knn, clustered_normalised_data[['unsupervised_environment_index', 'total']+bin_vals], \n",
    "                                                          clustered_normalised_data['environment_index'], kf))"
   ]
  },
  {
   "cell_type": "markdown",
   "metadata": {},
   "source": [
    "### Neural Network"
   ]
  },
  {
   "cell_type": "code",
   "execution_count": null,
   "metadata": {
    "collapsed": true
   },
   "outputs": [],
   "source": [
    "# environment clustering on raw bin values: 3 hidden layers\n",
    "clustered_data = get_environment_clusters(data, 40, bin_vals)\n",
    "\n",
    "clustered_normalised_data = clustered_data[clustered_data['total']>0].copy().reindex()\n",
    "clustered_normalised_data[bin_vals] = clustered_normalised_data[bin_vals].apply(lambda row: row/np.sum(row), axis=1)\n",
    "\n",
    "clf = MLPClassifier(solver='lbfgs', \n",
    "                    alpha=1e-5, \n",
    "                    hidden_layer_sizes=(20,), \n",
    "                    random_state=1, \n",
    "                    max_iter=500)\n",
    "kf = KFold(len(clustered_normalised_data), n_folds=5, shuffle=True, random_state=0)\n",
    "\n",
    "print(\"Accuracy:\", get_training_accuracy_with_kfolds_iloc(clf, clustered_normalised_data[['unsupervised_environment_index']+bin_vals], \n",
    "                                                          clustered_normalised_data['environment_index'], kf))"
   ]
  },
  {
   "cell_type": "markdown",
   "metadata": {},
   "source": [
    "### KNN"
   ]
  },
  {
   "cell_type": "code",
   "execution_count": null,
   "metadata": {
    "collapsed": true
   },
   "outputs": [],
   "source": [
    "clustered_data = get_environment_clusters(data, 40, bin_vals)\n",
    "\n",
    "clustered_normalised_data = clustered_data[clustered_data['total']>0].copy().reindex()\n",
    "clustered_normalised_data[bin_vals] = clustered_normalised_data[bin_vals].apply(lambda row: row/np.sum(row), axis=1)\n",
    "\n",
    "knn = KNeighborsClassifier(n_neighbors=5, n_jobs=-1)\n",
    "kf = KFold(len(clustered_normalised_data), n_folds=5, shuffle=True, random_state=0)\n",
    "\n",
    "print(\"Accuracy:\", get_training_accuracy_with_kfolds_iloc(knn, clustered_normalised_data[['unsupervised_environment_index']+bin_vals], \n",
    "                                                          clustered_normalised_data['environment_index'], kf))"
   ]
  },
  {
   "cell_type": "markdown",
   "metadata": {},
   "source": [
    "### Mixed Model"
   ]
  },
  {
   "cell_type": "code",
   "execution_count": 1223,
   "metadata": {},
   "outputs": [
    {
     "data": {
      "text/plain": [
       "0.9655794836346508"
      ]
     },
     "execution_count": 1223,
     "metadata": {},
     "output_type": "execute_result"
    }
   ],
   "source": [
    "kf = KFold(len(clustered_normalised_data), n_folds=5, shuffle=True, random_state=0)\n",
    "\n",
    "get_training_accuracy_mixed_models_kfolds(rf, \n",
    "                                          [\n",
    "                                              ['unsupervised_environment_index', 'total']+bin_vals[:8],\n",
    "                                              ['humidity', 'temperature']+bin_vals[8:],\n",
    "                                          ], \n",
    "                                          clustered_normalised_data,\n",
    "                                          clustered_normalised_data['environment_index'], kf)"
   ]
  },
  {
   "cell_type": "markdown",
   "metadata": {
    "collapsed": true
   },
   "source": [
    "### Validating Models"
   ]
  },
  {
   "cell_type": "markdown",
   "metadata": {},
   "source": [
    "#### Train Data"
   ]
  },
  {
   "cell_type": "code",
   "execution_count": 1224,
   "metadata": {
    "collapsed": true
   },
   "outputs": [],
   "source": [
    "kmeans = KMeans(n_clusters=5, random_state=0)\n",
    "clustered_train = get_environment_clusters(data, 40, bin_vals, kmeans).reindex()\n",
    "clustered_normalised_train = clustered_train[clustered_train['total']>0].copy().reindex()\n",
    "clustered_normalised_train[bin_vals] = clustered_normalised_train[bin_vals].apply(lambda row: row/np.sum(row), axis=1)"
   ]
  },
  {
   "cell_type": "markdown",
   "metadata": {},
   "source": [
    "#### Bike validation data"
   ]
  },
  {
   "cell_type": "code",
   "execution_count": 1225,
   "metadata": {},
   "outputs": [
    {
     "data": {
      "text/html": [
       "<div>\n",
       "<style scoped>\n",
       "    .dataframe tbody tr th:only-of-type {\n",
       "        vertical-align: middle;\n",
       "    }\n",
       "\n",
       "    .dataframe tbody tr th {\n",
       "        vertical-align: top;\n",
       "    }\n",
       "\n",
       "    .dataframe thead th {\n",
       "        text-align: right;\n",
       "    }\n",
       "</style>\n",
       "<table border=\"1\" class=\"dataframe\">\n",
       "  <thead>\n",
       "    <tr style=\"text-align: right;\">\n",
       "      <th></th>\n",
       "      <th>time</th>\n",
       "      <th>gpsLatitude</th>\n",
       "      <th>gpsLongitude</th>\n",
       "      <th>bin0</th>\n",
       "      <th>bin1</th>\n",
       "      <th>bin2</th>\n",
       "      <th>bin3</th>\n",
       "      <th>bin4</th>\n",
       "      <th>bin5</th>\n",
       "      <th>bin6</th>\n",
       "      <th>...</th>\n",
       "      <th>temperature</th>\n",
       "      <th>humidity</th>\n",
       "      <th>alphaVersion</th>\n",
       "      <th>urban_space</th>\n",
       "      <th>o3_ae</th>\n",
       "      <th>o3_we</th>\n",
       "      <th>no2_ae</th>\n",
       "      <th>no2_we</th>\n",
       "      <th>environment_index</th>\n",
       "      <th>total</th>\n",
       "    </tr>\n",
       "  </thead>\n",
       "  <tbody>\n",
       "    <tr>\n",
       "      <th>count</th>\n",
       "      <td>2.500000e+02</td>\n",
       "      <td>250.000000</td>\n",
       "      <td>250.000000</td>\n",
       "      <td>250.000000</td>\n",
       "      <td>250.000000</td>\n",
       "      <td>250.000000</td>\n",
       "      <td>250.000000</td>\n",
       "      <td>250.000000</td>\n",
       "      <td>250.000000</td>\n",
       "      <td>250.000000</td>\n",
       "      <td>...</td>\n",
       "      <td>250.000000</td>\n",
       "      <td>250.000000</td>\n",
       "      <td>250.0</td>\n",
       "      <td>250.0</td>\n",
       "      <td>250.000000</td>\n",
       "      <td>250.000000</td>\n",
       "      <td>250.000000</td>\n",
       "      <td>250.000000</td>\n",
       "      <td>250.0</td>\n",
       "      <td>250.000000</td>\n",
       "    </tr>\n",
       "    <tr>\n",
       "      <th>mean</th>\n",
       "      <td>2.015073e+13</td>\n",
       "      <td>55.946380</td>\n",
       "      <td>-3.189356</td>\n",
       "      <td>3.016000</td>\n",
       "      <td>0.344000</td>\n",
       "      <td>0.220000</td>\n",
       "      <td>0.168000</td>\n",
       "      <td>0.136000</td>\n",
       "      <td>0.240000</td>\n",
       "      <td>0.188000</td>\n",
       "      <td>...</td>\n",
       "      <td>23.601040</td>\n",
       "      <td>49.532016</td>\n",
       "      <td>2.0</td>\n",
       "      <td>0.0</td>\n",
       "      <td>-25647.920000</td>\n",
       "      <td>-25242.416000</td>\n",
       "      <td>-27040.560000</td>\n",
       "      <td>-26069.808000</td>\n",
       "      <td>3.0</td>\n",
       "      <td>4.628000</td>\n",
       "    </tr>\n",
       "    <tr>\n",
       "      <th>std</th>\n",
       "      <td>1.221088e+02</td>\n",
       "      <td>0.000037</td>\n",
       "      <td>0.000111</td>\n",
       "      <td>1.838823</td>\n",
       "      <td>0.575316</td>\n",
       "      <td>0.452126</td>\n",
       "      <td>0.405504</td>\n",
       "      <td>0.354976</td>\n",
       "      <td>0.528695</td>\n",
       "      <td>0.421148</td>\n",
       "      <td>...</td>\n",
       "      <td>0.606837</td>\n",
       "      <td>4.011418</td>\n",
       "      <td>0.0</td>\n",
       "      <td>0.0</td>\n",
       "      <td>6289.142903</td>\n",
       "      <td>3210.032059</td>\n",
       "      <td>5074.136107</td>\n",
       "      <td>3632.280436</td>\n",
       "      <td>0.0</td>\n",
       "      <td>2.217495</td>\n",
       "    </tr>\n",
       "    <tr>\n",
       "      <th>min</th>\n",
       "      <td>2.015073e+13</td>\n",
       "      <td>55.946215</td>\n",
       "      <td>-3.189550</td>\n",
       "      <td>0.000000</td>\n",
       "      <td>0.000000</td>\n",
       "      <td>0.000000</td>\n",
       "      <td>0.000000</td>\n",
       "      <td>0.000000</td>\n",
       "      <td>0.000000</td>\n",
       "      <td>0.000000</td>\n",
       "      <td>...</td>\n",
       "      <td>21.960000</td>\n",
       "      <td>44.655179</td>\n",
       "      <td>2.0</td>\n",
       "      <td>0.0</td>\n",
       "      <td>-32222.000000</td>\n",
       "      <td>-31198.000000</td>\n",
       "      <td>-32734.000000</td>\n",
       "      <td>-32478.000000</td>\n",
       "      <td>3.0</td>\n",
       "      <td>0.000000</td>\n",
       "    </tr>\n",
       "    <tr>\n",
       "      <th>25%</th>\n",
       "      <td>2.015073e+13</td>\n",
       "      <td>55.946380</td>\n",
       "      <td>-3.189470</td>\n",
       "      <td>2.000000</td>\n",
       "      <td>0.000000</td>\n",
       "      <td>0.000000</td>\n",
       "      <td>0.000000</td>\n",
       "      <td>0.000000</td>\n",
       "      <td>0.000000</td>\n",
       "      <td>0.000000</td>\n",
       "      <td>...</td>\n",
       "      <td>23.342500</td>\n",
       "      <td>45.051665</td>\n",
       "      <td>2.0</td>\n",
       "      <td>0.0</td>\n",
       "      <td>-28638.000000</td>\n",
       "      <td>-27358.000000</td>\n",
       "      <td>-29918.000000</td>\n",
       "      <td>-28638.000000</td>\n",
       "      <td>3.0</td>\n",
       "      <td>3.000000</td>\n",
       "    </tr>\n",
       "    <tr>\n",
       "      <th>50%</th>\n",
       "      <td>2.015073e+13</td>\n",
       "      <td>55.946398</td>\n",
       "      <td>-3.189300</td>\n",
       "      <td>3.000000</td>\n",
       "      <td>0.000000</td>\n",
       "      <td>0.000000</td>\n",
       "      <td>0.000000</td>\n",
       "      <td>0.000000</td>\n",
       "      <td>0.000000</td>\n",
       "      <td>0.000000</td>\n",
       "      <td>...</td>\n",
       "      <td>23.755000</td>\n",
       "      <td>49.939463</td>\n",
       "      <td>2.0</td>\n",
       "      <td>0.0</td>\n",
       "      <td>-26846.000000</td>\n",
       "      <td>-25822.000000</td>\n",
       "      <td>-27742.000000</td>\n",
       "      <td>-26334.000000</td>\n",
       "      <td>3.0</td>\n",
       "      <td>4.000000</td>\n",
       "    </tr>\n",
       "    <tr>\n",
       "      <th>75%</th>\n",
       "      <td>2.015073e+13</td>\n",
       "      <td>55.946398</td>\n",
       "      <td>-3.189300</td>\n",
       "      <td>4.000000</td>\n",
       "      <td>1.000000</td>\n",
       "      <td>0.000000</td>\n",
       "      <td>0.000000</td>\n",
       "      <td>0.000000</td>\n",
       "      <td>0.000000</td>\n",
       "      <td>0.000000</td>\n",
       "      <td>...</td>\n",
       "      <td>24.067500</td>\n",
       "      <td>51.480962</td>\n",
       "      <td>2.0</td>\n",
       "      <td>0.0</td>\n",
       "      <td>-25054.000000</td>\n",
       "      <td>-24286.000000</td>\n",
       "      <td>-25310.000000</td>\n",
       "      <td>-24542.000000</td>\n",
       "      <td>3.0</td>\n",
       "      <td>6.000000</td>\n",
       "    </tr>\n",
       "    <tr>\n",
       "      <th>max</th>\n",
       "      <td>2.015073e+13</td>\n",
       "      <td>55.946398</td>\n",
       "      <td>-3.189151</td>\n",
       "      <td>10.000000</td>\n",
       "      <td>3.000000</td>\n",
       "      <td>2.000000</td>\n",
       "      <td>2.000000</td>\n",
       "      <td>2.000000</td>\n",
       "      <td>3.000000</td>\n",
       "      <td>2.000000</td>\n",
       "      <td>...</td>\n",
       "      <td>24.180000</td>\n",
       "      <td>58.565045</td>\n",
       "      <td>2.0</td>\n",
       "      <td>0.0</td>\n",
       "      <td>32546.000000</td>\n",
       "      <td>-13534.000000</td>\n",
       "      <td>32034.000000</td>\n",
       "      <td>-11742.000000</td>\n",
       "      <td>3.0</td>\n",
       "      <td>12.000000</td>\n",
       "    </tr>\n",
       "  </tbody>\n",
       "</table>\n",
       "<p>8 rows × 33 columns</p>\n",
       "</div>"
      ],
      "text/plain": [
       "               time  gpsLatitude  gpsLongitude        bin0        bin1  \\\n",
       "count  2.500000e+02   250.000000    250.000000  250.000000  250.000000   \n",
       "mean   2.015073e+13    55.946380     -3.189356    3.016000    0.344000   \n",
       "std    1.221088e+02     0.000037      0.000111    1.838823    0.575316   \n",
       "min    2.015073e+13    55.946215     -3.189550    0.000000    0.000000   \n",
       "25%    2.015073e+13    55.946380     -3.189470    2.000000    0.000000   \n",
       "50%    2.015073e+13    55.946398     -3.189300    3.000000    0.000000   \n",
       "75%    2.015073e+13    55.946398     -3.189300    4.000000    1.000000   \n",
       "max    2.015073e+13    55.946398     -3.189151   10.000000    3.000000   \n",
       "\n",
       "             bin2        bin3        bin4        bin5        bin6     ...      \\\n",
       "count  250.000000  250.000000  250.000000  250.000000  250.000000     ...       \n",
       "mean     0.220000    0.168000    0.136000    0.240000    0.188000     ...       \n",
       "std      0.452126    0.405504    0.354976    0.528695    0.421148     ...       \n",
       "min      0.000000    0.000000    0.000000    0.000000    0.000000     ...       \n",
       "25%      0.000000    0.000000    0.000000    0.000000    0.000000     ...       \n",
       "50%      0.000000    0.000000    0.000000    0.000000    0.000000     ...       \n",
       "75%      0.000000    0.000000    0.000000    0.000000    0.000000     ...       \n",
       "max      2.000000    2.000000    2.000000    3.000000    2.000000     ...       \n",
       "\n",
       "       temperature    humidity  alphaVersion  urban_space         o3_ae  \\\n",
       "count   250.000000  250.000000         250.0        250.0    250.000000   \n",
       "mean     23.601040   49.532016           2.0          0.0 -25647.920000   \n",
       "std       0.606837    4.011418           0.0          0.0   6289.142903   \n",
       "min      21.960000   44.655179           2.0          0.0 -32222.000000   \n",
       "25%      23.342500   45.051665           2.0          0.0 -28638.000000   \n",
       "50%      23.755000   49.939463           2.0          0.0 -26846.000000   \n",
       "75%      24.067500   51.480962           2.0          0.0 -25054.000000   \n",
       "max      24.180000   58.565045           2.0          0.0  32546.000000   \n",
       "\n",
       "              o3_we        no2_ae        no2_we  environment_index       total  \n",
       "count    250.000000    250.000000    250.000000              250.0  250.000000  \n",
       "mean  -25242.416000 -27040.560000 -26069.808000                3.0    4.628000  \n",
       "std     3210.032059   5074.136107   3632.280436                0.0    2.217495  \n",
       "min   -31198.000000 -32734.000000 -32478.000000                3.0    0.000000  \n",
       "25%   -27358.000000 -29918.000000 -28638.000000                3.0    3.000000  \n",
       "50%   -25822.000000 -27742.000000 -26334.000000                3.0    4.000000  \n",
       "75%   -24286.000000 -25310.000000 -24542.000000                3.0    6.000000  \n",
       "max   -13534.000000  32034.000000 -11742.000000                3.0   12.000000  \n",
       "\n",
       "[8 rows x 33 columns]"
      ]
     },
     "metadata": {},
     "output_type": "display_data"
    }
   ],
   "source": [
    "bike_data_validation = pd.read_csv('../data/misc/2015072817.csv')\n",
    "bike_data_validation['environment_index'] = 3\n",
    "bike_data_validation['total'] = bike_data_validation[bin_vals].apply(lambda row: np.sum(row), axis=1)\n",
    "\n",
    "bike_data_validation = bike_data_validation.rename(index=str, columns={\"latitude\":'gpsLatitude', \"longitude\":'gpsLongitude'})\n",
    "display(bike_data_validation.describe())"
   ]
  },
  {
   "cell_type": "code",
   "execution_count": 1226,
   "metadata": {},
   "outputs": [
    {
     "name": "stdout",
     "output_type": "stream",
     "text": [
      "1.0\n"
     ]
    }
   ],
   "source": [
    "clustered_validation_data = get_environment_clusters(bike_data_validation, 40, bin_vals, kmeans)\n",
    "\n",
    "clustered_normalised = clustered_validation_data[clustered_validation_data['total']>0].copy().reindex()\n",
    "clustered_normalised[bin_vals] = clustered_normalised[bin_vals].apply(lambda row: row/np.sum(row), axis=1)\n",
    "\n",
    "print(get_training_accuracy_mixed_models(rf, [\n",
    "    bin_vals[:8]+['total','unsupervised_environment_index'], bin_vals[8:]+['temperature', 'humidity']],\n",
    "                                         clustered_normalised_train, clustered_normalised_train['environment_index'],\n",
    "                                         clustered_normalised, clustered_normalised['environment_index'],\n",
    "                                        ))\n",
    "\n",
    "# rf.fit(clustered_normalised_train[bin_vals+['unsupervised_environment_index', 'total']], \n",
    "#        clustered_normalised_train['environment_index'])\n",
    "\n",
    "# predictions = rf.predict(clustered_normalised[bin_vals+['unsupervised_environment_index', 'total']])\n",
    "\n",
    "# print(\"Validation accuracy:\", accuracy_score(clustered_normalised['environment_index'], predictions))\n",
    " "
   ]
  },
  {
   "cell_type": "code",
   "execution_count": 1207,
   "metadata": {},
   "outputs": [
    {
     "name": "stdout",
     "output_type": "stream",
     "text": [
      "1.0\n"
     ]
    }
   ],
   "source": [
    "clustered_validation_data = get_environment_clusters(bike_data_validation, 40, bin_vals, kmeans)\n",
    "\n",
    "print(get_training_accuracy_mixed_models(rf, [\n",
    "    bin_vals[:8]+['total','unsupervised_environment_index'], bin_vals[8:]+['temperature', 'humidity']],\n",
    "                                         clustered_train, clustered_train['environment_index'],\n",
    "                                         clustered_validation_data, clustered_validation_data['environment_index'],\n",
    "                                        ))\n",
    "\n",
    "# rf.fit(clustered_train[bin_vals + ['unsupervised_environment_index', 'total']], \n",
    "#        clustered_train['environment_index'])\n",
    "\n",
    "# predictions = rf.predict(clustered_validation_data[bin_vals + ['unsupervised_environment_index', 'total']])\n",
    "\n",
    "# print(\"Validation accuracy:\", accuracy_score(clustered_validation_data['environment_index'], predictions))\n",
    " "
   ]
  },
  {
   "cell_type": "markdown",
   "metadata": {},
   "source": [
    "### Walking Validation Data"
   ]
  },
  {
   "cell_type": "code",
   "execution_count": 1227,
   "metadata": {},
   "outputs": [
    {
     "data": {
      "text/html": [
       "<div>\n",
       "<style scoped>\n",
       "    .dataframe tbody tr th:only-of-type {\n",
       "        vertical-align: middle;\n",
       "    }\n",
       "\n",
       "    .dataframe tbody tr th {\n",
       "        vertical-align: top;\n",
       "    }\n",
       "\n",
       "    .dataframe thead th {\n",
       "        text-align: right;\n",
       "    }\n",
       "</style>\n",
       "<table border=\"1\" class=\"dataframe\">\n",
       "  <thead>\n",
       "    <tr style=\"text-align: right;\">\n",
       "      <th></th>\n",
       "      <th>phoneTimestamp</th>\n",
       "      <th>pm1</th>\n",
       "      <th>pm2_5</th>\n",
       "      <th>pm10</th>\n",
       "      <th>temperature</th>\n",
       "      <th>humidity</th>\n",
       "      <th>bin0</th>\n",
       "      <th>bin1</th>\n",
       "      <th>bin2</th>\n",
       "      <th>bin3</th>\n",
       "      <th>...</th>\n",
       "      <th>bin14</th>\n",
       "      <th>bin15</th>\n",
       "      <th>total</th>\n",
       "      <th>gpsLongitude</th>\n",
       "      <th>gpsLatitude</th>\n",
       "      <th>gpsAltitude</th>\n",
       "      <th>gpsAccuracy</th>\n",
       "      <th>luxLevel</th>\n",
       "      <th>motion</th>\n",
       "      <th>environment_index</th>\n",
       "    </tr>\n",
       "  </thead>\n",
       "  <tbody>\n",
       "    <tr>\n",
       "      <th>count</th>\n",
       "      <td>6.400000e+02</td>\n",
       "      <td>640.000000</td>\n",
       "      <td>640.000000</td>\n",
       "      <td>640.000000</td>\n",
       "      <td>640.000000</td>\n",
       "      <td>640.000000</td>\n",
       "      <td>640.000000</td>\n",
       "      <td>640.000000</td>\n",
       "      <td>640.000000</td>\n",
       "      <td>640.000000</td>\n",
       "      <td>...</td>\n",
       "      <td>640.000000</td>\n",
       "      <td>640.000000</td>\n",
       "      <td>640.000000</td>\n",
       "      <td>640.000000</td>\n",
       "      <td>640.000000</td>\n",
       "      <td>640.000000</td>\n",
       "      <td>640.000000</td>\n",
       "      <td>640.000000</td>\n",
       "      <td>640.000000</td>\n",
       "      <td>640.0</td>\n",
       "    </tr>\n",
       "    <tr>\n",
       "      <th>mean</th>\n",
       "      <td>1.519852e+12</td>\n",
       "      <td>5.162149</td>\n",
       "      <td>12.112384</td>\n",
       "      <td>48.238336</td>\n",
       "      <td>0.318438</td>\n",
       "      <td>88.245157</td>\n",
       "      <td>130.696875</td>\n",
       "      <td>48.362500</td>\n",
       "      <td>36.084375</td>\n",
       "      <td>25.759375</td>\n",
       "      <td>...</td>\n",
       "      <td>0.014063</td>\n",
       "      <td>0.042188</td>\n",
       "      <td>333.607813</td>\n",
       "      <td>-3.187060</td>\n",
       "      <td>55.855857</td>\n",
       "      <td>90.441880</td>\n",
       "      <td>250.504753</td>\n",
       "      <td>0.473438</td>\n",
       "      <td>2485.190625</td>\n",
       "      <td>0.0</td>\n",
       "    </tr>\n",
       "    <tr>\n",
       "      <th>std</th>\n",
       "      <td>1.485294e+06</td>\n",
       "      <td>5.171345</td>\n",
       "      <td>46.269151</td>\n",
       "      <td>459.874463</td>\n",
       "      <td>1.318333</td>\n",
       "      <td>14.761573</td>\n",
       "      <td>203.997036</td>\n",
       "      <td>46.587591</td>\n",
       "      <td>31.910120</td>\n",
       "      <td>32.754671</td>\n",
       "      <td>...</td>\n",
       "      <td>0.117841</td>\n",
       "      <td>0.230197</td>\n",
       "      <td>773.274792</td>\n",
       "      <td>0.126348</td>\n",
       "      <td>2.211353</td>\n",
       "      <td>73.529042</td>\n",
       "      <td>389.355498</td>\n",
       "      <td>1.182520</td>\n",
       "      <td>941.571760</td>\n",
       "      <td>0.0</td>\n",
       "    </tr>\n",
       "    <tr>\n",
       "      <th>min</th>\n",
       "      <td>1.519849e+12</td>\n",
       "      <td>2.547426</td>\n",
       "      <td>3.906771</td>\n",
       "      <td>4.740481</td>\n",
       "      <td>0.000000</td>\n",
       "      <td>0.000000</td>\n",
       "      <td>49.000000</td>\n",
       "      <td>15.000000</td>\n",
       "      <td>14.000000</td>\n",
       "      <td>8.000000</td>\n",
       "      <td>...</td>\n",
       "      <td>0.000000</td>\n",
       "      <td>0.000000</td>\n",
       "      <td>125.000000</td>\n",
       "      <td>-3.203796</td>\n",
       "      <td>0.000000</td>\n",
       "      <td>0.000000</td>\n",
       "      <td>0.000000</td>\n",
       "      <td>0.000000</td>\n",
       "      <td>0.000000</td>\n",
       "      <td>0.0</td>\n",
       "    </tr>\n",
       "    <tr>\n",
       "      <th>25%</th>\n",
       "      <td>1.519850e+12</td>\n",
       "      <td>3.834170</td>\n",
       "      <td>6.560691</td>\n",
       "      <td>9.203300</td>\n",
       "      <td>0.000000</td>\n",
       "      <td>89.000000</td>\n",
       "      <td>90.000000</td>\n",
       "      <td>35.000000</td>\n",
       "      <td>26.000000</td>\n",
       "      <td>18.000000</td>\n",
       "      <td>...</td>\n",
       "      <td>0.000000</td>\n",
       "      <td>0.000000</td>\n",
       "      <td>210.000000</td>\n",
       "      <td>-3.195649</td>\n",
       "      <td>55.941324</td>\n",
       "      <td>0.000000</td>\n",
       "      <td>10.000000</td>\n",
       "      <td>0.000000</td>\n",
       "      <td>2244.500000</td>\n",
       "      <td>0.0</td>\n",
       "    </tr>\n",
       "    <tr>\n",
       "      <th>50%</th>\n",
       "      <td>1.519852e+12</td>\n",
       "      <td>4.343511</td>\n",
       "      <td>7.352633</td>\n",
       "      <td>12.131214</td>\n",
       "      <td>0.000000</td>\n",
       "      <td>93.400000</td>\n",
       "      <td>107.000000</td>\n",
       "      <td>42.000000</td>\n",
       "      <td>31.000000</td>\n",
       "      <td>22.000000</td>\n",
       "      <td>...</td>\n",
       "      <td>0.000000</td>\n",
       "      <td>0.000000</td>\n",
       "      <td>238.000000</td>\n",
       "      <td>-3.191526</td>\n",
       "      <td>55.943939</td>\n",
       "      <td>141.100006</td>\n",
       "      <td>13.740500</td>\n",
       "      <td>0.000000</td>\n",
       "      <td>2714.500000</td>\n",
       "      <td>0.0</td>\n",
       "    </tr>\n",
       "    <tr>\n",
       "      <th>75%</th>\n",
       "      <td>1.519853e+12</td>\n",
       "      <td>4.900614</td>\n",
       "      <td>8.421762</td>\n",
       "      <td>21.115125</td>\n",
       "      <td>0.000000</td>\n",
       "      <td>94.700005</td>\n",
       "      <td>125.000000</td>\n",
       "      <td>48.000000</td>\n",
       "      <td>37.000000</td>\n",
       "      <td>26.000000</td>\n",
       "      <td>...</td>\n",
       "      <td>0.000000</td>\n",
       "      <td>0.000000</td>\n",
       "      <td>271.000000</td>\n",
       "      <td>-3.185774</td>\n",
       "      <td>55.945097</td>\n",
       "      <td>152.759762</td>\n",
       "      <td>800.000000</td>\n",
       "      <td>1.000000</td>\n",
       "      <td>3096.500000</td>\n",
       "      <td>0.0</td>\n",
       "    </tr>\n",
       "    <tr>\n",
       "      <th>max</th>\n",
       "      <td>1.519854e+12</td>\n",
       "      <td>87.943596</td>\n",
       "      <td>936.273600</td>\n",
       "      <td>11054.397000</td>\n",
       "      <td>8.900001</td>\n",
       "      <td>100.600000</td>\n",
       "      <td>4610.000000</td>\n",
       "      <td>897.000000</td>\n",
       "      <td>483.000000</td>\n",
       "      <td>529.000000</td>\n",
       "      <td>...</td>\n",
       "      <td>1.000000</td>\n",
       "      <td>2.000000</td>\n",
       "      <td>14644.000000</td>\n",
       "      <td>0.000000</td>\n",
       "      <td>55.948084</td>\n",
       "      <td>180.875992</td>\n",
       "      <td>1000.000000</td>\n",
       "      <td>17.000000</td>\n",
       "      <td>4159.000000</td>\n",
       "      <td>0.0</td>\n",
       "    </tr>\n",
       "  </tbody>\n",
       "</table>\n",
       "<p>8 rows × 30 columns</p>\n",
       "</div>"
      ],
      "text/plain": [
       "       phoneTimestamp         pm1       pm2_5          pm10  temperature  \\\n",
       "count    6.400000e+02  640.000000  640.000000    640.000000   640.000000   \n",
       "mean     1.519852e+12    5.162149   12.112384     48.238336     0.318438   \n",
       "std      1.485294e+06    5.171345   46.269151    459.874463     1.318333   \n",
       "min      1.519849e+12    2.547426    3.906771      4.740481     0.000000   \n",
       "25%      1.519850e+12    3.834170    6.560691      9.203300     0.000000   \n",
       "50%      1.519852e+12    4.343511    7.352633     12.131214     0.000000   \n",
       "75%      1.519853e+12    4.900614    8.421762     21.115125     0.000000   \n",
       "max      1.519854e+12   87.943596  936.273600  11054.397000     8.900001   \n",
       "\n",
       "         humidity         bin0        bin1        bin2        bin3  \\\n",
       "count  640.000000   640.000000  640.000000  640.000000  640.000000   \n",
       "mean    88.245157   130.696875   48.362500   36.084375   25.759375   \n",
       "std     14.761573   203.997036   46.587591   31.910120   32.754671   \n",
       "min      0.000000    49.000000   15.000000   14.000000    8.000000   \n",
       "25%     89.000000    90.000000   35.000000   26.000000   18.000000   \n",
       "50%     93.400000   107.000000   42.000000   31.000000   22.000000   \n",
       "75%     94.700005   125.000000   48.000000   37.000000   26.000000   \n",
       "max    100.600000  4610.000000  897.000000  483.000000  529.000000   \n",
       "\n",
       "             ...               bin14       bin15         total  gpsLongitude  \\\n",
       "count        ...          640.000000  640.000000    640.000000    640.000000   \n",
       "mean         ...            0.014063    0.042188    333.607813     -3.187060   \n",
       "std          ...            0.117841    0.230197    773.274792      0.126348   \n",
       "min          ...            0.000000    0.000000    125.000000     -3.203796   \n",
       "25%          ...            0.000000    0.000000    210.000000     -3.195649   \n",
       "50%          ...            0.000000    0.000000    238.000000     -3.191526   \n",
       "75%          ...            0.000000    0.000000    271.000000     -3.185774   \n",
       "max          ...            1.000000    2.000000  14644.000000      0.000000   \n",
       "\n",
       "       gpsLatitude  gpsAltitude  gpsAccuracy    luxLevel       motion  \\\n",
       "count   640.000000   640.000000   640.000000  640.000000   640.000000   \n",
       "mean     55.855857    90.441880   250.504753    0.473438  2485.190625   \n",
       "std       2.211353    73.529042   389.355498    1.182520   941.571760   \n",
       "min       0.000000     0.000000     0.000000    0.000000     0.000000   \n",
       "25%      55.941324     0.000000    10.000000    0.000000  2244.500000   \n",
       "50%      55.943939   141.100006    13.740500    0.000000  2714.500000   \n",
       "75%      55.945097   152.759762   800.000000    1.000000  3096.500000   \n",
       "max      55.948084   180.875992  1000.000000   17.000000  4159.000000   \n",
       "\n",
       "       environment_index  \n",
       "count              640.0  \n",
       "mean                 0.0  \n",
       "std                  0.0  \n",
       "min                  0.0  \n",
       "25%                  0.0  \n",
       "50%                  0.0  \n",
       "75%                  0.0  \n",
       "max                  0.0  \n",
       "\n",
       "[8 rows x 30 columns]"
      ]
     },
     "metadata": {},
     "output_type": "display_data"
    }
   ],
   "source": [
    "\n",
    "walk_data_validation_total = pd.read_csv('../data/validation/016Outdoor-Night-2018-02-28.csv')\n",
    "\n",
    "walk_data_validation_total['environment_index'] = 0\n",
    "walk_data_validation_total = walk_data_validation_total[walk_data_validation_total['total']>0]\n",
    "\n",
    "display(walk_data_validation_total.describe())"
   ]
  },
  {
   "cell_type": "code",
   "execution_count": 1228,
   "metadata": {},
   "outputs": [
    {
     "name": "stdout",
     "output_type": "stream",
     "text": [
      "0.93125\n"
     ]
    }
   ],
   "source": [
    "clustered_validation_data = get_environment_clusters(walk_data_validation_total, 40, bin_vals, kmeans)\n",
    "\n",
    "clustered_normalised = clustered_validation_data[clustered_validation_data['total']>0].copy().reindex()\n",
    "clustered_normalised[bin_vals] = clustered_normalised[bin_vals].apply(lambda row: row/np.sum(row), axis=1)\n",
    "\n",
    "# rf.fit(clustered_normalised_train[bin_vals+['unsupervised_environment_index', 'temperature', 'humidity', 'total']], \n",
    "#        clustered_normalised_train['environment_index'])\n",
    "\n",
    "# predictions = rf.predict(clustered_normalised[bin_vals+['unsupervised_environment_index', 'temperature', 'humidity', 'total']])\n",
    "print(get_training_accuracy_mixed_models(rf, [\n",
    "    bin_vals[:8]+['total','unsupervised_environment_index'], bin_vals[8:]+['temperature', 'humidity'],],\n",
    "                                         clustered_normalised_train, clustered_normalised_train['environment_index'],\n",
    "                                         clustered_normalised, clustered_normalised['environment_index'],\n",
    "                                        ))\n"
   ]
  },
  {
   "cell_type": "code",
   "execution_count": 1229,
   "metadata": {},
   "outputs": [
    {
     "name": "stdout",
     "output_type": "stream",
     "text": [
      "0.9328125\n"
     ]
    }
   ],
   "source": [
    "clustered_validation_data = get_environment_clusters(walk_data_validation_total, 40, bin_vals, kmeans)\n",
    "\n",
    "print(get_training_accuracy_mixed_models(rf, [\n",
    "    bin_vals[:8]+['total','unsupervised_environment_index'], bin_vals[8:]+['temperature', 'humidity']],\n",
    "                                         clustered_train, clustered_train['environment_index'],\n",
    "                                         clustered_validation_data, clustered_validation_data['environment_index'],\n",
    "                                        ))\n",
    " "
   ]
  },
  {
   "cell_type": "markdown",
   "metadata": {},
   "source": [
    "### Bus Validation Data"
   ]
  },
  {
   "cell_type": "code",
   "execution_count": 1200,
   "metadata": {
    "collapsed": true
   },
   "outputs": [],
   "source": [
    "bus_data_val = pd.read_csv('../data/validation/queensferry-13-03-2018.csv')\n",
    "bus_data_val = bus_data_val[bus_data_val['environment_index']!=7]"
   ]
  },
  {
   "cell_type": "code",
   "execution_count": 1230,
   "metadata": {},
   "outputs": [
    {
     "name": "stdout",
     "output_type": "stream",
     "text": [
      "0.9447632711621234\n"
     ]
    }
   ],
   "source": [
    "clustered_validation_data = get_environment_clusters(bus_data_val, 40, bin_vals, kmeans)\n",
    "clustered_normalised = clustered_validation_data[clustered_validation_data['total']>0].copy().reindex()\n",
    "clustered_normalised[bin_vals] = clustered_normalised[bin_vals].apply(lambda row: row/np.sum(row), axis=1)\n",
    "\n",
    "print(get_training_accuracy_mixed_models(rf, [\n",
    "    bin_vals[:8]+['total','unsupervised_environment_index'], ['temperature', 'humidity']+bin_vals[8:]],\n",
    "                                         clustered_normalised_train, clustered_normalised_train['environment_index'],\n",
    "                                         clustered_normalised, clustered_normalised['environment_index'],\n",
    "                                        ))\n",
    "\n"
   ]
  },
  {
   "cell_type": "code",
   "execution_count": 1231,
   "metadata": {},
   "outputs": [
    {
     "name": "stdout",
     "output_type": "stream",
     "text": [
      "0.8945205479452055\n"
     ]
    }
   ],
   "source": [
    "clustered_validation_data = get_environment_clusters(bus_data, 40, bin_vals, kmeans)\n",
    "\n",
    "print(get_training_accuracy_mixed_models(rf, [\n",
    "    ['temperature', 'humidity']+bin_vals[8:],\n",
    "    bin_vals[:8]+['total','unsupervised_environment_index']\n",
    "],\n",
    "                                         clustered_train, clustered_train['environment_index'],\n",
    "                                         clustered_validation_data, clustered_validation_data['environment_index'],\n",
    "                                        ))\n",
    "\n"
   ]
  },
  {
   "cell_type": "markdown",
   "metadata": {
    "collapsed": true
   },
   "source": [
    "## Train data"
   ]
  },
  {
   "cell_type": "code",
   "execution_count": 1203,
   "metadata": {
    "collapsed": true
   },
   "outputs": [],
   "source": [
    "train_data_validation = train_data_mar.loc[:600].copy()"
   ]
  },
  {
   "cell_type": "code",
   "execution_count": 1232,
   "metadata": {},
   "outputs": [
    {
     "name": "stdout",
     "output_type": "stream",
     "text": [
      "0.9534109816971714\n"
     ]
    }
   ],
   "source": [
    "clustered_validation_data = get_environment_clusters(train_data_validation, 40, bin_vals, kmeans)\n",
    "clustered_normalised = clustered_validation_data[clustered_validation_data['total']>0].copy().reindex()\n",
    "clustered_normalised[bin_vals] = clustered_normalised[bin_vals].apply(lambda row: row/np.sum(row), axis=1)\n",
    "\n",
    "print(get_training_accuracy_mixed_models(rf, [\n",
    "    bin_vals[8:]+['temperature','humidity'],\n",
    "    bin_vals[:8]+['total','unsupervised_environment_index']],\n",
    "                                         clustered_normalised_train, clustered_normalised_train['environment_index'],\n",
    "                                         clustered_normalised, clustered_normalised['environment_index'],\n",
    "                                        ))\n"
   ]
  },
  {
   "cell_type": "code",
   "execution_count": 1233,
   "metadata": {},
   "outputs": [
    {
     "name": "stdout",
     "output_type": "stream",
     "text": [
      "0.956738768718802\n"
     ]
    }
   ],
   "source": [
    "clustered_validation_data = get_environment_clusters(train_data_validation, 40, bin_vals, kmeans)\n",
    "\n",
    "print(get_training_accuracy_mixed_models(rf, [\n",
    "    bin_vals[8:]+['temperature','humidity'], \n",
    "    bin_vals[:8]+['total','unsupervised_environment_index']\n",
    "],\n",
    "                                         clustered_train, clustered_train['environment_index'],\n",
    "                                         clustered_validation_data, clustered_validation_data['environment_index'],\n",
    "                                        ))\n",
    "\n",
    "\n"
   ]
  },
  {
   "cell_type": "code",
   "execution_count": null,
   "metadata": {
    "collapsed": true
   },
   "outputs": [],
   "source": []
  }
 ],
 "metadata": {
  "kernelspec": {
   "display_name": "Python 3",
   "language": "python",
   "name": "python3"
  },
  "language_info": {
   "codemirror_mode": {
    "name": "ipython",
    "version": 3
   },
   "file_extension": ".py",
   "mimetype": "text/x-python",
   "name": "python",
   "nbconvert_exporter": "python",
   "pygments_lexer": "ipython3",
   "version": "3.6.2"
  }
 },
 "nbformat": 4,
 "nbformat_minor": 2
}
