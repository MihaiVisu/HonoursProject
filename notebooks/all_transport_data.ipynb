{
 "cells": [
  {
   "cell_type": "code",
   "execution_count": 2,
   "metadata": {},
   "outputs": [
    {
     "name": "stderr",
     "output_type": "stream",
     "text": [
      "/Users/mihaivisuian/miniconda3/envs/hons/lib/python3.6/site-packages/sklearn/cross_validation.py:41: DeprecationWarning: This module was deprecated in version 0.18 in favor of the model_selection module into which all the refactored classes and functions are moved. Also note that the interface of the new CV iterators are different from that of this module. This module will be removed in 0.20.\n",
      "  \"This module will be removed in 0.20.\", DeprecationWarning)\n"
     ]
    }
   ],
   "source": [
    "from __future__ import print_function, division\n",
    "%matplotlib inline\n",
    "\n",
    "# import used packages and modules\n",
    "# import display function to display the table of the pandas dataframe\n",
    "from IPython.display import display\n",
    "\n",
    "from sklearn.linear_model import LogisticRegression, LogisticRegressionCV\n",
    "from sklearn.preprocessing import StandardScaler\n",
    "from sklearn.cross_validation import KFold\n",
    "from sklearn.model_selection import LeaveOneOut, train_test_split\n",
    "from sklearn.ensemble import RandomForestClassifier\n",
    "from sklearn.tree import DecisionTreeClassifier, ExtraTreeClassifier\n",
    "from sklearn.svm import SVC\n",
    "from sklearn.decomposition import PCA\n",
    "from sklearn.neighbors import KNeighborsClassifier\n",
    "from sklearn.cluster import KMeans\n",
    "from sklearn.ensemble import RandomForestClassifier\n",
    "\n",
    "from sklearn.neural_network import MLPClassifier\n",
    "from sklearn.naive_bayes import GaussianNB\n",
    "\n",
    "from sklearn.metrics import accuracy_score, confusion_matrix\n",
    "\n",
    "from scipy import signal\n",
    "\n",
    "from hmmlearn import hmm\n",
    "from seqlearn.hmm import MultinomialHMM\n",
    "\n",
    "import datetime\n",
    "import matplotlib.dates as mdates\n",
    "import matplotlib.pyplot as plt\n",
    "import numpy as np\n",
    "import pandas as pd\n",
    "import seaborn as sns\n",
    "import csv\n",
    "\n",
    "\n"
   ]
  },
  {
   "cell_type": "markdown",
   "metadata": {},
   "source": [
    "## Importing data"
   ]
  },
  {
   "cell_type": "code",
   "execution_count": 3,
   "metadata": {
    "collapsed": true
   },
   "outputs": [],
   "source": [
    "train_manchester = pd.read_csv('../data/misc/Train_Manchester_Northwich.csv')\n",
    "london_data = pd.read_csv('../data/london_data/london_data.csv')\n",
    "\n",
    "data04 = pd.read_csv('../data/meadows_december/meadows-2017-12-04.csv')\n",
    "data05 = pd.read_csv('../data/meadows_december/meadows-2017-12-05.csv')\n",
    "\n",
    "bike_data_old = pd.read_csv('../data/misc/2015061911.csv')\n",
    "bike_data_feb = pd.read_csv('../data/misc/bike_feb.csv')"
   ]
  },
  {
   "cell_type": "markdown",
   "metadata": {},
   "source": [
    "## Merging Data"
   ]
  },
  {
   "cell_type": "code",
   "execution_count": 4,
   "metadata": {
    "collapsed": true
   },
   "outputs": [],
   "source": [
    "bin_vals = ['bin'+str(x) for x in range(0,16)]\n",
    "pm_vals = ['pm1', 'pm2_5', 'pm10']"
   ]
  },
  {
   "cell_type": "code",
   "execution_count": 5,
   "metadata": {
    "collapsed": true
   },
   "outputs": [],
   "source": [
    "# environment index is 0 as all data from these datasets is walking data\n",
    "data04['environment_index'] = 0\n",
    "data05['environment_index'] = 0\n",
    "\n",
    "# environment index is 3 for bike data\n",
    "bike_data_old['environment_index'] = 3\n",
    "bike_data_feb['environment_index'] = 3\n",
    "\n",
    "# add more bus data to balance dataset\n",
    "# bus_data = london_data[london_data['environment_index'] == 4]\n",
    "# bus_data = pd.concat([bus_data]*2, ignore_index=True)\n",
    "\n",
    "labels = bin_vals + ['environment_index', 'gpsLatitude', 'gpsLongitude']\n",
    "\n",
    "data = pd.concat([london_data[labels],\n",
    "#                   bus_data[labels],\n",
    "                  train_manchester[labels], \n",
    "                  data04[labels], \n",
    "                  data05[labels], \n",
    "                  bike_data_old[labels],\n",
    "                  bike_data_feb[labels]], ignore_index=True)\n",
    "\n",
    "# remove indoor labelled data for this set of experiments\n",
    "data = data[data['environment_index']!=7]\n",
    "data = data[data['environment_index']!=5]\n",
    "# data = data[data['environment_index']!=4]"
   ]
  },
  {
   "cell_type": "markdown",
   "metadata": {},
   "source": [
    "## Bin distribution display"
   ]
  },
  {
   "cell_type": "code",
   "execution_count": 6,
   "metadata": {},
   "outputs": [
    {
     "data": {
      "text/plain": [
       "<matplotlib.axes._subplots.AxesSubplot at 0x119db7710>"
      ]
     },
     "execution_count": 6,
     "metadata": {},
     "output_type": "execute_result"
    },
    {
     "data": {
      "image/png": "[encoded data removed]",
      "text/plain": [
       "<matplotlib.figure.Figure at 0x119d8dd30>"
      ]
     },
     "metadata": {},
     "output_type": "display_data"
    }
   ],
   "source": [
    "data[data['environment_index']==0][bin_vals].describe().loc['mean'].plot(kind='bar')"
   ]
  },
  {
   "cell_type": "code",
   "execution_count": 7,
   "metadata": {},
   "outputs": [
    {
     "data": {
      "text/plain": [
       "<matplotlib.axes._subplots.AxesSubplot at 0x119d79be0>"
      ]
     },
     "execution_count": 7,
     "metadata": {},
     "output_type": "execute_result"
    },
    {
     "data": {
      "image/png": "[encoded data removed]",
      "text/plain": [
       "<matplotlib.figure.Figure at 0x119ecc080>"
      ]
     },
     "metadata": {},
     "output_type": "display_data"
    }
   ],
   "source": [
    "data[data['environment_index']==2][bin_vals].describe().loc['mean'].plot(kind='bar')"
   ]
  },
  {
   "cell_type": "code",
   "execution_count": 8,
   "metadata": {},
   "outputs": [
    {
     "data": {
      "text/plain": [
       "<matplotlib.axes._subplots.AxesSubplot at 0x11a302710>"
      ]
     },
     "execution_count": 8,
     "metadata": {},
     "output_type": "execute_result"
    },
    {
     "data": {
      "image/png": "[encoded data removed]",
      "text/plain": [
       "<matplotlib.figure.Figure at 0x11a2d0630>"
      ]
     },
     "metadata": {},
     "output_type": "display_data"
    }
   ],
   "source": [
    "data[data['environment_index']==5][bin_vals].describe().loc['mean'].plot(kind='bar')"
   ]
  },
  {
   "cell_type": "code",
   "execution_count": 9,
   "metadata": {},
   "outputs": [
    {
     "data": {
      "text/plain": [
       "<matplotlib.axes._subplots.AxesSubplot at 0x11a401a90>"
      ]
     },
     "execution_count": 9,
     "metadata": {},
     "output_type": "execute_result"
    },
    {
     "data": {
      "image/png": "[encoded data removed]",
      "text/plain": [
       "<matplotlib.figure.Figure at 0x11a469550>"
      ]
     },
     "metadata": {},
     "output_type": "display_data"
    }
   ],
   "source": [
    "data[data['environment_index']==6][bin_vals].describe().loc['mean'].plot(kind='bar')"
   ]
  },
  {
   "cell_type": "markdown",
   "metadata": {},
   "source": [
    "## Kmeans"
   ]
  },
  {
   "cell_type": "code",
   "execution_count": 10,
   "metadata": {
    "collapsed": true
   },
   "outputs": [],
   "source": [
    "# method to get the cluster means of the data points based on coordinates\n",
    "# and the queried columns\n",
    "def get_location_cluster_means(data, cluster_no, cols):\n",
    "    # obtain indices of clusters\n",
    "    kmeans = KMeans(n_clusters=cluster_no, random_state=0)\n",
    "    # remove data rows with null coordinates\n",
    "    data = data[~np.isnan(data['gpsLatitude'])]\n",
    "    # get the indices of the location based clusters\n",
    "    indices = kmeans.fit_predict(data[['gpsLatitude', 'gpsLongitude']])\n",
    "    freqs = np.bincount(indices)\n",
    "    # initialise means of queried columns\n",
    "    means = np.zeros((cluster_no, len(cols)))\n",
    "    # assign clustered_indices to dataframe\n",
    "    data['clustered_index'] = indices\n",
    "    # compute means of queried columns\n",
    "    for index in np.unique(indices):\n",
    "        means[index] = np.mean(data[data['clustered_index'] == index][cols])\n",
    "    return means, data"
   ]
  },
  {
   "cell_type": "code",
   "execution_count": 11,
   "metadata": {
    "collapsed": true
   },
   "outputs": [],
   "source": [
    "# method to get the clusters of the environments corresponding to the 5 environments based on\n",
    "# the queried columns and number of location clusters\n",
    "def get_environment_clusters(data, cluster_no, cols):\n",
    "    means, d = get_location_cluster_means(data, cluster_no, cols)\n",
    "    # we have 5 clusters corresponding to 6 different types of transport\n",
    "    environment_kmeans = KMeans(n_clusters=6, random_state=0)\n",
    "    # predict the cluster indices\n",
    "    environment_indices = environment_kmeans.fit_predict(means)\n",
    "    # sort the indices based on the means of the clusters\n",
    "    idx = np.argsort(environment_kmeans.cluster_centers_.sum(axis=1))\n",
    "    lut = np.zeros_like(idx)\n",
    "    lut[idx] = np.arange(6)\n",
    "    # append the indices to the dataframe\n",
    "    d['unsupervised_environment_index'] = lut[environment_indices][d['clustered_index']]\n",
    "    return d"
   ]
  },
  {
   "cell_type": "markdown",
   "metadata": {},
   "source": [
    "## Supervised Classification"
   ]
  },
  {
   "cell_type": "code",
   "execution_count": 12,
   "metadata": {
    "collapsed": true
   },
   "outputs": [],
   "source": [
    "def plot_confusion_matrix(labels, predictions, title='Confusion matrix'):\n",
    "    \"\"\"Plots a confusion matrix.\"\"\"\n",
    "    cmatrix = np.array(confusion_matrix(labels, predictions))\n",
    "    # normalize confusion matrix\n",
    "    cm = cmatrix/cmatrix.sum(axis=1)[:, np.newaxis]\n",
    "    classes=['on_foot', 'car', 'train', 'bike', 'underground']\n",
    "    if classes is not None:\n",
    "        sns.heatmap(cm, xticklabels=classes, yticklabels=classes, vmin=0., vmax=1., annot=True)\n",
    "    else:\n",
    "        sns.heatmap(cm, vmin=0., vmax=1.)\n",
    "    plt.title(title)\n",
    "    plt.ylabel('True data')\n",
    "    plt.xlabel('Predicted data')\n",
    "    plt.show()"
   ]
  },
  {
   "cell_type": "code",
   "execution_count": 13,
   "metadata": {
    "collapsed": true
   },
   "outputs": [],
   "source": [
    "def get_training_accuracy_with_kfolds_iloc(estimator, x_tr, y_tr, kf):\n",
    "    score_array = np.empty(kf.n_folds)\n",
    "    \n",
    "    for (idx, (train_feature, test_feature)) in enumerate(kf):\n",
    "        estimator.fit(x_tr.iloc[train_feature], y_tr.iloc[train_feature])\n",
    "        y_pred = estimator.predict(x_tr.iloc[test_feature])\n",
    "        cm = confusion_matrix(y_tr.iloc[test_feature], y_pred)\n",
    "        cm_norm = cm.astype('float')/cm.sum(axis=1)\n",
    "        score_array[idx] = accuracy_score(y_tr.iloc[test_feature], y_pred, normalize=True)\n",
    "        \n",
    "#         plot_confusion_matrix(y_tr.iloc[test_feature], y_pred)\n",
    "        \n",
    "    return np.mean(score_array)"
   ]
  },
  {
   "cell_type": "markdown",
   "metadata": {},
   "source": [
    "### Normalised Bin Values"
   ]
  },
  {
   "cell_type": "code",
   "execution_count": 14,
   "metadata": {
    "collapsed": true
   },
   "outputs": [],
   "source": [
    "data_normalised = data[data['bin0']>0].copy().reindex()\n",
    "data_normalised[bin_vals] = data_normalised[bin_vals].apply(lambda row: row/np.sum(row), axis=1)"
   ]
  },
  {
   "cell_type": "code",
   "execution_count": 15,
   "metadata": {},
   "outputs": [
    {
     "name": "stdout",
     "output_type": "stream",
     "text": [
      "Accuracy: 0.569524784436\n"
     ]
    }
   ],
   "source": [
    "# normal values\n",
    "svc = SVC(kernel=\"rbf\", gamma=\"auto\", probability=True)\n",
    "kf = KFold(len(data[bin_vals]), n_folds=3, shuffle=True, random_state=0)\n",
    "\n",
    "print(\"Accuracy:\", get_training_accuracy_with_kfolds_iloc(svc, data[bin_vals], data['environment_index'], kf))"
   ]
  },
  {
   "cell_type": "code",
   "execution_count": 16,
   "metadata": {},
   "outputs": [
    {
     "name": "stdout",
     "output_type": "stream",
     "text": [
      "Accuracy: 0.526020807477\n"
     ]
    }
   ],
   "source": [
    "# normalised values\n",
    "svc = SVC(kernel=\"rbf\", gamma=\"auto\", probability=True)\n",
    "kf = KFold(len(data_normalised[bin_vals]), n_folds=3, shuffle=True, random_state=0)\n",
    "\n",
    "print(\"Accuracy:\", get_training_accuracy_with_kfolds_iloc(svc, data_normalised[bin_vals], data_normalised['environment_index'], kf))"
   ]
  },
  {
   "cell_type": "code",
   "execution_count": 17,
   "metadata": {},
   "outputs": [
    {
     "name": "stdout",
     "output_type": "stream",
     "text": [
      "Accuracy: 0.632246240366\n"
     ]
    }
   ],
   "source": [
    "clustered_normalised_data = get_environment_clusters(data_normalised, 40, bin_vals)\n",
    "\n",
    "svc = SVC(kernel=\"rbf\", gamma=\"auto\", probability=True)\n",
    "kf = KFold(len(clustered_normalised_data), n_folds=3, shuffle=True, random_state=0)\n",
    "\n",
    "print(\"Accuracy:\", get_training_accuracy_with_kfolds_iloc(svc, clustered_normalised_data[['unsupervised_environment_index']+bin_vals], \n",
    "                                                          clustered_normalised_data['environment_index'], kf))"
   ]
  },
  {
   "cell_type": "code",
   "execution_count": 18,
   "metadata": {},
   "outputs": [
    {
     "name": "stdout",
     "output_type": "stream",
     "text": [
      "Accuracy: 0.62712842193\n"
     ]
    }
   ],
   "source": [
    "clustered_data = get_environment_clusters(data, 40, bin_vals)\n",
    "\n",
    "clustered_normalised_data = clustered_data[clustered_data['bin0']>0].copy().reindex()\n",
    "clustered_normalised_data[bin_vals] = clustered_normalised_data[bin_vals].apply(lambda row: row/np.sum(row), axis=1)\n",
    "\n",
    "svc = SVC(kernel=\"rbf\", gamma=\"auto\", probability=True)\n",
    "kf = KFold(len(clustered_normalised_data), n_folds=3, shuffle=True, random_state=0)\n",
    "\n",
    "print(\"Accuracy:\", get_training_accuracy_with_kfolds_iloc(svc, clustered_normalised_data[['unsupervised_environment_index']+bin_vals], \n",
    "                                                          clustered_normalised_data['environment_index'], kf))"
   ]
  },
  {
   "cell_type": "code",
   "execution_count": 19,
   "metadata": {},
   "outputs": [
    {
     "name": "stdout",
     "output_type": "stream",
     "text": [
      "Accuracy: 0.860490463513\n"
     ]
    }
   ],
   "source": [
    "# normalised values\n",
    "rf = RandomForestClassifier(random_state=0, n_estimators=50, n_jobs=-1)\n",
    "kf = KFold(len(data_normalised[bin_vals]), n_folds=3, shuffle=True, random_state=0)\n",
    "\n",
    "print(\"Accuracy:\", get_training_accuracy_with_kfolds_iloc(rf, data_normalised[bin_vals], data_normalised['environment_index'], kf))"
   ]
  },
  {
   "cell_type": "code",
   "execution_count": 20,
   "metadata": {},
   "outputs": [
    {
     "name": "stdout",
     "output_type": "stream",
     "text": [
      "Accuracy: 0.893341214457\n"
     ]
    }
   ],
   "source": [
    "clustered_data = get_environment_clusters(data, 40, bin_vals)\n",
    "\n",
    "clustered_normalised_data = clustered_data[clustered_data['bin0']>0].copy().reindex()\n",
    "clustered_normalised_data[bin_vals] = clustered_normalised_data[bin_vals].apply(lambda row: row/np.sum(row), axis=1)\n",
    "\n",
    "rf = RandomForestClassifier(random_state=0, n_estimators=50, n_jobs=-1)\n",
    "kf = KFold(len(clustered_normalised_data), n_folds=3, shuffle=True, random_state=0)\n",
    "\n",
    "print(\"Accuracy:\", get_training_accuracy_with_kfolds_iloc(rf, clustered_normalised_data[['unsupervised_environment_index']+bin_vals], \n",
    "                                                          clustered_normalised_data['environment_index'], kf))"
   ]
  },
  {
   "cell_type": "markdown",
   "metadata": {},
   "source": [
    "## Neural Networks"
   ]
  },
  {
   "cell_type": "markdown",
   "metadata": {},
   "source": [
    "### Default baseline: 1 layer"
   ]
  },
  {
   "cell_type": "code",
   "execution_count": 21,
   "metadata": {},
   "outputs": [
    {
     "name": "stdout",
     "output_type": "stream",
     "text": [
      "Accuracy: 0.753857329827\n"
     ]
    }
   ],
   "source": [
    "clf = MLPClassifier(solver='lbfgs', alpha=1e-5, hidden_layer_sizes=(15,), random_state=1)\n",
    "\n",
    "clustered_data = get_environment_clusters(data, 40, bin_vals)\n",
    "\n",
    "clustered_normalised_data = clustered_data[clustered_data['bin0']>0].copy().reindex()\n",
    "clustered_normalised_data[bin_vals] = clustered_normalised_data[bin_vals].apply(lambda row: row/np.sum(row), axis=1)\n",
    "\n",
    "kf = KFold(len(clustered_normalised_data), n_folds=3, shuffle=True, random_state=0)\n",
    "\n",
    "print(\"Accuracy:\", get_training_accuracy_with_kfolds_iloc(clf, clustered_normalised_data[['unsupervised_environment_index']+bin_vals], \n",
    "                                                          clustered_normalised_data['environment_index'], kf))"
   ]
  },
  {
   "cell_type": "code",
   "execution_count": 22,
   "metadata": {},
   "outputs": [
    {
     "name": "stdout",
     "output_type": "stream",
     "text": [
      "Accuracy: 0.793510189245\n"
     ]
    }
   ],
   "source": [
    "# environment clustering on raw bin values\n",
    "clustered_data = get_environment_clusters(data, 40, bin_vals)\n",
    "\n",
    "clustered_normalised_data = clustered_data[clustered_data['bin0']>0].copy().reindex()\n",
    "clustered_normalised_data[bin_vals] = clustered_normalised_data[bin_vals].apply(lambda row: row/np.sum(row), axis=1)\n",
    "\n",
    "clf = MLPClassifier(solver='lbfgs', alpha=1e-5, hidden_layer_sizes=(25,), random_state=1)\n",
    "kf = KFold(len(clustered_normalised_data), n_folds=3, shuffle=True, random_state=0)\n",
    "\n",
    "print(\"Accuracy:\", get_training_accuracy_with_kfolds_iloc(clf, clustered_normalised_data[['unsupervised_environment_index']+bin_vals], \n",
    "                                                          clustered_normalised_data['environment_index'], kf))"
   ]
  },
  {
   "cell_type": "code",
   "execution_count": 23,
   "metadata": {},
   "outputs": [
    {
     "name": "stdout",
     "output_type": "stream",
     "text": [
      "Accuracy: 0.784123792589\n"
     ]
    }
   ],
   "source": [
    "# environment clustering on raw bin values\n",
    "clustered_data = get_environment_clusters(data, 40, bin_vals)\n",
    "\n",
    "clustered_normalised_data = clustered_data[clustered_data['bin0']>0].copy().reindex()\n",
    "clustered_normalised_data[bin_vals] = clustered_normalised_data[bin_vals].apply(lambda row: row/np.sum(row), axis=1)\n",
    "\n",
    "clf = MLPClassifier(solver='lbfgs', alpha=1e-5, hidden_layer_sizes=(20,), random_state=1)\n",
    "kf = KFold(len(clustered_normalised_data), n_folds=3, shuffle=True, random_state=0)\n",
    "\n",
    "print(\"Accuracy:\", get_training_accuracy_with_kfolds_iloc(clf, clustered_normalised_data[['unsupervised_environment_index']+bin_vals], \n",
    "                                                          clustered_normalised_data['environment_index'], kf))"
   ]
  },
  {
   "cell_type": "markdown",
   "metadata": {},
   "source": [
    "### Increasing number of layers"
   ]
  },
  {
   "cell_type": "code",
   "execution_count": 24,
   "metadata": {},
   "outputs": [
    {
     "name": "stdout",
     "output_type": "stream",
     "text": [
      "Accuracy: 0.759381211706\n"
     ]
    }
   ],
   "source": [
    "# environment clustering on raw bin values: 2 hidden layers\n",
    "clustered_data = get_environment_clusters(data, 40, bin_vals)\n",
    "\n",
    "clustered_normalised_data = clustered_data[clustered_data['bin0']>0].copy().reindex()\n",
    "clustered_normalised_data[bin_vals] = clustered_normalised_data[bin_vals].apply(lambda row: row/np.sum(row), axis=1)\n",
    "\n",
    "clf = MLPClassifier(solver='lbfgs', alpha=1e-5, hidden_layer_sizes=(25, 25), random_state=1)\n",
    "kf = KFold(len(clustered_normalised_data), n_folds=3, shuffle=True, random_state=0)\n",
    "\n",
    "print(\"Accuracy:\", get_training_accuracy_with_kfolds_iloc(clf, clustered_normalised_data[['unsupervised_environment_index']+bin_vals], \n",
    "                                                          clustered_normalised_data['environment_index'], kf))"
   ]
  },
  {
   "cell_type": "code",
   "execution_count": 25,
   "metadata": {},
   "outputs": [
    {
     "name": "stdout",
     "output_type": "stream",
     "text": [
      "Accuracy: 0.746156314778\n"
     ]
    }
   ],
   "source": [
    "# environment clustering on raw bin values: 3 hidden layers\n",
    "clustered_data = get_environment_clusters(data, 40, bin_vals)\n",
    "\n",
    "clustered_normalised_data = clustered_data[clustered_data['bin0']>0].copy().reindex()\n",
    "clustered_normalised_data[bin_vals] = clustered_normalised_data[bin_vals].apply(lambda row: row/np.sum(row), axis=1)\n",
    "\n",
    "clf = MLPClassifier(solver='lbfgs', alpha=1e-5, hidden_layer_sizes=(25,25,25), random_state=1)\n",
    "kf = KFold(len(clustered_normalised_data), n_folds=3, shuffle=True, random_state=0)\n",
    "\n",
    "print(\"Accuracy:\", get_training_accuracy_with_kfolds_iloc(clf, clustered_normalised_data[['unsupervised_environment_index']+bin_vals], \n",
    "                                                          clustered_normalised_data['environment_index'], kf))"
   ]
  },
  {
   "cell_type": "code",
   "execution_count": 26,
   "metadata": {},
   "outputs": [
    {
     "name": "stdout",
     "output_type": "stream",
     "text": [
      "Accuracy: 0.718011860982\n"
     ]
    }
   ],
   "source": [
    "# environment clustering on raw bin values: 4 hidden layers\n",
    "clustered_data = get_environment_clusters(data, 40, bin_vals)\n",
    "\n",
    "clustered_normalised_data = clustered_data[clustered_data['bin0']>0].copy().reindex()\n",
    "clustered_normalised_data[bin_vals] = clustered_normalised_data[bin_vals].apply(lambda row: row/np.sum(row), axis=1)\n",
    "\n",
    "clf = MLPClassifier(solver='lbfgs', alpha=1e-5, hidden_layer_sizes=(25,25,25,25), random_state=1)\n",
    "kf = KFold(len(clustered_normalised_data), n_folds=3, shuffle=True, random_state=0)\n",
    "\n",
    "print(\"Accuracy:\", get_training_accuracy_with_kfolds_iloc(clf, clustered_normalised_data[['unsupervised_environment_index']+bin_vals], \n",
    "                                                          clustered_normalised_data['environment_index'], kf))"
   ]
  },
  {
   "cell_type": "markdown",
   "metadata": {},
   "source": [
    "## Changing max iterations rate"
   ]
  },
  {
   "cell_type": "code",
   "execution_count": 27,
   "metadata": {},
   "outputs": [
    {
     "name": "stdout",
     "output_type": "stream",
     "text": [
      "Accuracy: 0.798629099249\n"
     ]
    }
   ],
   "source": [
    "# environment clustering on raw bin values: 3 hidden layers\n",
    "clustered_data = get_environment_clusters(data, 40, bin_vals)\n",
    "\n",
    "clustered_normalised_data = clustered_data[clustered_data['bin0']>0].copy().reindex()\n",
    "clustered_normalised_data[bin_vals] = clustered_normalised_data[bin_vals].apply(lambda row: row/np.sum(row), axis=1)\n",
    "\n",
    "clf = MLPClassifier(solver='lbfgs', \n",
    "                    alpha=1e-5, \n",
    "                    hidden_layer_sizes=(25,25,25), \n",
    "                    random_state=1, \n",
    "                    max_iter=500)\n",
    "kf = KFold(len(clustered_normalised_data), n_folds=3, shuffle=True, random_state=0)\n",
    "\n",
    "print(\"Accuracy:\", get_training_accuracy_with_kfolds_iloc(clf, clustered_normalised_data[['unsupervised_environment_index']+bin_vals], \n",
    "                                                          clustered_normalised_data['environment_index'], kf))"
   ]
  },
  {
   "cell_type": "code",
   "execution_count": 28,
   "metadata": {},
   "outputs": [
    {
     "name": "stdout",
     "output_type": "stream",
     "text": [
      "Accuracy: 0.767495385395\n"
     ]
    }
   ],
   "source": [
    "# environment clustering on raw bin values: 3 hidden layers\n",
    "clustered_data = get_environment_clusters(data, 40, bin_vals)\n",
    "\n",
    "clustered_normalised_data = clustered_data[clustered_data['bin0']>0].copy().reindex()\n",
    "clustered_normalised_data[bin_vals] = clustered_normalised_data[bin_vals].apply(lambda row: row/np.sum(row), axis=1)\n",
    "\n",
    "clf = MLPClassifier(solver='lbfgs', \n",
    "                    alpha=1e-5, \n",
    "                    hidden_layer_sizes=(25,25,25,25), \n",
    "                    random_state=1, \n",
    "                    max_iter=500)\n",
    "kf = KFold(len(clustered_normalised_data), n_folds=3, shuffle=True, random_state=0)\n",
    "\n",
    "print(\"Accuracy:\", get_training_accuracy_with_kfolds_iloc(clf, clustered_normalised_data[['unsupervised_environment_index']+bin_vals], \n",
    "                                                          clustered_normalised_data['environment_index'], kf))"
   ]
  },
  {
   "cell_type": "code",
   "execution_count": 29,
   "metadata": {},
   "outputs": [
    {
     "name": "stdout",
     "output_type": "stream",
     "text": [
      "Accuracy: 0.819530996722\n"
     ]
    }
   ],
   "source": [
    "# environment clustering on raw bin values: 3 hidden layers\n",
    "clustered_data = get_environment_clusters(data, 40, bin_vals)\n",
    "\n",
    "clustered_normalised_data = clustered_data[clustered_data['bin0']>0].copy().reindex()\n",
    "clustered_normalised_data[bin_vals] = clustered_normalised_data[bin_vals].apply(lambda row: row/np.sum(row), axis=1)\n",
    "\n",
    "clf = MLPClassifier(solver='lbfgs', \n",
    "                    alpha=1e-5, \n",
    "                    hidden_layer_sizes=(20,), \n",
    "                    random_state=1, \n",
    "                    max_iter=500)\n",
    "kf = KFold(len(clustered_normalised_data), n_folds=3, shuffle=True, random_state=0)\n",
    "\n",
    "print(\"Accuracy:\", get_training_accuracy_with_kfolds_iloc(clf, clustered_normalised_data[['unsupervised_environment_index']+bin_vals], \n",
    "                                                          clustered_normalised_data['environment_index'], kf))"
   ]
  },
  {
   "cell_type": "markdown",
   "metadata": {},
   "source": [
    "## Environment Types comparison"
   ]
  },
  {
   "cell_type": "code",
   "execution_count": 30,
   "metadata": {},
   "outputs": [
    {
     "data": {
      "text/plain": [
       "<matplotlib.axes._subplots.AxesSubplot at 0x11dbf13c8>"
      ]
     },
     "execution_count": 30,
     "metadata": {},
     "output_type": "execute_result"
    },
    {
     "data": {
      "image/png": "[encoded data removed]",
      "text/plain": [
       "<matplotlib.figure.Figure at 0x11a4085f8>"
      ]
     },
     "metadata": {},
     "output_type": "display_data"
    }
   ],
   "source": [
    "bike_data_old[bin_vals].describe().loc['mean'].plot(kind='bar')"
   ]
  },
  {
   "cell_type": "code",
   "execution_count": 31,
   "metadata": {},
   "outputs": [
    {
     "data": {
      "text/plain": [
       "<matplotlib.axes._subplots.AxesSubplot at 0x11db97198>"
      ]
     },
     "execution_count": 31,
     "metadata": {},
     "output_type": "execute_result"
    },
    {
     "data": {
      "image/png": "[encoded data removed]",
      "text/plain": [
       "<matplotlib.figure.Figure at 0x11d9931d0>"
      ]
     },
     "metadata": {},
     "output_type": "display_data"
    }
   ],
   "source": [
    "bike_data_feb[bin_vals].describe().loc['mean'].plot(kind='bar')"
   ]
  },
  {
   "cell_type": "code",
   "execution_count": 32,
   "metadata": {
    "collapsed": true
   },
   "outputs": [],
   "source": [
    "normalised_bike_old_bins = bike_data_old[bin_vals].apply(lambda row: row/np.sum(row), axis=1)\n",
    "normalised_bike_feb_bins = bike_data_feb[bin_vals].apply(lambda row: row/np.sum(row), axis=1)"
   ]
  },
  {
   "cell_type": "code",
   "execution_count": 34,
   "metadata": {},
   "outputs": [
    {
     "data": {
      "text/plain": [
       "<matplotlib.text.Text at 0x11dcd1438>"
      ]
     },
     "execution_count": 34,
     "metadata": {},
     "output_type": "execute_result"
    },
    {
     "data": {
      "image/png": "[encoded data removed]",
      "text/plain": [
       "<matplotlib.figure.Figure at 0x119ea70f0>"
      ]
     },
     "metadata": {},
     "output_type": "display_data"
    }
   ],
   "source": [
    "\n",
    "fig = plt.figure()\n",
    "ax1 = fig.add_subplot(111)\n",
    "ax1.set_xlabel(\"Bin Count\")\n",
    "ax1.set_ylabel(\"Percentage\")\n",
    "normalised_bike_feb_bins.describe().loc['mean'].plot(kind='bar')\n",
    "ax1.set_title('Normalised Bin Counts For Bike on Street')\n",
    "# fig.savefig(\"../report/normalised_bike.pdf\")\n"
   ]
  },
  {
   "cell_type": "code",
   "execution_count": 511,
   "metadata": {},
   "outputs": [
    {
     "data": {
      "image/png": "[encoded data removed]",
      "text/plain": [
       "<matplotlib.figure.Figure at 0x120aab748>"
      ]
     },
     "metadata": {},
     "output_type": "display_data"
    }
   ],
   "source": [
    "normalised_bike_old_bins.describe().loc['mean'].plot(kind='bar')\n",
    "plt.title('Normalised Bin Counts For Bike during Summer')\n",
    "plt.show()"
   ]
  },
  {
   "cell_type": "code",
   "execution_count": 512,
   "metadata": {
    "collapsed": true
   },
   "outputs": [],
   "source": [
    "bike = pd.read_csv('../data/misc/2015062518.csv')"
   ]
  },
  {
   "cell_type": "code",
   "execution_count": 513,
   "metadata": {},
   "outputs": [
    {
     "data": {
      "text/plain": [
       "<matplotlib.axes._subplots.AxesSubplot at 0x120ce14e0>"
      ]
     },
     "execution_count": 513,
     "metadata": {},
     "output_type": "execute_result"
    },
    {
     "data": {
      "image/png": "[encoded data removed]",
      "text/plain": [
       "<matplotlib.figure.Figure at 0x12111af28>"
      ]
     },
     "metadata": {},
     "output_type": "display_data"
    }
   ],
   "source": [
    "bike[bin_vals].describe().loc['mean'].plot(kind='bar')"
   ]
  },
  {
   "cell_type": "code",
   "execution_count": 514,
   "metadata": {
    "collapsed": true
   },
   "outputs": [],
   "source": [
    "bike[bin_vals] = bike[bin_vals].apply(lambda row: row/np.sum(row), axis=1)\n",
    "bike = pd.concat([bike[bin_vals], normalised_bike_feb_bins], ignore_index=True)"
   ]
  },
  {
   "cell_type": "code",
   "execution_count": 515,
   "metadata": {},
   "outputs": [
    {
     "data": {
      "image/png": "[encoded data removed]",
      "text/plain": [
       "<matplotlib.figure.Figure at 0x120f116a0>"
      ]
     },
     "metadata": {},
     "output_type": "display_data"
    }
   ],
   "source": [
    "bike[bin_vals].describe().loc['mean'].plot(kind='bar')\n",
    "plt.title('Normalised Bin Counts For Bike in Feb')\n",
    "plt.show()"
   ]
  },
  {
   "cell_type": "code",
   "execution_count": 516,
   "metadata": {},
   "outputs": [
    {
     "data": {
      "text/html": [
       "<div>\n",
       "<style scoped>\n",
       "    .dataframe tbody tr th:only-of-type {\n",
       "        vertical-align: middle;\n",
       "    }\n",
       "\n",
       "    .dataframe tbody tr th {\n",
       "        vertical-align: top;\n",
       "    }\n",
       "\n",
       "    .dataframe thead th {\n",
       "        text-align: right;\n",
       "    }\n",
       "</style>\n",
       "<table border=\"1\" class=\"dataframe\">\n",
       "  <thead>\n",
       "    <tr style=\"text-align: right;\">\n",
       "      <th></th>\n",
       "      <th>bin0</th>\n",
       "      <th>bin1</th>\n",
       "      <th>bin2</th>\n",
       "      <th>bin3</th>\n",
       "      <th>bin4</th>\n",
       "      <th>bin5</th>\n",
       "      <th>bin6</th>\n",
       "      <th>bin7</th>\n",
       "      <th>bin8</th>\n",
       "      <th>bin9</th>\n",
       "      <th>bin10</th>\n",
       "      <th>bin11</th>\n",
       "      <th>bin12</th>\n",
       "      <th>bin13</th>\n",
       "      <th>bin14</th>\n",
       "      <th>bin15</th>\n",
       "    </tr>\n",
       "  </thead>\n",
       "  <tbody>\n",
       "    <tr>\n",
       "      <th>0</th>\n",
       "      <td>0.950000</td>\n",
       "      <td>0.000000</td>\n",
       "      <td>0.050000</td>\n",
       "      <td>0.000000</td>\n",
       "      <td>0.000000</td>\n",
       "      <td>0.000000</td>\n",
       "      <td>0.000000</td>\n",
       "      <td>0.000000</td>\n",
       "      <td>0.000000</td>\n",
       "      <td>0.000000</td>\n",
       "      <td>0.000000</td>\n",
       "      <td>0.000000</td>\n",
       "      <td>0.000000</td>\n",
       "      <td>0.000000</td>\n",
       "      <td>0.0</td>\n",
       "      <td>0.000000</td>\n",
       "    </tr>\n",
       "    <tr>\n",
       "      <th>1</th>\n",
       "      <td>0.538462</td>\n",
       "      <td>0.153846</td>\n",
       "      <td>0.076923</td>\n",
       "      <td>0.000000</td>\n",
       "      <td>0.000000</td>\n",
       "      <td>0.076923</td>\n",
       "      <td>0.076923</td>\n",
       "      <td>0.076923</td>\n",
       "      <td>0.000000</td>\n",
       "      <td>0.000000</td>\n",
       "      <td>0.000000</td>\n",
       "      <td>0.000000</td>\n",
       "      <td>0.000000</td>\n",
       "      <td>0.000000</td>\n",
       "      <td>0.0</td>\n",
       "      <td>0.000000</td>\n",
       "    </tr>\n",
       "    <tr>\n",
       "      <th>2</th>\n",
       "      <td>0.727273</td>\n",
       "      <td>0.136364</td>\n",
       "      <td>0.045455</td>\n",
       "      <td>0.000000</td>\n",
       "      <td>0.045455</td>\n",
       "      <td>0.045455</td>\n",
       "      <td>0.000000</td>\n",
       "      <td>0.000000</td>\n",
       "      <td>0.000000</td>\n",
       "      <td>0.000000</td>\n",
       "      <td>0.000000</td>\n",
       "      <td>0.000000</td>\n",
       "      <td>0.000000</td>\n",
       "      <td>0.000000</td>\n",
       "      <td>0.0</td>\n",
       "      <td>0.000000</td>\n",
       "    </tr>\n",
       "    <tr>\n",
       "      <th>3</th>\n",
       "      <td>0.900000</td>\n",
       "      <td>0.000000</td>\n",
       "      <td>0.000000</td>\n",
       "      <td>0.100000</td>\n",
       "      <td>0.000000</td>\n",
       "      <td>0.000000</td>\n",
       "      <td>0.000000</td>\n",
       "      <td>0.000000</td>\n",
       "      <td>0.000000</td>\n",
       "      <td>0.000000</td>\n",
       "      <td>0.000000</td>\n",
       "      <td>0.000000</td>\n",
       "      <td>0.000000</td>\n",
       "      <td>0.000000</td>\n",
       "      <td>0.0</td>\n",
       "      <td>0.000000</td>\n",
       "    </tr>\n",
       "    <tr>\n",
       "      <th>4</th>\n",
       "      <td>0.615385</td>\n",
       "      <td>0.307692</td>\n",
       "      <td>0.076923</td>\n",
       "      <td>0.000000</td>\n",
       "      <td>0.000000</td>\n",
       "      <td>0.000000</td>\n",
       "      <td>0.000000</td>\n",
       "      <td>0.000000</td>\n",
       "      <td>0.000000</td>\n",
       "      <td>0.000000</td>\n",
       "      <td>0.000000</td>\n",
       "      <td>0.000000</td>\n",
       "      <td>0.000000</td>\n",
       "      <td>0.000000</td>\n",
       "      <td>0.0</td>\n",
       "      <td>0.000000</td>\n",
       "    </tr>\n",
       "    <tr>\n",
       "      <th>5</th>\n",
       "      <td>0.555556</td>\n",
       "      <td>0.222222</td>\n",
       "      <td>0.222222</td>\n",
       "      <td>0.000000</td>\n",
       "      <td>0.000000</td>\n",
       "      <td>0.000000</td>\n",
       "      <td>0.000000</td>\n",
       "      <td>0.000000</td>\n",
       "      <td>0.000000</td>\n",
       "      <td>0.000000</td>\n",
       "      <td>0.000000</td>\n",
       "      <td>0.000000</td>\n",
       "      <td>0.000000</td>\n",
       "      <td>0.000000</td>\n",
       "      <td>0.0</td>\n",
       "      <td>0.000000</td>\n",
       "    </tr>\n",
       "    <tr>\n",
       "      <th>6</th>\n",
       "      <td>0.636364</td>\n",
       "      <td>0.272727</td>\n",
       "      <td>0.090909</td>\n",
       "      <td>0.000000</td>\n",
       "      <td>0.000000</td>\n",
       "      <td>0.000000</td>\n",
       "      <td>0.000000</td>\n",
       "      <td>0.000000</td>\n",
       "      <td>0.000000</td>\n",
       "      <td>0.000000</td>\n",
       "      <td>0.000000</td>\n",
       "      <td>0.000000</td>\n",
       "      <td>0.000000</td>\n",
       "      <td>0.000000</td>\n",
       "      <td>0.0</td>\n",
       "      <td>0.000000</td>\n",
       "    </tr>\n",
       "    <tr>\n",
       "      <th>7</th>\n",
       "      <td>0.727273</td>\n",
       "      <td>0.090909</td>\n",
       "      <td>0.000000</td>\n",
       "      <td>0.000000</td>\n",
       "      <td>0.000000</td>\n",
       "      <td>0.000000</td>\n",
       "      <td>0.090909</td>\n",
       "      <td>0.000000</td>\n",
       "      <td>0.000000</td>\n",
       "      <td>0.000000</td>\n",
       "      <td>0.090909</td>\n",
       "      <td>0.000000</td>\n",
       "      <td>0.000000</td>\n",
       "      <td>0.000000</td>\n",
       "      <td>0.0</td>\n",
       "      <td>0.000000</td>\n",
       "    </tr>\n",
       "    <tr>\n",
       "      <th>8</th>\n",
       "      <td>0.916667</td>\n",
       "      <td>0.083333</td>\n",
       "      <td>0.000000</td>\n",
       "      <td>0.000000</td>\n",
       "      <td>0.000000</td>\n",
       "      <td>0.000000</td>\n",
       "      <td>0.000000</td>\n",
       "      <td>0.000000</td>\n",
       "      <td>0.000000</td>\n",
       "      <td>0.000000</td>\n",
       "      <td>0.000000</td>\n",
       "      <td>0.000000</td>\n",
       "      <td>0.000000</td>\n",
       "      <td>0.000000</td>\n",
       "      <td>0.0</td>\n",
       "      <td>0.000000</td>\n",
       "    </tr>\n",
       "    <tr>\n",
       "      <th>9</th>\n",
       "      <td>0.733333</td>\n",
       "      <td>0.133333</td>\n",
       "      <td>0.066667</td>\n",
       "      <td>0.000000</td>\n",
       "      <td>0.000000</td>\n",
       "      <td>0.066667</td>\n",
       "      <td>0.000000</td>\n",
       "      <td>0.000000</td>\n",
       "      <td>0.000000</td>\n",
       "      <td>0.000000</td>\n",
       "      <td>0.000000</td>\n",
       "      <td>0.000000</td>\n",
       "      <td>0.000000</td>\n",
       "      <td>0.000000</td>\n",
       "      <td>0.0</td>\n",
       "      <td>0.000000</td>\n",
       "    </tr>\n",
       "    <tr>\n",
       "      <th>10</th>\n",
       "      <td>1.000000</td>\n",
       "      <td>0.000000</td>\n",
       "      <td>0.000000</td>\n",
       "      <td>0.000000</td>\n",
       "      <td>0.000000</td>\n",
       "      <td>0.000000</td>\n",
       "      <td>0.000000</td>\n",
       "      <td>0.000000</td>\n",
       "      <td>0.000000</td>\n",
       "      <td>0.000000</td>\n",
       "      <td>0.000000</td>\n",
       "      <td>0.000000</td>\n",
       "      <td>0.000000</td>\n",
       "      <td>0.000000</td>\n",
       "      <td>0.0</td>\n",
       "      <td>0.000000</td>\n",
       "    </tr>\n",
       "    <tr>\n",
       "      <th>11</th>\n",
       "      <td>0.809524</td>\n",
       "      <td>0.047619</td>\n",
       "      <td>0.142857</td>\n",
       "      <td>0.000000</td>\n",
       "      <td>0.000000</td>\n",
       "      <td>0.000000</td>\n",
       "      <td>0.000000</td>\n",
       "      <td>0.000000</td>\n",
       "      <td>0.000000</td>\n",
       "      <td>0.000000</td>\n",
       "      <td>0.000000</td>\n",
       "      <td>0.000000</td>\n",
       "      <td>0.000000</td>\n",
       "      <td>0.000000</td>\n",
       "      <td>0.0</td>\n",
       "      <td>0.000000</td>\n",
       "    </tr>\n",
       "    <tr>\n",
       "      <th>12</th>\n",
       "      <td>0.846154</td>\n",
       "      <td>0.076923</td>\n",
       "      <td>0.000000</td>\n",
       "      <td>0.000000</td>\n",
       "      <td>0.000000</td>\n",
       "      <td>0.000000</td>\n",
       "      <td>0.000000</td>\n",
       "      <td>0.076923</td>\n",
       "      <td>0.000000</td>\n",
       "      <td>0.000000</td>\n",
       "      <td>0.000000</td>\n",
       "      <td>0.000000</td>\n",
       "      <td>0.000000</td>\n",
       "      <td>0.000000</td>\n",
       "      <td>0.0</td>\n",
       "      <td>0.000000</td>\n",
       "    </tr>\n",
       "    <tr>\n",
       "      <th>13</th>\n",
       "      <td>0.875000</td>\n",
       "      <td>0.000000</td>\n",
       "      <td>0.125000</td>\n",
       "      <td>0.000000</td>\n",
       "      <td>0.000000</td>\n",
       "      <td>0.000000</td>\n",
       "      <td>0.000000</td>\n",
       "      <td>0.000000</td>\n",
       "      <td>0.000000</td>\n",
       "      <td>0.000000</td>\n",
       "      <td>0.000000</td>\n",
       "      <td>0.000000</td>\n",
       "      <td>0.000000</td>\n",
       "      <td>0.000000</td>\n",
       "      <td>0.0</td>\n",
       "      <td>0.000000</td>\n",
       "    </tr>\n",
       "    <tr>\n",
       "      <th>14</th>\n",
       "      <td>0.764706</td>\n",
       "      <td>0.117647</td>\n",
       "      <td>0.058824</td>\n",
       "      <td>0.000000</td>\n",
       "      <td>0.000000</td>\n",
       "      <td>0.058824</td>\n",
       "      <td>0.000000</td>\n",
       "      <td>0.000000</td>\n",
       "      <td>0.000000</td>\n",
       "      <td>0.000000</td>\n",
       "      <td>0.000000</td>\n",
       "      <td>0.000000</td>\n",
       "      <td>0.000000</td>\n",
       "      <td>0.000000</td>\n",
       "      <td>0.0</td>\n",
       "      <td>0.000000</td>\n",
       "    </tr>\n",
       "    <tr>\n",
       "      <th>15</th>\n",
       "      <td>0.750000</td>\n",
       "      <td>0.000000</td>\n",
       "      <td>0.125000</td>\n",
       "      <td>0.125000</td>\n",
       "      <td>0.000000</td>\n",
       "      <td>0.000000</td>\n",
       "      <td>0.000000</td>\n",
       "      <td>0.000000</td>\n",
       "      <td>0.000000</td>\n",
       "      <td>0.000000</td>\n",
       "      <td>0.000000</td>\n",
       "      <td>0.000000</td>\n",
       "      <td>0.000000</td>\n",
       "      <td>0.000000</td>\n",
       "      <td>0.0</td>\n",
       "      <td>0.000000</td>\n",
       "    </tr>\n",
       "    <tr>\n",
       "      <th>16</th>\n",
       "      <td>0.764706</td>\n",
       "      <td>0.235294</td>\n",
       "      <td>0.000000</td>\n",
       "      <td>0.000000</td>\n",
       "      <td>0.000000</td>\n",
       "      <td>0.000000</td>\n",
       "      <td>0.000000</td>\n",
       "      <td>0.000000</td>\n",
       "      <td>0.000000</td>\n",
       "      <td>0.000000</td>\n",
       "      <td>0.000000</td>\n",
       "      <td>0.000000</td>\n",
       "      <td>0.000000</td>\n",
       "      <td>0.000000</td>\n",
       "      <td>0.0</td>\n",
       "      <td>0.000000</td>\n",
       "    </tr>\n",
       "    <tr>\n",
       "      <th>17</th>\n",
       "      <td>0.739130</td>\n",
       "      <td>0.086957</td>\n",
       "      <td>0.086957</td>\n",
       "      <td>0.043478</td>\n",
       "      <td>0.000000</td>\n",
       "      <td>0.000000</td>\n",
       "      <td>0.043478</td>\n",
       "      <td>0.000000</td>\n",
       "      <td>0.000000</td>\n",
       "      <td>0.000000</td>\n",
       "      <td>0.000000</td>\n",
       "      <td>0.000000</td>\n",
       "      <td>0.000000</td>\n",
       "      <td>0.000000</td>\n",
       "      <td>0.0</td>\n",
       "      <td>0.000000</td>\n",
       "    </tr>\n",
       "    <tr>\n",
       "      <th>18</th>\n",
       "      <td>0.846154</td>\n",
       "      <td>0.000000</td>\n",
       "      <td>0.076923</td>\n",
       "      <td>0.000000</td>\n",
       "      <td>0.000000</td>\n",
       "      <td>0.000000</td>\n",
       "      <td>0.076923</td>\n",
       "      <td>0.000000</td>\n",
       "      <td>0.000000</td>\n",
       "      <td>0.000000</td>\n",
       "      <td>0.000000</td>\n",
       "      <td>0.000000</td>\n",
       "      <td>0.000000</td>\n",
       "      <td>0.000000</td>\n",
       "      <td>0.0</td>\n",
       "      <td>0.000000</td>\n",
       "    </tr>\n",
       "    <tr>\n",
       "      <th>19</th>\n",
       "      <td>0.809524</td>\n",
       "      <td>0.047619</td>\n",
       "      <td>0.047619</td>\n",
       "      <td>0.047619</td>\n",
       "      <td>0.000000</td>\n",
       "      <td>0.047619</td>\n",
       "      <td>0.000000</td>\n",
       "      <td>0.000000</td>\n",
       "      <td>0.000000</td>\n",
       "      <td>0.000000</td>\n",
       "      <td>0.000000</td>\n",
       "      <td>0.000000</td>\n",
       "      <td>0.000000</td>\n",
       "      <td>0.000000</td>\n",
       "      <td>0.0</td>\n",
       "      <td>0.000000</td>\n",
       "    </tr>\n",
       "    <tr>\n",
       "      <th>20</th>\n",
       "      <td>0.714286</td>\n",
       "      <td>0.142857</td>\n",
       "      <td>0.047619</td>\n",
       "      <td>0.047619</td>\n",
       "      <td>0.000000</td>\n",
       "      <td>0.000000</td>\n",
       "      <td>0.047619</td>\n",
       "      <td>0.000000</td>\n",
       "      <td>0.000000</td>\n",
       "      <td>0.000000</td>\n",
       "      <td>0.000000</td>\n",
       "      <td>0.000000</td>\n",
       "      <td>0.000000</td>\n",
       "      <td>0.000000</td>\n",
       "      <td>0.0</td>\n",
       "      <td>0.000000</td>\n",
       "    </tr>\n",
       "    <tr>\n",
       "      <th>21</th>\n",
       "      <td>0.827586</td>\n",
       "      <td>0.068966</td>\n",
       "      <td>0.068966</td>\n",
       "      <td>0.034483</td>\n",
       "      <td>0.000000</td>\n",
       "      <td>0.000000</td>\n",
       "      <td>0.000000</td>\n",
       "      <td>0.000000</td>\n",
       "      <td>0.000000</td>\n",
       "      <td>0.000000</td>\n",
       "      <td>0.000000</td>\n",
       "      <td>0.000000</td>\n",
       "      <td>0.000000</td>\n",
       "      <td>0.000000</td>\n",
       "      <td>0.0</td>\n",
       "      <td>0.000000</td>\n",
       "    </tr>\n",
       "    <tr>\n",
       "      <th>22</th>\n",
       "      <td>0.757576</td>\n",
       "      <td>0.121212</td>\n",
       "      <td>0.121212</td>\n",
       "      <td>0.000000</td>\n",
       "      <td>0.000000</td>\n",
       "      <td>0.000000</td>\n",
       "      <td>0.000000</td>\n",
       "      <td>0.000000</td>\n",
       "      <td>0.000000</td>\n",
       "      <td>0.000000</td>\n",
       "      <td>0.000000</td>\n",
       "      <td>0.000000</td>\n",
       "      <td>0.000000</td>\n",
       "      <td>0.000000</td>\n",
       "      <td>0.0</td>\n",
       "      <td>0.000000</td>\n",
       "    </tr>\n",
       "    <tr>\n",
       "      <th>23</th>\n",
       "      <td>0.711712</td>\n",
       "      <td>0.139640</td>\n",
       "      <td>0.081081</td>\n",
       "      <td>0.022523</td>\n",
       "      <td>0.018018</td>\n",
       "      <td>0.018018</td>\n",
       "      <td>0.009009</td>\n",
       "      <td>0.000000</td>\n",
       "      <td>0.000000</td>\n",
       "      <td>0.000000</td>\n",
       "      <td>0.000000</td>\n",
       "      <td>0.000000</td>\n",
       "      <td>0.000000</td>\n",
       "      <td>0.000000</td>\n",
       "      <td>0.0</td>\n",
       "      <td>0.000000</td>\n",
       "    </tr>\n",
       "    <tr>\n",
       "      <th>24</th>\n",
       "      <td>0.666667</td>\n",
       "      <td>0.163194</td>\n",
       "      <td>0.093750</td>\n",
       "      <td>0.024306</td>\n",
       "      <td>0.027778</td>\n",
       "      <td>0.013889</td>\n",
       "      <td>0.010417</td>\n",
       "      <td>0.000000</td>\n",
       "      <td>0.000000</td>\n",
       "      <td>0.000000</td>\n",
       "      <td>0.000000</td>\n",
       "      <td>0.000000</td>\n",
       "      <td>0.000000</td>\n",
       "      <td>0.000000</td>\n",
       "      <td>0.0</td>\n",
       "      <td>0.000000</td>\n",
       "    </tr>\n",
       "    <tr>\n",
       "      <th>25</th>\n",
       "      <td>0.712121</td>\n",
       "      <td>0.136364</td>\n",
       "      <td>0.030303</td>\n",
       "      <td>0.106061</td>\n",
       "      <td>0.000000</td>\n",
       "      <td>0.015152</td>\n",
       "      <td>0.000000</td>\n",
       "      <td>0.000000</td>\n",
       "      <td>0.000000</td>\n",
       "      <td>0.000000</td>\n",
       "      <td>0.000000</td>\n",
       "      <td>0.000000</td>\n",
       "      <td>0.000000</td>\n",
       "      <td>0.000000</td>\n",
       "      <td>0.0</td>\n",
       "      <td>0.000000</td>\n",
       "    </tr>\n",
       "    <tr>\n",
       "      <th>26</th>\n",
       "      <td>0.717949</td>\n",
       "      <td>0.179487</td>\n",
       "      <td>0.076923</td>\n",
       "      <td>0.025641</td>\n",
       "      <td>0.000000</td>\n",
       "      <td>0.000000</td>\n",
       "      <td>0.000000</td>\n",
       "      <td>0.000000</td>\n",
       "      <td>0.000000</td>\n",
       "      <td>0.000000</td>\n",
       "      <td>0.000000</td>\n",
       "      <td>0.000000</td>\n",
       "      <td>0.000000</td>\n",
       "      <td>0.000000</td>\n",
       "      <td>0.0</td>\n",
       "      <td>0.000000</td>\n",
       "    </tr>\n",
       "    <tr>\n",
       "      <th>27</th>\n",
       "      <td>0.758621</td>\n",
       "      <td>0.172414</td>\n",
       "      <td>0.034483</td>\n",
       "      <td>0.000000</td>\n",
       "      <td>0.034483</td>\n",
       "      <td>0.000000</td>\n",
       "      <td>0.000000</td>\n",
       "      <td>0.000000</td>\n",
       "      <td>0.000000</td>\n",
       "      <td>0.000000</td>\n",
       "      <td>0.000000</td>\n",
       "      <td>0.000000</td>\n",
       "      <td>0.000000</td>\n",
       "      <td>0.000000</td>\n",
       "      <td>0.0</td>\n",
       "      <td>0.000000</td>\n",
       "    </tr>\n",
       "    <tr>\n",
       "      <th>28</th>\n",
       "      <td>0.730769</td>\n",
       "      <td>0.115385</td>\n",
       "      <td>0.076923</td>\n",
       "      <td>0.038462</td>\n",
       "      <td>0.000000</td>\n",
       "      <td>0.000000</td>\n",
       "      <td>0.038462</td>\n",
       "      <td>0.000000</td>\n",
       "      <td>0.000000</td>\n",
       "      <td>0.000000</td>\n",
       "      <td>0.000000</td>\n",
       "      <td>0.000000</td>\n",
       "      <td>0.000000</td>\n",
       "      <td>0.000000</td>\n",
       "      <td>0.0</td>\n",
       "      <td>0.000000</td>\n",
       "    </tr>\n",
       "    <tr>\n",
       "      <th>29</th>\n",
       "      <td>0.923077</td>\n",
       "      <td>0.076923</td>\n",
       "      <td>0.000000</td>\n",
       "      <td>0.000000</td>\n",
       "      <td>0.000000</td>\n",
       "      <td>0.000000</td>\n",
       "      <td>0.000000</td>\n",
       "      <td>0.000000</td>\n",
       "      <td>0.000000</td>\n",
       "      <td>0.000000</td>\n",
       "      <td>0.000000</td>\n",
       "      <td>0.000000</td>\n",
       "      <td>0.000000</td>\n",
       "      <td>0.000000</td>\n",
       "      <td>0.0</td>\n",
       "      <td>0.000000</td>\n",
       "    </tr>\n",
       "    <tr>\n",
       "      <th>...</th>\n",
       "      <td>...</td>\n",
       "      <td>...</td>\n",
       "      <td>...</td>\n",
       "      <td>...</td>\n",
       "      <td>...</td>\n",
       "      <td>...</td>\n",
       "      <td>...</td>\n",
       "      <td>...</td>\n",
       "      <td>...</td>\n",
       "      <td>...</td>\n",
       "      <td>...</td>\n",
       "      <td>...</td>\n",
       "      <td>...</td>\n",
       "      <td>...</td>\n",
       "      <td>...</td>\n",
       "      <td>...</td>\n",
       "    </tr>\n",
       "    <tr>\n",
       "      <th>513</th>\n",
       "      <td>0.524590</td>\n",
       "      <td>0.158470</td>\n",
       "      <td>0.147541</td>\n",
       "      <td>0.065574</td>\n",
       "      <td>0.043716</td>\n",
       "      <td>0.038251</td>\n",
       "      <td>0.021858</td>\n",
       "      <td>0.000000</td>\n",
       "      <td>0.000000</td>\n",
       "      <td>0.000000</td>\n",
       "      <td>0.000000</td>\n",
       "      <td>0.000000</td>\n",
       "      <td>0.000000</td>\n",
       "      <td>0.000000</td>\n",
       "      <td>0.0</td>\n",
       "      <td>0.000000</td>\n",
       "    </tr>\n",
       "    <tr>\n",
       "      <th>514</th>\n",
       "      <td>0.751131</td>\n",
       "      <td>0.095023</td>\n",
       "      <td>0.054299</td>\n",
       "      <td>0.027149</td>\n",
       "      <td>0.040724</td>\n",
       "      <td>0.018100</td>\n",
       "      <td>0.013575</td>\n",
       "      <td>0.000000</td>\n",
       "      <td>0.000000</td>\n",
       "      <td>0.000000</td>\n",
       "      <td>0.000000</td>\n",
       "      <td>0.000000</td>\n",
       "      <td>0.000000</td>\n",
       "      <td>0.000000</td>\n",
       "      <td>0.0</td>\n",
       "      <td>0.000000</td>\n",
       "    </tr>\n",
       "    <tr>\n",
       "      <th>515</th>\n",
       "      <td>0.487395</td>\n",
       "      <td>0.159664</td>\n",
       "      <td>0.176471</td>\n",
       "      <td>0.100840</td>\n",
       "      <td>0.016807</td>\n",
       "      <td>0.033613</td>\n",
       "      <td>0.016807</td>\n",
       "      <td>0.008403</td>\n",
       "      <td>0.000000</td>\n",
       "      <td>0.000000</td>\n",
       "      <td>0.000000</td>\n",
       "      <td>0.000000</td>\n",
       "      <td>0.000000</td>\n",
       "      <td>0.000000</td>\n",
       "      <td>0.0</td>\n",
       "      <td>0.000000</td>\n",
       "    </tr>\n",
       "    <tr>\n",
       "      <th>516</th>\n",
       "      <td>0.483146</td>\n",
       "      <td>0.174157</td>\n",
       "      <td>0.146067</td>\n",
       "      <td>0.112360</td>\n",
       "      <td>0.011236</td>\n",
       "      <td>0.044944</td>\n",
       "      <td>0.016854</td>\n",
       "      <td>0.005618</td>\n",
       "      <td>0.000000</td>\n",
       "      <td>0.000000</td>\n",
       "      <td>0.000000</td>\n",
       "      <td>0.000000</td>\n",
       "      <td>0.005618</td>\n",
       "      <td>0.000000</td>\n",
       "      <td>0.0</td>\n",
       "      <td>0.000000</td>\n",
       "    </tr>\n",
       "    <tr>\n",
       "      <th>517</th>\n",
       "      <td>0.451777</td>\n",
       "      <td>0.182741</td>\n",
       "      <td>0.177665</td>\n",
       "      <td>0.106599</td>\n",
       "      <td>0.025381</td>\n",
       "      <td>0.020305</td>\n",
       "      <td>0.015228</td>\n",
       "      <td>0.005076</td>\n",
       "      <td>0.010152</td>\n",
       "      <td>0.000000</td>\n",
       "      <td>0.005076</td>\n",
       "      <td>0.000000</td>\n",
       "      <td>0.000000</td>\n",
       "      <td>0.000000</td>\n",
       "      <td>0.0</td>\n",
       "      <td>0.000000</td>\n",
       "    </tr>\n",
       "    <tr>\n",
       "      <th>518</th>\n",
       "      <td>0.480198</td>\n",
       "      <td>0.173267</td>\n",
       "      <td>0.173267</td>\n",
       "      <td>0.074257</td>\n",
       "      <td>0.029703</td>\n",
       "      <td>0.044554</td>\n",
       "      <td>0.014851</td>\n",
       "      <td>0.000000</td>\n",
       "      <td>0.004950</td>\n",
       "      <td>0.000000</td>\n",
       "      <td>0.004950</td>\n",
       "      <td>0.000000</td>\n",
       "      <td>0.000000</td>\n",
       "      <td>0.000000</td>\n",
       "      <td>0.0</td>\n",
       "      <td>0.000000</td>\n",
       "    </tr>\n",
       "    <tr>\n",
       "      <th>519</th>\n",
       "      <td>0.418803</td>\n",
       "      <td>0.205128</td>\n",
       "      <td>0.170940</td>\n",
       "      <td>0.051282</td>\n",
       "      <td>0.051282</td>\n",
       "      <td>0.094017</td>\n",
       "      <td>0.008547</td>\n",
       "      <td>0.000000</td>\n",
       "      <td>0.000000</td>\n",
       "      <td>0.000000</td>\n",
       "      <td>0.000000</td>\n",
       "      <td>0.000000</td>\n",
       "      <td>0.000000</td>\n",
       "      <td>0.000000</td>\n",
       "      <td>0.0</td>\n",
       "      <td>0.000000</td>\n",
       "    </tr>\n",
       "    <tr>\n",
       "      <th>520</th>\n",
       "      <td>0.351648</td>\n",
       "      <td>0.307692</td>\n",
       "      <td>0.142857</td>\n",
       "      <td>0.054945</td>\n",
       "      <td>0.043956</td>\n",
       "      <td>0.054945</td>\n",
       "      <td>0.021978</td>\n",
       "      <td>0.010989</td>\n",
       "      <td>0.010989</td>\n",
       "      <td>0.000000</td>\n",
       "      <td>0.000000</td>\n",
       "      <td>0.000000</td>\n",
       "      <td>0.000000</td>\n",
       "      <td>0.000000</td>\n",
       "      <td>0.0</td>\n",
       "      <td>0.000000</td>\n",
       "    </tr>\n",
       "    <tr>\n",
       "      <th>521</th>\n",
       "      <td>0.340426</td>\n",
       "      <td>0.148936</td>\n",
       "      <td>0.159574</td>\n",
       "      <td>0.202128</td>\n",
       "      <td>0.042553</td>\n",
       "      <td>0.095745</td>\n",
       "      <td>0.010638</td>\n",
       "      <td>0.000000</td>\n",
       "      <td>0.000000</td>\n",
       "      <td>0.000000</td>\n",
       "      <td>0.000000</td>\n",
       "      <td>0.000000</td>\n",
       "      <td>0.000000</td>\n",
       "      <td>0.000000</td>\n",
       "      <td>0.0</td>\n",
       "      <td>0.000000</td>\n",
       "    </tr>\n",
       "    <tr>\n",
       "      <th>522</th>\n",
       "      <td>0.355932</td>\n",
       "      <td>0.245763</td>\n",
       "      <td>0.186441</td>\n",
       "      <td>0.059322</td>\n",
       "      <td>0.059322</td>\n",
       "      <td>0.067797</td>\n",
       "      <td>0.016949</td>\n",
       "      <td>0.000000</td>\n",
       "      <td>0.000000</td>\n",
       "      <td>0.000000</td>\n",
       "      <td>0.008475</td>\n",
       "      <td>0.000000</td>\n",
       "      <td>0.000000</td>\n",
       "      <td>0.000000</td>\n",
       "      <td>0.0</td>\n",
       "      <td>0.000000</td>\n",
       "    </tr>\n",
       "    <tr>\n",
       "      <th>523</th>\n",
       "      <td>0.348624</td>\n",
       "      <td>0.183486</td>\n",
       "      <td>0.211009</td>\n",
       "      <td>0.110092</td>\n",
       "      <td>0.027523</td>\n",
       "      <td>0.064220</td>\n",
       "      <td>0.027523</td>\n",
       "      <td>0.027523</td>\n",
       "      <td>0.000000</td>\n",
       "      <td>0.000000</td>\n",
       "      <td>0.000000</td>\n",
       "      <td>0.000000</td>\n",
       "      <td>0.000000</td>\n",
       "      <td>0.000000</td>\n",
       "      <td>0.0</td>\n",
       "      <td>0.000000</td>\n",
       "    </tr>\n",
       "    <tr>\n",
       "      <th>524</th>\n",
       "      <td>0.321839</td>\n",
       "      <td>0.264368</td>\n",
       "      <td>0.206897</td>\n",
       "      <td>0.068966</td>\n",
       "      <td>0.034483</td>\n",
       "      <td>0.068966</td>\n",
       "      <td>0.034483</td>\n",
       "      <td>0.000000</td>\n",
       "      <td>0.000000</td>\n",
       "      <td>0.000000</td>\n",
       "      <td>0.000000</td>\n",
       "      <td>0.000000</td>\n",
       "      <td>0.000000</td>\n",
       "      <td>0.000000</td>\n",
       "      <td>0.0</td>\n",
       "      <td>0.000000</td>\n",
       "    </tr>\n",
       "    <tr>\n",
       "      <th>525</th>\n",
       "      <td>0.448598</td>\n",
       "      <td>0.224299</td>\n",
       "      <td>0.140187</td>\n",
       "      <td>0.074766</td>\n",
       "      <td>0.056075</td>\n",
       "      <td>0.028037</td>\n",
       "      <td>0.009346</td>\n",
       "      <td>0.000000</td>\n",
       "      <td>0.018692</td>\n",
       "      <td>0.000000</td>\n",
       "      <td>0.000000</td>\n",
       "      <td>0.000000</td>\n",
       "      <td>0.000000</td>\n",
       "      <td>0.000000</td>\n",
       "      <td>0.0</td>\n",
       "      <td>0.000000</td>\n",
       "    </tr>\n",
       "    <tr>\n",
       "      <th>526</th>\n",
       "      <td>0.290000</td>\n",
       "      <td>0.220000</td>\n",
       "      <td>0.160000</td>\n",
       "      <td>0.110000</td>\n",
       "      <td>0.110000</td>\n",
       "      <td>0.070000</td>\n",
       "      <td>0.020000</td>\n",
       "      <td>0.010000</td>\n",
       "      <td>0.010000</td>\n",
       "      <td>0.000000</td>\n",
       "      <td>0.000000</td>\n",
       "      <td>0.000000</td>\n",
       "      <td>0.000000</td>\n",
       "      <td>0.000000</td>\n",
       "      <td>0.0</td>\n",
       "      <td>0.000000</td>\n",
       "    </tr>\n",
       "    <tr>\n",
       "      <th>527</th>\n",
       "      <td>0.373913</td>\n",
       "      <td>0.165217</td>\n",
       "      <td>0.139130</td>\n",
       "      <td>0.200000</td>\n",
       "      <td>0.026087</td>\n",
       "      <td>0.052174</td>\n",
       "      <td>0.034783</td>\n",
       "      <td>0.008696</td>\n",
       "      <td>0.000000</td>\n",
       "      <td>0.000000</td>\n",
       "      <td>0.000000</td>\n",
       "      <td>0.000000</td>\n",
       "      <td>0.000000</td>\n",
       "      <td>0.000000</td>\n",
       "      <td>0.0</td>\n",
       "      <td>0.000000</td>\n",
       "    </tr>\n",
       "    <tr>\n",
       "      <th>528</th>\n",
       "      <td>0.408602</td>\n",
       "      <td>0.182796</td>\n",
       "      <td>0.129032</td>\n",
       "      <td>0.118280</td>\n",
       "      <td>0.053763</td>\n",
       "      <td>0.075269</td>\n",
       "      <td>0.010753</td>\n",
       "      <td>0.010753</td>\n",
       "      <td>0.010753</td>\n",
       "      <td>0.000000</td>\n",
       "      <td>0.000000</td>\n",
       "      <td>0.000000</td>\n",
       "      <td>0.000000</td>\n",
       "      <td>0.000000</td>\n",
       "      <td>0.0</td>\n",
       "      <td>0.000000</td>\n",
       "    </tr>\n",
       "    <tr>\n",
       "      <th>529</th>\n",
       "      <td>0.308411</td>\n",
       "      <td>0.177570</td>\n",
       "      <td>0.224299</td>\n",
       "      <td>0.093458</td>\n",
       "      <td>0.037383</td>\n",
       "      <td>0.074766</td>\n",
       "      <td>0.074766</td>\n",
       "      <td>0.000000</td>\n",
       "      <td>0.009346</td>\n",
       "      <td>0.000000</td>\n",
       "      <td>0.000000</td>\n",
       "      <td>0.000000</td>\n",
       "      <td>0.000000</td>\n",
       "      <td>0.000000</td>\n",
       "      <td>0.0</td>\n",
       "      <td>0.000000</td>\n",
       "    </tr>\n",
       "    <tr>\n",
       "      <th>530</th>\n",
       "      <td>0.443478</td>\n",
       "      <td>0.121739</td>\n",
       "      <td>0.208696</td>\n",
       "      <td>0.052174</td>\n",
       "      <td>0.069565</td>\n",
       "      <td>0.060870</td>\n",
       "      <td>0.034783</td>\n",
       "      <td>0.008696</td>\n",
       "      <td>0.000000</td>\n",
       "      <td>0.000000</td>\n",
       "      <td>0.000000</td>\n",
       "      <td>0.000000</td>\n",
       "      <td>0.000000</td>\n",
       "      <td>0.000000</td>\n",
       "      <td>0.0</td>\n",
       "      <td>0.000000</td>\n",
       "    </tr>\n",
       "    <tr>\n",
       "      <th>531</th>\n",
       "      <td>0.435185</td>\n",
       "      <td>0.231481</td>\n",
       "      <td>0.129630</td>\n",
       "      <td>0.101852</td>\n",
       "      <td>0.046296</td>\n",
       "      <td>0.037037</td>\n",
       "      <td>0.009259</td>\n",
       "      <td>0.000000</td>\n",
       "      <td>0.009259</td>\n",
       "      <td>0.000000</td>\n",
       "      <td>0.000000</td>\n",
       "      <td>0.000000</td>\n",
       "      <td>0.000000</td>\n",
       "      <td>0.000000</td>\n",
       "      <td>0.0</td>\n",
       "      <td>0.000000</td>\n",
       "    </tr>\n",
       "    <tr>\n",
       "      <th>532</th>\n",
       "      <td>0.454545</td>\n",
       "      <td>0.148760</td>\n",
       "      <td>0.165289</td>\n",
       "      <td>0.115702</td>\n",
       "      <td>0.049587</td>\n",
       "      <td>0.024793</td>\n",
       "      <td>0.033058</td>\n",
       "      <td>0.000000</td>\n",
       "      <td>0.000000</td>\n",
       "      <td>0.008264</td>\n",
       "      <td>0.000000</td>\n",
       "      <td>0.000000</td>\n",
       "      <td>0.000000</td>\n",
       "      <td>0.000000</td>\n",
       "      <td>0.0</td>\n",
       "      <td>0.000000</td>\n",
       "    </tr>\n",
       "    <tr>\n",
       "      <th>533</th>\n",
       "      <td>0.469565</td>\n",
       "      <td>0.182609</td>\n",
       "      <td>0.121739</td>\n",
       "      <td>0.095652</td>\n",
       "      <td>0.069565</td>\n",
       "      <td>0.026087</td>\n",
       "      <td>0.026087</td>\n",
       "      <td>0.000000</td>\n",
       "      <td>0.008696</td>\n",
       "      <td>0.000000</td>\n",
       "      <td>0.000000</td>\n",
       "      <td>0.000000</td>\n",
       "      <td>0.000000</td>\n",
       "      <td>0.000000</td>\n",
       "      <td>0.0</td>\n",
       "      <td>0.000000</td>\n",
       "    </tr>\n",
       "    <tr>\n",
       "      <th>534</th>\n",
       "      <td>0.420561</td>\n",
       "      <td>0.196262</td>\n",
       "      <td>0.205607</td>\n",
       "      <td>0.065421</td>\n",
       "      <td>0.009346</td>\n",
       "      <td>0.046729</td>\n",
       "      <td>0.028037</td>\n",
       "      <td>0.000000</td>\n",
       "      <td>0.009346</td>\n",
       "      <td>0.009346</td>\n",
       "      <td>0.000000</td>\n",
       "      <td>0.000000</td>\n",
       "      <td>0.000000</td>\n",
       "      <td>0.000000</td>\n",
       "      <td>0.0</td>\n",
       "      <td>0.009346</td>\n",
       "    </tr>\n",
       "    <tr>\n",
       "      <th>535</th>\n",
       "      <td>0.457746</td>\n",
       "      <td>0.204225</td>\n",
       "      <td>0.140845</td>\n",
       "      <td>0.133803</td>\n",
       "      <td>0.028169</td>\n",
       "      <td>0.014085</td>\n",
       "      <td>0.000000</td>\n",
       "      <td>0.014085</td>\n",
       "      <td>0.007042</td>\n",
       "      <td>0.000000</td>\n",
       "      <td>0.000000</td>\n",
       "      <td>0.000000</td>\n",
       "      <td>0.000000</td>\n",
       "      <td>0.000000</td>\n",
       "      <td>0.0</td>\n",
       "      <td>0.000000</td>\n",
       "    </tr>\n",
       "    <tr>\n",
       "      <th>536</th>\n",
       "      <td>0.315436</td>\n",
       "      <td>0.161074</td>\n",
       "      <td>0.187919</td>\n",
       "      <td>0.100671</td>\n",
       "      <td>0.060403</td>\n",
       "      <td>0.053691</td>\n",
       "      <td>0.060403</td>\n",
       "      <td>0.040268</td>\n",
       "      <td>0.000000</td>\n",
       "      <td>0.006711</td>\n",
       "      <td>0.000000</td>\n",
       "      <td>0.006711</td>\n",
       "      <td>0.000000</td>\n",
       "      <td>0.006711</td>\n",
       "      <td>0.0</td>\n",
       "      <td>0.000000</td>\n",
       "    </tr>\n",
       "    <tr>\n",
       "      <th>537</th>\n",
       "      <td>0.325581</td>\n",
       "      <td>0.186047</td>\n",
       "      <td>0.176744</td>\n",
       "      <td>0.111628</td>\n",
       "      <td>0.041860</td>\n",
       "      <td>0.065116</td>\n",
       "      <td>0.055814</td>\n",
       "      <td>0.004651</td>\n",
       "      <td>0.018605</td>\n",
       "      <td>0.004651</td>\n",
       "      <td>0.004651</td>\n",
       "      <td>0.004651</td>\n",
       "      <td>0.000000</td>\n",
       "      <td>0.000000</td>\n",
       "      <td>0.0</td>\n",
       "      <td>0.000000</td>\n",
       "    </tr>\n",
       "    <tr>\n",
       "      <th>538</th>\n",
       "      <td>0.352941</td>\n",
       "      <td>0.217195</td>\n",
       "      <td>0.117647</td>\n",
       "      <td>0.108597</td>\n",
       "      <td>0.054299</td>\n",
       "      <td>0.058824</td>\n",
       "      <td>0.031674</td>\n",
       "      <td>0.018100</td>\n",
       "      <td>0.009050</td>\n",
       "      <td>0.018100</td>\n",
       "      <td>0.000000</td>\n",
       "      <td>0.009050</td>\n",
       "      <td>0.000000</td>\n",
       "      <td>0.000000</td>\n",
       "      <td>0.0</td>\n",
       "      <td>0.004525</td>\n",
       "    </tr>\n",
       "    <tr>\n",
       "      <th>539</th>\n",
       "      <td>0.295699</td>\n",
       "      <td>0.198925</td>\n",
       "      <td>0.134409</td>\n",
       "      <td>0.118280</td>\n",
       "      <td>0.069892</td>\n",
       "      <td>0.086022</td>\n",
       "      <td>0.037634</td>\n",
       "      <td>0.043011</td>\n",
       "      <td>0.005376</td>\n",
       "      <td>0.000000</td>\n",
       "      <td>0.005376</td>\n",
       "      <td>0.000000</td>\n",
       "      <td>0.000000</td>\n",
       "      <td>0.005376</td>\n",
       "      <td>0.0</td>\n",
       "      <td>0.000000</td>\n",
       "    </tr>\n",
       "    <tr>\n",
       "      <th>540</th>\n",
       "      <td>0.291457</td>\n",
       "      <td>0.165829</td>\n",
       "      <td>0.170854</td>\n",
       "      <td>0.085427</td>\n",
       "      <td>0.065327</td>\n",
       "      <td>0.060302</td>\n",
       "      <td>0.085427</td>\n",
       "      <td>0.030151</td>\n",
       "      <td>0.020101</td>\n",
       "      <td>0.010050</td>\n",
       "      <td>0.000000</td>\n",
       "      <td>0.005025</td>\n",
       "      <td>0.005025</td>\n",
       "      <td>0.005025</td>\n",
       "      <td>0.0</td>\n",
       "      <td>0.000000</td>\n",
       "    </tr>\n",
       "    <tr>\n",
       "      <th>541</th>\n",
       "      <td>0.361607</td>\n",
       "      <td>0.209821</td>\n",
       "      <td>0.129464</td>\n",
       "      <td>0.089286</td>\n",
       "      <td>0.026786</td>\n",
       "      <td>0.062500</td>\n",
       "      <td>0.066964</td>\n",
       "      <td>0.031250</td>\n",
       "      <td>0.013393</td>\n",
       "      <td>0.000000</td>\n",
       "      <td>0.008929</td>\n",
       "      <td>0.000000</td>\n",
       "      <td>0.000000</td>\n",
       "      <td>0.000000</td>\n",
       "      <td>0.0</td>\n",
       "      <td>0.000000</td>\n",
       "    </tr>\n",
       "    <tr>\n",
       "      <th>542</th>\n",
       "      <td>0.388889</td>\n",
       "      <td>0.150000</td>\n",
       "      <td>0.138889</td>\n",
       "      <td>0.077778</td>\n",
       "      <td>0.066667</td>\n",
       "      <td>0.083333</td>\n",
       "      <td>0.050000</td>\n",
       "      <td>0.027778</td>\n",
       "      <td>0.011111</td>\n",
       "      <td>0.000000</td>\n",
       "      <td>0.005556</td>\n",
       "      <td>0.000000</td>\n",
       "      <td>0.000000</td>\n",
       "      <td>0.000000</td>\n",
       "      <td>0.0</td>\n",
       "      <td>0.000000</td>\n",
       "    </tr>\n",
       "  </tbody>\n",
       "</table>\n",
       "<p>543 rows × 16 columns</p>\n",
       "</div>"
      ],
      "text/plain": [
       "         bin0      bin1      bin2      bin3      bin4      bin5      bin6  \\\n",
       "0    0.950000  0.000000  0.050000  0.000000  0.000000  0.000000  0.000000   \n",
       "1    0.538462  0.153846  0.076923  0.000000  0.000000  0.076923  0.076923   \n",
       "2    0.727273  0.136364  0.045455  0.000000  0.045455  0.045455  0.000000   \n",
       "3    0.900000  0.000000  0.000000  0.100000  0.000000  0.000000  0.000000   \n",
       "4    0.615385  0.307692  0.076923  0.000000  0.000000  0.000000  0.000000   \n",
       "5    0.555556  0.222222  0.222222  0.000000  0.000000  0.000000  0.000000   \n",
       "6    0.636364  0.272727  0.090909  0.000000  0.000000  0.000000  0.000000   \n",
       "7    0.727273  0.090909  0.000000  0.000000  0.000000  0.000000  0.090909   \n",
       "8    0.916667  0.083333  0.000000  0.000000  0.000000  0.000000  0.000000   \n",
       "9    0.733333  0.133333  0.066667  0.000000  0.000000  0.066667  0.000000   \n",
       "10   1.000000  0.000000  0.000000  0.000000  0.000000  0.000000  0.000000   \n",
       "11   0.809524  0.047619  0.142857  0.000000  0.000000  0.000000  0.000000   \n",
       "12   0.846154  0.076923  0.000000  0.000000  0.000000  0.000000  0.000000   \n",
       "13   0.875000  0.000000  0.125000  0.000000  0.000000  0.000000  0.000000   \n",
       "14   0.764706  0.117647  0.058824  0.000000  0.000000  0.058824  0.000000   \n",
       "15   0.750000  0.000000  0.125000  0.125000  0.000000  0.000000  0.000000   \n",
       "16   0.764706  0.235294  0.000000  0.000000  0.000000  0.000000  0.000000   \n",
       "17   0.739130  0.086957  0.086957  0.043478  0.000000  0.000000  0.043478   \n",
       "18   0.846154  0.000000  0.076923  0.000000  0.000000  0.000000  0.076923   \n",
       "19   0.809524  0.047619  0.047619  0.047619  0.000000  0.047619  0.000000   \n",
       "20   0.714286  0.142857  0.047619  0.047619  0.000000  0.000000  0.047619   \n",
       "21   0.827586  0.068966  0.068966  0.034483  0.000000  0.000000  0.000000   \n",
       "22   0.757576  0.121212  0.121212  0.000000  0.000000  0.000000  0.000000   \n",
       "23   0.711712  0.139640  0.081081  0.022523  0.018018  0.018018  0.009009   \n",
       "24   0.666667  0.163194  0.093750  0.024306  0.027778  0.013889  0.010417   \n",
       "25   0.712121  0.136364  0.030303  0.106061  0.000000  0.015152  0.000000   \n",
       "26   0.717949  0.179487  0.076923  0.025641  0.000000  0.000000  0.000000   \n",
       "27   0.758621  0.172414  0.034483  0.000000  0.034483  0.000000  0.000000   \n",
       "28   0.730769  0.115385  0.076923  0.038462  0.000000  0.000000  0.038462   \n",
       "29   0.923077  0.076923  0.000000  0.000000  0.000000  0.000000  0.000000   \n",
       "..        ...       ...       ...       ...       ...       ...       ...   \n",
       "513  0.524590  0.158470  0.147541  0.065574  0.043716  0.038251  0.021858   \n",
       "514  0.751131  0.095023  0.054299  0.027149  0.040724  0.018100  0.013575   \n",
       "515  0.487395  0.159664  0.176471  0.100840  0.016807  0.033613  0.016807   \n",
       "516  0.483146  0.174157  0.146067  0.112360  0.011236  0.044944  0.016854   \n",
       "517  0.451777  0.182741  0.177665  0.106599  0.025381  0.020305  0.015228   \n",
       "518  0.480198  0.173267  0.173267  0.074257  0.029703  0.044554  0.014851   \n",
       "519  0.418803  0.205128  0.170940  0.051282  0.051282  0.094017  0.008547   \n",
       "520  0.351648  0.307692  0.142857  0.054945  0.043956  0.054945  0.021978   \n",
       "521  0.340426  0.148936  0.159574  0.202128  0.042553  0.095745  0.010638   \n",
       "522  0.355932  0.245763  0.186441  0.059322  0.059322  0.067797  0.016949   \n",
       "523  0.348624  0.183486  0.211009  0.110092  0.027523  0.064220  0.027523   \n",
       "524  0.321839  0.264368  0.206897  0.068966  0.034483  0.068966  0.034483   \n",
       "525  0.448598  0.224299  0.140187  0.074766  0.056075  0.028037  0.009346   \n",
       "526  0.290000  0.220000  0.160000  0.110000  0.110000  0.070000  0.020000   \n",
       "527  0.373913  0.165217  0.139130  0.200000  0.026087  0.052174  0.034783   \n",
       "528  0.408602  0.182796  0.129032  0.118280  0.053763  0.075269  0.010753   \n",
       "529  0.308411  0.177570  0.224299  0.093458  0.037383  0.074766  0.074766   \n",
       "530  0.443478  0.121739  0.208696  0.052174  0.069565  0.060870  0.034783   \n",
       "531  0.435185  0.231481  0.129630  0.101852  0.046296  0.037037  0.009259   \n",
       "532  0.454545  0.148760  0.165289  0.115702  0.049587  0.024793  0.033058   \n",
       "533  0.469565  0.182609  0.121739  0.095652  0.069565  0.026087  0.026087   \n",
       "534  0.420561  0.196262  0.205607  0.065421  0.009346  0.046729  0.028037   \n",
       "535  0.457746  0.204225  0.140845  0.133803  0.028169  0.014085  0.000000   \n",
       "536  0.315436  0.161074  0.187919  0.100671  0.060403  0.053691  0.060403   \n",
       "537  0.325581  0.186047  0.176744  0.111628  0.041860  0.065116  0.055814   \n",
       "538  0.352941  0.217195  0.117647  0.108597  0.054299  0.058824  0.031674   \n",
       "539  0.295699  0.198925  0.134409  0.118280  0.069892  0.086022  0.037634   \n",
       "540  0.291457  0.165829  0.170854  0.085427  0.065327  0.060302  0.085427   \n",
       "541  0.361607  0.209821  0.129464  0.089286  0.026786  0.062500  0.066964   \n",
       "542  0.388889  0.150000  0.138889  0.077778  0.066667  0.083333  0.050000   \n",
       "\n",
       "         bin7      bin8      bin9     bin10     bin11     bin12     bin13  \\\n",
       "0    0.000000  0.000000  0.000000  0.000000  0.000000  0.000000  0.000000   \n",
       "1    0.076923  0.000000  0.000000  0.000000  0.000000  0.000000  0.000000   \n",
       "2    0.000000  0.000000  0.000000  0.000000  0.000000  0.000000  0.000000   \n",
       "3    0.000000  0.000000  0.000000  0.000000  0.000000  0.000000  0.000000   \n",
       "4    0.000000  0.000000  0.000000  0.000000  0.000000  0.000000  0.000000   \n",
       "5    0.000000  0.000000  0.000000  0.000000  0.000000  0.000000  0.000000   \n",
       "6    0.000000  0.000000  0.000000  0.000000  0.000000  0.000000  0.000000   \n",
       "7    0.000000  0.000000  0.000000  0.090909  0.000000  0.000000  0.000000   \n",
       "8    0.000000  0.000000  0.000000  0.000000  0.000000  0.000000  0.000000   \n",
       "9    0.000000  0.000000  0.000000  0.000000  0.000000  0.000000  0.000000   \n",
       "10   0.000000  0.000000  0.000000  0.000000  0.000000  0.000000  0.000000   \n",
       "11   0.000000  0.000000  0.000000  0.000000  0.000000  0.000000  0.000000   \n",
       "12   0.076923  0.000000  0.000000  0.000000  0.000000  0.000000  0.000000   \n",
       "13   0.000000  0.000000  0.000000  0.000000  0.000000  0.000000  0.000000   \n",
       "14   0.000000  0.000000  0.000000  0.000000  0.000000  0.000000  0.000000   \n",
       "15   0.000000  0.000000  0.000000  0.000000  0.000000  0.000000  0.000000   \n",
       "16   0.000000  0.000000  0.000000  0.000000  0.000000  0.000000  0.000000   \n",
       "17   0.000000  0.000000  0.000000  0.000000  0.000000  0.000000  0.000000   \n",
       "18   0.000000  0.000000  0.000000  0.000000  0.000000  0.000000  0.000000   \n",
       "19   0.000000  0.000000  0.000000  0.000000  0.000000  0.000000  0.000000   \n",
       "20   0.000000  0.000000  0.000000  0.000000  0.000000  0.000000  0.000000   \n",
       "21   0.000000  0.000000  0.000000  0.000000  0.000000  0.000000  0.000000   \n",
       "22   0.000000  0.000000  0.000000  0.000000  0.000000  0.000000  0.000000   \n",
       "23   0.000000  0.000000  0.000000  0.000000  0.000000  0.000000  0.000000   \n",
       "24   0.000000  0.000000  0.000000  0.000000  0.000000  0.000000  0.000000   \n",
       "25   0.000000  0.000000  0.000000  0.000000  0.000000  0.000000  0.000000   \n",
       "26   0.000000  0.000000  0.000000  0.000000  0.000000  0.000000  0.000000   \n",
       "27   0.000000  0.000000  0.000000  0.000000  0.000000  0.000000  0.000000   \n",
       "28   0.000000  0.000000  0.000000  0.000000  0.000000  0.000000  0.000000   \n",
       "29   0.000000  0.000000  0.000000  0.000000  0.000000  0.000000  0.000000   \n",
       "..        ...       ...       ...       ...       ...       ...       ...   \n",
       "513  0.000000  0.000000  0.000000  0.000000  0.000000  0.000000  0.000000   \n",
       "514  0.000000  0.000000  0.000000  0.000000  0.000000  0.000000  0.000000   \n",
       "515  0.008403  0.000000  0.000000  0.000000  0.000000  0.000000  0.000000   \n",
       "516  0.005618  0.000000  0.000000  0.000000  0.000000  0.005618  0.000000   \n",
       "517  0.005076  0.010152  0.000000  0.005076  0.000000  0.000000  0.000000   \n",
       "518  0.000000  0.004950  0.000000  0.004950  0.000000  0.000000  0.000000   \n",
       "519  0.000000  0.000000  0.000000  0.000000  0.000000  0.000000  0.000000   \n",
       "520  0.010989  0.010989  0.000000  0.000000  0.000000  0.000000  0.000000   \n",
       "521  0.000000  0.000000  0.000000  0.000000  0.000000  0.000000  0.000000   \n",
       "522  0.000000  0.000000  0.000000  0.008475  0.000000  0.000000  0.000000   \n",
       "523  0.027523  0.000000  0.000000  0.000000  0.000000  0.000000  0.000000   \n",
       "524  0.000000  0.000000  0.000000  0.000000  0.000000  0.000000  0.000000   \n",
       "525  0.000000  0.018692  0.000000  0.000000  0.000000  0.000000  0.000000   \n",
       "526  0.010000  0.010000  0.000000  0.000000  0.000000  0.000000  0.000000   \n",
       "527  0.008696  0.000000  0.000000  0.000000  0.000000  0.000000  0.000000   \n",
       "528  0.010753  0.010753  0.000000  0.000000  0.000000  0.000000  0.000000   \n",
       "529  0.000000  0.009346  0.000000  0.000000  0.000000  0.000000  0.000000   \n",
       "530  0.008696  0.000000  0.000000  0.000000  0.000000  0.000000  0.000000   \n",
       "531  0.000000  0.009259  0.000000  0.000000  0.000000  0.000000  0.000000   \n",
       "532  0.000000  0.000000  0.008264  0.000000  0.000000  0.000000  0.000000   \n",
       "533  0.000000  0.008696  0.000000  0.000000  0.000000  0.000000  0.000000   \n",
       "534  0.000000  0.009346  0.009346  0.000000  0.000000  0.000000  0.000000   \n",
       "535  0.014085  0.007042  0.000000  0.000000  0.000000  0.000000  0.000000   \n",
       "536  0.040268  0.000000  0.006711  0.000000  0.006711  0.000000  0.006711   \n",
       "537  0.004651  0.018605  0.004651  0.004651  0.004651  0.000000  0.000000   \n",
       "538  0.018100  0.009050  0.018100  0.000000  0.009050  0.000000  0.000000   \n",
       "539  0.043011  0.005376  0.000000  0.005376  0.000000  0.000000  0.005376   \n",
       "540  0.030151  0.020101  0.010050  0.000000  0.005025  0.005025  0.005025   \n",
       "541  0.031250  0.013393  0.000000  0.008929  0.000000  0.000000  0.000000   \n",
       "542  0.027778  0.011111  0.000000  0.005556  0.000000  0.000000  0.000000   \n",
       "\n",
       "     bin14     bin15  \n",
       "0      0.0  0.000000  \n",
       "1      0.0  0.000000  \n",
       "2      0.0  0.000000  \n",
       "3      0.0  0.000000  \n",
       "4      0.0  0.000000  \n",
       "5      0.0  0.000000  \n",
       "6      0.0  0.000000  \n",
       "7      0.0  0.000000  \n",
       "8      0.0  0.000000  \n",
       "9      0.0  0.000000  \n",
       "10     0.0  0.000000  \n",
       "11     0.0  0.000000  \n",
       "12     0.0  0.000000  \n",
       "13     0.0  0.000000  \n",
       "14     0.0  0.000000  \n",
       "15     0.0  0.000000  \n",
       "16     0.0  0.000000  \n",
       "17     0.0  0.000000  \n",
       "18     0.0  0.000000  \n",
       "19     0.0  0.000000  \n",
       "20     0.0  0.000000  \n",
       "21     0.0  0.000000  \n",
       "22     0.0  0.000000  \n",
       "23     0.0  0.000000  \n",
       "24     0.0  0.000000  \n",
       "25     0.0  0.000000  \n",
       "26     0.0  0.000000  \n",
       "27     0.0  0.000000  \n",
       "28     0.0  0.000000  \n",
       "29     0.0  0.000000  \n",
       "..     ...       ...  \n",
       "513    0.0  0.000000  \n",
       "514    0.0  0.000000  \n",
       "515    0.0  0.000000  \n",
       "516    0.0  0.000000  \n",
       "517    0.0  0.000000  \n",
       "518    0.0  0.000000  \n",
       "519    0.0  0.000000  \n",
       "520    0.0  0.000000  \n",
       "521    0.0  0.000000  \n",
       "522    0.0  0.000000  \n",
       "523    0.0  0.000000  \n",
       "524    0.0  0.000000  \n",
       "525    0.0  0.000000  \n",
       "526    0.0  0.000000  \n",
       "527    0.0  0.000000  \n",
       "528    0.0  0.000000  \n",
       "529    0.0  0.000000  \n",
       "530    0.0  0.000000  \n",
       "531    0.0  0.000000  \n",
       "532    0.0  0.000000  \n",
       "533    0.0  0.000000  \n",
       "534    0.0  0.009346  \n",
       "535    0.0  0.000000  \n",
       "536    0.0  0.000000  \n",
       "537    0.0  0.000000  \n",
       "538    0.0  0.004525  \n",
       "539    0.0  0.000000  \n",
       "540    0.0  0.000000  \n",
       "541    0.0  0.000000  \n",
       "542    0.0  0.000000  \n",
       "\n",
       "[543 rows x 16 columns]"
      ]
     },
     "execution_count": 516,
     "metadata": {},
     "output_type": "execute_result"
    }
   ],
   "source": [
    "bike"
   ]
  },
  {
   "cell_type": "code",
   "execution_count": 517,
   "metadata": {},
   "outputs": [
    {
     "data": {
      "text/plain": [
       "<matplotlib.axes._subplots.AxesSubplot at 0x1216d5c50>"
      ]
     },
     "execution_count": 517,
     "metadata": {},
     "output_type": "execute_result"
    },
    {
     "data": {
      "image/png": "[encoded data removed]",
      "text/plain": [
       "<matplotlib.figure.Figure at 0x121863b70>"
      ]
     },
     "metadata": {},
     "output_type": "display_data"
    }
   ],
   "source": [
    "# absolute values for walking data from day 04\n",
    "data04[bin_vals].describe().loc['mean'].plot(kind='bar')"
   ]
  },
  {
   "cell_type": "code",
   "execution_count": 518,
   "metadata": {},
   "outputs": [
    {
     "data": {
      "image/png": "[encoded data removed]",
      "text/plain": [
       "<matplotlib.figure.Figure at 0x12137a6d8>"
      ]
     },
     "metadata": {},
     "output_type": "display_data"
    }
   ],
   "source": [
    "# normalised walking data from day 04\n",
    "norm_walk = data04[bin_vals].apply(lambda row: row/np.sum(row), axis=1)\n",
    "norm_walk.describe().loc['mean'].plot(kind='bar')\n",
    "plt.title('Normalised Bin Counts For Walking Data')\n",
    "plt.show()"
   ]
  },
  {
   "cell_type": "code",
   "execution_count": 519,
   "metadata": {},
   "outputs": [
    {
     "data": {
      "text/plain": [
       "<matplotlib.axes._subplots.AxesSubplot at 0x121b48588>"
      ]
     },
     "execution_count": 519,
     "metadata": {},
     "output_type": "execute_result"
    },
    {
     "data": {
      "image/png": "[encoded data removed]",
      "text/plain": [
       "<matplotlib.figure.Figure at 0x1213e7e48>"
      ]
     },
     "metadata": {},
     "output_type": "display_data"
    }
   ],
   "source": [
    "train_bins = data[data['environment_index']==2][bin_vals]\n",
    "train_bins.describe().loc['mean'].plot(kind='bar')"
   ]
  },
  {
   "cell_type": "code",
   "execution_count": 520,
   "metadata": {},
   "outputs": [
    {
     "data": {
      "image/png": "[encoded data removed]",
      "text/plain": [
       "<matplotlib.figure.Figure at 0x121142e80>"
      ]
     },
     "metadata": {},
     "output_type": "display_data"
    }
   ],
   "source": [
    "norm_train_bins = train_bins.apply(lambda row: row/np.sum(row), axis=1)\n",
    "norm_train_bins.describe().loc['mean'].plot(kind='bar')\n",
    "plt.title('Normalised Bin Counts For Train')\n",
    "plt.show()"
   ]
  },
  {
   "cell_type": "code",
   "execution_count": 521,
   "metadata": {},
   "outputs": [
    {
     "data": {
      "text/plain": [
       "<matplotlib.axes._subplots.AxesSubplot at 0x121160ac8>"
      ]
     },
     "execution_count": 521,
     "metadata": {},
     "output_type": "execute_result"
    },
    {
     "data": {
      "image/png": "[encoded data removed]",
      "text/plain": [
       "<matplotlib.figure.Figure at 0x1217ed208>"
      ]
     },
     "metadata": {},
     "output_type": "display_data"
    }
   ],
   "source": [
    "bus_bins = data[data['environment_index']==4][bin_vals]\n",
    "bus_bins.describe().loc['mean'].plot(kind='bar')"
   ]
  },
  {
   "cell_type": "code",
   "execution_count": 522,
   "metadata": {},
   "outputs": [
    {
     "data": {
      "image/png": "[encoded data removed]",
      "text/plain": [
       "<matplotlib.figure.Figure at 0x12202b828>"
      ]
     },
     "metadata": {},
     "output_type": "display_data"
    }
   ],
   "source": [
    "norm_bus_bins = bus_bins.apply(lambda row: row/np.sum(row), axis=1)\n",
    "norm_bus_bins.describe().loc['mean'].plot(kind='bar')\n",
    "plt.title('Normalised Bin Counts For Bus')\n",
    "plt.show()"
   ]
  },
  {
   "cell_type": "code",
   "execution_count": 525,
   "metadata": {},
   "outputs": [
    {
     "data": {
      "text/plain": [
       "<matplotlib.axes._subplots.AxesSubplot at 0x121b95908>"
      ]
     },
     "execution_count": 525,
     "metadata": {},
     "output_type": "execute_result"
    },
    {
     "data": {
      "image/png": "[encoded data removed]",
      "text/plain": [
       "<matplotlib.figure.Figure at 0x121d0c4e0>"
      ]
     },
     "metadata": {},
     "output_type": "display_data"
    }
   ],
   "source": [
    "underground_bins = data[data['environment_index']==6][bin_vals]\n",
    "underground_bins.describe().loc['mean'].plot(kind='bar')"
   ]
  },
  {
   "cell_type": "code",
   "execution_count": 526,
   "metadata": {},
   "outputs": [
    {
     "data": {
      "image/png": "[encoded data removed]",
      "text/plain": [
       "<matplotlib.figure.Figure at 0x1216ea780>"
      ]
     },
     "metadata": {},
     "output_type": "display_data"
    }
   ],
   "source": [
    "norm_underground_bins = underground_bins.apply(lambda row: row/np.sum(row), axis=1)\n",
    "norm_underground_bins.describe().loc['mean'].plot(kind='bar')\n",
    "plt.title('Normalised Bin Counts For Subway')\n",
    "plt.show()"
   ]
  },
  {
   "cell_type": "code",
   "execution_count": 527,
   "metadata": {},
   "outputs": [
    {
     "data": {
      "text/plain": [
       "<matplotlib.axes._subplots.AxesSubplot at 0x11eee1c88>"
      ]
     },
     "execution_count": 527,
     "metadata": {},
     "output_type": "execute_result"
    },
    {
     "data": {
      "image/png": "[encoded data removed]",
      "text/plain": [
       "<matplotlib.figure.Figure at 0x1216d5668>"
      ]
     },
     "metadata": {},
     "output_type": "display_data"
    }
   ],
   "source": [
    "car_bins = data[data['environment_index']==1][bin_vals]\n",
    "car_bins.describe().loc['mean'].plot(kind='bar')"
   ]
  },
  {
   "cell_type": "code",
   "execution_count": 528,
   "metadata": {},
   "outputs": [
    {
     "data": {
      "image/png": "[encoded data removed]",
      "text/plain": [
       "<matplotlib.figure.Figure at 0x120d08cf8>"
      ]
     },
     "metadata": {},
     "output_type": "display_data"
    }
   ],
   "source": [
    "norm_car_bins = car_bins.apply(lambda row: row/np.sum(row), axis=1)\n",
    "norm_car_bins.describe().loc['mean'].plot(kind='bar')\n",
    "plt.title('Normalised Bin Counts For Subway')\n",
    "plt.show()"
   ]
  },
  {
   "cell_type": "code",
   "execution_count": null,
   "metadata": {
    "collapsed": true
   },
   "outputs": [],
   "source": []
  }
 ],
 "metadata": {
  "kernelspec": {
   "display_name": "Python 3",
   "language": "python",
   "name": "python3"
  },
  "language_info": {
   "codemirror_mode": {
    "name": "ipython",
    "version": 3
   },
   "file_extension": ".py",
   "mimetype": "text/x-python",
   "name": "python",
   "nbconvert_exporter": "python",
   "pygments_lexer": "ipython3",
   "version": "3.6.2"
  }
 },
 "nbformat": 4,
 "nbformat_minor": 2
}
