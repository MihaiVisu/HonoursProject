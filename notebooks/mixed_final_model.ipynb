{
 "cells": [
  {
   "cell_type": "code",
   "execution_count": 722,
   "metadata": {
    "collapsed": true
   },
   "outputs": [],
   "source": [
    "from __future__ import print_function, division\n",
    "%matplotlib inline\n",
    "\n",
    "# import used packages and modules\n",
    "# import display function to display the table of the pandas dataframe\n",
    "from IPython.display import display\n",
    "\n",
    "from sklearn.linear_model import LogisticRegressionCV\n",
    "from sklearn.preprocessing import StandardScaler\n",
    "from sklearn.cross_validation import KFold\n",
    "from sklearn.model_selection import LeaveOneOut, train_test_split\n",
    "from sklearn.tree import DecisionTreeClassifier, ExtraTreeClassifier\n",
    "from sklearn.svm import SVC\n",
    "from sklearn.decomposition import PCA\n",
    "from sklearn.neighbors import KNeighborsClassifier\n",
    "from sklearn.cluster import KMeans\n",
    "from sklearn.ensemble import RandomForestClassifier, ExtraTreesClassifier\n",
    "\n",
    "from sklearn.neural_network import MLPClassifier\n",
    "from sklearn.naive_bayes import GaussianNB\n",
    "from sklearn.semi_supervised import LabelSpreading\n",
    "\n",
    "from sklearn.metrics import accuracy_score, confusion_matrix\n",
    "\n",
    "from sklearn.exceptions import NotFittedError\n",
    "\n",
    "from scipy import signal\n",
    "\n",
    "from hmmlearn import hmm\n",
    "from seqlearn.hmm import MultinomialHMM\n",
    "\n",
    "import datetime\n",
    "import matplotlib.dates as mdates\n",
    "import matplotlib.pyplot as plt\n",
    "import numpy as np\n",
    "import pandas as pd\n",
    "import seaborn as sns\n",
    "import csv\n",
    "\n",
    "\n",
    "import tensorflow as tf\n",
    "import tflearn\n",
    "from tflearn.layers.conv import conv_2d, max_pool_2d\n",
    "from tflearn.layers.core import input_data, dropout, fully_connected\n",
    "from tflearn.layers.estimator import regression\n",
    "from tflearn.layers.normalization import local_response_normalization"
   ]
  },
  {
   "cell_type": "markdown",
   "metadata": {},
   "source": [
    "# Importing Data"
   ]
  },
  {
   "cell_type": "code",
   "execution_count": 645,
   "metadata": {
    "collapsed": true
   },
   "outputs": [],
   "source": [
    "train_manchester = pd.read_csv('../data/misc/Train_Manchester_Northwich.csv')\n",
    "london_data = pd.read_csv('../data/london_data/london_data.csv')\n",
    "\n",
    "data04 = pd.read_csv('../data/meadows_december/meadows-2017-12-04.csv')\n",
    "data05 = pd.read_csv('../data/meadows_december/meadows-2017-12-05.csv')\n",
    "data06 = pd.read_csv('../data/meadows_december/meadows-2017-12-06.csv')\n",
    "data07 = pd.read_csv('../data/meadows_december/meadows-2017-12-07.csv')\n",
    "\n",
    "bike_data_old = pd.read_csv('../data/misc/2015061911.csv')\n",
    "bike_data_old2 = pd.read_csv('../data/misc/2015061817.csv')\n",
    "bike_data_old3 = pd.read_csv('../data/misc/20150618.csv')\n",
    "bike_data_feb = pd.read_csv('../data/misc/bike_feb.csv')\n",
    "\n",
    "walk_data_vlad1 = pd.read_csv('../data/validation/015Outdoor-Day-2018-02-28.csv')\n",
    "walk_data_vlad2 = pd.read_csv('../data/validation/016Outdoor-Night-2018-02-28.csv')\n",
    "\n",
    "bus_data = pd.read_csv('../data/validation/queensferry-13-03-2018.csv')"
   ]
  },
  {
   "cell_type": "markdown",
   "metadata": {},
   "source": [
    "# Merging Data"
   ]
  },
  {
   "cell_type": "code",
   "execution_count": 646,
   "metadata": {
    "collapsed": true
   },
   "outputs": [],
   "source": [
    "bin_vals = ['bin'+str(x) for x in range(0,16)]\n",
    "norm_bin_vals = ['bin_norm'+str(x) for x in range(0,16)]\n",
    "pm_vals = ['pm1', 'pm2_5', 'pm10']"
   ]
  },
  {
   "cell_type": "code",
   "execution_count": 647,
   "metadata": {
    "collapsed": true
   },
   "outputs": [],
   "source": [
    "# environment index is 0 as all data from these datasets is walking data\n",
    "data04['environment_index'] = 0\n",
    "data05['environment_index'] = 0\n",
    "data06['environment_index'] = 0\n",
    "data07['environment_index'] = 0\n",
    "\n",
    "walk_data_vlad1['environment_index'] = 0\n",
    "walk_data_vlad2['environment_index'] = 0\n",
    "\n",
    "# environment index is 3 for bike data\n",
    "bike_data_old['environment_index'] = 3\n",
    "bike_data_old2['environment_index'] = 3\n",
    "bike_data_old3['environment_index'] = 3\n",
    "bike_data_feb['environment_index'] = 3\n",
    "\n",
    "# rename columns\n",
    "bike_data_old2 = bike_data_old2.rename(\n",
    "    index=str, columns={\"latitude\":'gpsLatitude', \"longitude\":'gpsLongitude'})\n",
    "bike_data_old3 = bike_data_old3.rename(\n",
    "    index=str, columns={\"latitude\":'gpsLatitude', \"longitude\":'gpsLongitude'})\n",
    "\n",
    "labels = bin_vals + pm_vals + ['environment_index', 'gpsLatitude', 'gpsLongitude', 'humidity', 'temperature']\n",
    "\n",
    "bus_data_bus = bus_data[bus_data['environment_index']==4].copy()\n",
    "\n",
    "data = pd.concat([london_data[labels],\n",
    "                  train_manchester[labels], \n",
    "                  data04[labels], \n",
    "                  data05[labels],\n",
    "                  data06[labels],\n",
    "                  data07[labels],\n",
    "                  bus_data_bus[labels],\n",
    "                  walk_data_vlad1[labels],\n",
    "                  walk_data_vlad2[labels],\n",
    "                  bike_data_old2[labels],\n",
    "                  bike_data_feb[labels]], ignore_index=True)\n",
    "\n",
    "# remove indoor labelled data for this set of experiments\n",
    "data = data[data['environment_index']!=7]\n",
    "data = data[data['environment_index']!=5]\n",
    "data = data[data['humidity']>0]\n",
    "data = data[data['temperature']>0]\n",
    "data['total'] = data[bin_vals].apply(lambda row: np.sum(row), axis=1)\n",
    "data = data[data['total']>0]"
   ]
  },
  {
   "cell_type": "markdown",
   "metadata": {},
   "source": [
    "### Data Information"
   ]
  },
  {
   "cell_type": "code",
   "execution_count": 648,
   "metadata": {},
   "outputs": [
    {
     "data": {
      "text/html": [
       "<div>\n",
       "<style scoped>\n",
       "    .dataframe tbody tr th:only-of-type {\n",
       "        vertical-align: middle;\n",
       "    }\n",
       "\n",
       "    .dataframe tbody tr th {\n",
       "        vertical-align: top;\n",
       "    }\n",
       "\n",
       "    .dataframe thead th {\n",
       "        text-align: right;\n",
       "    }\n",
       "</style>\n",
       "<table border=\"1\" class=\"dataframe\">\n",
       "  <thead>\n",
       "    <tr style=\"text-align: right;\">\n",
       "      <th></th>\n",
       "      <th>bin0</th>\n",
       "      <th>bin1</th>\n",
       "      <th>bin2</th>\n",
       "      <th>bin3</th>\n",
       "      <th>bin4</th>\n",
       "      <th>bin5</th>\n",
       "      <th>bin6</th>\n",
       "      <th>bin7</th>\n",
       "      <th>bin8</th>\n",
       "      <th>bin9</th>\n",
       "      <th>...</th>\n",
       "      <th>bin15</th>\n",
       "      <th>pm1</th>\n",
       "      <th>pm2_5</th>\n",
       "      <th>pm10</th>\n",
       "      <th>environment_index</th>\n",
       "      <th>gpsLatitude</th>\n",
       "      <th>gpsLongitude</th>\n",
       "      <th>humidity</th>\n",
       "      <th>temperature</th>\n",
       "      <th>total</th>\n",
       "    </tr>\n",
       "  </thead>\n",
       "  <tbody>\n",
       "    <tr>\n",
       "      <th>count</th>\n",
       "      <td>4828.000000</td>\n",
       "      <td>4828.000000</td>\n",
       "      <td>4828.000000</td>\n",
       "      <td>4828.000000</td>\n",
       "      <td>4828.000000</td>\n",
       "      <td>4828.000000</td>\n",
       "      <td>4828.000000</td>\n",
       "      <td>4828.000000</td>\n",
       "      <td>4828.000000</td>\n",
       "      <td>4828.000000</td>\n",
       "      <td>...</td>\n",
       "      <td>4828.000000</td>\n",
       "      <td>4828.000000</td>\n",
       "      <td>4828.000000</td>\n",
       "      <td>4828.000000</td>\n",
       "      <td>4828.000000</td>\n",
       "      <td>4828.000000</td>\n",
       "      <td>4828.000000</td>\n",
       "      <td>4828.000000</td>\n",
       "      <td>4828.000000</td>\n",
       "      <td>4828.000000</td>\n",
       "    </tr>\n",
       "    <tr>\n",
       "      <th>mean</th>\n",
       "      <td>418.498964</td>\n",
       "      <td>106.039975</td>\n",
       "      <td>63.724731</td>\n",
       "      <td>37.454432</td>\n",
       "      <td>14.229287</td>\n",
       "      <td>13.807995</td>\n",
       "      <td>8.619097</td>\n",
       "      <td>3.970795</td>\n",
       "      <td>4.381317</td>\n",
       "      <td>2.953190</td>\n",
       "      <td>...</td>\n",
       "      <td>7.269677</td>\n",
       "      <td>5.223990</td>\n",
       "      <td>10.129931</td>\n",
       "      <td>21.263915</td>\n",
       "      <td>2.124068</td>\n",
       "      <td>55.408412</td>\n",
       "      <td>-2.746921</td>\n",
       "      <td>53.070101</td>\n",
       "      <td>18.146119</td>\n",
       "      <td>726.158451</td>\n",
       "    </tr>\n",
       "    <tr>\n",
       "      <th>std</th>\n",
       "      <td>852.884266</td>\n",
       "      <td>221.041963</td>\n",
       "      <td>126.755927</td>\n",
       "      <td>67.158065</td>\n",
       "      <td>24.856277</td>\n",
       "      <td>23.472983</td>\n",
       "      <td>25.123332</td>\n",
       "      <td>51.045978</td>\n",
       "      <td>145.152936</td>\n",
       "      <td>137.027311</td>\n",
       "      <td>...</td>\n",
       "      <td>343.949408</td>\n",
       "      <td>8.472036</td>\n",
       "      <td>11.594826</td>\n",
       "      <td>49.795412</td>\n",
       "      <td>1.598547</td>\n",
       "      <td>1.288173</td>\n",
       "      <td>0.978898</td>\n",
       "      <td>10.173585</td>\n",
       "      <td>7.514731</td>\n",
       "      <td>2964.395810</td>\n",
       "    </tr>\n",
       "    <tr>\n",
       "      <th>min</th>\n",
       "      <td>0.000000</td>\n",
       "      <td>0.000000</td>\n",
       "      <td>0.000000</td>\n",
       "      <td>0.000000</td>\n",
       "      <td>0.000000</td>\n",
       "      <td>0.000000</td>\n",
       "      <td>0.000000</td>\n",
       "      <td>0.000000</td>\n",
       "      <td>0.000000</td>\n",
       "      <td>0.000000</td>\n",
       "      <td>...</td>\n",
       "      <td>0.000000</td>\n",
       "      <td>0.000000</td>\n",
       "      <td>0.000000</td>\n",
       "      <td>0.000000</td>\n",
       "      <td>0.000000</td>\n",
       "      <td>51.493892</td>\n",
       "      <td>-3.397216</td>\n",
       "      <td>17.600000</td>\n",
       "      <td>0.100000</td>\n",
       "      <td>1.000000</td>\n",
       "    </tr>\n",
       "    <tr>\n",
       "      <th>25%</th>\n",
       "      <td>39.000000</td>\n",
       "      <td>15.000000</td>\n",
       "      <td>10.000000</td>\n",
       "      <td>6.000000</td>\n",
       "      <td>3.000000</td>\n",
       "      <td>3.000000</td>\n",
       "      <td>1.000000</td>\n",
       "      <td>0.000000</td>\n",
       "      <td>0.000000</td>\n",
       "      <td>0.000000</td>\n",
       "      <td>...</td>\n",
       "      <td>0.000000</td>\n",
       "      <td>1.570195</td>\n",
       "      <td>4.503510</td>\n",
       "      <td>6.535241</td>\n",
       "      <td>0.000000</td>\n",
       "      <td>55.939869</td>\n",
       "      <td>-3.200267</td>\n",
       "      <td>46.299999</td>\n",
       "      <td>14.375001</td>\n",
       "      <td>107.000000</td>\n",
       "    </tr>\n",
       "    <tr>\n",
       "      <th>50%</th>\n",
       "      <td>189.000000</td>\n",
       "      <td>69.000000</td>\n",
       "      <td>42.000000</td>\n",
       "      <td>24.000000</td>\n",
       "      <td>9.000000</td>\n",
       "      <td>9.000000</td>\n",
       "      <td>5.000000</td>\n",
       "      <td>1.000000</td>\n",
       "      <td>0.000000</td>\n",
       "      <td>0.000000</td>\n",
       "      <td>...</td>\n",
       "      <td>0.000000</td>\n",
       "      <td>3.054183</td>\n",
       "      <td>7.568033</td>\n",
       "      <td>11.285377</td>\n",
       "      <td>3.000000</td>\n",
       "      <td>55.944698</td>\n",
       "      <td>-3.189287</td>\n",
       "      <td>53.093822</td>\n",
       "      <td>18.000000</td>\n",
       "      <td>404.000000</td>\n",
       "    </tr>\n",
       "    <tr>\n",
       "      <th>75%</th>\n",
       "      <td>471.250000</td>\n",
       "      <td>113.000000</td>\n",
       "      <td>73.000000</td>\n",
       "      <td>44.000000</td>\n",
       "      <td>17.000000</td>\n",
       "      <td>18.000000</td>\n",
       "      <td>11.000000</td>\n",
       "      <td>3.000000</td>\n",
       "      <td>1.000000</td>\n",
       "      <td>1.000000</td>\n",
       "      <td>...</td>\n",
       "      <td>0.000000</td>\n",
       "      <td>6.687421</td>\n",
       "      <td>12.163227</td>\n",
       "      <td>20.333473</td>\n",
       "      <td>3.000000</td>\n",
       "      <td>55.950874</td>\n",
       "      <td>-3.181609</td>\n",
       "      <td>57.300000</td>\n",
       "      <td>22.825001</td>\n",
       "      <td>749.250000</td>\n",
       "    </tr>\n",
       "    <tr>\n",
       "      <th>max</th>\n",
       "      <td>12336.000000</td>\n",
       "      <td>4758.000000</td>\n",
       "      <td>3710.000000</td>\n",
       "      <td>1997.000000</td>\n",
       "      <td>538.000000</td>\n",
       "      <td>434.000000</td>\n",
       "      <td>656.000000</td>\n",
       "      <td>3343.000000</td>\n",
       "      <td>7955.000000</td>\n",
       "      <td>9500.000000</td>\n",
       "      <td>...</td>\n",
       "      <td>16999.000000</td>\n",
       "      <td>108.471610</td>\n",
       "      <td>158.405240</td>\n",
       "      <td>1051.750977</td>\n",
       "      <td>6.000000</td>\n",
       "      <td>56.008247</td>\n",
       "      <td>-0.100202</td>\n",
       "      <td>99.800000</td>\n",
       "      <td>110.700005</td>\n",
       "      <td>152492.000000</td>\n",
       "    </tr>\n",
       "  </tbody>\n",
       "</table>\n",
       "<p>8 rows × 25 columns</p>\n",
       "</div>"
      ],
      "text/plain": [
       "               bin0         bin1         bin2         bin3         bin4  \\\n",
       "count   4828.000000  4828.000000  4828.000000  4828.000000  4828.000000   \n",
       "mean     418.498964   106.039975    63.724731    37.454432    14.229287   \n",
       "std      852.884266   221.041963   126.755927    67.158065    24.856277   \n",
       "min        0.000000     0.000000     0.000000     0.000000     0.000000   \n",
       "25%       39.000000    15.000000    10.000000     6.000000     3.000000   \n",
       "50%      189.000000    69.000000    42.000000    24.000000     9.000000   \n",
       "75%      471.250000   113.000000    73.000000    44.000000    17.000000   \n",
       "max    12336.000000  4758.000000  3710.000000  1997.000000   538.000000   \n",
       "\n",
       "              bin5         bin6         bin7         bin8         bin9  \\\n",
       "count  4828.000000  4828.000000  4828.000000  4828.000000  4828.000000   \n",
       "mean     13.807995     8.619097     3.970795     4.381317     2.953190   \n",
       "std      23.472983    25.123332    51.045978   145.152936   137.027311   \n",
       "min       0.000000     0.000000     0.000000     0.000000     0.000000   \n",
       "25%       3.000000     1.000000     0.000000     0.000000     0.000000   \n",
       "50%       9.000000     5.000000     1.000000     0.000000     0.000000   \n",
       "75%      18.000000    11.000000     3.000000     1.000000     1.000000   \n",
       "max     434.000000   656.000000  3343.000000  7955.000000  9500.000000   \n",
       "\n",
       "           ...               bin15          pm1        pm2_5         pm10  \\\n",
       "count      ...         4828.000000  4828.000000  4828.000000  4828.000000   \n",
       "mean       ...            7.269677     5.223990    10.129931    21.263915   \n",
       "std        ...          343.949408     8.472036    11.594826    49.795412   \n",
       "min        ...            0.000000     0.000000     0.000000     0.000000   \n",
       "25%        ...            0.000000     1.570195     4.503510     6.535241   \n",
       "50%        ...            0.000000     3.054183     7.568033    11.285377   \n",
       "75%        ...            0.000000     6.687421    12.163227    20.333473   \n",
       "max        ...        16999.000000   108.471610   158.405240  1051.750977   \n",
       "\n",
       "       environment_index  gpsLatitude  gpsLongitude     humidity  temperature  \\\n",
       "count        4828.000000  4828.000000   4828.000000  4828.000000  4828.000000   \n",
       "mean            2.124068    55.408412     -2.746921    53.070101    18.146119   \n",
       "std             1.598547     1.288173      0.978898    10.173585     7.514731   \n",
       "min             0.000000    51.493892     -3.397216    17.600000     0.100000   \n",
       "25%             0.000000    55.939869     -3.200267    46.299999    14.375001   \n",
       "50%             3.000000    55.944698     -3.189287    53.093822    18.000000   \n",
       "75%             3.000000    55.950874     -3.181609    57.300000    22.825001   \n",
       "max             6.000000    56.008247     -0.100202    99.800000   110.700005   \n",
       "\n",
       "               total  \n",
       "count    4828.000000  \n",
       "mean      726.158451  \n",
       "std      2964.395810  \n",
       "min         1.000000  \n",
       "25%       107.000000  \n",
       "50%       404.000000  \n",
       "75%       749.250000  \n",
       "max    152492.000000  \n",
       "\n",
       "[8 rows x 25 columns]"
      ]
     },
     "execution_count": 648,
     "metadata": {},
     "output_type": "execute_result"
    }
   ],
   "source": [
    "data.describe()"
   ]
  },
  {
   "cell_type": "markdown",
   "metadata": {},
   "source": [
    "### Labels"
   ]
  },
  {
   "cell_type": "code",
   "execution_count": 649,
   "metadata": {
    "collapsed": true
   },
   "outputs": [],
   "source": [
    "labels_idx = np.array([0, 1, 2, 3, 4, 6])"
   ]
  },
  {
   "cell_type": "code",
   "execution_count": 650,
   "metadata": {},
   "outputs": [
    {
     "data": {
      "image/png": "[encoded data removed]",
      "text/plain": [
       "<matplotlib.figure.Figure at 0x126855550>"
      ]
     },
     "metadata": {},
     "output_type": "display_data"
    }
   ],
   "source": [
    "hist = plt.figure()\n",
    "g = sns.distplot(data['environment_index'], kde=False)\n",
    "g.set_xticklabels(['', 'on foot', 'car', 'train', 'bike', 'bus', '', 'subway'])\n",
    "plt.xlabel('mode of transport label')\n",
    "plt.tight_layout()\n",
    "hist.savefig('../report/distribution.pdf')\n",
    "plt.show()"
   ]
  },
  {
   "cell_type": "markdown",
   "metadata": {},
   "source": [
    "# Kmeans"
   ]
  },
  {
   "cell_type": "code",
   "execution_count": 651,
   "metadata": {
    "collapsed": true
   },
   "outputs": [],
   "source": [
    "# method to get the cluster means of the data points based on coordinates\n",
    "# and the queried columns\n",
    "def get_location_cluster_means(data, cluster_no, cols):\n",
    "    # obtain indices of clusters\n",
    "    kmeans = KMeans(n_clusters=cluster_no, random_state=0)\n",
    "    # remove data rows with null coordinates\n",
    "    data = data[~np.isnan(data['gpsLatitude'])]\n",
    "    # get the indices of the location based clusters\n",
    "    indices = kmeans.fit_predict(data[['gpsLatitude', 'gpsLongitude']])\n",
    "    freqs = np.bincount(indices)\n",
    "    # initialise means of queried columns\n",
    "    means = np.zeros((cluster_no, len(cols)))\n",
    "    # assign clustered_indices to dataframe\n",
    "    data['clustered_index'] = indices\n",
    "    # compute means of queried columns\n",
    "    for index in np.unique(indices):\n",
    "        means[index] = np.mean(data[data['clustered_index'] == index][cols])\n",
    "    return means, data"
   ]
  },
  {
   "cell_type": "code",
   "execution_count": 652,
   "metadata": {
    "collapsed": true
   },
   "outputs": [],
   "source": [
    "# method to get the clusters of the environments corresponding to the 6 environments based on\n",
    "# the queried columns and number of location clusters\n",
    "def get_environment_clusters(data, cluster_no, cols, kmeans=None):\n",
    "    means, d = get_location_cluster_means(data, cluster_no, cols)\n",
    "    # we have 6 clusters corresponding to 6 different types of environment\n",
    "    if not kmeans:\n",
    "        environment_kmeans = KMeans(n_clusters=6, random_state=0)\n",
    "        environment_indices = environment_kmeans.fit_predict(means)\n",
    "    else:\n",
    "        try:\n",
    "            environment_kmeans = kmeans\n",
    "            environment_indices = environment_kmeans.predict(means)\n",
    "        except NotFittedError:\n",
    "            environment_indices = environment_kmeans.fit_predict(means)\n",
    "    # predict the cluster indices\n",
    "    # sort the indices based on the means of the clusters\n",
    "    idx = np.argsort(environment_kmeans.cluster_centers_.sum(axis=1))\n",
    "    lut = np.zeros_like(idx)\n",
    "    lut[idx] = np.arange(6)\n",
    "    # append the indices to the dataframe\n",
    "    d['unsupervised_environment_index'] = lut[environment_indices][d['clustered_index']]\n",
    "    return d"
   ]
  },
  {
   "cell_type": "markdown",
   "metadata": {},
   "source": [
    "# Stats Methods"
   ]
  },
  {
   "cell_type": "code",
   "execution_count": 653,
   "metadata": {
    "collapsed": true
   },
   "outputs": [],
   "source": [
    "def plot_confusion_matrix(labels, predictions, title='Confusion matrix', \n",
    "                          classes=['on_foot', 'car', 'train', 'bike', 'bus', 'underground']):\n",
    "    \"\"\"Plots a confusion matrix.\"\"\"\n",
    "    cmatrix = np.array(confusion_matrix(labels, predictions))\n",
    "    # normalize confusion matrix\n",
    "    cm = cmatrix/cmatrix.sum(axis=1)[:, np.newaxis]\n",
    "    if classes is not None:\n",
    "        sns.heatmap(cm, xticklabels=classes, yticklabels=classes, vmin=0., vmax=1., annot=True)\n",
    "    else:\n",
    "        sns.heatmap(cm, vmin=0., vmax=1.)\n",
    "    plt.title(title)\n",
    "    plt.ylabel('True data')\n",
    "    plt.xlabel('Predicted data')\n",
    "    plt.show()"
   ]
  },
  {
   "cell_type": "code",
   "execution_count": 654,
   "metadata": {
    "collapsed": true
   },
   "outputs": [],
   "source": [
    "def get_training_accuracy_with_kfolds_iloc(estimator, x_tr, y_tr, kf):\n",
    "    score_array = np.empty(kf.n_folds)\n",
    "    \n",
    "    for (idx, (train_feature, test_feature)) in enumerate(kf):\n",
    "        estimator.fit(x_tr.iloc[train_feature], y_tr.iloc[train_feature])\n",
    "        y_pred = estimator.predict(x_tr.iloc[test_feature])\n",
    "        cm = confusion_matrix(y_tr.iloc[test_feature], y_pred)\n",
    "        cm_norm = cm.astype('float')/cm.sum(axis=1)\n",
    "        score_array[idx] = accuracy_score(y_tr.iloc[test_feature], y_pred, normalize=True)\n",
    "        \n",
    "#         plot_confusion_matrix(y_tr.iloc[test_feature], y_pred)\n",
    "        \n",
    "    return np.mean(score_array)"
   ]
  },
  {
   "cell_type": "code",
   "execution_count": 655,
   "metadata": {
    "collapsed": true
   },
   "outputs": [],
   "source": [
    "def get_training_accuracy_mixed_models(estimator, attributes_list, x_tr, y_tr, x_ts, y_ts):\n",
    "    \n",
    "    probs_array = np.empty((len(attributes_list), x_ts.shape[0], 6))\n",
    "\n",
    "    for estimator_idx, attrs in enumerate(attributes_list):\n",
    "        estimator.fit(x_tr[attrs], y_tr)\n",
    "        probs_array[estimator_idx] = estimator.predict_proba(x_ts[attrs])\n",
    "\n",
    "    final_labels = labels_idx[np.argmax(np.mean(probs_array, axis=0), axis=1)]\n",
    "    score = accuracy_score(y_ts, final_labels, normalize=True)\n",
    "    \n",
    "    return score"
   ]
  },
  {
   "cell_type": "code",
   "execution_count": 656,
   "metadata": {
    "collapsed": true
   },
   "outputs": [],
   "source": [
    "def get_training_accuracy_mixed_models_kfolds(estimator, attributes, x_tr, y_tr, kf):\n",
    "    score_array = np.empty(kf.n_folds)\n",
    "    \n",
    "    for (idx, (train_feature, test_feature)) in enumerate(kf):\n",
    "        estimator.fit(x_tr.iloc[train_feature], y_tr.iloc[train_feature])\n",
    "        y_pred = estimator.predict(x_tr.iloc[test_feature])\n",
    "        \n",
    "        score_array[idx] = get_training_accuracy_mixed_models(\n",
    "            estimator, attributes, x_tr.iloc[train_feature], y_tr.iloc[train_feature],\n",
    "            x_tr.iloc[test_feature], y_tr.iloc[test_feature]\n",
    "        )\n",
    "                \n",
    "    return np.mean(score_array)"
   ]
  },
  {
   "cell_type": "markdown",
   "metadata": {},
   "source": [
    "# Absolute Values"
   ]
  },
  {
   "cell_type": "markdown",
   "metadata": {},
   "source": [
    "### Bin Values"
   ]
  },
  {
   "cell_type": "code",
   "execution_count": 657,
   "metadata": {},
   "outputs": [
    {
     "name": "stdout",
     "output_type": "stream",
     "text": [
      "Accuracy: 0.5787107778457181\n"
     ]
    }
   ],
   "source": [
    "svc = SVC()\n",
    "kf = KFold(len(data), n_folds=5, shuffle=True, random_state=0)\n",
    "\n",
    "print(\"Accuracy:\", get_training_accuracy_with_kfolds_iloc(svc, data[bin_vals], \n",
    "                                                          data['environment_index'], kf))"
   ]
  },
  {
   "cell_type": "code",
   "execution_count": 658,
   "metadata": {},
   "outputs": [
    {
     "name": "stdout",
     "output_type": "stream",
     "text": [
      "Accuracy: 0.8889805726300433\n"
     ]
    }
   ],
   "source": [
    "rf = RandomForestClassifier(random_state=0)\n",
    "kf = KFold(len(data), n_folds=5, shuffle=True, random_state=0)\n",
    "\n",
    "print(\"Accuracy:\", get_training_accuracy_with_kfolds_iloc(rf, data[bin_vals], \n",
    "                                                          data['environment_index'], kf))"
   ]
  },
  {
   "cell_type": "code",
   "execution_count": 748,
   "metadata": {},
   "outputs": [
    {
     "name": "stdout",
     "output_type": "stream",
     "text": [
      "Accuracy: 0.8854602602473746\n"
     ]
    }
   ],
   "source": [
    "et = ExtraTreesClassifier(n_jobs=-1, random_state=0)\n",
    "kf = KFold(len(data), n_folds=5, shuffle=True, random_state=0)\n",
    "\n",
    "print(\"Accuracy:\", get_training_accuracy_with_kfolds_iloc(et, data[bin_vals], \n",
    "                                                          data['environment_index'], kf))"
   ]
  },
  {
   "cell_type": "code",
   "execution_count": 659,
   "metadata": {},
   "outputs": [
    {
     "name": "stdout",
     "output_type": "stream",
     "text": [
      "Accuracy: 0.7810688808075608\n"
     ]
    }
   ],
   "source": [
    "lr = LogisticRegressionCV(n_jobs=-1)\n",
    "kf = KFold(len(data), n_folds=5, shuffle=True, random_state=0)\n",
    "\n",
    "print(\"Accuracy:\", get_training_accuracy_with_kfolds_iloc(lr, data[bin_vals], \n",
    "                                                          data['environment_index'], kf))"
   ]
  },
  {
   "cell_type": "code",
   "execution_count": 660,
   "metadata": {},
   "outputs": [
    {
     "name": "stdout",
     "output_type": "stream",
     "text": [
      "Accuracy: 0.8732400047200679\n"
     ]
    }
   ],
   "source": [
    "knn = KNeighborsClassifier(n_neighbors=5)\n",
    "kf = KFold(len(data), n_folds=5, shuffle=True, random_state=0)\n",
    "\n",
    "print(\"Accuracy:\", get_training_accuracy_with_kfolds_iloc(knn, data[bin_vals], \n",
    "                                                          data['environment_index'], kf))"
   ]
  },
  {
   "cell_type": "code",
   "execution_count": 661,
   "metadata": {},
   "outputs": [
    {
     "name": "stdout",
     "output_type": "stream",
     "text": [
      "Accuracy: 0.7978534418948927\n"
     ]
    }
   ],
   "source": [
    "clf = MLPClassifier()\n",
    "kf = KFold(len(data), n_folds=5, shuffle=True, random_state=0)\n",
    "\n",
    "print(\"Accuracy:\", get_training_accuracy_with_kfolds_iloc(clf, data[bin_vals], \n",
    "                                                          data['environment_index'], kf))"
   ]
  },
  {
   "cell_type": "markdown",
   "metadata": {},
   "source": [
    "### First 3 Bin Counts"
   ]
  },
  {
   "cell_type": "code",
   "execution_count": 662,
   "metadata": {},
   "outputs": [
    {
     "name": "stdout",
     "output_type": "stream",
     "text": [
      "Accuracy: 0.5816108304101095\n"
     ]
    }
   ],
   "source": [
    "svc = SVC()\n",
    "kf = KFold(len(data), n_folds=5, shuffle=True, random_state=0)\n",
    "\n",
    "print(\"Accuracy:\", get_training_accuracy_with_kfolds_iloc(svc, data[bin_vals[:3]], \n",
    "                                                          data['environment_index'], kf))"
   ]
  },
  {
   "cell_type": "code",
   "execution_count": 663,
   "metadata": {},
   "outputs": [
    {
     "name": "stdout",
     "output_type": "stream",
     "text": [
      "Accuracy: 0.8237382936954912\n"
     ]
    }
   ],
   "source": [
    "rf = RandomForestClassifier(random_state=0)\n",
    "kf = KFold(len(data), n_folds=5, shuffle=True, random_state=0)\n",
    "\n",
    "print(\"Accuracy:\", get_training_accuracy_with_kfolds_iloc(rf, data[bin_vals[:3]], \n",
    "                                                          data['environment_index'], kf))"
   ]
  },
  {
   "cell_type": "code",
   "execution_count": 664,
   "metadata": {},
   "outputs": [
    {
     "name": "stdout",
     "output_type": "stream",
     "text": [
      "Accuracy: 0.6888977568950535\n"
     ]
    }
   ],
   "source": [
    "lr = LogisticRegressionCV(n_jobs=-1)\n",
    "kf = KFold(len(data), n_folds=5, shuffle=True, random_state=0)\n",
    "\n",
    "print(\"Accuracy:\", get_training_accuracy_with_kfolds_iloc(lr, data[bin_vals[:3]], \n",
    "                                                          data['environment_index'], kf))"
   ]
  },
  {
   "cell_type": "code",
   "execution_count": 665,
   "metadata": {},
   "outputs": [
    {
     "name": "stdout",
     "output_type": "stream",
     "text": [
      "Accuracy: 0.8299514047565412\n"
     ]
    }
   ],
   "source": [
    "knn = KNeighborsClassifier(n_neighbors=5)\n",
    "kf = KFold(len(data), n_folds=5, shuffle=True, random_state=0)\n",
    "\n",
    "print(\"Accuracy:\", get_training_accuracy_with_kfolds_iloc(knn, data[bin_vals[:3]], \n",
    "                                                          data['environment_index'], kf))"
   ]
  },
  {
   "cell_type": "code",
   "execution_count": 666,
   "metadata": {},
   "outputs": [
    {
     "name": "stdout",
     "output_type": "stream",
     "text": [
      "Accuracy: 0.6783417543633808\n"
     ]
    }
   ],
   "source": [
    "clf = MLPClassifier()\n",
    "kf = KFold(len(data), n_folds=5, shuffle=True, random_state=0)\n",
    "\n",
    "print(\"Accuracy:\", get_training_accuracy_with_kfolds_iloc(clf, data[bin_vals[:3]], \n",
    "                                                          data['environment_index'], kf))"
   ]
  },
  {
   "cell_type": "markdown",
   "metadata": {},
   "source": [
    "### PM Values"
   ]
  },
  {
   "cell_type": "code",
   "execution_count": 667,
   "metadata": {},
   "outputs": [
    {
     "name": "stdout",
     "output_type": "stream",
     "text": [
      "Accuracy: 0.7897756895053584\n"
     ]
    }
   ],
   "source": [
    "svc = SVC()\n",
    "kf = KFold(len(data), n_folds=5, shuffle=True, random_state=0)\n",
    "\n",
    "print(\"Accuracy:\", get_training_accuracy_with_kfolds_iloc(svc, data[pm_vals], \n",
    "                                                          data['environment_index'], kf))"
   ]
  },
  {
   "cell_type": "code",
   "execution_count": 668,
   "metadata": {},
   "outputs": [
    {
     "name": "stdout",
     "output_type": "stream",
     "text": [
      "Accuracy: 0.8123474828092985\n"
     ]
    }
   ],
   "source": [
    "rf = RandomForestClassifier(random_state=0)\n",
    "kf = KFold(len(data), n_folds=5, shuffle=True, random_state=0)\n",
    "\n",
    "print(\"Accuracy:\", get_training_accuracy_with_kfolds_iloc(rf, data[pm_vals], \n",
    "                                                          data['environment_index'], kf))"
   ]
  },
  {
   "cell_type": "code",
   "execution_count": 669,
   "metadata": {},
   "outputs": [
    {
     "name": "stdout",
     "output_type": "stream",
     "text": [
      "Accuracy: 0.7920477585041676\n"
     ]
    }
   ],
   "source": [
    "knn = KNeighborsClassifier(n_neighbors=5)\n",
    "kf = KFold(len(data), n_folds=5, shuffle=True, random_state=0)\n",
    "\n",
    "print(\"Accuracy:\", get_training_accuracy_with_kfolds_iloc(knn, data[pm_vals], \n",
    "                                                          data['environment_index'], kf))"
   ]
  },
  {
   "cell_type": "code",
   "execution_count": 670,
   "metadata": {},
   "outputs": [
    {
     "name": "stdout",
     "output_type": "stream",
     "text": [
      "Accuracy: 0.7063068687713878\n"
     ]
    }
   ],
   "source": [
    "lr = LogisticRegressionCV(n_jobs=-1)\n",
    "kf = KFold(len(data), n_folds=5, shuffle=True, random_state=0)\n",
    "\n",
    "print(\"Accuracy:\", get_training_accuracy_with_kfolds_iloc(lr, data[pm_vals], \n",
    "                                                          data['environment_index'], kf))"
   ]
  },
  {
   "cell_type": "code",
   "execution_count": 671,
   "metadata": {},
   "outputs": [
    {
     "name": "stdout",
     "output_type": "stream",
     "text": [
      "Accuracy: 0.7442098713781525\n"
     ]
    }
   ],
   "source": [
    "clf = MLPClassifier()\n",
    "kf = KFold(len(data), n_folds=5, shuffle=True, random_state=0)\n",
    "\n",
    "print(\"Accuracy:\", get_training_accuracy_with_kfolds_iloc(clf, data[pm_vals], \n",
    "                                                          data['environment_index'], kf))"
   ]
  },
  {
   "cell_type": "markdown",
   "metadata": {},
   "source": [
    "### Urban Environments"
   ]
  },
  {
   "cell_type": "code",
   "execution_count": 672,
   "metadata": {},
   "outputs": [
    {
     "name": "stdout",
     "output_type": "stream",
     "text": [
      "Accuracy: 0.9264718565957584\n"
     ]
    }
   ],
   "source": [
    "clustered_data = get_environment_clusters(data, 40, bin_vals)\n",
    "\n",
    "rf = RandomForestClassifier(random_state=0, n_jobs=-1)\n",
    "kf = KFold(len(clustered_data), n_folds=5, shuffle=True, random_state=0)\n",
    "\n",
    "print(\"Accuracy:\", get_training_accuracy_with_kfolds_iloc(rf, clustered_data[['unsupervised_environment_index']+bin_vals], \n",
    "                                                          clustered_data['environment_index'], kf))"
   ]
  },
  {
   "cell_type": "code",
   "execution_count": 749,
   "metadata": {},
   "outputs": [
    {
     "name": "stdout",
     "output_type": "stream",
     "text": [
      "Accuracy: 0.9227432175843981\n"
     ]
    }
   ],
   "source": [
    "clustered_data = get_environment_clusters(data, 40, bin_vals)\n",
    "\n",
    "rf = ExtraTreesClassifier(random_state=0, n_jobs=-1)\n",
    "kf = KFold(len(clustered_data), n_folds=5, shuffle=True, random_state=0)\n",
    "\n",
    "print(\"Accuracy:\", get_training_accuracy_with_kfolds_iloc(rf, clustered_data[['unsupervised_environment_index']+bin_vals], \n",
    "                                                          clustered_data['environment_index'], kf))"
   ]
  },
  {
   "cell_type": "code",
   "execution_count": 673,
   "metadata": {},
   "outputs": [
    {
     "name": "stdout",
     "output_type": "stream",
     "text": [
      "Accuracy: 0.5795391497441509\n"
     ]
    }
   ],
   "source": [
    "clustered_data = get_environment_clusters(data, 40, bin_vals)\n",
    "\n",
    "svc = SVC()\n",
    "kf = KFold(len(clustered_data), n_folds=5, shuffle=True, random_state=0)\n",
    "\n",
    "print(\"Accuracy:\", get_training_accuracy_with_kfolds_iloc(svc, clustered_data[['unsupervised_environment_index']+bin_vals], \n",
    "                                                          clustered_data['environment_index'], kf))"
   ]
  },
  {
   "cell_type": "code",
   "execution_count": 674,
   "metadata": {},
   "outputs": [
    {
     "name": "stdout",
     "output_type": "stream",
     "text": [
      "Accuracy: 0.8183529108872655\n"
     ]
    }
   ],
   "source": [
    "clustered_data = get_environment_clusters(data, 40, bin_vals)\n",
    "\n",
    "lr = LogisticRegressionCV(n_jobs=-1)\n",
    "kf = KFold(len(clustered_data), n_folds=5, shuffle=True, random_state=0)\n",
    "\n",
    "print(\"Accuracy:\", get_training_accuracy_with_kfolds_iloc(lr, clustered_data[['unsupervised_environment_index']+bin_vals], \n",
    "                                                          clustered_data['environment_index'], kf))"
   ]
  },
  {
   "cell_type": "code",
   "execution_count": 675,
   "metadata": {},
   "outputs": [
    {
     "name": "stdout",
     "output_type": "stream",
     "text": [
      "Accuracy: 0.8736542979435523\n"
     ]
    }
   ],
   "source": [
    "clustered_data = get_environment_clusters(data, 40, bin_vals)\n",
    "\n",
    "knn = KNeighborsClassifier()\n",
    "kf = KFold(len(clustered_data), n_folds=5, shuffle=True, random_state=0)\n",
    "\n",
    "print(\"Accuracy:\", get_training_accuracy_with_kfolds_iloc(knn, clustered_data[['unsupervised_environment_index']+bin_vals], \n",
    "                                                          clustered_data['environment_index'], kf))"
   ]
  },
  {
   "cell_type": "code",
   "execution_count": 676,
   "metadata": {},
   "outputs": [
    {
     "name": "stdout",
     "output_type": "stream",
     "text": [
      "Accuracy: 0.7918432937491284\n"
     ]
    }
   ],
   "source": [
    "clustered_data = get_environment_clusters(data, 40, bin_vals)\n",
    "\n",
    "clf = MLPClassifier()\n",
    "kf = KFold(len(clustered_data), n_folds=5, shuffle=True, random_state=0)\n",
    "\n",
    "print(\"Accuracy:\", get_training_accuracy_with_kfolds_iloc(clf, clustered_data[['unsupervised_environment_index']+bin_vals], \n",
    "                                                          clustered_data['environment_index'], kf))"
   ]
  },
  {
   "cell_type": "markdown",
   "metadata": {},
   "source": [
    "### Normalised Bin Counts"
   ]
  },
  {
   "cell_type": "code",
   "execution_count": 677,
   "metadata": {
    "collapsed": true
   },
   "outputs": [],
   "source": [
    "data_normalised = data[data['total']>0].copy().reindex()\n",
    "data_normalised[bin_vals] = data_normalised[bin_vals].apply(lambda row: row/np.sum(row), axis=1)\n",
    "data_normalised['pca_pm'] = PCA(n_components=1).fit_transform(data_normalised[pm_vals])"
   ]
  },
  {
   "cell_type": "code",
   "execution_count": 704,
   "metadata": {},
   "outputs": [
    {
     "name": "stdout",
     "output_type": "stream",
     "text": [
      "Accuracy: 0.8958156598976604\n"
     ]
    }
   ],
   "source": [
    "rf = RandomForestClassifier(random_state=0)\n",
    "kf = KFold(len(data_normalised), n_folds=5, shuffle=True, random_state=0)\n",
    "\n",
    "print(\"Accuracy:\", get_training_accuracy_with_kfolds_iloc(rf, data_normalised[bin_vals+['total']], \n",
    "                                                          data_normalised['environment_index'], kf))"
   ]
  },
  {
   "cell_type": "code",
   "execution_count": 705,
   "metadata": {},
   "outputs": [
    {
     "name": "stdout",
     "output_type": "stream",
     "text": [
      "Accuracy: 0.7359188577435931\n"
     ]
    }
   ],
   "source": [
    "svc = SVC()\n",
    "kf = KFold(len(data_normalised), n_folds=5, shuffle=True, random_state=0)\n",
    "\n",
    "print(\"Accuracy:\", get_training_accuracy_with_kfolds_iloc(svc, data_normalised[bin_vals+['total']], \n",
    "                                                          data_normalised['environment_index'], kf))"
   ]
  },
  {
   "cell_type": "code",
   "execution_count": 706,
   "metadata": {},
   "outputs": [
    {
     "name": "stdout",
     "output_type": "stream",
     "text": [
      "Accuracy: 0.7495849558566388\n"
     ]
    }
   ],
   "source": [
    "knn = KNeighborsClassifier(n_neighbors=5)\n",
    "kf = KFold(len(data_normalised), n_folds=5, shuffle=True, random_state=0)\n",
    "\n",
    "print(\"Accuracy:\", get_training_accuracy_with_kfolds_iloc(knn, data_normalised[bin_vals+['total']], \n",
    "                                                          data_normalised['environment_index'], kf))"
   ]
  },
  {
   "cell_type": "code",
   "execution_count": 707,
   "metadata": {},
   "outputs": [
    {
     "name": "stdout",
     "output_type": "stream",
     "text": [
      "Accuracy: 0.45296581169074973\n"
     ]
    }
   ],
   "source": [
    "clf = MLPClassifier()\n",
    "kf = KFold(len(data_normalised), n_folds=5, shuffle=True, random_state=0)\n",
    "\n",
    "print(\"Accuracy:\", get_training_accuracy_with_kfolds_iloc(clf, data_normalised[bin_vals+['total']], \n",
    "                                                          data_normalised['environment_index'], kf))"
   ]
  },
  {
   "cell_type": "markdown",
   "metadata": {},
   "source": [
    "# Best Models"
   ]
  },
  {
   "cell_type": "code",
   "execution_count": 757,
   "metadata": {},
   "outputs": [
    {
     "name": "stdout",
     "output_type": "stream",
     "text": [
      "Accuracy: 0.9415898046535578\n",
      "Feature Importance: [0.11516881 0.32302764 0.07167486 0.0380017  0.04233454 0.07126235\n",
      " 0.04587171 0.07927884 0.07190401 0.06721153 0.03548666 0.01221274\n",
      " 0.0068393  0.00539837 0.00413415 0.00417684 0.00235959 0.00365635]\n"
     ]
    }
   ],
   "source": [
    "clustered_data = get_environment_clusters(data, 25, bin_vals)\n",
    "\n",
    "clustered_normalised_data = clustered_data[clustered_data['total']>0].copy().reindex()\n",
    "clustered_normalised_data[bin_vals] = clustered_normalised_data[bin_vals].apply(lambda row: row/np.sum(row), axis=1)\n",
    "\n",
    "rf = RandomForestClassifier(random_state=0, n_estimators=150, n_jobs=-1)\n",
    "kf = KFold(len(clustered_normalised_data), n_folds=5, shuffle=True, random_state=0)\n",
    "\n",
    "print(\"Accuracy:\", get_training_accuracy_with_kfolds_iloc(rf, clustered_normalised_data[['unsupervised_environment_index', 'total']+bin_vals], \n",
    "                                                          clustered_normalised_data['environment_index'], kf))\n",
    "\n",
    "print(\"Feature Importance:\", rf.feature_importances_)"
   ]
  },
  {
   "cell_type": "markdown",
   "metadata": {},
   "source": [
    "## Add temperature and humidity"
   ]
  },
  {
   "cell_type": "code",
   "execution_count": 759,
   "metadata": {},
   "outputs": [
    {
     "name": "stdout",
     "output_type": "stream",
     "text": [
      "Accuracy: 0.9616790568446346\n",
      "Feature Importance: [0.08745388 0.15693474 0.0753805  0.24678492 0.06284658 0.0246449\n",
      " 0.03056922 0.06286498 0.03792062 0.05087913 0.0454505  0.06292435\n",
      " 0.02607699 0.00931245 0.00544731 0.0042332  0.003024   0.00301234\n",
      " 0.00147651 0.00276288]\n"
     ]
    }
   ],
   "source": [
    "clustered_data = get_environment_clusters(data, 40, bin_vals)\n",
    "\n",
    "clustered_normalised_data = clustered_data[clustered_data['total']>0].copy().reindex()\n",
    "clustered_normalised_data[bin_vals] = clustered_normalised_data[bin_vals].apply(lambda row: row/np.sum(row), axis=1)\n",
    "\n",
    "rf = RandomForestClassifier(random_state=0, n_estimators=260, n_jobs=-1)\n",
    "kf = KFold(len(clustered_normalised_data), n_folds=5, shuffle=True, random_state=0)\n",
    "\n",
    "print(\"Accuracy:\", get_training_accuracy_with_kfolds_iloc(rf, clustered_normalised_data[['unsupervised_environment_index', 'temperature', 'humidity', 'total']+bin_vals], \n",
    "                                                          clustered_normalised_data['environment_index'], kf))\n",
    "\n",
    "print(\"Feature Importance:\", rf.feature_importances_)"
   ]
  },
  {
   "cell_type": "code",
   "execution_count": 710,
   "metadata": {},
   "outputs": [
    {
     "name": "stdout",
     "output_type": "stream",
     "text": [
      "Accuracy: 0.7636707109065748\n"
     ]
    }
   ],
   "source": [
    "clustered_data = get_environment_clusters(data, 40, bin_vals)\n",
    "\n",
    "clustered_normalised_data = clustered_data[clustered_data['total']>0].copy().reindex()\n",
    "clustered_normalised_data[bin_vals] = clustered_normalised_data[bin_vals].apply(lambda row: row/np.sum(row), axis=1)\n",
    "\n",
    "knn = KNeighborsClassifier()\n",
    "kf = KFold(len(clustered_normalised_data), n_folds=5, shuffle=True, random_state=0)\n",
    "\n",
    "print(\"Accuracy:\", get_training_accuracy_with_kfolds_iloc(knn, clustered_normalised_data[['unsupervised_environment_index', 'total']+bin_vals], \n",
    "                                                          clustered_normalised_data['environment_index'], kf))"
   ]
  },
  {
   "cell_type": "markdown",
   "metadata": {},
   "source": [
    "### Neural Network"
   ]
  },
  {
   "cell_type": "code",
   "execution_count": 685,
   "metadata": {},
   "outputs": [
    {
     "name": "stdout",
     "output_type": "stream",
     "text": [
      "Accuracy: 0.7901852626610455\n"
     ]
    }
   ],
   "source": [
    "# environment clustering on raw bin values: 3 hidden layers\n",
    "clustered_data = get_environment_clusters(data, 40, bin_vals)\n",
    "\n",
    "clustered_normalised_data = clustered_data[clustered_data['total']>0].copy().reindex()\n",
    "clustered_normalised_data[bin_vals] = clustered_normalised_data[bin_vals].apply(lambda row: row/np.sum(row), axis=1)\n",
    "\n",
    "clf = MLPClassifier(solver='lbfgs', \n",
    "                    alpha=1e-5, \n",
    "                    hidden_layer_sizes=(20,), \n",
    "                    random_state=1, \n",
    "                    max_iter=500)\n",
    "kf = KFold(len(clustered_normalised_data), n_folds=5, shuffle=True, random_state=0)\n",
    "\n",
    "print(\"Accuracy:\", get_training_accuracy_with_kfolds_iloc(clf, clustered_normalised_data[['unsupervised_environment_index']+bin_vals], \n",
    "                                                          clustered_normalised_data['environment_index'], kf))"
   ]
  },
  {
   "cell_type": "markdown",
   "metadata": {},
   "source": [
    "### KNN"
   ]
  },
  {
   "cell_type": "code",
   "execution_count": 686,
   "metadata": {},
   "outputs": [
    {
     "name": "stdout",
     "output_type": "stream",
     "text": [
      "Accuracy: 0.8119306150033792\n"
     ]
    }
   ],
   "source": [
    "clustered_data = get_environment_clusters(data, 40, bin_vals)\n",
    "\n",
    "clustered_normalised_data = clustered_data[clustered_data['total']>0].copy().reindex()\n",
    "clustered_normalised_data[bin_vals] = clustered_normalised_data[bin_vals].apply(lambda row: row/np.sum(row), axis=1)\n",
    "\n",
    "knn = KNeighborsClassifier(n_neighbors=5, n_jobs=-1)\n",
    "kf = KFold(len(clustered_normalised_data), n_folds=5, shuffle=True, random_state=0)\n",
    "\n",
    "print(\"Accuracy:\", get_training_accuracy_with_kfolds_iloc(knn, clustered_normalised_data[['unsupervised_environment_index']+bin_vals], \n",
    "                                                          clustered_normalised_data['environment_index'], kf))"
   ]
  },
  {
   "cell_type": "markdown",
   "metadata": {},
   "source": [
    "### Mixed Model"
   ]
  },
  {
   "cell_type": "code",
   "execution_count": 823,
   "metadata": {},
   "outputs": [
    {
     "data": {
      "text/plain": [
       "0.9830161233224987"
      ]
     },
     "execution_count": 823,
     "metadata": {},
     "output_type": "execute_result"
    }
   ],
   "source": [
    "kf = KFold(len(clustered_normalised_data), n_folds=5, shuffle=True, random_state=0)\n",
    "\n",
    "get_training_accuracy_mixed_models_kfolds(rf, \n",
    "                                          [\n",
    "                                              ['unsupervised_environment_index', 'total']+bin_vals,\n",
    "                                              ['humidity', 'temperature'],\n",
    "                                          ], \n",
    "                                          clustered_normalised_data,\n",
    "                                          clustered_normalised_data['environment_index'], kf)"
   ]
  },
  {
   "cell_type": "markdown",
   "metadata": {
    "collapsed": true
   },
   "source": [
    "### Validating Models"
   ]
  },
  {
   "cell_type": "markdown",
   "metadata": {},
   "source": [
    "#### Train Data"
   ]
  },
  {
   "cell_type": "code",
   "execution_count": 815,
   "metadata": {
    "collapsed": true
   },
   "outputs": [],
   "source": [
    "kmeans = KMeans(n_clusters=6, random_state=0)\n",
    "clustered_train = get_environment_clusters(data, 40, bin_vals, kmeans).reindex()\n",
    "clustered_normalised_train = clustered_train[clustered_train['total']>0].copy().reindex()\n",
    "clustered_normalised_train[bin_vals] = clustered_normalised_train[bin_vals].apply(lambda row: row/np.sum(row), axis=1)"
   ]
  },
  {
   "cell_type": "markdown",
   "metadata": {},
   "source": [
    "#### Bike validation data"
   ]
  },
  {
   "cell_type": "code",
   "execution_count": 816,
   "metadata": {},
   "outputs": [
    {
     "data": {
      "text/html": [
       "<div>\n",
       "<style scoped>\n",
       "    .dataframe tbody tr th:only-of-type {\n",
       "        vertical-align: middle;\n",
       "    }\n",
       "\n",
       "    .dataframe tbody tr th {\n",
       "        vertical-align: top;\n",
       "    }\n",
       "\n",
       "    .dataframe thead th {\n",
       "        text-align: right;\n",
       "    }\n",
       "</style>\n",
       "<table border=\"1\" class=\"dataframe\">\n",
       "  <thead>\n",
       "    <tr style=\"text-align: right;\">\n",
       "      <th></th>\n",
       "      <th>time</th>\n",
       "      <th>gpsLatitude</th>\n",
       "      <th>gpsLongitude</th>\n",
       "      <th>bin0</th>\n",
       "      <th>bin1</th>\n",
       "      <th>bin2</th>\n",
       "      <th>bin3</th>\n",
       "      <th>bin4</th>\n",
       "      <th>bin5</th>\n",
       "      <th>bin6</th>\n",
       "      <th>...</th>\n",
       "      <th>temperature</th>\n",
       "      <th>humidity</th>\n",
       "      <th>alphaVersion</th>\n",
       "      <th>urban_space</th>\n",
       "      <th>o3_ae</th>\n",
       "      <th>o3_we</th>\n",
       "      <th>no2_ae</th>\n",
       "      <th>no2_we</th>\n",
       "      <th>environment_index</th>\n",
       "      <th>total</th>\n",
       "    </tr>\n",
       "  </thead>\n",
       "  <tbody>\n",
       "    <tr>\n",
       "      <th>count</th>\n",
       "      <td>2.500000e+02</td>\n",
       "      <td>250.000000</td>\n",
       "      <td>250.000000</td>\n",
       "      <td>250.000000</td>\n",
       "      <td>250.000000</td>\n",
       "      <td>250.000000</td>\n",
       "      <td>250.000000</td>\n",
       "      <td>250.000000</td>\n",
       "      <td>250.000000</td>\n",
       "      <td>250.000000</td>\n",
       "      <td>...</td>\n",
       "      <td>250.000000</td>\n",
       "      <td>250.000000</td>\n",
       "      <td>250.0</td>\n",
       "      <td>250.0</td>\n",
       "      <td>250.000000</td>\n",
       "      <td>250.000000</td>\n",
       "      <td>250.000000</td>\n",
       "      <td>250.000000</td>\n",
       "      <td>250.0</td>\n",
       "      <td>250.000000</td>\n",
       "    </tr>\n",
       "    <tr>\n",
       "      <th>mean</th>\n",
       "      <td>2.015073e+13</td>\n",
       "      <td>55.946380</td>\n",
       "      <td>-3.189356</td>\n",
       "      <td>3.016000</td>\n",
       "      <td>0.344000</td>\n",
       "      <td>0.220000</td>\n",
       "      <td>0.168000</td>\n",
       "      <td>0.136000</td>\n",
       "      <td>0.240000</td>\n",
       "      <td>0.188000</td>\n",
       "      <td>...</td>\n",
       "      <td>23.601040</td>\n",
       "      <td>49.532016</td>\n",
       "      <td>2.0</td>\n",
       "      <td>0.0</td>\n",
       "      <td>-25647.920000</td>\n",
       "      <td>-25242.416000</td>\n",
       "      <td>-27040.560000</td>\n",
       "      <td>-26069.808000</td>\n",
       "      <td>3.0</td>\n",
       "      <td>4.628000</td>\n",
       "    </tr>\n",
       "    <tr>\n",
       "      <th>std</th>\n",
       "      <td>1.221088e+02</td>\n",
       "      <td>0.000037</td>\n",
       "      <td>0.000111</td>\n",
       "      <td>1.838823</td>\n",
       "      <td>0.575316</td>\n",
       "      <td>0.452126</td>\n",
       "      <td>0.405504</td>\n",
       "      <td>0.354976</td>\n",
       "      <td>0.528695</td>\n",
       "      <td>0.421148</td>\n",
       "      <td>...</td>\n",
       "      <td>0.606837</td>\n",
       "      <td>4.011418</td>\n",
       "      <td>0.0</td>\n",
       "      <td>0.0</td>\n",
       "      <td>6289.142903</td>\n",
       "      <td>3210.032059</td>\n",
       "      <td>5074.136107</td>\n",
       "      <td>3632.280436</td>\n",
       "      <td>0.0</td>\n",
       "      <td>2.217495</td>\n",
       "    </tr>\n",
       "    <tr>\n",
       "      <th>min</th>\n",
       "      <td>2.015073e+13</td>\n",
       "      <td>55.946215</td>\n",
       "      <td>-3.189550</td>\n",
       "      <td>0.000000</td>\n",
       "      <td>0.000000</td>\n",
       "      <td>0.000000</td>\n",
       "      <td>0.000000</td>\n",
       "      <td>0.000000</td>\n",
       "      <td>0.000000</td>\n",
       "      <td>0.000000</td>\n",
       "      <td>...</td>\n",
       "      <td>21.960000</td>\n",
       "      <td>44.655179</td>\n",
       "      <td>2.0</td>\n",
       "      <td>0.0</td>\n",
       "      <td>-32222.000000</td>\n",
       "      <td>-31198.000000</td>\n",
       "      <td>-32734.000000</td>\n",
       "      <td>-32478.000000</td>\n",
       "      <td>3.0</td>\n",
       "      <td>0.000000</td>\n",
       "    </tr>\n",
       "    <tr>\n",
       "      <th>25%</th>\n",
       "      <td>2.015073e+13</td>\n",
       "      <td>55.946380</td>\n",
       "      <td>-3.189470</td>\n",
       "      <td>2.000000</td>\n",
       "      <td>0.000000</td>\n",
       "      <td>0.000000</td>\n",
       "      <td>0.000000</td>\n",
       "      <td>0.000000</td>\n",
       "      <td>0.000000</td>\n",
       "      <td>0.000000</td>\n",
       "      <td>...</td>\n",
       "      <td>23.342500</td>\n",
       "      <td>45.051665</td>\n",
       "      <td>2.0</td>\n",
       "      <td>0.0</td>\n",
       "      <td>-28638.000000</td>\n",
       "      <td>-27358.000000</td>\n",
       "      <td>-29918.000000</td>\n",
       "      <td>-28638.000000</td>\n",
       "      <td>3.0</td>\n",
       "      <td>3.000000</td>\n",
       "    </tr>\n",
       "    <tr>\n",
       "      <th>50%</th>\n",
       "      <td>2.015073e+13</td>\n",
       "      <td>55.946398</td>\n",
       "      <td>-3.189300</td>\n",
       "      <td>3.000000</td>\n",
       "      <td>0.000000</td>\n",
       "      <td>0.000000</td>\n",
       "      <td>0.000000</td>\n",
       "      <td>0.000000</td>\n",
       "      <td>0.000000</td>\n",
       "      <td>0.000000</td>\n",
       "      <td>...</td>\n",
       "      <td>23.755000</td>\n",
       "      <td>49.939463</td>\n",
       "      <td>2.0</td>\n",
       "      <td>0.0</td>\n",
       "      <td>-26846.000000</td>\n",
       "      <td>-25822.000000</td>\n",
       "      <td>-27742.000000</td>\n",
       "      <td>-26334.000000</td>\n",
       "      <td>3.0</td>\n",
       "      <td>4.000000</td>\n",
       "    </tr>\n",
       "    <tr>\n",
       "      <th>75%</th>\n",
       "      <td>2.015073e+13</td>\n",
       "      <td>55.946398</td>\n",
       "      <td>-3.189300</td>\n",
       "      <td>4.000000</td>\n",
       "      <td>1.000000</td>\n",
       "      <td>0.000000</td>\n",
       "      <td>0.000000</td>\n",
       "      <td>0.000000</td>\n",
       "      <td>0.000000</td>\n",
       "      <td>0.000000</td>\n",
       "      <td>...</td>\n",
       "      <td>24.067500</td>\n",
       "      <td>51.480962</td>\n",
       "      <td>2.0</td>\n",
       "      <td>0.0</td>\n",
       "      <td>-25054.000000</td>\n",
       "      <td>-24286.000000</td>\n",
       "      <td>-25310.000000</td>\n",
       "      <td>-24542.000000</td>\n",
       "      <td>3.0</td>\n",
       "      <td>6.000000</td>\n",
       "    </tr>\n",
       "    <tr>\n",
       "      <th>max</th>\n",
       "      <td>2.015073e+13</td>\n",
       "      <td>55.946398</td>\n",
       "      <td>-3.189151</td>\n",
       "      <td>10.000000</td>\n",
       "      <td>3.000000</td>\n",
       "      <td>2.000000</td>\n",
       "      <td>2.000000</td>\n",
       "      <td>2.000000</td>\n",
       "      <td>3.000000</td>\n",
       "      <td>2.000000</td>\n",
       "      <td>...</td>\n",
       "      <td>24.180000</td>\n",
       "      <td>58.565045</td>\n",
       "      <td>2.0</td>\n",
       "      <td>0.0</td>\n",
       "      <td>32546.000000</td>\n",
       "      <td>-13534.000000</td>\n",
       "      <td>32034.000000</td>\n",
       "      <td>-11742.000000</td>\n",
       "      <td>3.0</td>\n",
       "      <td>12.000000</td>\n",
       "    </tr>\n",
       "  </tbody>\n",
       "</table>\n",
       "<p>8 rows × 33 columns</p>\n",
       "</div>"
      ],
      "text/plain": [
       "               time  gpsLatitude  gpsLongitude        bin0        bin1  \\\n",
       "count  2.500000e+02   250.000000    250.000000  250.000000  250.000000   \n",
       "mean   2.015073e+13    55.946380     -3.189356    3.016000    0.344000   \n",
       "std    1.221088e+02     0.000037      0.000111    1.838823    0.575316   \n",
       "min    2.015073e+13    55.946215     -3.189550    0.000000    0.000000   \n",
       "25%    2.015073e+13    55.946380     -3.189470    2.000000    0.000000   \n",
       "50%    2.015073e+13    55.946398     -3.189300    3.000000    0.000000   \n",
       "75%    2.015073e+13    55.946398     -3.189300    4.000000    1.000000   \n",
       "max    2.015073e+13    55.946398     -3.189151   10.000000    3.000000   \n",
       "\n",
       "             bin2        bin3        bin4        bin5        bin6     ...      \\\n",
       "count  250.000000  250.000000  250.000000  250.000000  250.000000     ...       \n",
       "mean     0.220000    0.168000    0.136000    0.240000    0.188000     ...       \n",
       "std      0.452126    0.405504    0.354976    0.528695    0.421148     ...       \n",
       "min      0.000000    0.000000    0.000000    0.000000    0.000000     ...       \n",
       "25%      0.000000    0.000000    0.000000    0.000000    0.000000     ...       \n",
       "50%      0.000000    0.000000    0.000000    0.000000    0.000000     ...       \n",
       "75%      0.000000    0.000000    0.000000    0.000000    0.000000     ...       \n",
       "max      2.000000    2.000000    2.000000    3.000000    2.000000     ...       \n",
       "\n",
       "       temperature    humidity  alphaVersion  urban_space         o3_ae  \\\n",
       "count   250.000000  250.000000         250.0        250.0    250.000000   \n",
       "mean     23.601040   49.532016           2.0          0.0 -25647.920000   \n",
       "std       0.606837    4.011418           0.0          0.0   6289.142903   \n",
       "min      21.960000   44.655179           2.0          0.0 -32222.000000   \n",
       "25%      23.342500   45.051665           2.0          0.0 -28638.000000   \n",
       "50%      23.755000   49.939463           2.0          0.0 -26846.000000   \n",
       "75%      24.067500   51.480962           2.0          0.0 -25054.000000   \n",
       "max      24.180000   58.565045           2.0          0.0  32546.000000   \n",
       "\n",
       "              o3_we        no2_ae        no2_we  environment_index       total  \n",
       "count    250.000000    250.000000    250.000000              250.0  250.000000  \n",
       "mean  -25242.416000 -27040.560000 -26069.808000                3.0    4.628000  \n",
       "std     3210.032059   5074.136107   3632.280436                0.0    2.217495  \n",
       "min   -31198.000000 -32734.000000 -32478.000000                3.0    0.000000  \n",
       "25%   -27358.000000 -29918.000000 -28638.000000                3.0    3.000000  \n",
       "50%   -25822.000000 -27742.000000 -26334.000000                3.0    4.000000  \n",
       "75%   -24286.000000 -25310.000000 -24542.000000                3.0    6.000000  \n",
       "max   -13534.000000  32034.000000 -11742.000000                3.0   12.000000  \n",
       "\n",
       "[8 rows x 33 columns]"
      ]
     },
     "metadata": {},
     "output_type": "display_data"
    }
   ],
   "source": [
    "bike_data_validation = pd.read_csv('../data/misc/2015072817.csv')\n",
    "bike_data_validation['environment_index'] = 3\n",
    "bike_data_validation['total'] = bike_data_validation[bin_vals].apply(lambda row: np.sum(row), axis=1)\n",
    "\n",
    "bike_data_validation = bike_data_validation.rename(index=str, columns={\"latitude\":'gpsLatitude', \"longitude\":'gpsLongitude'})\n",
    "display(bike_data_validation.describe())"
   ]
  },
  {
   "cell_type": "code",
   "execution_count": 817,
   "metadata": {},
   "outputs": [
    {
     "name": "stdout",
     "output_type": "stream",
     "text": [
      "0.9878048780487805\n"
     ]
    }
   ],
   "source": [
    "clustered_validation_data = get_environment_clusters(bike_data_validation, 40, bin_vals, kmeans)\n",
    "\n",
    "clustered_normalised = clustered_validation_data[clustered_validation_data['total']>0].copy().reindex()\n",
    "clustered_normalised[bin_vals] = clustered_normalised[bin_vals].apply(lambda row: row/np.sum(row), axis=1)\n",
    "\n",
    "print(get_training_accuracy_mixed_models(rf, [\n",
    "    bin_vals+['total','unsupervised_environment_index'], ['temperature', 'humidity']],\n",
    "                                         clustered_normalised_train, clustered_normalised_train['environment_index'],\n",
    "                                         clustered_normalised, clustered_normalised['environment_index'],\n",
    "                                        ))\n",
    "\n",
    "# rf.fit(clustered_normalised_train[bin_vals+['unsupervised_environment_index', 'total']], \n",
    "#        clustered_normalised_train['environment_index'])\n",
    "\n",
    "# predictions = rf.predict(clustered_normalised[bin_vals+['unsupervised_environment_index', 'total']])\n",
    "\n",
    "# print(\"Validation accuracy:\", accuracy_score(clustered_normalised['environment_index'], predictions))\n",
    " "
   ]
  },
  {
   "cell_type": "code",
   "execution_count": 818,
   "metadata": {},
   "outputs": [
    {
     "name": "stdout",
     "output_type": "stream",
     "text": [
      "1.0\n"
     ]
    }
   ],
   "source": [
    "clustered_validation_data = get_environment_clusters(bike_data_validation, 40, bin_vals, kmeans)\n",
    "\n",
    "print(get_training_accuracy_mixed_models(rf, [\n",
    "    bin_vals+['total','unsupervised_environment_index'], ['humidity']],\n",
    "                                         clustered_train, clustered_train['environment_index'],\n",
    "                                         clustered_validation_data, clustered_validation_data['environment_index'],\n",
    "                                        ))\n",
    "\n",
    "# rf.fit(clustered_train[bin_vals + ['unsupervised_environment_index', 'total']], \n",
    "#        clustered_train['environment_index'])\n",
    "\n",
    "# predictions = rf.predict(clustered_validation_data[bin_vals + ['unsupervised_environment_index', 'total']])\n",
    "\n",
    "# print(\"Validation accuracy:\", accuracy_score(clustered_validation_data['environment_index'], predictions))\n",
    " "
   ]
  },
  {
   "cell_type": "markdown",
   "metadata": {},
   "source": [
    "### Walking Validation Data"
   ]
  },
  {
   "cell_type": "code",
   "execution_count": 692,
   "metadata": {},
   "outputs": [
    {
     "data": {
      "text/html": [
       "<div>\n",
       "<style scoped>\n",
       "    .dataframe tbody tr th:only-of-type {\n",
       "        vertical-align: middle;\n",
       "    }\n",
       "\n",
       "    .dataframe tbody tr th {\n",
       "        vertical-align: top;\n",
       "    }\n",
       "\n",
       "    .dataframe thead th {\n",
       "        text-align: right;\n",
       "    }\n",
       "</style>\n",
       "<table border=\"1\" class=\"dataframe\">\n",
       "  <thead>\n",
       "    <tr style=\"text-align: right;\">\n",
       "      <th></th>\n",
       "      <th>phoneTimestamp</th>\n",
       "      <th>pm1</th>\n",
       "      <th>pm2_5</th>\n",
       "      <th>pm10</th>\n",
       "      <th>temperature</th>\n",
       "      <th>humidity</th>\n",
       "      <th>bin0</th>\n",
       "      <th>bin1</th>\n",
       "      <th>bin2</th>\n",
       "      <th>bin3</th>\n",
       "      <th>...</th>\n",
       "      <th>bin14</th>\n",
       "      <th>bin15</th>\n",
       "      <th>total</th>\n",
       "      <th>gpsLongitude</th>\n",
       "      <th>gpsLatitude</th>\n",
       "      <th>gpsAltitude</th>\n",
       "      <th>gpsAccuracy</th>\n",
       "      <th>luxLevel</th>\n",
       "      <th>motion</th>\n",
       "      <th>environment_index</th>\n",
       "    </tr>\n",
       "  </thead>\n",
       "  <tbody>\n",
       "    <tr>\n",
       "      <th>count</th>\n",
       "      <td>2.860000e+02</td>\n",
       "      <td>286.000000</td>\n",
       "      <td>286.000000</td>\n",
       "      <td>286.000000</td>\n",
       "      <td>286.000000</td>\n",
       "      <td>286.000000</td>\n",
       "      <td>286.000000</td>\n",
       "      <td>286.000000</td>\n",
       "      <td>286.000000</td>\n",
       "      <td>286.000000</td>\n",
       "      <td>...</td>\n",
       "      <td>286.000000</td>\n",
       "      <td>286.000000</td>\n",
       "      <td>286.000000</td>\n",
       "      <td>286.000000</td>\n",
       "      <td>286.000000</td>\n",
       "      <td>286.000000</td>\n",
       "      <td>286.000000</td>\n",
       "      <td>286.000000</td>\n",
       "      <td>286.000000</td>\n",
       "      <td>286.0</td>\n",
       "    </tr>\n",
       "    <tr>\n",
       "      <th>mean</th>\n",
       "      <td>1.520262e+12</td>\n",
       "      <td>10.094618</td>\n",
       "      <td>12.424445</td>\n",
       "      <td>17.979335</td>\n",
       "      <td>6.921679</td>\n",
       "      <td>64.987413</td>\n",
       "      <td>539.772727</td>\n",
       "      <td>101.111888</td>\n",
       "      <td>40.804196</td>\n",
       "      <td>17.562937</td>\n",
       "      <td>...</td>\n",
       "      <td>0.017483</td>\n",
       "      <td>0.024476</td>\n",
       "      <td>720.342657</td>\n",
       "      <td>-3.187221</td>\n",
       "      <td>55.951014</td>\n",
       "      <td>127.997114</td>\n",
       "      <td>10.024007</td>\n",
       "      <td>31.576923</td>\n",
       "      <td>3246.398601</td>\n",
       "      <td>0.0</td>\n",
       "    </tr>\n",
       "    <tr>\n",
       "      <th>std</th>\n",
       "      <td>2.287221e+06</td>\n",
       "      <td>7.186586</td>\n",
       "      <td>8.985549</td>\n",
       "      <td>11.127342</td>\n",
       "      <td>3.367724</td>\n",
       "      <td>20.525194</td>\n",
       "      <td>330.817500</td>\n",
       "      <td>106.139141</td>\n",
       "      <td>50.443404</td>\n",
       "      <td>21.009803</td>\n",
       "      <td>...</td>\n",
       "      <td>0.131290</td>\n",
       "      <td>0.154791</td>\n",
       "      <td>493.213247</td>\n",
       "      <td>0.001629</td>\n",
       "      <td>0.003453</td>\n",
       "      <td>14.690534</td>\n",
       "      <td>0.193646</td>\n",
       "      <td>18.184996</td>\n",
       "      <td>741.746731</td>\n",
       "      <td>0.0</td>\n",
       "    </tr>\n",
       "    <tr>\n",
       "      <th>min</th>\n",
       "      <td>1.520260e+12</td>\n",
       "      <td>0.000000</td>\n",
       "      <td>0.000000</td>\n",
       "      <td>0.000000</td>\n",
       "      <td>0.000000</td>\n",
       "      <td>0.000000</td>\n",
       "      <td>0.000000</td>\n",
       "      <td>0.000000</td>\n",
       "      <td>0.000000</td>\n",
       "      <td>0.000000</td>\n",
       "      <td>...</td>\n",
       "      <td>0.000000</td>\n",
       "      <td>0.000000</td>\n",
       "      <td>0.000000</td>\n",
       "      <td>-3.191518</td>\n",
       "      <td>55.944679</td>\n",
       "      <td>71.707644</td>\n",
       "      <td>10.000000</td>\n",
       "      <td>4.000000</td>\n",
       "      <td>39.000000</td>\n",
       "      <td>0.0</td>\n",
       "    </tr>\n",
       "    <tr>\n",
       "      <th>25%</th>\n",
       "      <td>1.520260e+12</td>\n",
       "      <td>6.068395</td>\n",
       "      <td>7.532011</td>\n",
       "      <td>10.323843</td>\n",
       "      <td>5.600000</td>\n",
       "      <td>63.100002</td>\n",
       "      <td>326.000000</td>\n",
       "      <td>57.000000</td>\n",
       "      <td>23.000000</td>\n",
       "      <td>10.000000</td>\n",
       "      <td>...</td>\n",
       "      <td>0.000000</td>\n",
       "      <td>0.000000</td>\n",
       "      <td>432.000000</td>\n",
       "      <td>-3.188255</td>\n",
       "      <td>55.947735</td>\n",
       "      <td>120.419377</td>\n",
       "      <td>10.000000</td>\n",
       "      <td>19.000000</td>\n",
       "      <td>2887.000000</td>\n",
       "      <td>0.0</td>\n",
       "    </tr>\n",
       "    <tr>\n",
       "      <th>50%</th>\n",
       "      <td>1.520261e+12</td>\n",
       "      <td>7.997307</td>\n",
       "      <td>9.873313</td>\n",
       "      <td>16.104126</td>\n",
       "      <td>6.000000</td>\n",
       "      <td>73.700005</td>\n",
       "      <td>409.000000</td>\n",
       "      <td>76.000000</td>\n",
       "      <td>30.000000</td>\n",
       "      <td>14.000000</td>\n",
       "      <td>...</td>\n",
       "      <td>0.000000</td>\n",
       "      <td>0.000000</td>\n",
       "      <td>556.500000</td>\n",
       "      <td>-3.187173</td>\n",
       "      <td>55.951773</td>\n",
       "      <td>128.613202</td>\n",
       "      <td>10.000000</td>\n",
       "      <td>29.000000</td>\n",
       "      <td>3269.500000</td>\n",
       "      <td>0.0</td>\n",
       "    </tr>\n",
       "    <tr>\n",
       "      <th>75%</th>\n",
       "      <td>1.520265e+12</td>\n",
       "      <td>12.648389</td>\n",
       "      <td>15.113871</td>\n",
       "      <td>23.184410</td>\n",
       "      <td>7.700000</td>\n",
       "      <td>76.350001</td>\n",
       "      <td>699.000000</td>\n",
       "      <td>115.000000</td>\n",
       "      <td>47.000000</td>\n",
       "      <td>20.000000</td>\n",
       "      <td>...</td>\n",
       "      <td>0.000000</td>\n",
       "      <td>0.000000</td>\n",
       "      <td>912.500000</td>\n",
       "      <td>-3.186362</td>\n",
       "      <td>55.953629</td>\n",
       "      <td>137.060204</td>\n",
       "      <td>10.000000</td>\n",
       "      <td>39.000000</td>\n",
       "      <td>3559.000000</td>\n",
       "      <td>0.0</td>\n",
       "    </tr>\n",
       "    <tr>\n",
       "      <th>max</th>\n",
       "      <td>1.520266e+12</td>\n",
       "      <td>78.974530</td>\n",
       "      <td>103.687230</td>\n",
       "      <td>113.550224</td>\n",
       "      <td>18.100000</td>\n",
       "      <td>84.600000</td>\n",
       "      <td>2995.000000</td>\n",
       "      <td>1311.000000</td>\n",
       "      <td>638.000000</td>\n",
       "      <td>286.000000</td>\n",
       "      <td>...</td>\n",
       "      <td>1.000000</td>\n",
       "      <td>1.000000</td>\n",
       "      <td>5372.000000</td>\n",
       "      <td>-3.183764</td>\n",
       "      <td>55.956490</td>\n",
       "      <td>154.825047</td>\n",
       "      <td>12.883000</td>\n",
       "      <td>111.000000</td>\n",
       "      <td>8304.000000</td>\n",
       "      <td>0.0</td>\n",
       "    </tr>\n",
       "  </tbody>\n",
       "</table>\n",
       "<p>8 rows × 30 columns</p>\n",
       "</div>"
      ],
      "text/plain": [
       "       phoneTimestamp         pm1       pm2_5        pm10  temperature  \\\n",
       "count    2.860000e+02  286.000000  286.000000  286.000000   286.000000   \n",
       "mean     1.520262e+12   10.094618   12.424445   17.979335     6.921679   \n",
       "std      2.287221e+06    7.186586    8.985549   11.127342     3.367724   \n",
       "min      1.520260e+12    0.000000    0.000000    0.000000     0.000000   \n",
       "25%      1.520260e+12    6.068395    7.532011   10.323843     5.600000   \n",
       "50%      1.520261e+12    7.997307    9.873313   16.104126     6.000000   \n",
       "75%      1.520265e+12   12.648389   15.113871   23.184410     7.700000   \n",
       "max      1.520266e+12   78.974530  103.687230  113.550224    18.100000   \n",
       "\n",
       "         humidity         bin0         bin1        bin2        bin3  \\\n",
       "count  286.000000   286.000000   286.000000  286.000000  286.000000   \n",
       "mean    64.987413   539.772727   101.111888   40.804196   17.562937   \n",
       "std     20.525194   330.817500   106.139141   50.443404   21.009803   \n",
       "min      0.000000     0.000000     0.000000    0.000000    0.000000   \n",
       "25%     63.100002   326.000000    57.000000   23.000000   10.000000   \n",
       "50%     73.700005   409.000000    76.000000   30.000000   14.000000   \n",
       "75%     76.350001   699.000000   115.000000   47.000000   20.000000   \n",
       "max     84.600000  2995.000000  1311.000000  638.000000  286.000000   \n",
       "\n",
       "             ...               bin14       bin15        total  gpsLongitude  \\\n",
       "count        ...          286.000000  286.000000   286.000000    286.000000   \n",
       "mean         ...            0.017483    0.024476   720.342657     -3.187221   \n",
       "std          ...            0.131290    0.154791   493.213247      0.001629   \n",
       "min          ...            0.000000    0.000000     0.000000     -3.191518   \n",
       "25%          ...            0.000000    0.000000   432.000000     -3.188255   \n",
       "50%          ...            0.000000    0.000000   556.500000     -3.187173   \n",
       "75%          ...            0.000000    0.000000   912.500000     -3.186362   \n",
       "max          ...            1.000000    1.000000  5372.000000     -3.183764   \n",
       "\n",
       "       gpsLatitude  gpsAltitude  gpsAccuracy    luxLevel       motion  \\\n",
       "count   286.000000   286.000000   286.000000  286.000000   286.000000   \n",
       "mean     55.951014   127.997114    10.024007   31.576923  3246.398601   \n",
       "std       0.003453    14.690534     0.193646   18.184996   741.746731   \n",
       "min      55.944679    71.707644    10.000000    4.000000    39.000000   \n",
       "25%      55.947735   120.419377    10.000000   19.000000  2887.000000   \n",
       "50%      55.951773   128.613202    10.000000   29.000000  3269.500000   \n",
       "75%      55.953629   137.060204    10.000000   39.000000  3559.000000   \n",
       "max      55.956490   154.825047    12.883000  111.000000  8304.000000   \n",
       "\n",
       "       environment_index  \n",
       "count              286.0  \n",
       "mean                 0.0  \n",
       "std                  0.0  \n",
       "min                  0.0  \n",
       "25%                  0.0  \n",
       "50%                  0.0  \n",
       "75%                  0.0  \n",
       "max                  0.0  \n",
       "\n",
       "[8 rows x 30 columns]"
      ]
     },
     "metadata": {},
     "output_type": "display_data"
    }
   ],
   "source": [
    "\n",
    "walk_data_validation_total = pd.read_csv('../data/validation/024Outdoor-Day-2018-03-05.csv')\n",
    "\n",
    "walk_data_validation_total['environment_index'] = 0\n",
    "\n",
    "display(walk_data_validation_total.describe())"
   ]
  },
  {
   "cell_type": "code",
   "execution_count": 807,
   "metadata": {},
   "outputs": [
    {
     "name": "stdout",
     "output_type": "stream",
     "text": [
      "0.9752650176678446\n"
     ]
    }
   ],
   "source": [
    "clustered_validation_data = get_environment_clusters(walk_data_validation_total, 40, bin_vals, kmeans)\n",
    "\n",
    "clustered_normalised = clustered_validation_data[clustered_validation_data['total']>0].copy().reindex()\n",
    "clustered_normalised[bin_vals] = clustered_normalised[bin_vals].apply(lambda row: row/np.sum(row), axis=1)\n",
    "\n",
    "# rf.fit(clustered_normalised_train[bin_vals+['unsupervised_environment_index', 'temperature', 'humidity', 'total']], \n",
    "#        clustered_normalised_train['environment_index'])\n",
    "\n",
    "# predictions = rf.predict(clustered_normalised[bin_vals+['unsupervised_environment_index', 'temperature', 'humidity', 'total']])\n",
    "print(get_training_accuracy_mixed_models(rf, [\n",
    "    bin_vals+['total','unsupervised_environment_index'], ['temperature', 'humidity']],\n",
    "                                         clustered_normalised_train, clustered_normalised_train['environment_index'],\n",
    "                                         clustered_normalised, clustered_normalised['environment_index'],\n",
    "                                        ))\n"
   ]
  },
  {
   "cell_type": "code",
   "execution_count": 806,
   "metadata": {},
   "outputs": [
    {
     "name": "stdout",
     "output_type": "stream",
     "text": [
      "0.958041958041958\n"
     ]
    }
   ],
   "source": [
    "clustered_validation_data = get_environment_clusters(walk_data_validation_total, 40, bin_vals, kmeans)\n",
    "\n",
    "print(get_training_accuracy_mixed_models(rf, [\n",
    "    bin_vals+['total','unsupervised_environment_index'], ['temperature', 'humidity']],\n",
    "                                         clustered_train, clustered_train['environment_index'],\n",
    "                                         clustered_validation_data, clustered_validation_data['environment_index'],\n",
    "                                        ))\n",
    " "
   ]
  },
  {
   "cell_type": "markdown",
   "metadata": {},
   "source": [
    "### Bus Validation Data"
   ]
  },
  {
   "cell_type": "code",
   "execution_count": 695,
   "metadata": {
    "collapsed": true
   },
   "outputs": [],
   "source": [
    "bus_data_val = pd.read_csv('../data/validation/queensferry-13-03-2018.csv')\n",
    "bus_data_val = bus_data_val[bus_data_val['environment_index']!=7]"
   ]
  },
  {
   "cell_type": "code",
   "execution_count": 821,
   "metadata": {},
   "outputs": [
    {
     "name": "stdout",
     "output_type": "stream",
     "text": [
      "0.9347202295552367\n"
     ]
    }
   ],
   "source": [
    "clustered_validation_data = get_environment_clusters(bus_data_val, 40, bin_vals, kmeans)\n",
    "clustered_normalised = clustered_validation_data[clustered_validation_data['total']>0].copy().reindex()\n",
    "clustered_normalised[bin_vals] = clustered_normalised[bin_vals].apply(lambda row: row/np.sum(row), axis=1)\n",
    "\n",
    "print(get_training_accuracy_mixed_models(rf, [\n",
    "    bin_vals+['total','unsupervised_environment_index'], ['temperature','humidity']],\n",
    "                                         clustered_normalised_train, clustered_normalised_train['environment_index'],\n",
    "                                         clustered_normalised, clustered_normalised['environment_index'],\n",
    "                                        ))\n",
    "\n"
   ]
  },
  {
   "cell_type": "code",
   "execution_count": 822,
   "metadata": {},
   "outputs": [
    {
     "name": "stdout",
     "output_type": "stream",
     "text": [
      "0.8897260273972603\n"
     ]
    }
   ],
   "source": [
    "clustered_validation_data = get_environment_clusters(bus_data, 40, bin_vals, kmeans)\n",
    "\n",
    "print(get_training_accuracy_mixed_models(rf, [\n",
    "    ['temperature','humidity'], \n",
    "    bin_vals+['total','unsupervised_environment_index']\n",
    "],\n",
    "                                         clustered_train, clustered_train['environment_index'],\n",
    "                                         clustered_validation_data, clustered_validation_data['environment_index'],\n",
    "                                        ))\n",
    "\n"
   ]
  },
  {
   "cell_type": "code",
   "execution_count": null,
   "metadata": {
    "collapsed": true
   },
   "outputs": [],
   "source": []
  }
 ],
 "metadata": {
  "kernelspec": {
   "display_name": "Python 3",
   "language": "python",
   "name": "python3"
  },
  "language_info": {
   "codemirror_mode": {
    "name": "ipython",
    "version": 3
   },
   "file_extension": ".py",
   "mimetype": "text/x-python",
   "name": "python",
   "nbconvert_exporter": "python",
   "pygments_lexer": "ipython3",
   "version": "3.6.2"
  }
 },
 "nbformat": 4,
 "nbformat_minor": 2
}
